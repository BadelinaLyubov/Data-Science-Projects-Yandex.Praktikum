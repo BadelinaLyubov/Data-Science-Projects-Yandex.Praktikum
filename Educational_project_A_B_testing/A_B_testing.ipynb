{
 "cells": [
  {
   "cell_type": "markdown",
   "id": "b2bd2472",
   "metadata": {},
   "source": [
    "# Содержание\n",
    "- [1. Анализ А/В теста](#6)\n",
    "   - [1.1 Изучим данные](#7)\n",
    "       - [1.1.1 Изучим данные о визитах пользователей](#8)\n",
    "       - [1.1.2 Изучим данные о заказах пользователей](#9)\n",
    "       - [1.1.3 Общий вывод по качеству данных](#10)\n",
    "   - [1.2 Анализ кумулятивных метрик](#11)\n",
    "       - [1.2.1 Кумулятивная выручка по группам](#12)\n",
    "       - [1.2.2 Кумулятивный средний чек по группам](#13)\n",
    "       - [1.2.3 Относительное изменение кумулятивного среднего чека группы В к группе А](#14)\n",
    "       - [1.2.4 Кумулятивное среднее количество заказов на посетителя по группам](#15)\n",
    "       - [1.2.5 Относительное изменение кумулятивного среднего количества заказов на посетителя группы В к группе А](#16)\n",
    "       - [1.2.6 Вывод](#17)\n",
    "   - [1.3 Анализ количества заказов](#18)\n",
    "       - [1.3.1 Точечный график количества заказов по пользователям](#19)\n",
    "       - [1.3.2 Считаем 95-й и 99-й перцентили количества заказов на пользователя, для выбора границы аномальных пользователей](#20)\n",
    "   - [1.4 Анализ стоимостей заказов](#21)\n",
    "       - [1.4.1 Точечный график стоимостей заказов](#22)\n",
    "       - [1.4.2 Считаем 95-й и 99-й перцентили стоимости заказов, для выбора границы аномальных заказов](#23)\n",
    "       - [1.4.3 Вывод](#24)\n",
    "   - [1.5 Анализ статистической значимости различий между групами по \"сырым\" и \"очищенным\" данным](#25)\n",
    "       - [1.5.1 Статистическая значимость различий в среднем количестве заказов на посетителя между группами по «сырым» данным](#26)\n",
    "       - [1.5.2 Статистическая значимость различий в среднем чеке заказа между группами по «сырым» данным](#27)\n",
    "       - [1.5.3 Статистическая значимость различий в среднем количестве заказов на посетителя между группами по «очищенным» данным](#28)\n",
    "       - [1.5.4 Статистическая значимость различий в среднем чеке заказа между группами по «очищенным» данным](#29)\n",
    "       - [1.5.5 Вывод](#30)\n",
    "- [2. Решение по результатам теста](#31)"
   ]
  },
  {
   "cell_type": "markdown",
   "id": "6d7de91b",
   "metadata": {},
   "source": [
    "# Исследование гипотез и анализ результатов А/В тестирования\n",
    "\n",
    "Цель - вместе с отделом маркетинга подготовить список гипотез для увеличения выручки, запустить А/В тест исследования и проанализировать результаты.\n",
    "\n",
    "Задачи:\n",
    "- Изучим гипотезы и проведем их приоритезацию\n",
    "- Изучим данные А/В теста на наличие ошибок и не качественных данных\n",
    "- Выведем и проанализаруем кумулятивные метрики\n",
    "- Проанализируем статистические значимости различий в метриках и вынесем решение по результатам теста"
   ]
  },
  {
   "cell_type": "markdown",
   "id": "6249c2ac",
   "metadata": {},
   "source": [
    "Перед началом работы введем все функции, которые понадобяться нам для работы"
   ]
  },
  {
   "cell_type": "code",
   "execution_count": 1,
   "id": "806cc36c",
   "metadata": {},
   "outputs": [],
   "source": [
    "#Определим функцию для вывода всей информации о данных в таблице\n",
    "def inf_data(df):\n",
    "    print('Первые 10 строк таблицы')\n",
    "    display(df.head(10))\n",
    "    pd.set_option('display.max_columns', None)\n",
    "    print('----------')\n",
    "    \n",
    "    print('Общая информация о таблице')\n",
    "    df.info()\n",
    "    print('----------')\n",
    "    \n",
    "    print('Выведем наименование колонок')\n",
    "    display(df.columns)\n",
    "    print('----------')\n",
    "    \n",
    "    print('Посмотрим на типы данных')\n",
    "    display(df.dtypes)\n",
    "    print('----------')\n",
    "    \n",
    "    print('Проверим присутствуют ли пропуски в данных')\n",
    "    display(df.isna().sum())\n",
    "    print('----------')\n",
    "    \n",
    "    if df.duplicated().sum() == 0:\n",
    "        print('Явных дубликатов нет')\n",
    "    else:\n",
    "        print('В данных присутствуют явные дубликаты')"
   ]
  },
  {
   "cell_type": "code",
   "execution_count": 2,
   "id": "9f570676",
   "metadata": {},
   "outputs": [],
   "source": [
    "#Определим функцию настройки внешнего вида графиков кумулятивных метрик\n",
    "def plt_view(xlabel, ylabel, title):\n",
    "    plt.legend()\n",
    "    plt.xticks(orders['date'].unique(), rotation=90)\n",
    "    plt.xlabel(xlabel)\n",
    "    plt.ylabel(ylabel)\n",
    "    plt.title(title)\n",
    "    \n",
    "#Определим функцию настройки внешнего вида точечных графиков\n",
    "def plt_scat_view(xlabel, ylabel, title):\n",
    "    plt.xlabel(xlabel)\n",
    "    plt.ylabel(ylabel)\n",
    "    plt.title(title)"
   ]
  },
  {
   "cell_type": "code",
   "execution_count": 3,
   "id": "814af5ef",
   "metadata": {},
   "outputs": [],
   "source": [
    "#Импортируем все необходимые библиотеки\n",
    "import pandas as pd\n",
    "import datetime as dt\n",
    "import numpy as np\n",
    "import matplotlib.pyplot as plt\n",
    "from scipy import stats as st"
   ]
  },
  {
   "cell_type": "markdown",
   "id": "94670407",
   "metadata": {},
   "source": [
    "## Анализ А/В теста\n",
    "<a id='6'></a>"
   ]
  },
  {
   "cell_type": "markdown",
   "id": "96249875",
   "metadata": {},
   "source": [
    "### Изучим данные\n",
    "<a id=\"7\"></a>"
   ]
  },
  {
   "cell_type": "code",
   "execution_count": 12,
   "id": "365bd5e0",
   "metadata": {},
   "outputs": [],
   "source": [
    "#Откроем\n",
    "try:\n",
    "    orders, visitors  = (\n",
    "        pd.read_csv('orders.csv'),\n",
    "        pd.read_csv('visitors.csv')\n",
    "    )\n",
    "except:\n",
    "    orders, visitors = (\n",
    "        pd.read_csv('/datasets/orders.csv'),\n",
    "        pd.read_csv('/datasets/visitors.csv')\n",
    "    )"
   ]
  },
  {
   "cell_type": "markdown",
   "id": "29abdfb5",
   "metadata": {},
   "source": [
    "#### Изучим данные о визитах пользователей\n",
    "<a id=\"8\"></a>"
   ]
  },
  {
   "cell_type": "code",
   "execution_count": 13,
   "id": "b9b3e04a",
   "metadata": {
    "scrolled": false
   },
   "outputs": [
    {
     "name": "stdout",
     "output_type": "stream",
     "text": [
      "Первые 10 строк таблицы\n"
     ]
    },
    {
     "data": {
      "text/html": [
       "<div>\n",
       "<style scoped>\n",
       "    .dataframe tbody tr th:only-of-type {\n",
       "        vertical-align: middle;\n",
       "    }\n",
       "\n",
       "    .dataframe tbody tr th {\n",
       "        vertical-align: top;\n",
       "    }\n",
       "\n",
       "    .dataframe thead th {\n",
       "        text-align: right;\n",
       "    }\n",
       "</style>\n",
       "<table border=\"1\" class=\"dataframe\">\n",
       "  <thead>\n",
       "    <tr style=\"text-align: right;\">\n",
       "      <th></th>\n",
       "      <th>date</th>\n",
       "      <th>group</th>\n",
       "      <th>visitors</th>\n",
       "    </tr>\n",
       "  </thead>\n",
       "  <tbody>\n",
       "    <tr>\n",
       "      <th>0</th>\n",
       "      <td>2019-08-01</td>\n",
       "      <td>A</td>\n",
       "      <td>719</td>\n",
       "    </tr>\n",
       "    <tr>\n",
       "      <th>1</th>\n",
       "      <td>2019-08-02</td>\n",
       "      <td>A</td>\n",
       "      <td>619</td>\n",
       "    </tr>\n",
       "    <tr>\n",
       "      <th>2</th>\n",
       "      <td>2019-08-03</td>\n",
       "      <td>A</td>\n",
       "      <td>507</td>\n",
       "    </tr>\n",
       "    <tr>\n",
       "      <th>3</th>\n",
       "      <td>2019-08-04</td>\n",
       "      <td>A</td>\n",
       "      <td>717</td>\n",
       "    </tr>\n",
       "    <tr>\n",
       "      <th>4</th>\n",
       "      <td>2019-08-05</td>\n",
       "      <td>A</td>\n",
       "      <td>756</td>\n",
       "    </tr>\n",
       "    <tr>\n",
       "      <th>5</th>\n",
       "      <td>2019-08-06</td>\n",
       "      <td>A</td>\n",
       "      <td>667</td>\n",
       "    </tr>\n",
       "    <tr>\n",
       "      <th>6</th>\n",
       "      <td>2019-08-07</td>\n",
       "      <td>A</td>\n",
       "      <td>644</td>\n",
       "    </tr>\n",
       "    <tr>\n",
       "      <th>7</th>\n",
       "      <td>2019-08-08</td>\n",
       "      <td>A</td>\n",
       "      <td>610</td>\n",
       "    </tr>\n",
       "    <tr>\n",
       "      <th>8</th>\n",
       "      <td>2019-08-09</td>\n",
       "      <td>A</td>\n",
       "      <td>617</td>\n",
       "    </tr>\n",
       "    <tr>\n",
       "      <th>9</th>\n",
       "      <td>2019-08-10</td>\n",
       "      <td>A</td>\n",
       "      <td>406</td>\n",
       "    </tr>\n",
       "  </tbody>\n",
       "</table>\n",
       "</div>"
      ],
      "text/plain": [
       "         date group  visitors\n",
       "0  2019-08-01     A       719\n",
       "1  2019-08-02     A       619\n",
       "2  2019-08-03     A       507\n",
       "3  2019-08-04     A       717\n",
       "4  2019-08-05     A       756\n",
       "5  2019-08-06     A       667\n",
       "6  2019-08-07     A       644\n",
       "7  2019-08-08     A       610\n",
       "8  2019-08-09     A       617\n",
       "9  2019-08-10     A       406"
      ]
     },
     "metadata": {},
     "output_type": "display_data"
    },
    {
     "name": "stdout",
     "output_type": "stream",
     "text": [
      "----------\n",
      "Общая информация о таблице\n",
      "<class 'pandas.core.frame.DataFrame'>\n",
      "RangeIndex: 62 entries, 0 to 61\n",
      "Data columns (total 3 columns):\n",
      " #   Column    Non-Null Count  Dtype \n",
      "---  ------    --------------  ----- \n",
      " 0   date      62 non-null     object\n",
      " 1   group     62 non-null     object\n",
      " 2   visitors  62 non-null     int64 \n",
      "dtypes: int64(1), object(2)\n",
      "memory usage: 1.6+ KB\n",
      "----------\n",
      "Выведем наименование колонок\n"
     ]
    },
    {
     "data": {
      "text/plain": [
       "Index(['date', 'group', 'visitors'], dtype='object')"
      ]
     },
     "metadata": {},
     "output_type": "display_data"
    },
    {
     "name": "stdout",
     "output_type": "stream",
     "text": [
      "----------\n",
      "Посмотрим на типы данных\n"
     ]
    },
    {
     "data": {
      "text/plain": [
       "date        object\n",
       "group       object\n",
       "visitors     int64\n",
       "dtype: object"
      ]
     },
     "metadata": {},
     "output_type": "display_data"
    },
    {
     "name": "stdout",
     "output_type": "stream",
     "text": [
      "----------\n",
      "Проверим присутствуют ли пропуски в данных\n"
     ]
    },
    {
     "data": {
      "text/plain": [
       "date        0\n",
       "group       0\n",
       "visitors    0\n",
       "dtype: int64"
      ]
     },
     "metadata": {},
     "output_type": "display_data"
    },
    {
     "name": "stdout",
     "output_type": "stream",
     "text": [
      "----------\n",
      "Явных дубликатов нет\n"
     ]
    }
   ],
   "source": [
    "#Изучим данные по визитам\n",
    "inf_data(visitors)"
   ]
  },
  {
   "cell_type": "markdown",
   "id": "7d6a381d",
   "metadata": {},
   "source": [
    "В данных присутствует информация о том в какую дату в какой группе сколько пользователей пришло. Дубликатов и пропусков в данных не имеется, однако тип даты не соответствует действительности - исправим это"
   ]
  },
  {
   "cell_type": "code",
   "execution_count": 14,
   "id": "090aa621",
   "metadata": {},
   "outputs": [
    {
     "data": {
      "text/plain": [
       "date        datetime64[ns]\n",
       "group               object\n",
       "visitors             int64\n",
       "dtype: object"
      ]
     },
     "execution_count": 14,
     "metadata": {},
     "output_type": "execute_result"
    }
   ],
   "source": [
    "visitors['date'] = visitors['date'].map(\n",
    "    lambda x: dt.datetime.strptime(x, '%Y-%m-%d')\n",
    ")\n",
    "visitors.dtypes"
   ]
  },
  {
   "cell_type": "markdown",
   "id": "62f6b5d5",
   "metadata": {},
   "source": [
    "Теперь необходимо проверить качество самих данных:\n",
    " - количество визитов в каждой исследуемой группе должно быть примерно одинаковым"
   ]
  },
  {
   "cell_type": "code",
   "execution_count": 15,
   "id": "12d55225",
   "metadata": {},
   "outputs": [
    {
     "name": "stdout",
     "output_type": "stream",
     "text": [
      "Количество посетителей во всем исследовании - 37652\n",
      "\n",
      "Количество посетителей в каждой группе\n"
     ]
    },
    {
     "data": {
      "text/html": [
       "<div>\n",
       "<style scoped>\n",
       "    .dataframe tbody tr th:only-of-type {\n",
       "        vertical-align: middle;\n",
       "    }\n",
       "\n",
       "    .dataframe tbody tr th {\n",
       "        vertical-align: top;\n",
       "    }\n",
       "\n",
       "    .dataframe thead th {\n",
       "        text-align: right;\n",
       "    }\n",
       "</style>\n",
       "<table border=\"1\" class=\"dataframe\">\n",
       "  <thead>\n",
       "    <tr style=\"text-align: right;\">\n",
       "      <th></th>\n",
       "      <th>group</th>\n",
       "      <th>visitors</th>\n",
       "      <th>perc</th>\n",
       "    </tr>\n",
       "  </thead>\n",
       "  <tbody>\n",
       "    <tr>\n",
       "      <th>0</th>\n",
       "      <td>A</td>\n",
       "      <td>18736</td>\n",
       "      <td>49.76</td>\n",
       "    </tr>\n",
       "    <tr>\n",
       "      <th>1</th>\n",
       "      <td>B</td>\n",
       "      <td>18916</td>\n",
       "      <td>50.24</td>\n",
       "    </tr>\n",
       "  </tbody>\n",
       "</table>\n",
       "</div>"
      ],
      "text/plain": [
       "  group  visitors  perc\n",
       "0     A     18736 49.76\n",
       "1     B     18916 50.24"
      ]
     },
     "execution_count": 15,
     "metadata": {},
     "output_type": "execute_result"
    }
   ],
   "source": [
    "#Проверим количество визитов в каждой группе\n",
    "print('Количество посетителей во всем исследовании - {}'\n",
    "      .format(visitors['visitors'].sum()))\n",
    "print()\n",
    "print('Количество посетителей в каждой группе')\n",
    "v_g = visitors.groupby('group', as_index=False).agg({'visitors':'sum'})\n",
    "v_g['perc'] = v_g['visitors'] / v_g['visitors'].sum() * 100\n",
    "v_g"
   ]
  },
  {
   "cell_type": "markdown",
   "id": "ec07e179",
   "metadata": {},
   "source": [
    "Присутствует небольшое отличие в количестве визитов, но оно менее 1% поэтому не критично."
   ]
  },
  {
   "cell_type": "markdown",
   "id": "329bf3cd",
   "metadata": {},
   "source": [
    "#### Изучим данные о заказах пользователей\n",
    "<a id=\"9\"></a>"
   ]
  },
  {
   "cell_type": "code",
   "execution_count": 16,
   "id": "e2e6143e",
   "metadata": {},
   "outputs": [
    {
     "name": "stdout",
     "output_type": "stream",
     "text": [
      "Первые 10 строк таблицы\n"
     ]
    },
    {
     "data": {
      "text/html": [
       "<div>\n",
       "<style scoped>\n",
       "    .dataframe tbody tr th:only-of-type {\n",
       "        vertical-align: middle;\n",
       "    }\n",
       "\n",
       "    .dataframe tbody tr th {\n",
       "        vertical-align: top;\n",
       "    }\n",
       "\n",
       "    .dataframe thead th {\n",
       "        text-align: right;\n",
       "    }\n",
       "</style>\n",
       "<table border=\"1\" class=\"dataframe\">\n",
       "  <thead>\n",
       "    <tr style=\"text-align: right;\">\n",
       "      <th></th>\n",
       "      <th>transactionId</th>\n",
       "      <th>visitorId</th>\n",
       "      <th>date</th>\n",
       "      <th>revenue</th>\n",
       "      <th>group</th>\n",
       "    </tr>\n",
       "  </thead>\n",
       "  <tbody>\n",
       "    <tr>\n",
       "      <th>0</th>\n",
       "      <td>3667963787</td>\n",
       "      <td>3312258926</td>\n",
       "      <td>2019-08-15</td>\n",
       "      <td>1650</td>\n",
       "      <td>B</td>\n",
       "    </tr>\n",
       "    <tr>\n",
       "      <th>1</th>\n",
       "      <td>2804400009</td>\n",
       "      <td>3642806036</td>\n",
       "      <td>2019-08-15</td>\n",
       "      <td>730</td>\n",
       "      <td>B</td>\n",
       "    </tr>\n",
       "    <tr>\n",
       "      <th>2</th>\n",
       "      <td>2961555356</td>\n",
       "      <td>4069496402</td>\n",
       "      <td>2019-08-15</td>\n",
       "      <td>400</td>\n",
       "      <td>A</td>\n",
       "    </tr>\n",
       "    <tr>\n",
       "      <th>3</th>\n",
       "      <td>3797467345</td>\n",
       "      <td>1196621759</td>\n",
       "      <td>2019-08-15</td>\n",
       "      <td>9759</td>\n",
       "      <td>B</td>\n",
       "    </tr>\n",
       "    <tr>\n",
       "      <th>4</th>\n",
       "      <td>2282983706</td>\n",
       "      <td>2322279887</td>\n",
       "      <td>2019-08-15</td>\n",
       "      <td>2308</td>\n",
       "      <td>B</td>\n",
       "    </tr>\n",
       "    <tr>\n",
       "      <th>5</th>\n",
       "      <td>182168103</td>\n",
       "      <td>935554773</td>\n",
       "      <td>2019-08-15</td>\n",
       "      <td>2210</td>\n",
       "      <td>B</td>\n",
       "    </tr>\n",
       "    <tr>\n",
       "      <th>6</th>\n",
       "      <td>398296753</td>\n",
       "      <td>2900797465</td>\n",
       "      <td>2019-08-15</td>\n",
       "      <td>1860</td>\n",
       "      <td>B</td>\n",
       "    </tr>\n",
       "    <tr>\n",
       "      <th>7</th>\n",
       "      <td>2626614568</td>\n",
       "      <td>78758296</td>\n",
       "      <td>2019-08-15</td>\n",
       "      <td>1044</td>\n",
       "      <td>A</td>\n",
       "    </tr>\n",
       "    <tr>\n",
       "      <th>8</th>\n",
       "      <td>1576988021</td>\n",
       "      <td>295230930</td>\n",
       "      <td>2019-08-15</td>\n",
       "      <td>13710</td>\n",
       "      <td>A</td>\n",
       "    </tr>\n",
       "    <tr>\n",
       "      <th>9</th>\n",
       "      <td>1506739906</td>\n",
       "      <td>1882260405</td>\n",
       "      <td>2019-08-15</td>\n",
       "      <td>1855</td>\n",
       "      <td>B</td>\n",
       "    </tr>\n",
       "  </tbody>\n",
       "</table>\n",
       "</div>"
      ],
      "text/plain": [
       "   transactionId   visitorId        date  revenue group\n",
       "0     3667963787  3312258926  2019-08-15     1650     B\n",
       "1     2804400009  3642806036  2019-08-15      730     B\n",
       "2     2961555356  4069496402  2019-08-15      400     A\n",
       "3     3797467345  1196621759  2019-08-15     9759     B\n",
       "4     2282983706  2322279887  2019-08-15     2308     B\n",
       "5      182168103   935554773  2019-08-15     2210     B\n",
       "6      398296753  2900797465  2019-08-15     1860     B\n",
       "7     2626614568    78758296  2019-08-15     1044     A\n",
       "8     1576988021   295230930  2019-08-15    13710     A\n",
       "9     1506739906  1882260405  2019-08-15     1855     B"
      ]
     },
     "metadata": {},
     "output_type": "display_data"
    },
    {
     "name": "stdout",
     "output_type": "stream",
     "text": [
      "----------\n",
      "Общая информация о таблице\n",
      "<class 'pandas.core.frame.DataFrame'>\n",
      "RangeIndex: 1197 entries, 0 to 1196\n",
      "Data columns (total 5 columns):\n",
      " #   Column         Non-Null Count  Dtype \n",
      "---  ------         --------------  ----- \n",
      " 0   transactionId  1197 non-null   int64 \n",
      " 1   visitorId      1197 non-null   int64 \n",
      " 2   date           1197 non-null   object\n",
      " 3   revenue        1197 non-null   int64 \n",
      " 4   group          1197 non-null   object\n",
      "dtypes: int64(3), object(2)\n",
      "memory usage: 46.9+ KB\n",
      "----------\n",
      "Выведем наименование колонок\n"
     ]
    },
    {
     "data": {
      "text/plain": [
       "Index(['transactionId', 'visitorId', 'date', 'revenue', 'group'], dtype='object')"
      ]
     },
     "metadata": {},
     "output_type": "display_data"
    },
    {
     "name": "stdout",
     "output_type": "stream",
     "text": [
      "----------\n",
      "Посмотрим на типы данных\n"
     ]
    },
    {
     "data": {
      "text/plain": [
       "transactionId     int64\n",
       "visitorId         int64\n",
       "date             object\n",
       "revenue           int64\n",
       "group            object\n",
       "dtype: object"
      ]
     },
     "metadata": {},
     "output_type": "display_data"
    },
    {
     "name": "stdout",
     "output_type": "stream",
     "text": [
      "----------\n",
      "Проверим присутствуют ли пропуски в данных\n"
     ]
    },
    {
     "data": {
      "text/plain": [
       "transactionId    0\n",
       "visitorId        0\n",
       "date             0\n",
       "revenue          0\n",
       "group            0\n",
       "dtype: int64"
      ]
     },
     "metadata": {},
     "output_type": "display_data"
    },
    {
     "name": "stdout",
     "output_type": "stream",
     "text": [
      "----------\n",
      "Явных дубликатов нет\n"
     ]
    }
   ],
   "source": [
    "#Изучим данные по заказам\n",
    "inf_data(orders)"
   ]
  },
  {
   "cell_type": "markdown",
   "id": "90799d66",
   "metadata": {},
   "source": [
    "В данных присутствует информация о заказах совершенных определенными пользователями в определенных группах на указанную дату. Дубликатов и пропусков в данных не имеется, однако тип даты не соответствует действительности и наименование колонок можно немного подправить - исправим это"
   ]
  },
  {
   "cell_type": "code",
   "execution_count": 17,
   "id": "fb6c0ffd",
   "metadata": {
    "scrolled": true
   },
   "outputs": [
    {
     "data": {
      "text/plain": [
       "transactionId             int64\n",
       "visitorId                 int64\n",
       "date             datetime64[ns]\n",
       "revenue                   int64\n",
       "group                    object\n",
       "dtype: object"
      ]
     },
     "execution_count": 17,
     "metadata": {},
     "output_type": "execute_result"
    }
   ],
   "source": [
    "orders['date'] = orders['date'].map(\n",
    "    lambda x: dt.datetime.strptime(x, '%Y-%m-%d')\n",
    ")\n",
    "orders.dtypes"
   ]
  },
  {
   "cell_type": "code",
   "execution_count": 18,
   "id": "7f991bac",
   "metadata": {},
   "outputs": [
    {
     "data": {
      "text/plain": [
       "Index(['transaction_id', 'visitor_id', 'date', 'revenue', 'group'], dtype='object')"
      ]
     },
     "execution_count": 18,
     "metadata": {},
     "output_type": "execute_result"
    }
   ],
   "source": [
    "orders = orders.rename(columns={'transactionId':'transaction_id', 'visitorId':'visitor_id'})\n",
    "orders.columns"
   ]
  },
  {
   "cell_type": "markdown",
   "id": "5f572865",
   "metadata": {},
   "source": [
    "Теперь необходимо проверить качество самих данных:\n",
    " - каждый пользователь должен был попасть только в одну группу"
   ]
  },
  {
   "cell_type": "code",
   "execution_count": 19,
   "id": "248f633c",
   "metadata": {
    "scrolled": false
   },
   "outputs": [
    {
     "name": "stdout",
     "output_type": "stream",
     "text": [
      "Количество пользователей, попавших сразу в обе исследуемые группы - 58\n"
     ]
    }
   ],
   "source": [
    "double_users = (\n",
    "    orders.groupby('visitor_id', as_index=False)\n",
    "    .agg({'group':'nunique'}).query('group > 1')\n",
    ")\n",
    "print('Количество пользователей, попавших сразу в обе исследуемые группы - {}'\n",
    "      .format(len(double_users)))"
   ]
  },
  {
   "cell_type": "code",
   "execution_count": 20,
   "id": "6f3ae33a",
   "metadata": {
    "scrolled": true
   },
   "outputs": [
    {
     "name": "stdout",
     "output_type": "stream",
     "text": [
      "Процент задвоенных пользователей 5.63%\n"
     ]
    }
   ],
   "source": [
    "#Оценим % задвоенных, по отношению к общему количеству посетителей\n",
    "print('Процент задвоенных пользователей {0:.2%}'\n",
    "      .format(len(double_users) / orders['visitor_id'].nunique()))"
   ]
  },
  {
   "cell_type": "markdown",
   "id": "e170a70d",
   "metadata": {},
   "source": [
    "Целых 58 человек (около 6% от всего количества посетителей) попали сразу в обе группы - необходимо найти таких пользователей и отчистить данные от них. По итогу нашего тестирования - важно понимание существует ли разница между исследуемыми группами и какая из них лучше. А если пользователь по итогу попал в обе группы, то мы не знаем какая имеено из них повлияла на его решение совершить заказ в нашем интернет-магазине. Поэтому важно удалить данные заказов этих пользователей - для корректной интерпретации результата тестирования."
   ]
  },
  {
   "cell_type": "code",
   "execution_count": 21,
   "id": "5c42d154",
   "metadata": {
    "scrolled": true
   },
   "outputs": [],
   "source": [
    "#Сохраним в список только id этих пользователей\n",
    "double_users = list(double_users['visitor_id'])"
   ]
  },
  {
   "cell_type": "markdown",
   "id": "4bc229cc",
   "metadata": {},
   "source": [
    "Теперь удаляем пользователей из таблицы с заказами"
   ]
  },
  {
   "cell_type": "code",
   "execution_count": 22,
   "id": "355709f7",
   "metadata": {},
   "outputs": [],
   "source": [
    "orders = orders.query('visitor_id != @double_users').reset_index(drop=True)"
   ]
  },
  {
   "cell_type": "code",
   "execution_count": 23,
   "id": "84ffccb0",
   "metadata": {
    "scrolled": true
   },
   "outputs": [
    {
     "name": "stdout",
     "output_type": "stream",
     "text": [
      "Количество пользователей, попавших сразу в обе исследуемые группы - 0\n"
     ]
    }
   ],
   "source": [
    "print('Количество пользователей, попавших сразу в обе исследуемые группы - {}'\n",
    "      .format(len(orders.groupby('visitor_id', as_index=False)\n",
    "                  .agg({'group':'nunique'}).query('group > 1'))))"
   ]
  },
  {
   "cell_type": "markdown",
   "id": "b84e6668",
   "metadata": {},
   "source": [
    "В данных о заказах больше нет пользователей, совершивших заказы в обеих исследуемых группах."
   ]
  },
  {
   "cell_type": "markdown",
   "id": "d8669730",
   "metadata": {},
   "source": [
    "Теперь, мы можем оценить количество уникальных пользователей совершивших заказы"
   ]
  },
  {
   "cell_type": "code",
   "execution_count": 24,
   "id": "ea57da0f",
   "metadata": {
    "scrolled": false
   },
   "outputs": [
    {
     "name": "stdout",
     "output_type": "stream",
     "text": [
      "Количество уникальных пользователей, совершивших заказ, во всем исследовании - 973\n",
      "\n",
      "Количество уникальных пользователей, совершивших заказ, в каждой группе\n"
     ]
    },
    {
     "data": {
      "text/html": [
       "<div>\n",
       "<style scoped>\n",
       "    .dataframe tbody tr th:only-of-type {\n",
       "        vertical-align: middle;\n",
       "    }\n",
       "\n",
       "    .dataframe tbody tr th {\n",
       "        vertical-align: top;\n",
       "    }\n",
       "\n",
       "    .dataframe thead th {\n",
       "        text-align: right;\n",
       "    }\n",
       "</style>\n",
       "<table border=\"1\" class=\"dataframe\">\n",
       "  <thead>\n",
       "    <tr style=\"text-align: right;\">\n",
       "      <th></th>\n",
       "      <th>group</th>\n",
       "      <th>visitor_id</th>\n",
       "      <th>perc</th>\n",
       "    </tr>\n",
       "  </thead>\n",
       "  <tbody>\n",
       "    <tr>\n",
       "      <th>0</th>\n",
       "      <td>A</td>\n",
       "      <td>445</td>\n",
       "      <td>45.73</td>\n",
       "    </tr>\n",
       "    <tr>\n",
       "      <th>1</th>\n",
       "      <td>B</td>\n",
       "      <td>528</td>\n",
       "      <td>54.27</td>\n",
       "    </tr>\n",
       "  </tbody>\n",
       "</table>\n",
       "</div>"
      ],
      "text/plain": [
       "  group  visitor_id  perc\n",
       "0     A         445 45.73\n",
       "1     B         528 54.27"
      ]
     },
     "execution_count": 24,
     "metadata": {},
     "output_type": "execute_result"
    }
   ],
   "source": [
    "print('Количество уникальных пользователей, совершивших заказ, во всем исследовании - {}'\n",
    "      .format(orders['visitor_id'].nunique()))\n",
    "print()\n",
    "print('Количество уникальных пользователей, совершивших заказ, в каждой группе')\n",
    "o_g = orders.groupby('group', as_index=False).agg({'visitor_id':'nunique'})\n",
    "o_g['perc'] = o_g['visitor_id'] / o_g['visitor_id'].sum() * 100\n",
    "o_g"
   ]
  },
  {
   "cell_type": "markdown",
   "id": "38ebbf29",
   "metadata": {},
   "source": [
    "Мы видим, что в группе В присутствует перевес по количеству уникальных пользователей совершивших заказы, однако как мы помним, количество посетителей обеих групп практически одинаковое. Можно предположить, что в группе В посетители больше склонны делать заказы."
   ]
  },
  {
   "cell_type": "markdown",
   "id": "bfc19be2",
   "metadata": {},
   "source": [
    "Оценим временные рамки теста"
   ]
  },
  {
   "cell_type": "code",
   "execution_count": 25,
   "id": "5aeae20e",
   "metadata": {
    "scrolled": true
   },
   "outputs": [
    {
     "name": "stdout",
     "output_type": "stream",
     "text": [
      "Дата начала теста - 2019-08-01 00:00:00, дата окончания теста - 2019-08-31 00:00:00\n"
     ]
    }
   ],
   "source": [
    "if visitors['date'].min() == orders['date'].min() and visitors['date'].max() == orders['date'].max():\n",
    "    print('Дата начала теста - {}, дата окончания теста - {}'.format(orders['date'].min(), orders['date'].max()))\n",
    "else:\n",
    "    print('Временные рамки в данных о визитах и заказах не совпадают')"
   ]
  },
  {
   "cell_type": "markdown",
   "id": "c7159530",
   "metadata": {},
   "source": [
    "Тест проходил с 1 августа 2009 года по 31 августа 2009 года"
   ]
  },
  {
   "cell_type": "markdown",
   "id": "c46b3300",
   "metadata": {},
   "source": [
    "#### Общий вывод по качеству данных\n",
    "<a id=\"10\"></a>"
   ]
  },
  {
   "cell_type": "markdown",
   "id": "1c5f85a8",
   "metadata": {},
   "source": [
    "Входные данные - информация о визитах и заказах пользователей в каждой группе на каждую дату. Дубликатов и пропусков не обнаружено. Однако типы дат не соответствовали действительности - исправила. Также немного подправила наименование колонок в данных о заказах.\n",
    "\n",
    "При анализе распределения потоков пользователей между группами нашли небольшое различие, однако оно менее 1%, что не катастрофично (группа А - 49,76%, группа В - 50,24%)\n",
    "\n",
    "Однако при анализе распределения пользователей по группам, нашли 58 пользователей, которые попали сразу в обе группы - данные о них из заказов были удалены.\n",
    "\n",
    "Возможно произошел технический сбой при \"обнаружении своего пользователя\" при повторном посещении сайта, возможно не верно был настроен инструмент \"деления\"\\\"обнаружения\" трафика\n",
    "Чтобы в будущем не допустить не правильного распределения потоков между группами, как вариант, можно провести пробный А/А тест, чтобы предусмотреть все возможные варианты."
   ]
  },
  {
   "cell_type": "markdown",
   "id": "9ecfdf39",
   "metadata": {},
   "source": [
    "### Анализ кумулятивных метрик\n",
    "<a id=\"11\"></a>"
   ]
  },
  {
   "cell_type": "markdown",
   "id": "c1f10078",
   "metadata": {},
   "source": [
    "Перед тем, как изучать кумулятивные метрики (выручка и средний чек) по отдельности соберем все данные вместе в одном датафрейме"
   ]
  },
  {
   "cell_type": "code",
   "execution_count": 26,
   "id": "813e69a8",
   "metadata": {},
   "outputs": [
    {
     "data": {
      "text/html": [
       "<div>\n",
       "<style scoped>\n",
       "    .dataframe tbody tr th:only-of-type {\n",
       "        vertical-align: middle;\n",
       "    }\n",
       "\n",
       "    .dataframe tbody tr th {\n",
       "        vertical-align: top;\n",
       "    }\n",
       "\n",
       "    .dataframe thead th {\n",
       "        text-align: right;\n",
       "    }\n",
       "</style>\n",
       "<table border=\"1\" class=\"dataframe\">\n",
       "  <thead>\n",
       "    <tr style=\"text-align: right;\">\n",
       "      <th></th>\n",
       "      <th>date</th>\n",
       "      <th>group</th>\n",
       "      <th>transaction_id</th>\n",
       "      <th>visitor_id</th>\n",
       "      <th>revenue</th>\n",
       "    </tr>\n",
       "  </thead>\n",
       "  <tbody>\n",
       "    <tr>\n",
       "      <th>45</th>\n",
       "      <td>2019-08-01</td>\n",
       "      <td>A</td>\n",
       "      <td>23</td>\n",
       "      <td>19</td>\n",
       "      <td>142779</td>\n",
       "    </tr>\n",
       "    <tr>\n",
       "      <th>54</th>\n",
       "      <td>2019-08-01</td>\n",
       "      <td>B</td>\n",
       "      <td>17</td>\n",
       "      <td>17</td>\n",
       "      <td>59758</td>\n",
       "    </tr>\n",
       "    <tr>\n",
       "      <th>149</th>\n",
       "      <td>2019-08-02</td>\n",
       "      <td>A</td>\n",
       "      <td>42</td>\n",
       "      <td>36</td>\n",
       "      <td>234381</td>\n",
       "    </tr>\n",
       "    <tr>\n",
       "      <th>147</th>\n",
       "      <td>2019-08-02</td>\n",
       "      <td>B</td>\n",
       "      <td>40</td>\n",
       "      <td>39</td>\n",
       "      <td>221801</td>\n",
       "    </tr>\n",
       "    <tr>\n",
       "      <th>245</th>\n",
       "      <td>2019-08-03</td>\n",
       "      <td>A</td>\n",
       "      <td>66</td>\n",
       "      <td>60</td>\n",
       "      <td>346854</td>\n",
       "    </tr>\n",
       "  </tbody>\n",
       "</table>\n",
       "</div>"
      ],
      "text/plain": [
       "          date group  transaction_id  visitor_id  revenue\n",
       "45  2019-08-01     A              23          19   142779\n",
       "54  2019-08-01     B              17          17    59758\n",
       "149 2019-08-02     A              42          36   234381\n",
       "147 2019-08-02     B              40          39   221801\n",
       "245 2019-08-03     A              66          60   346854"
      ]
     },
     "execution_count": 26,
     "metadata": {},
     "output_type": "execute_result"
    }
   ],
   "source": [
    "#Так как нам нужны накопленные данные по каждой группе на каждый день,\n",
    "#создадим массив уникальных пар \"дата-группа\" Из данных о заказах\n",
    "dates_group = orders[['date', 'group']].drop_duplicates()\n",
    "\n",
    "#Теперь с помощью этого массива и таблицы с заказами\n",
    "#собираем суммарные данные о количестве заказов,\n",
    "#количестве уникальных покупателей \n",
    "#и сумме выручки заказов в группе теста\n",
    "#на указанную дату включительно\n",
    "orders_aggregated = (\n",
    "    dates_group.apply(lambda x: orders[np.logical_and(orders['date']<=x['date'], orders['group']==x['group'])]\n",
    "                      .agg({'date':'max', 'group':'max', 'transaction_id':'nunique', 'visitor_id':'nunique', 'revenue':'sum'}),\n",
    "                      axis=1).sort_values(by=['date', 'group'])\n",
    ")\n",
    "orders_aggregated.head()"
   ]
  },
  {
   "cell_type": "code",
   "execution_count": 27,
   "id": "aae4ae44",
   "metadata": {},
   "outputs": [
    {
     "data": {
      "text/html": [
       "<div>\n",
       "<style scoped>\n",
       "    .dataframe tbody tr th:only-of-type {\n",
       "        vertical-align: middle;\n",
       "    }\n",
       "\n",
       "    .dataframe tbody tr th {\n",
       "        vertical-align: top;\n",
       "    }\n",
       "\n",
       "    .dataframe thead th {\n",
       "        text-align: right;\n",
       "    }\n",
       "</style>\n",
       "<table border=\"1\" class=\"dataframe\">\n",
       "  <thead>\n",
       "    <tr style=\"text-align: right;\">\n",
       "      <th></th>\n",
       "      <th>date</th>\n",
       "      <th>group</th>\n",
       "      <th>visitors</th>\n",
       "    </tr>\n",
       "  </thead>\n",
       "  <tbody>\n",
       "    <tr>\n",
       "      <th>45</th>\n",
       "      <td>2019-08-01</td>\n",
       "      <td>A</td>\n",
       "      <td>719</td>\n",
       "    </tr>\n",
       "    <tr>\n",
       "      <th>54</th>\n",
       "      <td>2019-08-01</td>\n",
       "      <td>B</td>\n",
       "      <td>713</td>\n",
       "    </tr>\n",
       "    <tr>\n",
       "      <th>149</th>\n",
       "      <td>2019-08-02</td>\n",
       "      <td>A</td>\n",
       "      <td>1338</td>\n",
       "    </tr>\n",
       "    <tr>\n",
       "      <th>147</th>\n",
       "      <td>2019-08-02</td>\n",
       "      <td>B</td>\n",
       "      <td>1294</td>\n",
       "    </tr>\n",
       "    <tr>\n",
       "      <th>245</th>\n",
       "      <td>2019-08-03</td>\n",
       "      <td>A</td>\n",
       "      <td>1845</td>\n",
       "    </tr>\n",
       "  </tbody>\n",
       "</table>\n",
       "</div>"
      ],
      "text/plain": [
       "          date group  visitors\n",
       "45  2019-08-01     A       719\n",
       "54  2019-08-01     B       713\n",
       "149 2019-08-02     A      1338\n",
       "147 2019-08-02     B      1294\n",
       "245 2019-08-03     A      1845"
      ]
     },
     "execution_count": 27,
     "metadata": {},
     "output_type": "execute_result"
    }
   ],
   "source": [
    "#Теперь необходимо собрать сумарные данные о количестве визитов\n",
    "#на указанный день в конкретной группе\n",
    "visitors_aggregated = (\n",
    "    dates_group.apply(lambda x: visitors[np.logical_and(visitors['date']<=x['date'], visitors['group']==x['group'])]\n",
    "                     .agg({'date':'max', 'group':'max', 'visitors':'sum'}),\n",
    "                      axis=1).sort_values(by=['date', 'group'])\n",
    ")\n",
    "visitors_aggregated.head()"
   ]
  },
  {
   "cell_type": "code",
   "execution_count": 28,
   "id": "1dbe21fc",
   "metadata": {},
   "outputs": [],
   "source": [
    "#Необходимо объединить все наши полученные данные\n",
    "cumulative_data = orders_aggregated.merge(visitors_aggregated, on=['date', 'group'])"
   ]
  },
  {
   "cell_type": "code",
   "execution_count": 29,
   "id": "08238e5d",
   "metadata": {},
   "outputs": [
    {
     "data": {
      "text/html": [
       "<div>\n",
       "<style scoped>\n",
       "    .dataframe tbody tr th:only-of-type {\n",
       "        vertical-align: middle;\n",
       "    }\n",
       "\n",
       "    .dataframe tbody tr th {\n",
       "        vertical-align: top;\n",
       "    }\n",
       "\n",
       "    .dataframe thead th {\n",
       "        text-align: right;\n",
       "    }\n",
       "</style>\n",
       "<table border=\"1\" class=\"dataframe\">\n",
       "  <thead>\n",
       "    <tr style=\"text-align: right;\">\n",
       "      <th></th>\n",
       "      <th>date</th>\n",
       "      <th>group</th>\n",
       "      <th>orders</th>\n",
       "      <th>buyers</th>\n",
       "      <th>revenue</th>\n",
       "      <th>visitors</th>\n",
       "    </tr>\n",
       "  </thead>\n",
       "  <tbody>\n",
       "    <tr>\n",
       "      <th>0</th>\n",
       "      <td>2019-08-01</td>\n",
       "      <td>A</td>\n",
       "      <td>23</td>\n",
       "      <td>19</td>\n",
       "      <td>142779</td>\n",
       "      <td>719</td>\n",
       "    </tr>\n",
       "    <tr>\n",
       "      <th>1</th>\n",
       "      <td>2019-08-01</td>\n",
       "      <td>B</td>\n",
       "      <td>17</td>\n",
       "      <td>17</td>\n",
       "      <td>59758</td>\n",
       "      <td>713</td>\n",
       "    </tr>\n",
       "    <tr>\n",
       "      <th>2</th>\n",
       "      <td>2019-08-02</td>\n",
       "      <td>A</td>\n",
       "      <td>42</td>\n",
       "      <td>36</td>\n",
       "      <td>234381</td>\n",
       "      <td>1338</td>\n",
       "    </tr>\n",
       "    <tr>\n",
       "      <th>3</th>\n",
       "      <td>2019-08-02</td>\n",
       "      <td>B</td>\n",
       "      <td>40</td>\n",
       "      <td>39</td>\n",
       "      <td>221801</td>\n",
       "      <td>1294</td>\n",
       "    </tr>\n",
       "    <tr>\n",
       "      <th>4</th>\n",
       "      <td>2019-08-03</td>\n",
       "      <td>A</td>\n",
       "      <td>66</td>\n",
       "      <td>60</td>\n",
       "      <td>346854</td>\n",
       "      <td>1845</td>\n",
       "    </tr>\n",
       "  </tbody>\n",
       "</table>\n",
       "</div>"
      ],
      "text/plain": [
       "        date group  orders  buyers  revenue  visitors\n",
       "0 2019-08-01     A      23      19   142779       719\n",
       "1 2019-08-01     B      17      17    59758       713\n",
       "2 2019-08-02     A      42      36   234381      1338\n",
       "3 2019-08-02     B      40      39   221801      1294\n",
       "4 2019-08-03     A      66      60   346854      1845"
      ]
     },
     "execution_count": 29,
     "metadata": {},
     "output_type": "execute_result"
    }
   ],
   "source": [
    "cumulative_data.columns = ['date', 'group', 'orders', 'buyers', 'revenue', 'visitors']\n",
    "cumulative_data.head()"
   ]
  },
  {
   "cell_type": "markdown",
   "id": "2ac3e410",
   "metadata": {},
   "source": [
    "Теперь приступим к анализу выручки и среднего чека"
   ]
  },
  {
   "cell_type": "markdown",
   "id": "9eea90cc",
   "metadata": {},
   "source": [
    "#### Кумулятивная выручка по группам\n",
    "<a id=\"12\"></a>"
   ]
  },
  {
   "cell_type": "code",
   "execution_count": 30,
   "id": "b0db2d86",
   "metadata": {},
   "outputs": [],
   "source": [
    "#Выведем отдельно данные по кумулятивной выручки и количеству заказов для каждой группы\n",
    "cumulative_revenue_a = cumulative_data[cumulative_data['group']=='A'][['date','revenue','orders']]\n",
    "cumulative_revenue_b = cumulative_data[cumulative_data['group']=='B'][['date','revenue','orders']]"
   ]
  },
  {
   "cell_type": "code",
   "execution_count": 31,
   "id": "3d64e891",
   "metadata": {
    "scrolled": false
   },
   "outputs": [
    {
     "data": {
      "image/png": "[encoded data removed]",
      "text/plain": [
       "<Figure size 864x288 with 1 Axes>"
      ]
     },
     "metadata": {
      "needs_background": "light"
     },
     "output_type": "display_data"
    }
   ],
   "source": [
    "#Строим график выручки группы А и В\n",
    "fig = plt.figure(figsize=(12,4))\n",
    "plt.plot(cumulative_revenue_a['date'], cumulative_revenue_a['revenue'], label='A')\n",
    "plt.plot(cumulative_revenue_b['date'], cumulative_revenue_b['revenue'], label='B')\n",
    "plt_view('Дата', 'Выручка', 'График кумулятивной выручки по группам');"
   ]
  },
  {
   "cell_type": "markdown",
   "id": "2f8346e5",
   "metadata": {},
   "source": [
    "Мы видим, что 19 августа был резкий скачек в выручке группы В. До этого момента группа В немного опережала группу А. И после скачка группа В лидирует и показатели ее выручки только растут. Показатели группы А также растут.\n",
    "Возможно скачек связан с какими то аномально большими покупками в этот день. Если это действительно так, то в заключительном анализе их нужно будет удалить."
   ]
  },
  {
   "cell_type": "markdown",
   "id": "4fb8ec84",
   "metadata": {},
   "source": [
    "#### Кумулятивный средний чек по группам\n",
    "<a id=\"13\"></a>"
   ]
  },
  {
   "cell_type": "markdown",
   "id": "cc29234e",
   "metadata": {},
   "source": [
    "Теперь по нашим кумулятивным данным рассмотрим как меняется средний чек по группам. Для этого разделим кумулятивную выручку на кумулятивное число заказов"
   ]
  },
  {
   "cell_type": "code",
   "execution_count": 32,
   "id": "3885f762",
   "metadata": {},
   "outputs": [
    {
     "data": {
      "image/png": "[encoded data removed]",
      "text/plain": [
       "<Figure size 864x288 with 1 Axes>"
      ]
     },
     "metadata": {
      "needs_background": "light"
     },
     "output_type": "display_data"
    }
   ],
   "source": [
    "fig = plt.figure(figsize=(12,4))\n",
    "plt.plot(cumulative_revenue_a['date'], cumulative_revenue_a['revenue']/cumulative_revenue_a['orders'], label='A')\n",
    "plt.plot(cumulative_revenue_b['date'], cumulative_revenue_b['revenue']/cumulative_revenue_b['orders'], label='B')\n",
    "plt_view('Дата', 'Средний чек', 'График кумулятивного среднего чека по группам');"
   ]
  },
  {
   "cell_type": "markdown",
   "id": "dd94c640",
   "metadata": {},
   "source": [
    "На графике средних чеков, мы также видим резкий скачек 19 августа в группе В, и еще несколько колебаний в обеих группах. И видно, что группа В лидирует сильно превышая значения группы А, однако сразу после скачка размер среднего чека начал понемногу падать. \n",
    "Возможно покупок стало становится больше, а их средняя стоимость меньше.\n",
    "Однако скачек в группе В может сильно искажать результаты, особенно в случае падения кумулятивных значений среднего чека."
   ]
  },
  {
   "cell_type": "markdown",
   "id": "749cdec4",
   "metadata": {},
   "source": [
    "#### Относительное изменение кумулятивного среднего чека группы В к группе А\n",
    "<a id=\"14\"></a>"
   ]
  },
  {
   "cell_type": "markdown",
   "id": "c0a10505",
   "metadata": {},
   "source": [
    "Для того что рассмотреть относительное изменение среднего чека группы В к группе А, начала необходимо объединить наши данные по кумулятивным выручкам"
   ]
  },
  {
   "cell_type": "code",
   "execution_count": 33,
   "id": "8cf5d449",
   "metadata": {},
   "outputs": [
    {
     "data": {
      "text/html": [
       "<div>\n",
       "<style scoped>\n",
       "    .dataframe tbody tr th:only-of-type {\n",
       "        vertical-align: middle;\n",
       "    }\n",
       "\n",
       "    .dataframe tbody tr th {\n",
       "        vertical-align: top;\n",
       "    }\n",
       "\n",
       "    .dataframe thead th {\n",
       "        text-align: right;\n",
       "    }\n",
       "</style>\n",
       "<table border=\"1\" class=\"dataframe\">\n",
       "  <thead>\n",
       "    <tr style=\"text-align: right;\">\n",
       "      <th></th>\n",
       "      <th>date</th>\n",
       "      <th>revenue_a</th>\n",
       "      <th>orders_a</th>\n",
       "      <th>revenue_b</th>\n",
       "      <th>orders_b</th>\n",
       "    </tr>\n",
       "  </thead>\n",
       "  <tbody>\n",
       "    <tr>\n",
       "      <th>0</th>\n",
       "      <td>2019-08-01</td>\n",
       "      <td>142779</td>\n",
       "      <td>23</td>\n",
       "      <td>59758</td>\n",
       "      <td>17</td>\n",
       "    </tr>\n",
       "    <tr>\n",
       "      <th>1</th>\n",
       "      <td>2019-08-02</td>\n",
       "      <td>234381</td>\n",
       "      <td>42</td>\n",
       "      <td>221801</td>\n",
       "      <td>40</td>\n",
       "    </tr>\n",
       "    <tr>\n",
       "      <th>2</th>\n",
       "      <td>2019-08-03</td>\n",
       "      <td>346854</td>\n",
       "      <td>66</td>\n",
       "      <td>288850</td>\n",
       "      <td>54</td>\n",
       "    </tr>\n",
       "    <tr>\n",
       "      <th>3</th>\n",
       "      <td>2019-08-04</td>\n",
       "      <td>388030</td>\n",
       "      <td>77</td>\n",
       "      <td>385740</td>\n",
       "      <td>68</td>\n",
       "    </tr>\n",
       "    <tr>\n",
       "      <th>4</th>\n",
       "      <td>2019-08-05</td>\n",
       "      <td>474413</td>\n",
       "      <td>99</td>\n",
       "      <td>475648</td>\n",
       "      <td>89</td>\n",
       "    </tr>\n",
       "  </tbody>\n",
       "</table>\n",
       "</div>"
      ],
      "text/plain": [
       "        date  revenue_a  orders_a  revenue_b  orders_b\n",
       "0 2019-08-01     142779        23      59758        17\n",
       "1 2019-08-02     234381        42     221801        40\n",
       "2 2019-08-03     346854        66     288850        54\n",
       "3 2019-08-04     388030        77     385740        68\n",
       "4 2019-08-05     474413        99     475648        89"
      ]
     },
     "execution_count": 33,
     "metadata": {},
     "output_type": "execute_result"
    }
   ],
   "source": [
    "cumulative_revenue = cumulative_revenue_a.merge(cumulative_revenue_b, on='date', suffixes=('_a', '_b'))\n",
    "cumulative_revenue.head()"
   ]
  },
  {
   "cell_type": "code",
   "execution_count": 34,
   "id": "5b10665a",
   "metadata": {
    "scrolled": false
   },
   "outputs": [
    {
     "data": {
      "image/png": "[encoded data removed]",
      "text/plain": [
       "<Figure size 864x288 with 1 Axes>"
      ]
     },
     "metadata": {
      "needs_background": "light"
     },
     "output_type": "display_data"
    }
   ],
   "source": [
    "fig = plt.figure(figsize=(12,4))\n",
    "plt.plot(\n",
    "    cumulative_revenue['date'],\n",
    "    (cumulative_revenue['revenue_b']/cumulative_revenue['orders_b'])/\n",
    "    (cumulative_revenue['revenue_a']/cumulative_revenue['orders_a'])-1,\n",
    "    label='Относительное изменение'\n",
    ")\n",
    "plt_view('Дата', 'Доля группы В к группе А', 'График относительного изменения среднего чека группы В к группе А')\n",
    "\n",
    "# добавляем ось X\n",
    "plt.axhline(y=0, color='black', linestyle='--');"
   ]
  },
  {
   "cell_type": "markdown",
   "id": "7eca00f4",
   "metadata": {},
   "source": [
    "Мы видим много колебаний:\n",
    "- сначала результаты группы А были лучше, но уже на 3 день группа В стала опережать группу А,\n",
    "- однако с 8 дня теста результаты группы В стали сильно ухудшаться и с 11 по 18 день показатели у группы А стали лучше\n",
    "- однако резкий скачек 19го дня вернул лидирующие позиции группе В,\n",
    "- однако после вновь средний чек группы В стал ухудшаться по сравнению со средним чеком группы А.\n",
    "\n",
    "Скорее всего, именно в эти даты были совершены аномальные заказы в той или иной группе"
   ]
  },
  {
   "cell_type": "markdown",
   "id": "5a625efc",
   "metadata": {},
   "source": [
    "#### Кумулятивное среднее количество заказов на посетителя по группам\n",
    "<a id=\"15\"></a>"
   ]
  },
  {
   "cell_type": "markdown",
   "id": "4637be2d",
   "metadata": {},
   "source": [
    "Нужно оценить среднее количество заказов на посетителя в каждой группе. Добавим стоблец, в котором расчитаем этот показатель, как отношение числа заказов к количеству пользователей в указанной группе в указанный день"
   ]
  },
  {
   "cell_type": "code",
   "execution_count": 35,
   "id": "fe14a369",
   "metadata": {
    "scrolled": true
   },
   "outputs": [
    {
     "data": {
      "text/html": [
       "<div>\n",
       "<style scoped>\n",
       "    .dataframe tbody tr th:only-of-type {\n",
       "        vertical-align: middle;\n",
       "    }\n",
       "\n",
       "    .dataframe tbody tr th {\n",
       "        vertical-align: top;\n",
       "    }\n",
       "\n",
       "    .dataframe thead th {\n",
       "        text-align: right;\n",
       "    }\n",
       "</style>\n",
       "<table border=\"1\" class=\"dataframe\">\n",
       "  <thead>\n",
       "    <tr style=\"text-align: right;\">\n",
       "      <th></th>\n",
       "      <th>date</th>\n",
       "      <th>group</th>\n",
       "      <th>orders</th>\n",
       "      <th>buyers</th>\n",
       "      <th>revenue</th>\n",
       "      <th>visitors</th>\n",
       "      <th>avg_orders</th>\n",
       "    </tr>\n",
       "  </thead>\n",
       "  <tbody>\n",
       "    <tr>\n",
       "      <th>0</th>\n",
       "      <td>2019-08-01</td>\n",
       "      <td>A</td>\n",
       "      <td>23</td>\n",
       "      <td>19</td>\n",
       "      <td>142779</td>\n",
       "      <td>719</td>\n",
       "      <td>0.03</td>\n",
       "    </tr>\n",
       "    <tr>\n",
       "      <th>1</th>\n",
       "      <td>2019-08-01</td>\n",
       "      <td>B</td>\n",
       "      <td>17</td>\n",
       "      <td>17</td>\n",
       "      <td>59758</td>\n",
       "      <td>713</td>\n",
       "      <td>0.02</td>\n",
       "    </tr>\n",
       "    <tr>\n",
       "      <th>2</th>\n",
       "      <td>2019-08-02</td>\n",
       "      <td>A</td>\n",
       "      <td>42</td>\n",
       "      <td>36</td>\n",
       "      <td>234381</td>\n",
       "      <td>1338</td>\n",
       "      <td>0.03</td>\n",
       "    </tr>\n",
       "    <tr>\n",
       "      <th>3</th>\n",
       "      <td>2019-08-02</td>\n",
       "      <td>B</td>\n",
       "      <td>40</td>\n",
       "      <td>39</td>\n",
       "      <td>221801</td>\n",
       "      <td>1294</td>\n",
       "      <td>0.03</td>\n",
       "    </tr>\n",
       "    <tr>\n",
       "      <th>4</th>\n",
       "      <td>2019-08-03</td>\n",
       "      <td>A</td>\n",
       "      <td>66</td>\n",
       "      <td>60</td>\n",
       "      <td>346854</td>\n",
       "      <td>1845</td>\n",
       "      <td>0.04</td>\n",
       "    </tr>\n",
       "  </tbody>\n",
       "</table>\n",
       "</div>"
      ],
      "text/plain": [
       "        date group  orders  buyers  revenue  visitors  avg_orders\n",
       "0 2019-08-01     A      23      19   142779       719        0.03\n",
       "1 2019-08-01     B      17      17    59758       713        0.02\n",
       "2 2019-08-02     A      42      36   234381      1338        0.03\n",
       "3 2019-08-02     B      40      39   221801      1294        0.03\n",
       "4 2019-08-03     A      66      60   346854      1845        0.04"
      ]
     },
     "execution_count": 35,
     "metadata": {},
     "output_type": "execute_result"
    }
   ],
   "source": [
    "cumulative_data['avg_orders'] = cumulative_data['orders'] / cumulative_data['visitors']\n",
    "cumulative_data.head()"
   ]
  },
  {
   "cell_type": "code",
   "execution_count": 36,
   "id": "8b745da5",
   "metadata": {},
   "outputs": [],
   "source": [
    "#Разделим на две таблицы в зависмости от группы\n",
    "cumulative_data_a = cumulative_data[cumulative_data['group'] == 'A']\n",
    "cumulative_data_b = cumulative_data[cumulative_data['group'] == 'B']"
   ]
  },
  {
   "cell_type": "code",
   "execution_count": 37,
   "id": "278ed452",
   "metadata": {
    "scrolled": false
   },
   "outputs": [
    {
     "data": {
      "image/png": "[encoded data removed]",
      "text/plain": [
       "<Figure size 864x288 with 1 Axes>"
      ]
     },
     "metadata": {
      "needs_background": "light"
     },
     "output_type": "display_data"
    }
   ],
   "source": [
    "#Пострим графики среднего количества заказов на посетителя по группам\n",
    "fig = plt.figure(figsize=(12,4))\n",
    "plt.plot(cumulative_data_a['date'], cumulative_data_a['avg_orders'], label='A')\n",
    "plt.plot(cumulative_data_b['date'], cumulative_data_b['avg_orders'], label='B')\n",
    "plt_view('Дата', 'Среднее кол-во заказов на посетителя', 'График среднего количества заказов на посетителя по группам')\n",
    "\n",
    "plt.axhline(y=0.029, color='grey', linestyle='--');"
   ]
  },
  {
   "cell_type": "markdown",
   "id": "06019425",
   "metadata": {},
   "source": [
    "В начале теста в группе А больше посетителей совершали заказы, однако после 6го дня стала лидировать группа В и примерно  с 20 дня доля заказов этой группы зафиксировалось около одного значения (около 2,9% заказов от посетителей), больше значения группы А."
   ]
  },
  {
   "cell_type": "markdown",
   "id": "ac62177b",
   "metadata": {},
   "source": [
    "#### Относительное изменение кумулятивного среднего количества заказов на посетителя группы В к группе А\n",
    "<a id=\"16\"></a>"
   ]
  },
  {
   "cell_type": "markdown",
   "id": "fae87430",
   "metadata": {},
   "source": [
    "Для того что рассмотреть относительное изменение среднего количества заказов на посетителя группы В к группе А, сначала необходимо объединить наши данные по кумулятивным данным групп"
   ]
  },
  {
   "cell_type": "code",
   "execution_count": 38,
   "id": "9d6d1dc8",
   "metadata": {},
   "outputs": [
    {
     "data": {
      "text/html": [
       "<div>\n",
       "<style scoped>\n",
       "    .dataframe tbody tr th:only-of-type {\n",
       "        vertical-align: middle;\n",
       "    }\n",
       "\n",
       "    .dataframe tbody tr th {\n",
       "        vertical-align: top;\n",
       "    }\n",
       "\n",
       "    .dataframe thead th {\n",
       "        text-align: right;\n",
       "    }\n",
       "</style>\n",
       "<table border=\"1\" class=\"dataframe\">\n",
       "  <thead>\n",
       "    <tr style=\"text-align: right;\">\n",
       "      <th></th>\n",
       "      <th>date</th>\n",
       "      <th>avg_orders_a</th>\n",
       "      <th>avg_orders_b</th>\n",
       "    </tr>\n",
       "  </thead>\n",
       "  <tbody>\n",
       "    <tr>\n",
       "      <th>0</th>\n",
       "      <td>2019-08-01</td>\n",
       "      <td>0.03</td>\n",
       "      <td>0.02</td>\n",
       "    </tr>\n",
       "    <tr>\n",
       "      <th>1</th>\n",
       "      <td>2019-08-02</td>\n",
       "      <td>0.03</td>\n",
       "      <td>0.03</td>\n",
       "    </tr>\n",
       "    <tr>\n",
       "      <th>2</th>\n",
       "      <td>2019-08-03</td>\n",
       "      <td>0.04</td>\n",
       "      <td>0.03</td>\n",
       "    </tr>\n",
       "    <tr>\n",
       "      <th>3</th>\n",
       "      <td>2019-08-04</td>\n",
       "      <td>0.03</td>\n",
       "      <td>0.03</td>\n",
       "    </tr>\n",
       "    <tr>\n",
       "      <th>4</th>\n",
       "      <td>2019-08-05</td>\n",
       "      <td>0.03</td>\n",
       "      <td>0.03</td>\n",
       "    </tr>\n",
       "  </tbody>\n",
       "</table>\n",
       "</div>"
      ],
      "text/plain": [
       "        date  avg_orders_a  avg_orders_b\n",
       "0 2019-08-01          0.03          0.02\n",
       "1 2019-08-02          0.03          0.03\n",
       "2 2019-08-03          0.04          0.03\n",
       "3 2019-08-04          0.03          0.03\n",
       "4 2019-08-05          0.03          0.03"
      ]
     },
     "execution_count": 38,
     "metadata": {},
     "output_type": "execute_result"
    }
   ],
   "source": [
    "cumulative_data_merge = (\n",
    "    cumulative_data_a[['date', 'avg_orders']]\n",
    "    .merge(cumulative_data_b[['date', 'avg_orders']], on='date', suffixes=('_a', '_b')))\n",
    "cumulative_data_merge.head()"
   ]
  },
  {
   "cell_type": "code",
   "execution_count": 39,
   "id": "7b818612",
   "metadata": {
    "scrolled": false
   },
   "outputs": [
    {
     "data": {
      "image/png": "[encoded data removed]",
      "text/plain": [
       "<Figure size 864x288 with 1 Axes>"
      ]
     },
     "metadata": {
      "needs_background": "light"
     },
     "output_type": "display_data"
    }
   ],
   "source": [
    "#Построим график относительного изменения \n",
    "#кумулятивного среднего количества заказов \n",
    "#на посетителя группы В к группе А\n",
    "fig = plt.figure(figsize=(12,4))\n",
    "plt.plot(\n",
    "    cumulative_data_merge['date'],\n",
    "    cumulative_data_merge['avg_orders_b']/cumulative_data_merge['avg_orders_a']-1,\n",
    "    label='Относительное изменение'\n",
    ")\n",
    "plt_view('Дата', 'Доля группы В к группе А'\n",
    "         , 'График относительного различия кумулятивного среднего количества заказов на посетителя группы В к группе А')\n",
    "\n",
    "# добавляем ось X\n",
    "plt.axhline(y=0, color='black', linestyle='--')\n",
    "plt.axhline(y=0.14, color='grey', linestyle='--');"
   ]
  },
  {
   "cell_type": "markdown",
   "id": "e99e5ef8",
   "metadata": {},
   "source": [
    "С 6 дня после начала теста в группе В становится выше среднее количество заказов (относительно группы А) и далее с каждым днем оно становится лучше и лучше и в итоге оно зафиксировался около прироста в 14% относительно группы А"
   ]
  },
  {
   "cell_type": "markdown",
   "id": "08e5efc0",
   "metadata": {},
   "source": [
    "#### Вывод\n",
    "<a id=\"17\"></a>"
   ]
  },
  {
   "cell_type": "markdown",
   "id": "a5c9198c",
   "metadata": {},
   "source": [
    "Анализируя кумулятивную выручку обеих групп, мы увидели, что группа В с самого начала теста была в ровень или немного лучше показателей в группе А, а скачек выручки 19 августа позволил показателям в группе В сильно опередить группу А.\n",
    "\n",
    "Анализируя кумулятивные средние чеки мы увидели несколько колебаний значений в обеих группах. Также был замечен резкий скачек средних чеков группы В 19 августа, однако после него снижение показателей. Хоть и группа В лидирует.\n",
    "\n",
    "Данные относительных различий средних чеков группы В относительно группы А подтверждают колебания значений средних чеков (на 3, 8, 11, 19 дни проведения теста). Скорее всего, именно в эти даты были совершены аномальные заказы в той или иной группе. Если это действительно так, то в заключительном анализе их нужно будет удалить, чтобы они не искажали результаты нашего исследования.\n",
    "\n",
    "Изучая количество заказов сделанное посетителями каждой из групп, выявили что уже в первой половине теста (с 6го дня) стала лидировать группа В и с каждым днем количество заказов от посетителей улучшалось относительно группы А. И примерно с 20 дня доля заказов группы В зафиксировалась около одного значения (около 2,9% заказов от посетителей). Прирост количества заказов группы В к окночанию теста состовляет примерно 14% относительно группы А.\n",
    "\n",
    "Однако необходимо оценить аномальные заказы (сумму и количества) и посмотреть как они влияют на наши показатели"
   ]
  },
  {
   "cell_type": "markdown",
   "id": "e4b78241",
   "metadata": {},
   "source": [
    "### Анализ количества заказов\n",
    "<a id=\"18\"></a>"
   ]
  },
  {
   "cell_type": "markdown",
   "id": "1f4a00ad",
   "metadata": {},
   "source": [
    "Мы понимаем, что часть пользователей могли совершить 1 заказ, часть 2, 3 и более заказов, а часть просто посетить интернет-магазин не совершив ни одного заказа. Необходимо получить эти данные"
   ]
  },
  {
   "cell_type": "code",
   "execution_count": 40,
   "id": "7ce95ece",
   "metadata": {
    "scrolled": false
   },
   "outputs": [
    {
     "data": {
      "text/html": [
       "<div>\n",
       "<style scoped>\n",
       "    .dataframe tbody tr th:only-of-type {\n",
       "        vertical-align: middle;\n",
       "    }\n",
       "\n",
       "    .dataframe tbody tr th {\n",
       "        vertical-align: top;\n",
       "    }\n",
       "\n",
       "    .dataframe thead th {\n",
       "        text-align: right;\n",
       "    }\n",
       "</style>\n",
       "<table border=\"1\" class=\"dataframe\">\n",
       "  <thead>\n",
       "    <tr style=\"text-align: right;\">\n",
       "      <th></th>\n",
       "      <th>visitor_id</th>\n",
       "      <th>transaction_id</th>\n",
       "    </tr>\n",
       "  </thead>\n",
       "  <tbody>\n",
       "    <tr>\n",
       "      <th>908</th>\n",
       "      <td>3967698036</td>\n",
       "      <td>3</td>\n",
       "    </tr>\n",
       "    <tr>\n",
       "      <th>55</th>\n",
       "      <td>249864742</td>\n",
       "      <td>3</td>\n",
       "    </tr>\n",
       "    <tr>\n",
       "      <th>478</th>\n",
       "      <td>2108163459</td>\n",
       "      <td>3</td>\n",
       "    </tr>\n",
       "    <tr>\n",
       "      <th>687</th>\n",
       "      <td>2988190573</td>\n",
       "      <td>3</td>\n",
       "    </tr>\n",
       "    <tr>\n",
       "      <th>890</th>\n",
       "      <td>3908431265</td>\n",
       "      <td>3</td>\n",
       "    </tr>\n",
       "    <tr>\n",
       "      <th>138</th>\n",
       "      <td>611059232</td>\n",
       "      <td>3</td>\n",
       "    </tr>\n",
       "    <tr>\n",
       "      <th>632</th>\n",
       "      <td>2742574263</td>\n",
       "      <td>3</td>\n",
       "    </tr>\n",
       "    <tr>\n",
       "      <th>157</th>\n",
       "      <td>678354126</td>\n",
       "      <td>2</td>\n",
       "    </tr>\n",
       "    <tr>\n",
       "      <th>323</th>\n",
       "      <td>1404560065</td>\n",
       "      <td>2</td>\n",
       "    </tr>\n",
       "    <tr>\n",
       "      <th>452</th>\n",
       "      <td>1985475298</td>\n",
       "      <td>2</td>\n",
       "    </tr>\n",
       "  </tbody>\n",
       "</table>\n",
       "</div>"
      ],
      "text/plain": [
       "     visitor_id  transaction_id\n",
       "908  3967698036               3\n",
       "55    249864742               3\n",
       "478  2108163459               3\n",
       "687  2988190573               3\n",
       "890  3908431265               3\n",
       "138   611059232               3\n",
       "632  2742574263               3\n",
       "157   678354126               2\n",
       "323  1404560065               2\n",
       "452  1985475298               2"
      ]
     },
     "execution_count": 40,
     "metadata": {},
     "output_type": "execute_result"
    }
   ],
   "source": [
    "#Сначала получим данные по количеству совершенных заказов пользователями\n",
    "orders_users = (\n",
    "    orders.groupby('visitor_id', as_index=False)\n",
    "    .agg({'transaction_id':'nunique'})\n",
    "    .sort_values(by='transaction_id', ascending=False)\n",
    ")\n",
    "orders_users.head(10)"
   ]
  },
  {
   "cell_type": "markdown",
   "id": "d53c3b42",
   "metadata": {},
   "source": [
    "Видим, что есть пользователи и с 3 и с 2 заказами. Посмотрим, какое количество заказов встречается чаще"
   ]
  },
  {
   "cell_type": "markdown",
   "id": "a72af1db",
   "metadata": {},
   "source": [
    "#### Точечный график количества заказов по пользователям\n",
    "<a id=\"19\"></a>"
   ]
  },
  {
   "cell_type": "markdown",
   "id": "2c4fcb65",
   "metadata": {},
   "source": [
    "Построим точечную диаграмму заказов по пользователям"
   ]
  },
  {
   "cell_type": "code",
   "execution_count": 41,
   "id": "2f9e1020",
   "metadata": {},
   "outputs": [
    {
     "data": {
      "image/png": "[encoded data removed]",
      "text/plain": [
       "<Figure size 432x288 with 1 Axes>"
      ]
     },
     "metadata": {
      "needs_background": "light"
     },
     "output_type": "display_data"
    }
   ],
   "source": [
    "#серия из чисел от 0 до количества наблюдений в данных по количеству совершенных заказов\n",
    "x_values = pd.Series(range(0, len(orders_users)))\n",
    "plt.scatter(x_values, orders_users['transaction_id'])\n",
    "plt_scat_view('Кол-во пользователей, совершивших заказы', 'Кол-во заказов', 'График среднего количества заказов');"
   ]
  },
  {
   "cell_type": "markdown",
   "id": "023ffb08",
   "metadata": {},
   "source": [
    "Чаще всего посетители совершают всего 1 заказ, 2 и 3 заказа - это большая редкость. Они вполне могут быть аномальными (ведь есть еще и пользователи не совершившие ни одного заказа), чтобы в это убедится нужно оценить перцентили"
   ]
  },
  {
   "cell_type": "markdown",
   "id": "2c5b8015",
   "metadata": {},
   "source": [
    "#### Считаем 95-й и 99-й перцентили количества заказов на пользователя, для выбора границы аномальных пользователей\n",
    "<a id=\"20\"></a>"
   ]
  },
  {
   "cell_type": "code",
   "execution_count": 42,
   "id": "3f474486",
   "metadata": {},
   "outputs": [
    {
     "data": {
      "text/plain": [
       "array([1., 2.])"
      ]
     },
     "execution_count": 42,
     "metadata": {},
     "output_type": "execute_result"
    }
   ],
   "source": [
    "np.percentile(orders_users['transaction_id'], [95, 99])"
   ]
  },
  {
   "cell_type": "markdown",
   "id": "bf344ff5",
   "metadata": {},
   "source": [
    "Не более 5% пользователей совершали 1 заказ. А не более 1% пользователей совершили 2 и более заказов. Из этого можно сделать вывод, что в основном преобладают пользователи-посетители, т.е. те которые посетили интернет-магазин не совершив ни одного заказа.\n",
    "\n",
    "Выберем \"2 и более заказов\" для границы количества заказов аномальных пользователей"
   ]
  },
  {
   "cell_type": "markdown",
   "id": "5e6d1345",
   "metadata": {},
   "source": [
    "### Анализ стоимостей заказов\n",
    "<a id=\"21\"></a>"
   ]
  },
  {
   "cell_type": "markdown",
   "id": "1878aa78",
   "metadata": {},
   "source": [
    "#### Точечный график стоимостей заказов\n",
    "<a id=\"22\"></a>"
   ]
  },
  {
   "cell_type": "code",
   "execution_count": 43,
   "id": "d59f08ef",
   "metadata": {},
   "outputs": [
    {
     "data": {
      "image/png": "[encoded data removed]",
      "text/plain": [
       "<Figure size 432x288 with 1 Axes>"
      ]
     },
     "metadata": {
      "needs_background": "light"
     },
     "output_type": "display_data"
    }
   ],
   "source": [
    "#серия из чисел от 0 до количества наблюдений в данных о заказах\n",
    "x_values = pd.Series(range(0, len(orders['revenue'])))\n",
    "plt.scatter(x_values, orders['revenue'])\n",
    "plt_scat_view('Кол-во пользователей, совершивших заказы', 'Выручка с заказов', 'График стоимостей заказов');"
   ]
  },
  {
   "cell_type": "markdown",
   "id": "ccfb3023",
   "metadata": {},
   "source": [
    "Большинство заказов находятся в границах до 100000, присутствует всего один заказ на сумму около 200000 и один заказ на сумму более 1 млн. "
   ]
  },
  {
   "cell_type": "markdown",
   "id": "3f597a35",
   "metadata": {},
   "source": [
    "Давайте отфильтруем крупные заказы и посмотрим поближе на распределение остальных заказов"
   ]
  },
  {
   "cell_type": "code",
   "execution_count": 44,
   "id": "3427d842",
   "metadata": {},
   "outputs": [
    {
     "data": {
      "image/png": "[encoded data removed]",
      "text/plain": [
       "<Figure size 432x288 with 1 Axes>"
      ]
     },
     "metadata": {
      "needs_background": "light"
     },
     "output_type": "display_data"
    }
   ],
   "source": [
    "#серия из чисел от 0 до количества наблюдений в данных о заказах\n",
    "x_values = pd.Series(range(0, len(orders.query('revenue <= 200000')['revenue'])))\n",
    "plt.scatter(x_values, orders.query('revenue <= 200000')['revenue'])\n",
    "plt_scat_view('Кол-во пользователей, совершивших заказы', 'Выручка с заказов', 'График стоимостей заказов');"
   ]
  },
  {
   "cell_type": "markdown",
   "id": "2972482c",
   "metadata": {},
   "source": [
    "И тут мы видим, что тут тоже есть редкие стоимости заказов - заказы выше 50000 редки. Скорее всего это и есть наши аномальные скачки в выручке и среднем чеке. Проверим перцентили"
   ]
  },
  {
   "cell_type": "markdown",
   "id": "68424655",
   "metadata": {},
   "source": [
    "#### Считаем 95-й и 99-й перцентили стоимости заказов, для выбора границы аномальных заказов\n",
    "<a id=\"23\"></a>"
   ]
  },
  {
   "cell_type": "code",
   "execution_count": 45,
   "id": "a181e8e9",
   "metadata": {},
   "outputs": [
    {
     "data": {
      "text/plain": [
       "array([26785., 53904.])"
      ]
     },
     "execution_count": 45,
     "metadata": {},
     "output_type": "execute_result"
    }
   ],
   "source": [
    "np.percentile(orders['revenue'], [95, 99])"
   ]
  },
  {
   "cell_type": "markdown",
   "id": "dcf981a7",
   "metadata": {},
   "source": [
    "Не более 5% заказов чек дороже 26785, и не более чем у 1% - дороже чем 53904. Эти значения гораздо меньше тех, что мы предполагали по точечному графику.\n",
    "\n",
    "Выберем 53904 - как границу стоимости аномальных заказов"
   ]
  },
  {
   "cell_type": "markdown",
   "id": "2c30099b",
   "metadata": {},
   "source": [
    "#### Вывод\n",
    "<a id=\"24\"></a>"
   ]
  },
  {
   "cell_type": "markdown",
   "id": "cf595289",
   "metadata": {},
   "source": [
    "Не более 5% пользователей совершили 1 заказ. А не более 1% пользователей совершили 2 и более заказов. Из этого можно сделать вывод, что в основном преобладают пользователи-посетители, т.е. те которые посетили интернет-магазин не совершив ни одного заказа.\n",
    "\n",
    "Выберем \"2 и более заказов\" для границы количества заказов аномальных пользователей\n",
    "\n",
    "Так как не более 5% заказов чек дороже 26785, и не более чем у 1% - дороже чем 53904, выберем 53904 - как границу стоимости аномальных заказов"
   ]
  },
  {
   "cell_type": "markdown",
   "id": "36a80b5b",
   "metadata": {},
   "source": [
    "### Анализ статистической значимости различий между групами по \"сырым\" и \"очищенным\" данным\n",
    "<a id=\"25\"></a>"
   ]
  },
  {
   "cell_type": "markdown",
   "id": "e762108f",
   "metadata": {},
   "source": [
    "Сначала нам необходимо определить отдельно посетителей группы А и посетители группы В, чтобы в дальнейшем расчитать посетителей без заказов"
   ]
  },
  {
   "cell_type": "code",
   "execution_count": 46,
   "id": "0af05ed8",
   "metadata": {},
   "outputs": [],
   "source": [
    "#Отдельно посетители группы А и посетители группы В\n",
    "visitors_a = visitors[visitors['group'] =='A'][['date', 'visitors']]\n",
    "visitors_a.columns = ['date', 'visitors_a']\n",
    "visitors_b = visitors[visitors['group'] =='B'][['date', 'visitors']]\n",
    "visitors_b.columns = ['date', 'visitors_b']"
   ]
  },
  {
   "cell_type": "markdown",
   "id": "1fdac74d",
   "metadata": {},
   "source": [
    "Для подсчета стат значимости нам необходимо определить пользователей совершивших и не совершивших заказы"
   ]
  },
  {
   "cell_type": "code",
   "execution_count": 47,
   "id": "00a518d7",
   "metadata": {},
   "outputs": [],
   "source": [
    "#Определяем пользователей совершивших хотя бы один заказ в каждой группе\n",
    "orders_users_a = (\n",
    "    orders[orders['group']=='A']\n",
    "    .groupby('visitor_id',as_index=False)\n",
    "    .agg({'transaction_id':'nunique'})\n",
    ")\n",
    "orders_users_a.columns = ['visitors_id', 'orders']\n",
    "orders_users_b = (\n",
    "    orders[orders['group']=='B']\n",
    "    .groupby('visitor_id',as_index=False)\n",
    "    .agg({'transaction_id':'nunique'})\n",
    ")\n",
    "orders_users_b.columns = ['visitors_id', 'orders']"
   ]
  },
  {
   "cell_type": "code",
   "execution_count": 48,
   "id": "fcf7129d",
   "metadata": {},
   "outputs": [],
   "source": [
    "#Объявим переменные, в которых пользователям с заказами будет соответствовать число заказов пользователя\n",
    "#а пользователям без заказов - нули\n",
    "sampleA = (pd.concat(\n",
    "    [orders_users_a['orders'],\n",
    "     pd.Series(0, index=np.arange(visitors_a['visitors_a'].sum() - len(orders_users_a['orders'])),\n",
    "               name='orders')], axis=0)\n",
    "          )\n",
    "sampleB = (pd.concat(\n",
    "    [orders_users_b['orders'],\n",
    "     pd.Series(0, index=np.arange(visitors_b['visitors_b'].sum() - len(orders_users_b['orders'])),\n",
    "               name='orders')], axis=0)\n",
    "          )"
   ]
  },
  {
   "cell_type": "markdown",
   "id": "037e9814",
   "metadata": {},
   "source": [
    "Теперь можем посчитать статистическую значимость различий параметров между группой А и группой В по \"сырым\" данным. Для этого применим непараметричекий тест Манна-Уитни (из-за наличия аномалий в данных) и выведем p_value. Если значение p_value будет менее 0,05 значит группы различны.\n",
    "\n",
    "А также посчитаем относительное различие показателей между группами"
   ]
  },
  {
   "cell_type": "markdown",
   "id": "bbe89fe9",
   "metadata": {},
   "source": [
    "#### Статистическая  значимость различий в среднем количестве заказов на посетителя между группами по «сырым» данным\n",
    "<a id=\"26\"></a>"
   ]
  },
  {
   "cell_type": "markdown",
   "id": "cc7fd9e5",
   "metadata": {},
   "source": [
    "Сформулируем гипотезы для проверки:\n",
    "\n",
    "**Нулевая гипотеза** - Среднее количество заказов на посетителя между группами А и В по \"сырым\" данным одинаковое\n",
    "\n",
    "**Альтернативная гипотеза** - Среднее количество заказов на посетителя между группами А и В по \"сырым\" данным различается"
   ]
  },
  {
   "cell_type": "code",
   "execution_count": 49,
   "id": "89f67cbb",
   "metadata": {
    "scrolled": false
   },
   "outputs": [
    {
     "name": "stdout",
     "output_type": "stream",
     "text": [
      "p_value - 0.011\n"
     ]
    }
   ],
   "source": [
    "#Посчитаем стат значимость различий в среднем количестве заказов на посетителя между группами\n",
    "print(\"p_value - {0:.3f}\".format(st.mannwhitneyu(sampleA, sampleB)[1]))"
   ]
  },
  {
   "cell_type": "code",
   "execution_count": 50,
   "id": "691adfad",
   "metadata": {},
   "outputs": [
    {
     "name": "stdout",
     "output_type": "stream",
     "text": [
      "Относительная разница количества заказов на посетителя между группами - 0.160\n"
     ]
    }
   ],
   "source": [
    "#Посчитаем относительное различие между группами\n",
    "print(\"Относительная разница количества заказов на посетителя между группами - {0:.3f}\"\n",
    "      .format(sampleB.mean() / sampleA.mean() - 1))"
   ]
  },
  {
   "cell_type": "markdown",
   "id": "fada4401",
   "metadata": {},
   "source": [
    "Так как 0.01 < 0.05, можно сделать вывод, что в среднем количестве заказов на посетителя между группами есть статистически значимые различия. Относительный прирост среднего количества заказов на посетителя в группе В относительно группы А составляет 16%"
   ]
  },
  {
   "cell_type": "markdown",
   "id": "9e3ff924",
   "metadata": {},
   "source": [
    "#### Статистическая значимость различий в среднем чеке заказа между группами по «сырым» данным\n",
    "<a id=\"27\"></a>"
   ]
  },
  {
   "cell_type": "markdown",
   "id": "e1effa98",
   "metadata": {},
   "source": [
    "Сформулируем гипотезы для проверки:\n",
    "\n",
    "**Нулевая гипотеза** - Средний чек заказов между группами А и В по \"сырым\" данным одинаковый\n",
    "\n",
    "**Альтернативная гипотеза** - Средний чек заказов между группами А и В по \"сырым\" данным различается"
   ]
  },
  {
   "cell_type": "code",
   "execution_count": 51,
   "id": "dc541393",
   "metadata": {},
   "outputs": [
    {
     "name": "stdout",
     "output_type": "stream",
     "text": [
      "p_value - 0.829\n"
     ]
    }
   ],
   "source": [
    "#Посчитаем стат значимость различий в среднем чеке заказа между группами\n",
    "print(\"p_value - {0:.3f}\".format(\n",
    "    st.mannwhitneyu(orders[orders['group']=='A']['revenue'],\n",
    "                    orders[orders['group']=='B']['revenue'])[1])\n",
    "     )"
   ]
  },
  {
   "cell_type": "code",
   "execution_count": 52,
   "id": "cf17d807",
   "metadata": {},
   "outputs": [
    {
     "name": "stdout",
     "output_type": "stream",
     "text": [
      "Относительная разница средних чеков заказов между группами - 0.287\n"
     ]
    }
   ],
   "source": [
    "#Посчитаем относительное различие между группами\n",
    "print(\"Относительная разница средних чеков заказов между группами - {0:.3f}\".format(\n",
    "    orders[orders['group']=='B']['revenue'].mean()\n",
    "    /orders[orders['group']=='A']['revenue'].mean()-1)\n",
    "     )"
   ]
  },
  {
   "cell_type": "markdown",
   "id": "1b1f076c",
   "metadata": {},
   "source": [
    "P_value значительно выше чем 0.05 - значит, причин отвергать нулевую гипотезу и считать, что в среднем чеке (групп) есть различия, нет. Однако относительный прирост среднего чека группы В к группе А составляет целых 28,7% - скорее всего тут влияют наши аномалии"
   ]
  },
  {
   "cell_type": "markdown",
   "id": "a887bc44",
   "metadata": {},
   "source": [
    "Теперь очистим данные от наших аномальных значений по количеству заказов (2 и более заказов) и по выручке с заказов (заказы дороже 53904) и вновь проверим статистические показатели"
   ]
  },
  {
   "cell_type": "code",
   "execution_count": 53,
   "id": "ee09b34f",
   "metadata": {
    "scrolled": true
   },
   "outputs": [],
   "source": [
    "#Пользователи с числом заказов больше 2 (это был 99 перцентиль)\n",
    "users_many_orders = pd.concat(\n",
    "    [orders_users_a[orders_users_a['orders'] >= np.percentile(orders_users['transaction_id'], 99)]['visitors_id'],\n",
    "     orders_users_b[orders_users_b['orders'] >= np.percentile(orders_users['transaction_id'], 99)]['visitors_id']\n",
    "    ], axis=0)"
   ]
  },
  {
   "cell_type": "code",
   "execution_count": 54,
   "id": "1d649491",
   "metadata": {},
   "outputs": [],
   "source": [
    "#Пользователи с суммой заказа свыше 53000\n",
    "users_many_revenue = orders[orders['revenue'] >= np.percentile(orders['revenue'], 99)]['visitor_id']"
   ]
  },
  {
   "cell_type": "code",
   "execution_count": 55,
   "id": "5cc65723",
   "metadata": {
    "scrolled": true
   },
   "outputs": [],
   "source": [
    "#Объеденим их в общей таблице с аномалиями\n",
    "anomal_users = (\n",
    "    pd.concat([users_many_orders, users_many_revenue], axis=0)\n",
    "    .drop_duplicates().sort_values()\n",
    ")"
   ]
  },
  {
   "cell_type": "markdown",
   "id": "7ef496c4",
   "metadata": {},
   "source": [
    "Теперь у нас есть список аномальных пользователей, которых необходимо будет исключить из нашего исследования. Давайте оценим потери в данных при удалении этих пользователей."
   ]
  },
  {
   "cell_type": "code",
   "execution_count": 57,
   "id": "da02a029",
   "metadata": {},
   "outputs": [
    {
     "name": "stdout",
     "output_type": "stream",
     "text": [
      "Абсолютные потери, при удалении аномальных пользователей - 48\n",
      "Относительные потери, при удалении аномальных пользователей - 4.93%\n"
     ]
    }
   ],
   "source": [
    "#Абсолютные потери\n",
    "print('Абсолютные потери, при удалении аномальных пользователей - {}'.format(len(anomal_users)))\n",
    "#Относительные потери\n",
    "print('Относительные потери, при удалении аномальных пользователей - {0:.2%}'\n",
    "      .format(len(anomal_users)/(orders['visitor_id'].nunique())))"
   ]
  },
  {
   "cell_type": "markdown",
   "id": "f1c4ea10",
   "metadata": {},
   "source": [
    "При очистки данных от аномальных пользователей мы потеряем около 5% данных. Это не очень много, но и не мало. На будущее лучше не допускать такого"
   ]
  },
  {
   "cell_type": "code",
   "execution_count": 58,
   "id": "39d69291",
   "metadata": {},
   "outputs": [],
   "source": [
    "#Объявим переменные, в которых пользователям с заказами будет соответствовать число заказов пользователя\n",
    "#а пользователям без заказов - нули, с исключением аномальных пользователей\n",
    "sampleA_filt = (pd.concat(\n",
    "    [orders_users_a[np.logical_not(orders_users_a['visitors_id'].isin(anomal_users))]['orders'],\n",
    "     pd.Series(0, index=np.arange(visitors_a['visitors_a'].sum() - len(orders_users_a['orders'])),\n",
    "               name='orders')], axis=0)\n",
    "          )\n",
    "sampleB_filt = (pd.concat(\n",
    "    [orders_users_b[np.logical_not(orders_users_b['visitors_id'].isin(anomal_users))]['orders'],\n",
    "     pd.Series(0, index=np.arange(visitors_b['visitors_b'].sum() - len(orders_users_b['orders'])),\n",
    "               name='orders')], axis=0)\n",
    "          )"
   ]
  },
  {
   "cell_type": "markdown",
   "id": "311ad036",
   "metadata": {},
   "source": [
    "Теперь можем перечитать статистическую значимость различий параметров между группой А и группой В по \"очищенным\" данным. Для этого применим непараметричекий тест Манна-Уитни (из-за наличия аномалий в данных) и выведем p_value. Если значение p_value будет менее 0,05 значит группы различны.\n",
    "\n",
    "А также посчитаем относительное различие показателей между группами"
   ]
  },
  {
   "cell_type": "markdown",
   "id": "d8cad89c",
   "metadata": {},
   "source": [
    "#### Статистическая значимость различий в среднем количестве заказов на посетителя между группами по «очищенным» данным\n",
    "<a id=\"28\"></a>"
   ]
  },
  {
   "cell_type": "markdown",
   "id": "7015ec38",
   "metadata": {},
   "source": [
    "Сформулируем гипотезы для проверки:\n",
    "\n",
    "**Нулевая гипотеза** - Среднее количество заказов на посетителя между группами А и В по \"очищенным\" данным одинаковое\n",
    "\n",
    "**Альтернативная гипотеза** - Среднее количество заказов на посетителя между группами А и В по \"очищенным\" данным различается"
   ]
  },
  {
   "cell_type": "code",
   "execution_count": 59,
   "id": "b3b8fca6",
   "metadata": {},
   "outputs": [
    {
     "name": "stdout",
     "output_type": "stream",
     "text": [
      "p_value - 0.00735\n"
     ]
    }
   ],
   "source": [
    "#Посчитаем стат значимость различий в среднем количестве заказов на посетителя между группами\n",
    "print(\"p_value - {0:.5f}\".format(st.mannwhitneyu(sampleA_filt, sampleB_filt)[1]))"
   ]
  },
  {
   "cell_type": "code",
   "execution_count": 60,
   "id": "042fda89",
   "metadata": {},
   "outputs": [
    {
     "name": "stdout",
     "output_type": "stream",
     "text": [
      "Относительная разница количества заказов на посетителя между группами - 0.19080\n"
     ]
    }
   ],
   "source": [
    "#Посчитаем относительное различие между группами\n",
    "print(\"Относительная разница количества заказов на посетителя между группами - {0:.5f}\"\n",
    "      .format(sampleB_filt.mean() / sampleA_filt.mean() - 1))"
   ]
  },
  {
   "cell_type": "markdown",
   "id": "16954dce",
   "metadata": {},
   "source": [
    "После очистки данных значение p_value стало еще ниже 0.007 (было 0.01), что значительно ниже 0.05 - значит разница между среднем количеством заказов на посетителя в группах сильно разнятся. Причем выигрывает группа В - ее прирост количества заказов на посетителя составляет 19%"
   ]
  },
  {
   "cell_type": "markdown",
   "id": "55fca405",
   "metadata": {},
   "source": [
    "#### Статистическая значимость различий в среднем чеке заказа между группами по «очищенным» данным\n",
    "<a id=\"29\"></a>"
   ]
  },
  {
   "cell_type": "markdown",
   "id": "1335f1cf",
   "metadata": {},
   "source": [
    "Сформулируем гипотезы для проверки:\n",
    "\n",
    "**Нулевая гипотеза** - Средний чек заказов между группами А и В по \"очищенным\" данным одинаковый\n",
    "\n",
    "**Альтернативная гипотеза** - Средний чек заказов между группами А и В по \"очищенным\" данным различается"
   ]
  },
  {
   "cell_type": "code",
   "execution_count": 61,
   "id": "b892b869",
   "metadata": {},
   "outputs": [
    {
     "name": "stdout",
     "output_type": "stream",
     "text": [
      "p_value - 0.973\n"
     ]
    }
   ],
   "source": [
    "#Посчитаем стат значимость различий в среднем чеке заказа между группами\n",
    "print(\"p_value - {0:.3f}\".format(\n",
    "    st.mannwhitneyu(\n",
    "        orders[np.logical_and(orders['group'] == 'A',\n",
    "                              np.logical_not(orders['visitor_id'].isin(anomal_users)))]['revenue'],\n",
    "        orders[np.logical_and(orders['group'] == 'B',\n",
    "                              np.logical_not(orders['visitor_id'].isin(anomal_users)))]['revenue'])\n",
    "    [1])\n",
    "     )"
   ]
  },
  {
   "cell_type": "code",
   "execution_count": 62,
   "id": "7ec95852",
   "metadata": {},
   "outputs": [
    {
     "name": "stdout",
     "output_type": "stream",
     "text": [
      "Относительная разница средних чеков заказов между группами - 0.024\n"
     ]
    }
   ],
   "source": [
    "#Посчитаем относительное различие средних чеков между группами\n",
    "print(\"Относительная разница средних чеков заказов между группами - {0:.3f}\".format(\n",
    "    orders[np.logical_and(orders['group'] == 'B',\n",
    "                          np.logical_not(orders['visitor_id'].isin(anomal_users)))]['revenue'].mean()\n",
    "    /orders[np.logical_and(orders['group'] == 'A',\n",
    "                           np.logical_not(orders['visitor_id'].isin(anomal_users)))]['revenue'].mean() - 1)\n",
    ")"
   ]
  },
  {
   "cell_type": "markdown",
   "id": "e5050f0e",
   "metadata": {},
   "source": [
    "После очистки данных p_value стал еще выше 0.97 (был 0.83), что также значительно больше 0.05 - значит, нет причин отвергать нулевую гипотезу и считать, что в среднем чеке (групп) есть различия. Однако относительный прирост среднего чека группы В к группе А стал значительно ниже - всего 2.4% (был 28.6%), что не является статистически значимым отклонением"
   ]
  },
  {
   "cell_type": "markdown",
   "id": "ee74520b",
   "metadata": {},
   "source": [
    "#### Вывод\n",
    "<a id=\"30\"></a>"
   ]
  },
  {
   "cell_type": "markdown",
   "id": "487e58d1",
   "metadata": {},
   "source": [
    "Анализируя \"сырые\" данные мы видим, что группы различны между собой по количеству заказов на посетителя - в группе В (относительно группы А) почти на 16% в среднем преобладает заказов. А вот средний чек в группах похожий, однако средний чек группы В относительно группы А выше на 28,6% - скорее всего на результаты влияют аномальные значения выручки.\n",
    "\n",
    "После очистки данных от аномальных значений, мы видим, что группы стали еще сильнее различны между собой по количеству заказов на посетителя - в группе В (относительно группы А) уже на 19% в среднем преобладает количество заказов. А вот средний чек в группах также остался похожим, но группа В уже имеет небольшой прирост среднего чека относительно группы А - всего 2,4%, что не является статистически значимым отклонением"
   ]
  },
  {
   "cell_type": "markdown",
   "id": "bd109c92",
   "metadata": {},
   "source": [
    "## Решение по результатам теста\n",
    "<a id='31'></a>"
   ]
  },
  {
   "cell_type": "markdown",
   "id": "da0bcec8",
   "metadata": {},
   "source": [
    "Анализируя кумулятивную выручку и средние чеки обеих групп, мы увидели, что группа В с самого начала теста была вровень или немного лучше показателей в группе А, а скачек выручки 19 августа позволил показателям в группе В сильно опередить группу А. После этого скачка значения обеих групп немного стабилизировались.\n",
    "\n",
    "Изучая количество заказов сделанное посетителями каждой из групп, выявили что уже в первой половине теста (с 6го дня) стала лидировать группа В и с каждым днем количество заказов от посетителей улучшалось относительно группы А. И примерно с 20 дня доля заказов группы В зафиксировалась около одного значения (около 2,9% заказов от посетителей). Прирост количества заказов группы В к окночанию теста состовляет примерно 14% относительно группы А.\n",
    "\n",
    "Для корректного изучения исследования нам необходимо было оценить аномальные заказы (сумму и количества) и посмотреть как они влияют на наши показатели.\n",
    "\n",
    "Было выявлено, что:\n",
    "- не более 5% пользователей совершили 1 заказ, а не более 1% пользователей совершили 2 и более заказов\n",
    "- у не более 5% заказов чек дороже 26785, и не более чем у 1% - дороже чем 53904\n",
    "\n",
    "Анализируя статистические значимости \"сырых\" данных мы видим, что группы различны между собой по количеству заказов на посетителя - в группе В (относительно группы А) почти на 16% в среднем преобладает заказов. А вот средний чек в группах похожий, однако средний чек группы В относительно группы А выше на 28,6% - скорее всего на результаты влияют аномальные значения выручки.\n",
    "\n",
    "После очистки данных от аномальных значений, мы видим, что группы стали еще сильнее различны между собой по количеству заказов на посетителя - в группе В (относительно группы А) уже на 19% в среднем преобладает количество заказов, что является статистически значимым. А вот средний чек в группах также остался похожим, но группа В уже имеет небольшой прирост среднего чека относительно группы А - всего 2,4%, что не является статистически значимым отклонением.\n",
    "\n",
    "\n",
    "**Решение**\n",
    "Предлогаю остановить тест и зафиксировать победу группы В: различие среднего количества заказов на посетителя в группы В к группе А. В группе В оно гораздо больше, чем в группе А, однако это не приводит лишь к незначительному увеличению среднего чека в исследуемой группе В, которое не является статистически значимым, но оно все же присутутсвует. Так как p_value (для среднего чека) стал только выше можно предположить, что статистическая значимость и не появится.\n",
    "\n",
    "При увеличении количества заказов при сохранении среднего чека одного заказа - приведет к росту выручки интернет-магазина. "
   ]
  }
 ],
 "metadata": {
  "ExecuteTimeLog": [
   {
    "duration": 10,
    "start_time": "2023-04-08T18:47:45.341Z"
   },
   {
    "duration": 1365,
    "start_time": "2023-04-08T18:47:46.442Z"
   },
   {
    "duration": 5,
    "start_time": "2023-04-08T18:48:29.664Z"
   },
   {
    "duration": 100,
    "start_time": "2023-04-08T18:48:37.643Z"
   },
   {
    "duration": 32,
    "start_time": "2023-04-08T18:48:41.452Z"
   },
   {
    "duration": 5,
    "start_time": "2023-04-08T18:48:53.692Z"
   },
   {
    "duration": 27,
    "start_time": "2023-04-08T18:48:57.853Z"
   },
   {
    "duration": 24,
    "start_time": "2023-04-08T18:49:19.288Z"
   },
   {
    "duration": 29,
    "start_time": "2023-04-08T18:49:35.884Z"
   },
   {
    "duration": 25,
    "start_time": "2023-04-08T18:49:41.679Z"
   },
   {
    "duration": 11,
    "start_time": "2023-04-08T18:50:06.130Z"
   },
   {
    "duration": 1113,
    "start_time": "2023-04-08T18:50:07.493Z"
   },
   {
    "duration": 50,
    "start_time": "2023-04-08T18:50:09.429Z"
   },
   {
    "duration": 39,
    "start_time": "2023-04-08T18:50:11.408Z"
   },
   {
    "duration": 9,
    "start_time": "2023-04-08T18:51:26.834Z"
   },
   {
    "duration": 1214,
    "start_time": "2023-04-08T18:51:27.564Z"
   },
   {
    "duration": 49,
    "start_time": "2023-04-08T18:51:28.841Z"
   },
   {
    "duration": 33,
    "start_time": "2023-04-08T18:51:30.785Z"
   },
   {
    "duration": 10,
    "start_time": "2023-04-08T18:51:45.743Z"
   },
   {
    "duration": 1268,
    "start_time": "2023-04-08T18:51:46.514Z"
   },
   {
    "duration": 66,
    "start_time": "2023-04-08T18:51:47.898Z"
   },
   {
    "duration": 38,
    "start_time": "2023-04-08T18:51:50.192Z"
   },
   {
    "duration": 30,
    "start_time": "2023-04-08T18:51:52.651Z"
   },
   {
    "duration": 27,
    "start_time": "2023-04-08T18:51:57.552Z"
   },
   {
    "duration": 6,
    "start_time": "2023-04-08T18:53:11.277Z"
   },
   {
    "duration": 19,
    "start_time": "2023-04-08T18:53:19.921Z"
   },
   {
    "duration": 5,
    "start_time": "2023-04-08T18:53:28.686Z"
   },
   {
    "duration": 22,
    "start_time": "2023-04-08T18:53:37.424Z"
   },
   {
    "duration": 6,
    "start_time": "2023-04-08T18:53:37.805Z"
   },
   {
    "duration": 11,
    "start_time": "2023-04-08T18:55:03.990Z"
   },
   {
    "duration": 196,
    "start_time": "2023-04-08T18:55:18.950Z"
   },
   {
    "duration": 37,
    "start_time": "2023-04-08T18:55:19.593Z"
   },
   {
    "duration": 8,
    "start_time": "2023-04-08T18:55:21.193Z"
   },
   {
    "duration": 18,
    "start_time": "2023-04-08T18:55:22.438Z"
   },
   {
    "duration": 30,
    "start_time": "2023-04-08T18:55:24.832Z"
   },
   {
    "duration": 15,
    "start_time": "2023-04-08T18:55:25.703Z"
   },
   {
    "duration": 5,
    "start_time": "2023-04-08T18:55:26.411Z"
   },
   {
    "duration": 16,
    "start_time": "2023-04-08T18:56:22.518Z"
   },
   {
    "duration": 3,
    "start_time": "2023-04-08T19:01:45.322Z"
   },
   {
    "duration": 13,
    "start_time": "2023-04-08T19:05:19.460Z"
   },
   {
    "duration": 6,
    "start_time": "2023-04-08T19:05:35.026Z"
   },
   {
    "duration": 9,
    "start_time": "2023-04-08T19:05:35.853Z"
   },
   {
    "duration": 8,
    "start_time": "2023-04-08T19:08:03.505Z"
   },
   {
    "duration": 111,
    "start_time": "2023-04-08T19:08:10.630Z"
   },
   {
    "duration": 4,
    "start_time": "2023-04-08T19:08:21.490Z"
   },
   {
    "duration": 6,
    "start_time": "2023-04-08T19:08:36.448Z"
   },
   {
    "duration": 7,
    "start_time": "2023-04-08T19:09:05.578Z"
   },
   {
    "duration": 5,
    "start_time": "2023-04-08T19:09:10.054Z"
   },
   {
    "duration": 6,
    "start_time": "2023-04-08T19:09:51.879Z"
   },
   {
    "duration": 5,
    "start_time": "2023-04-08T19:09:57.102Z"
   },
   {
    "duration": 5,
    "start_time": "2023-04-08T19:10:00.684Z"
   },
   {
    "duration": 9,
    "start_time": "2023-04-08T19:15:44.996Z"
   },
   {
    "duration": 6,
    "start_time": "2023-04-08T19:16:11.134Z"
   },
   {
    "duration": 10,
    "start_time": "2023-04-08T19:17:23.760Z"
   },
   {
    "duration": 1147,
    "start_time": "2023-04-08T19:17:23.943Z"
   },
   {
    "duration": 55,
    "start_time": "2023-04-08T19:17:25.092Z"
   },
   {
    "duration": 36,
    "start_time": "2023-04-08T19:17:25.207Z"
   },
   {
    "duration": 6,
    "start_time": "2023-04-08T19:17:25.936Z"
   },
   {
    "duration": 7,
    "start_time": "2023-04-08T19:17:26.710Z"
   },
   {
    "duration": 5,
    "start_time": "2023-04-08T19:17:27.511Z"
   },
   {
    "duration": 26,
    "start_time": "2023-04-08T19:17:28.313Z"
   },
   {
    "duration": 7,
    "start_time": "2023-04-08T19:17:28.731Z"
   },
   {
    "duration": 12,
    "start_time": "2023-04-08T19:17:29.111Z"
   },
   {
    "duration": 118,
    "start_time": "2023-04-08T19:17:30.149Z"
   },
   {
    "duration": 24,
    "start_time": "2023-04-08T19:17:30.554Z"
   },
   {
    "duration": 8,
    "start_time": "2023-04-08T19:17:31.233Z"
   },
   {
    "duration": 13,
    "start_time": "2023-04-08T19:17:31.646Z"
   },
   {
    "duration": 25,
    "start_time": "2023-04-08T19:17:32.284Z"
   },
   {
    "duration": 16,
    "start_time": "2023-04-08T19:17:32.663Z"
   },
   {
    "duration": 6,
    "start_time": "2023-04-08T19:17:32.855Z"
   },
   {
    "duration": 11,
    "start_time": "2023-04-08T19:17:34.192Z"
   },
   {
    "duration": 6,
    "start_time": "2023-04-08T19:17:35.134Z"
   },
   {
    "duration": 5,
    "start_time": "2023-04-08T19:17:38.652Z"
   },
   {
    "duration": 3,
    "start_time": "2023-04-08T19:17:48.303Z"
   },
   {
    "duration": 8,
    "start_time": "2023-04-08T19:17:52.503Z"
   },
   {
    "duration": 8,
    "start_time": "2023-04-08T19:17:52.700Z"
   },
   {
    "duration": 4,
    "start_time": "2023-04-08T19:17:56.600Z"
   },
   {
    "duration": 9,
    "start_time": "2023-04-08T19:18:41.311Z"
   },
   {
    "duration": 11,
    "start_time": "2023-04-08T19:20:04.723Z"
   },
   {
    "duration": 11,
    "start_time": "2023-04-08T19:20:13.259Z"
   },
   {
    "duration": 12,
    "start_time": "2023-04-08T19:21:23.814Z"
   },
   {
    "duration": 22,
    "start_time": "2023-04-08T19:22:23.763Z"
   },
   {
    "duration": 125,
    "start_time": "2023-04-08T19:23:25.751Z"
   },
   {
    "duration": 22,
    "start_time": "2023-04-08T19:23:30.716Z"
   },
   {
    "duration": 17,
    "start_time": "2023-04-08T19:23:36.459Z"
   },
   {
    "duration": 14,
    "start_time": "2023-04-08T19:29:56.515Z"
   },
   {
    "duration": 8,
    "start_time": "2023-04-08T19:32:05.308Z"
   },
   {
    "duration": 8,
    "start_time": "2023-04-08T19:33:34.564Z"
   },
   {
    "duration": 5,
    "start_time": "2023-04-08T19:33:43.809Z"
   },
   {
    "duration": 10,
    "start_time": "2023-04-08T19:33:55.419Z"
   },
   {
    "duration": 9,
    "start_time": "2023-04-08T19:34:45.504Z"
   },
   {
    "duration": 5,
    "start_time": "2023-04-08T19:34:52.715Z"
   },
   {
    "duration": 6,
    "start_time": "2023-04-08T19:36:15.717Z"
   },
   {
    "duration": 176,
    "start_time": "2023-04-08T19:36:41.276Z"
   },
   {
    "duration": 128,
    "start_time": "2023-04-08T19:36:41.564Z"
   },
   {
    "duration": 7,
    "start_time": "2023-04-08T19:36:41.826Z"
   },
   {
    "duration": 11,
    "start_time": "2023-04-08T19:36:43.018Z"
   },
   {
    "duration": 6,
    "start_time": "2023-04-08T19:37:03.727Z"
   },
   {
    "duration": 8,
    "start_time": "2023-04-09T04:50:47.761Z"
   },
   {
    "duration": 10,
    "start_time": "2023-04-09T04:51:40.844Z"
   },
   {
    "duration": 3,
    "start_time": "2023-04-09T04:51:47.295Z"
   },
   {
    "duration": 1264,
    "start_time": "2023-04-09T04:51:47.814Z"
   },
   {
    "duration": 114,
    "start_time": "2023-04-09T04:51:50.388Z"
   },
   {
    "duration": 31,
    "start_time": "2023-04-09T04:51:52.503Z"
   },
   {
    "duration": 6,
    "start_time": "2023-04-09T04:51:56.153Z"
   },
   {
    "duration": 10,
    "start_time": "2023-04-09T04:51:57.035Z"
   },
   {
    "duration": 10,
    "start_time": "2023-04-09T04:51:58.671Z"
   },
   {
    "duration": 26,
    "start_time": "2023-04-09T04:52:00.392Z"
   },
   {
    "duration": 7,
    "start_time": "2023-04-09T04:52:03.264Z"
   },
   {
    "duration": 12,
    "start_time": "2023-04-09T04:52:04.332Z"
   },
   {
    "duration": 195,
    "start_time": "2023-04-09T04:52:05.140Z"
   },
   {
    "duration": 33,
    "start_time": "2023-04-09T04:52:05.463Z"
   },
   {
    "duration": 6,
    "start_time": "2023-04-09T04:52:05.799Z"
   },
   {
    "duration": 18,
    "start_time": "2023-04-09T04:52:06.136Z"
   },
   {
    "duration": 32,
    "start_time": "2023-04-09T04:52:06.627Z"
   },
   {
    "duration": 24,
    "start_time": "2023-04-09T04:52:06.965Z"
   },
   {
    "duration": 4,
    "start_time": "2023-04-09T04:52:07.158Z"
   },
   {
    "duration": 9,
    "start_time": "2023-04-09T04:52:07.824Z"
   },
   {
    "duration": 6,
    "start_time": "2023-04-09T04:52:08.004Z"
   },
   {
    "duration": 3,
    "start_time": "2023-04-09T04:52:08.661Z"
   },
   {
    "duration": 7,
    "start_time": "2023-04-09T04:52:09.894Z"
   },
   {
    "duration": 11,
    "start_time": "2023-04-09T04:52:10.085Z"
   },
   {
    "duration": 20,
    "start_time": "2023-04-09T04:52:13.369Z"
   },
   {
    "duration": 6,
    "start_time": "2023-04-09T04:52:14.887Z"
   },
   {
    "duration": 173,
    "start_time": "2023-04-09T04:53:26.488Z"
   },
   {
    "duration": 136,
    "start_time": "2023-04-09T04:53:28.364Z"
   },
   {
    "duration": 8,
    "start_time": "2023-04-09T04:53:29.094Z"
   },
   {
    "duration": 11,
    "start_time": "2023-04-09T04:53:29.528Z"
   },
   {
    "duration": 14,
    "start_time": "2023-04-09T04:53:32.971Z"
   },
   {
    "duration": 4,
    "start_time": "2023-04-09T04:54:31.693Z"
   },
   {
    "duration": 352,
    "start_time": "2023-04-09T04:54:46.792Z"
   },
   {
    "duration": 5,
    "start_time": "2023-04-09T04:55:25.929Z"
   },
   {
    "duration": 383,
    "start_time": "2023-04-09T04:55:33.244Z"
   },
   {
    "duration": 379,
    "start_time": "2023-04-09T04:56:09.543Z"
   },
   {
    "duration": 455,
    "start_time": "2023-04-09T04:56:48.571Z"
   },
   {
    "duration": 157,
    "start_time": "2023-04-09T04:57:48.247Z"
   },
   {
    "duration": 16,
    "start_time": "2023-04-09T04:57:56.917Z"
   },
   {
    "duration": 568,
    "start_time": "2023-04-09T04:57:57.739Z"
   },
   {
    "duration": 20,
    "start_time": "2023-04-09T05:00:38.515Z"
   },
   {
    "duration": 29,
    "start_time": "2023-04-09T05:00:41.964Z"
   },
   {
    "duration": 8,
    "start_time": "2023-04-09T05:00:42.305Z"
   },
   {
    "duration": 488,
    "start_time": "2023-04-09T05:00:42.860Z"
   },
   {
    "duration": 719,
    "start_time": "2023-04-09T05:01:34.714Z"
   },
   {
    "duration": 17,
    "start_time": "2023-04-09T05:02:20.320Z"
   },
   {
    "duration": 583,
    "start_time": "2023-04-09T05:02:20.862Z"
   },
   {
    "duration": 601,
    "start_time": "2023-04-09T05:02:31.356Z"
   },
   {
    "duration": 17,
    "start_time": "2023-04-09T05:04:09.843Z"
   },
   {
    "duration": 167,
    "start_time": "2023-04-09T05:04:12.426Z"
   },
   {
    "duration": 251,
    "start_time": "2023-04-09T05:07:45.701Z"
   },
   {
    "duration": 3,
    "start_time": "2023-04-09T05:09:01.623Z"
   },
   {
    "duration": 142,
    "start_time": "2023-04-09T05:09:17.356Z"
   },
   {
    "duration": 6,
    "start_time": "2023-04-09T05:10:16.052Z"
   },
   {
    "duration": 123,
    "start_time": "2023-04-09T05:10:23.635Z"
   },
   {
    "duration": 138,
    "start_time": "2023-04-09T05:11:21.163Z"
   },
   {
    "duration": 138,
    "start_time": "2023-04-09T05:14:13.672Z"
   },
   {
    "duration": 7,
    "start_time": "2023-04-09T05:14:32.089Z"
   },
   {
    "duration": 5,
    "start_time": "2023-04-09T05:14:46.846Z"
   },
   {
    "duration": 133,
    "start_time": "2023-04-09T05:14:58.446Z"
   },
   {
    "duration": 6,
    "start_time": "2023-04-09T05:17:53.765Z"
   },
   {
    "duration": 8,
    "start_time": "2023-04-09T05:23:52.464Z"
   },
   {
    "duration": 15,
    "start_time": "2023-04-09T05:23:53.283Z"
   },
   {
    "duration": 8,
    "start_time": "2023-04-09T05:23:53.667Z"
   },
   {
    "duration": 21,
    "start_time": "2023-04-09T05:27:36.412Z"
   },
   {
    "duration": 4,
    "start_time": "2023-04-09T05:27:37.037Z"
   },
   {
    "duration": 20,
    "start_time": "2023-04-09T05:27:44.313Z"
   },
   {
    "duration": 3,
    "start_time": "2023-04-09T05:27:47.811Z"
   },
   {
    "duration": 11,
    "start_time": "2023-04-09T05:30:04.757Z"
   },
   {
    "duration": 9,
    "start_time": "2023-04-09T05:30:09.224Z"
   },
   {
    "duration": 8,
    "start_time": "2023-04-09T05:30:57.282Z"
   },
   {
    "duration": 4,
    "start_time": "2023-04-09T05:31:18.013Z"
   },
   {
    "duration": 6,
    "start_time": "2023-04-09T05:31:43.460Z"
   },
   {
    "duration": 7,
    "start_time": "2023-04-09T05:33:27.961Z"
   },
   {
    "duration": 4,
    "start_time": "2023-04-09T05:33:39.674Z"
   },
   {
    "duration": 5,
    "start_time": "2023-04-09T05:33:42.376Z"
   },
   {
    "duration": 5,
    "start_time": "2023-04-09T05:36:18.649Z"
   },
   {
    "duration": 6,
    "start_time": "2023-04-09T05:36:32.806Z"
   },
   {
    "duration": 4,
    "start_time": "2023-04-09T05:36:33.380Z"
   },
   {
    "duration": 4,
    "start_time": "2023-04-09T05:36:33.714Z"
   },
   {
    "duration": 5,
    "start_time": "2023-04-09T05:36:36.363Z"
   },
   {
    "duration": 7,
    "start_time": "2023-04-09T05:36:40.881Z"
   },
   {
    "duration": 5,
    "start_time": "2023-04-09T05:36:41.201Z"
   },
   {
    "duration": 4,
    "start_time": "2023-04-09T05:36:41.510Z"
   },
   {
    "duration": 5,
    "start_time": "2023-04-09T05:36:43.370Z"
   },
   {
    "duration": 8,
    "start_time": "2023-04-09T05:38:39.134Z"
   },
   {
    "duration": 9,
    "start_time": "2023-04-09T05:39:39.719Z"
   },
   {
    "duration": 5,
    "start_time": "2023-04-09T05:39:50.616Z"
   },
   {
    "duration": 5,
    "start_time": "2023-04-09T05:40:01.410Z"
   },
   {
    "duration": 5,
    "start_time": "2023-04-09T05:40:54.857Z"
   },
   {
    "duration": 10,
    "start_time": "2023-04-09T05:41:50.950Z"
   },
   {
    "duration": 14,
    "start_time": "2023-04-09T05:41:59.822Z"
   },
   {
    "duration": 5,
    "start_time": "2023-04-09T05:42:05.447Z"
   },
   {
    "duration": 5,
    "start_time": "2023-04-09T05:43:06.667Z"
   },
   {
    "duration": 5,
    "start_time": "2023-04-09T05:43:07.230Z"
   },
   {
    "duration": 15,
    "start_time": "2023-04-09T05:45:28.499Z"
   },
   {
    "duration": 28,
    "start_time": "2023-04-09T05:45:42.211Z"
   },
   {
    "duration": 37,
    "start_time": "2023-04-09T05:45:59.896Z"
   },
   {
    "duration": 4,
    "start_time": "2023-04-09T05:46:24.411Z"
   },
   {
    "duration": 28,
    "start_time": "2023-04-09T05:46:53.467Z"
   },
   {
    "duration": 12,
    "start_time": "2023-04-09T05:46:56.832Z"
   },
   {
    "duration": 11,
    "start_time": "2023-04-09T05:47:16.594Z"
   },
   {
    "duration": 8,
    "start_time": "2023-04-09T05:47:21.129Z"
   },
   {
    "duration": 6,
    "start_time": "2023-04-09T05:50:16.664Z"
   },
   {
    "duration": 5,
    "start_time": "2023-04-09T05:50:18.915Z"
   },
   {
    "duration": 8,
    "start_time": "2023-04-09T05:50:22.105Z"
   },
   {
    "duration": 10,
    "start_time": "2023-04-09T05:50:31.897Z"
   },
   {
    "duration": 5,
    "start_time": "2023-04-09T05:50:32.313Z"
   },
   {
    "duration": 5,
    "start_time": "2023-04-09T05:50:34.651Z"
   },
   {
    "duration": 22,
    "start_time": "2023-04-09T05:56:17.717Z"
   },
   {
    "duration": 6,
    "start_time": "2023-04-09T05:56:17.741Z"
   },
   {
    "duration": 1274,
    "start_time": "2023-04-09T05:56:17.748Z"
   },
   {
    "duration": 77,
    "start_time": "2023-04-09T05:56:19.023Z"
   },
   {
    "duration": 53,
    "start_time": "2023-04-09T05:56:19.103Z"
   },
   {
    "duration": 6,
    "start_time": "2023-04-09T05:56:19.158Z"
   },
   {
    "duration": 65,
    "start_time": "2023-04-09T05:56:19.165Z"
   },
   {
    "duration": 5,
    "start_time": "2023-04-09T05:56:19.231Z"
   },
   {
    "duration": 27,
    "start_time": "2023-04-09T05:56:19.238Z"
   },
   {
    "duration": 45,
    "start_time": "2023-04-09T05:56:19.267Z"
   },
   {
    "duration": 29,
    "start_time": "2023-04-09T05:56:19.315Z"
   },
   {
    "duration": 115,
    "start_time": "2023-04-09T05:56:19.345Z"
   },
   {
    "duration": 40,
    "start_time": "2023-04-09T05:56:19.461Z"
   },
   {
    "duration": 32,
    "start_time": "2023-04-09T05:56:19.504Z"
   },
   {
    "duration": 19,
    "start_time": "2023-04-09T05:56:19.538Z"
   },
   {
    "duration": 47,
    "start_time": "2023-04-09T05:56:19.559Z"
   },
   {
    "duration": 33,
    "start_time": "2023-04-09T05:56:19.608Z"
   },
   {
    "duration": 6,
    "start_time": "2023-04-09T05:56:19.642Z"
   },
   {
    "duration": 9,
    "start_time": "2023-04-09T05:56:19.649Z"
   },
   {
    "duration": 4,
    "start_time": "2023-04-09T05:56:19.659Z"
   },
   {
    "duration": 6,
    "start_time": "2023-04-09T05:56:19.665Z"
   },
   {
    "duration": 45,
    "start_time": "2023-04-09T05:56:19.682Z"
   },
   {
    "duration": 9,
    "start_time": "2023-04-09T05:56:19.729Z"
   },
   {
    "duration": 15,
    "start_time": "2023-04-09T05:56:19.740Z"
   },
   {
    "duration": 5,
    "start_time": "2023-04-09T05:56:19.757Z"
   },
   {
    "duration": 226,
    "start_time": "2023-04-09T05:56:19.764Z"
   },
   {
    "duration": 135,
    "start_time": "2023-04-09T05:56:19.996Z"
   },
   {
    "duration": 6,
    "start_time": "2023-04-09T05:56:20.133Z"
   },
   {
    "duration": 21,
    "start_time": "2023-04-09T05:56:20.140Z"
   },
   {
    "duration": 54,
    "start_time": "2023-04-09T05:56:20.162Z"
   },
   {
    "duration": 445,
    "start_time": "2023-04-09T05:56:20.218Z"
   },
   {
    "duration": 307,
    "start_time": "2023-04-09T05:56:20.664Z"
   },
   {
    "duration": 39,
    "start_time": "2023-04-09T05:56:20.988Z"
   },
   {
    "duration": 456,
    "start_time": "2023-04-09T05:56:21.029Z"
   },
   {
    "duration": 18,
    "start_time": "2023-04-09T05:56:21.487Z"
   },
   {
    "duration": 27,
    "start_time": "2023-04-09T05:56:21.507Z"
   },
   {
    "duration": 425,
    "start_time": "2023-04-09T05:56:21.535Z"
   },
   {
    "duration": 43,
    "start_time": "2023-04-09T05:56:21.962Z"
   },
   {
    "duration": 490,
    "start_time": "2023-04-09T05:56:22.007Z"
   },
   {
    "duration": 20,
    "start_time": "2023-04-09T05:56:22.505Z"
   },
   {
    "duration": 196,
    "start_time": "2023-04-09T05:56:22.533Z"
   },
   {
    "duration": 4,
    "start_time": "2023-04-09T05:56:22.731Z"
   },
   {
    "duration": 157,
    "start_time": "2023-04-09T05:56:22.737Z"
   },
   {
    "duration": 162,
    "start_time": "2023-04-09T05:56:22.895Z"
   },
   {
    "duration": 5,
    "start_time": "2023-04-09T05:56:23.059Z"
   },
   {
    "duration": 82,
    "start_time": "2023-04-09T05:56:23.066Z"
   },
   {
    "duration": 16,
    "start_time": "2023-04-09T05:56:23.150Z"
   },
   {
    "duration": 16,
    "start_time": "2023-04-09T05:56:23.168Z"
   },
   {
    "duration": 81,
    "start_time": "2023-04-09T05:56:23.186Z"
   },
   {
    "duration": 14,
    "start_time": "2023-04-09T05:56:23.269Z"
   },
   {
    "duration": 94,
    "start_time": "2023-04-09T05:56:23.292Z"
   },
   {
    "duration": 44,
    "start_time": "2023-04-09T05:56:23.388Z"
   },
   {
    "duration": 9,
    "start_time": "2023-04-09T05:56:23.434Z"
   },
   {
    "duration": 13,
    "start_time": "2023-04-09T05:56:23.445Z"
   },
   {
    "duration": 11,
    "start_time": "2023-04-09T05:56:23.460Z"
   },
   {
    "duration": 79,
    "start_time": "2023-04-09T05:56:23.472Z"
   },
   {
    "duration": 57,
    "start_time": "2023-04-09T05:56:23.553Z"
   },
   {
    "duration": 77,
    "start_time": "2023-04-09T05:56:23.611Z"
   },
   {
    "duration": 27,
    "start_time": "2023-04-09T05:56:23.690Z"
   },
   {
    "duration": 23,
    "start_time": "2023-04-09T05:56:23.719Z"
   },
   {
    "duration": 15,
    "start_time": "2023-04-09T05:56:23.744Z"
   },
   {
    "duration": 18,
    "start_time": "2023-04-09T21:48:13.766Z"
   },
   {
    "duration": 17,
    "start_time": "2023-04-09T21:48:13.787Z"
   },
   {
    "duration": 1291,
    "start_time": "2023-04-09T21:48:13.806Z"
   },
   {
    "duration": 103,
    "start_time": "2023-04-09T21:48:15.099Z"
   },
   {
    "duration": 35,
    "start_time": "2023-04-09T21:48:15.204Z"
   },
   {
    "duration": 17,
    "start_time": "2023-04-09T21:48:15.240Z"
   },
   {
    "duration": 46,
    "start_time": "2023-04-09T21:48:15.259Z"
   },
   {
    "duration": 16,
    "start_time": "2023-04-09T21:48:15.306Z"
   },
   {
    "duration": 39,
    "start_time": "2023-04-09T21:48:15.324Z"
   },
   {
    "duration": 33,
    "start_time": "2023-04-09T21:48:15.365Z"
   },
   {
    "duration": 20,
    "start_time": "2023-04-09T21:48:15.400Z"
   },
   {
    "duration": 173,
    "start_time": "2023-04-09T21:48:15.421Z"
   },
   {
    "duration": 25,
    "start_time": "2023-04-09T21:48:15.596Z"
   },
   {
    "duration": 7,
    "start_time": "2023-04-09T21:48:15.624Z"
   },
   {
    "duration": 72,
    "start_time": "2023-04-09T21:48:15.633Z"
   },
   {
    "duration": 28,
    "start_time": "2023-04-09T21:48:15.706Z"
   },
   {
    "duration": 30,
    "start_time": "2023-04-09T21:48:15.736Z"
   },
   {
    "duration": 33,
    "start_time": "2023-04-09T21:48:15.768Z"
   },
   {
    "duration": 16,
    "start_time": "2023-04-09T21:48:15.803Z"
   },
   {
    "duration": 4,
    "start_time": "2023-04-09T21:48:15.821Z"
   },
   {
    "duration": 6,
    "start_time": "2023-04-09T21:48:15.826Z"
   },
   {
    "duration": 67,
    "start_time": "2023-04-09T21:48:15.833Z"
   },
   {
    "duration": 16,
    "start_time": "2023-04-09T21:48:15.903Z"
   },
   {
    "duration": 41,
    "start_time": "2023-04-09T21:48:15.921Z"
   },
   {
    "duration": 65,
    "start_time": "2023-04-09T21:48:15.965Z"
   },
   {
    "duration": 256,
    "start_time": "2023-04-09T21:48:16.032Z"
   },
   {
    "duration": 157,
    "start_time": "2023-04-09T21:48:16.290Z"
   },
   {
    "duration": 6,
    "start_time": "2023-04-09T21:48:16.450Z"
   },
   {
    "duration": 42,
    "start_time": "2023-04-09T21:48:16.459Z"
   },
   {
    "duration": 12,
    "start_time": "2023-04-09T21:48:16.503Z"
   },
   {
    "duration": 500,
    "start_time": "2023-04-09T21:48:16.516Z"
   },
   {
    "duration": 385,
    "start_time": "2023-04-09T21:48:17.017Z"
   },
   {
    "duration": 12,
    "start_time": "2023-04-09T21:48:17.404Z"
   },
   {
    "duration": 487,
    "start_time": "2023-04-09T21:48:17.418Z"
   },
   {
    "duration": 10,
    "start_time": "2023-04-09T21:48:17.907Z"
   },
   {
    "duration": 16,
    "start_time": "2023-04-09T21:48:17.919Z"
   },
   {
    "duration": 552,
    "start_time": "2023-04-09T21:48:17.942Z"
   },
   {
    "duration": 14,
    "start_time": "2023-04-09T21:48:18.495Z"
   },
   {
    "duration": 471,
    "start_time": "2023-04-09T21:48:18.511Z"
   },
   {
    "duration": 21,
    "start_time": "2023-04-09T21:48:18.984Z"
   },
   {
    "duration": 173,
    "start_time": "2023-04-09T21:48:19.009Z"
   },
   {
    "duration": 10,
    "start_time": "2023-04-09T21:48:19.183Z"
   },
   {
    "duration": 180,
    "start_time": "2023-04-09T21:48:19.198Z"
   },
   {
    "duration": 149,
    "start_time": "2023-04-09T21:48:19.390Z"
   },
   {
    "duration": 10,
    "start_time": "2023-04-09T21:48:19.542Z"
   },
   {
    "duration": 47,
    "start_time": "2023-04-09T21:48:19.556Z"
   },
   {
    "duration": 16,
    "start_time": "2023-04-09T21:48:19.604Z"
   },
   {
    "duration": 8,
    "start_time": "2023-04-09T21:48:19.621Z"
   },
   {
    "duration": 32,
    "start_time": "2023-04-09T21:48:19.631Z"
   },
   {
    "duration": 9,
    "start_time": "2023-04-09T21:48:19.666Z"
   },
   {
    "duration": 119,
    "start_time": "2023-04-09T21:48:19.677Z"
   },
   {
    "duration": 20,
    "start_time": "2023-04-09T21:48:19.798Z"
   },
   {
    "duration": 11,
    "start_time": "2023-04-09T21:48:19.820Z"
   },
   {
    "duration": 8,
    "start_time": "2023-04-09T21:48:19.832Z"
   },
   {
    "duration": 61,
    "start_time": "2023-04-09T21:48:19.844Z"
   },
   {
    "duration": 126,
    "start_time": "2023-04-09T21:48:19.907Z"
   },
   {
    "duration": 0,
    "start_time": "2023-04-09T21:48:20.035Z"
   },
   {
    "duration": 0,
    "start_time": "2023-04-09T21:48:20.036Z"
   },
   {
    "duration": 0,
    "start_time": "2023-04-09T21:48:20.038Z"
   },
   {
    "duration": 0,
    "start_time": "2023-04-09T21:48:20.039Z"
   },
   {
    "duration": 0,
    "start_time": "2023-04-09T21:48:20.040Z"
   },
   {
    "duration": 5,
    "start_time": "2023-04-09T21:48:52.811Z"
   },
   {
    "duration": 12,
    "start_time": "2023-04-09T21:48:52.818Z"
   },
   {
    "duration": 42,
    "start_time": "2023-04-09T21:48:52.832Z"
   },
   {
    "duration": 26,
    "start_time": "2023-04-09T21:48:52.880Z"
   },
   {
    "duration": 16,
    "start_time": "2023-04-09T21:48:52.908Z"
   },
   {
    "duration": 8,
    "start_time": "2023-04-09T21:48:52.926Z"
   }
  ],
  "kernelspec": {
   "display_name": "Python 3 (ipykernel)",
   "language": "python",
   "name": "python3"
  },
  "language_info": {
   "codemirror_mode": {
    "name": "ipython",
    "version": 3
   },
   "file_extension": ".py",
   "mimetype": "text/x-python",
   "name": "python",
   "nbconvert_exporter": "python",
   "pygments_lexer": "ipython3",
   "version": "3.9.13"
  },
  "toc": {
   "base_numbering": 1,
   "nav_menu": {},
   "number_sections": true,
   "sideBar": true,
   "skip_h1_title": true,
   "title_cell": "Table of Contents",
   "title_sidebar": "Contents",
   "toc_cell": true,
   "toc_position": {
    "height": "calc(100% - 180px)",
    "left": "10px",
    "top": "150px",
    "width": "338.542px"
   },
   "toc_section_display": true,
   "toc_window_display": true
  }
 },
 "nbformat": 4,
 "nbformat_minor": 5
}
