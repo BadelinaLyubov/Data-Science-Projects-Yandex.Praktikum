{
 "cells": [
  {
   "cell_type": "markdown",
   "id": "2c58a30e",
   "metadata": {},
   "source": [
    "# Содержание\n",
    "- [1. Загрузка данных и подготовка их к анализу](#1)\n",
    "    - [1.1 Загрузим и подготовим данные](#2)\n",
    "    - [1.2 Вывод по качеству данных](#3)\n",
    "- [2. Изучим и проверим данные](#4)\n",
    "    - [2.1  Изучим события](#5)\n",
    "    - [2.2  Определим временные границы](#6)\n",
    "    - [2.3  Проверим качество распределения пользователей и событий по группам](#7)\n",
    "    - [2.4  Вывод по проверке данных](#8)\n",
    "- [3  Изучим воронку событий](#9)\n",
    "    - [3.1  Анализ данных в разрезе отдельных событий](#10)\n",
    "    - [3.2  Воронка продажи](#11)\n",
    "- [4  Изучим результаты эксперимента](#12)\n",
    "    - [4.1  А/А эксперимент](#13)\n",
    "    - [4.2  Самое популярное событие во всех группах](#14)\n",
    "    - [4.3  А1/В эксперимент](#15)\n",
    "    - [4.4  А2/В эксперимент](#16)\n",
    "    - [4.5  А1+А2/В эксперимент](#17)\n",
    "    - [4.6  Вывод после попарных сравнений](#18)\n",
    "    - [4.7  Множественные сравнения](#19)\n",
    "- [5  Общий вывод](#20)"
   ]
  },
  {
   "cell_type": "markdown",
   "id": "4fd85bc2",
   "metadata": {},
   "source": [
    "# Исследование поведения пользователей в мобильном приложении и анализ результатов А/А/В-эксперимента\n",
    "\n",
    "Цель - разобраться в поведении пользователей нашего мобильного приложения по продажам продуктов питания. После исследовать результаты А/А/В эксперимента по изменению шрифтов во всем приложении\n",
    "\n",
    "Задачи:\n",
    "- Подготовим данные к анализу и изучим их\n",
    "- Изучим воронку продаж - узнаем как пользователи доходят до покупки, сколько пользователей доходит, а сколько \"застревает\" и на каких этапах\n",
    "- Изучим данные А/А/В теста на наличие ошибок и не качественных данных и интерпретируем результаты эксперимента"
   ]
  },
  {
   "cell_type": "markdown",
   "id": "a1557b86",
   "metadata": {},
   "source": [
    "Перед началом работы, выведем все функции которые понадобятся нам для работы"
   ]
  },
  {
   "cell_type": "code",
   "execution_count": 1,
   "id": "8b110424",
   "metadata": {},
   "outputs": [],
   "source": [
    "#Определим функцию для вывода всей информации о данных в таблице\n",
    "def inf_data(df):\n",
    "    print('Первые 10 строк таблицы')\n",
    "    display(df.head(10))\n",
    "    pd.set_option('display.max_columns', None)\n",
    "    print('----------')\n",
    "    \n",
    "    print('Общая информация о таблице')\n",
    "    df.info()\n",
    "    print('----------')\n",
    "    \n",
    "    print('Выведем наименование колонок')\n",
    "    display(df.columns)\n",
    "    print('----------')\n",
    "    \n",
    "    print('Посмотрим на типы данных')\n",
    "    display(df.dtypes)\n",
    "    print('----------')\n",
    "    \n",
    "    print('Проверим присутствуют ли пропуски в данных')\n",
    "    display(df.isna().sum())\n",
    "    print('----------')\n",
    "    \n",
    "    if df.duplicated().sum() == 0:\n",
    "        print('Явных дубликатов нет')\n",
    "    else:\n",
    "        print('В наших данных {} записи являются дубликатами'.format(len(data[data.duplicated()])))\n",
    "        display(df[df.duplicated()].head())"
   ]
  },
  {
   "cell_type": "code",
   "execution_count": 2,
   "id": "a6fb1dba",
   "metadata": {},
   "outputs": [],
   "source": [
    "#Импортируем все необходимые библиотеки\n",
    "import pandas as pd\n",
    "import datetime as dt\n",
    "import numpy as np\n",
    "import matplotlib.pyplot as plt\n",
    "from scipy import stats as st\n",
    "import seaborn as sns\n",
    "from plotly import graph_objects as go\n",
    "import math as mth"
   ]
  },
  {
   "cell_type": "code",
   "execution_count": 3,
   "id": "829a9aee",
   "metadata": {},
   "outputs": [],
   "source": [
    "#Определим функцию настройки внешнего вида графиков\n",
    "def plt_view(xlabel, ylabel, title):\n",
    "    plt.xlabel(xlabel)\n",
    "    plt.ylabel(ylabel)\n",
    "    plt.title(title)\n",
    "    plt.show()"
   ]
  },
  {
   "cell_type": "markdown",
   "id": "1465cbd9",
   "metadata": {},
   "source": [
    "## Загрузка данных и подготовка их к анализу\n",
    "<a id='1'></a>"
   ]
  },
  {
   "cell_type": "markdown",
   "id": "bad6bf0b",
   "metadata": {},
   "source": [
    "### Загрузим и подготовим данные\n",
    "<a id='2'></a>"
   ]
  },
  {
   "cell_type": "code",
   "execution_count": 4,
   "id": "ced7dbbf",
   "metadata": {},
   "outputs": [],
   "source": [
    "#Откроем и изучим наши данные\n",
    "try:\n",
    "    data = pd.read_csv('logs_exp.csv', sep='\\t')\n",
    "except:\n",
    "    data = pd.read_csv('/datasets/logs_exp.csv', sep='\\t')"
   ]
  },
  {
   "cell_type": "code",
   "execution_count": 5,
   "id": "4609b3f9",
   "metadata": {},
   "outputs": [
    {
     "name": "stdout",
     "output_type": "stream",
     "text": [
      "Первые 10 строк таблицы\n"
     ]
    },
    {
     "data": {
      "text/html": [
       "<div>\n",
       "<style scoped>\n",
       "    .dataframe tbody tr th:only-of-type {\n",
       "        vertical-align: middle;\n",
       "    }\n",
       "\n",
       "    .dataframe tbody tr th {\n",
       "        vertical-align: top;\n",
       "    }\n",
       "\n",
       "    .dataframe thead th {\n",
       "        text-align: right;\n",
       "    }\n",
       "</style>\n",
       "<table border=\"1\" class=\"dataframe\">\n",
       "  <thead>\n",
       "    <tr style=\"text-align: right;\">\n",
       "      <th></th>\n",
       "      <th>EventName</th>\n",
       "      <th>DeviceIDHash</th>\n",
       "      <th>EventTimestamp</th>\n",
       "      <th>ExpId</th>\n",
       "    </tr>\n",
       "  </thead>\n",
       "  <tbody>\n",
       "    <tr>\n",
       "      <th>0</th>\n",
       "      <td>MainScreenAppear</td>\n",
       "      <td>4575588528974610257</td>\n",
       "      <td>1564029816</td>\n",
       "      <td>246</td>\n",
       "    </tr>\n",
       "    <tr>\n",
       "      <th>1</th>\n",
       "      <td>MainScreenAppear</td>\n",
       "      <td>7416695313311560658</td>\n",
       "      <td>1564053102</td>\n",
       "      <td>246</td>\n",
       "    </tr>\n",
       "    <tr>\n",
       "      <th>2</th>\n",
       "      <td>PaymentScreenSuccessful</td>\n",
       "      <td>3518123091307005509</td>\n",
       "      <td>1564054127</td>\n",
       "      <td>248</td>\n",
       "    </tr>\n",
       "    <tr>\n",
       "      <th>3</th>\n",
       "      <td>CartScreenAppear</td>\n",
       "      <td>3518123091307005509</td>\n",
       "      <td>1564054127</td>\n",
       "      <td>248</td>\n",
       "    </tr>\n",
       "    <tr>\n",
       "      <th>4</th>\n",
       "      <td>PaymentScreenSuccessful</td>\n",
       "      <td>6217807653094995999</td>\n",
       "      <td>1564055322</td>\n",
       "      <td>248</td>\n",
       "    </tr>\n",
       "    <tr>\n",
       "      <th>5</th>\n",
       "      <td>CartScreenAppear</td>\n",
       "      <td>6217807653094995999</td>\n",
       "      <td>1564055323</td>\n",
       "      <td>248</td>\n",
       "    </tr>\n",
       "    <tr>\n",
       "      <th>6</th>\n",
       "      <td>OffersScreenAppear</td>\n",
       "      <td>8351860793733343758</td>\n",
       "      <td>1564066242</td>\n",
       "      <td>246</td>\n",
       "    </tr>\n",
       "    <tr>\n",
       "      <th>7</th>\n",
       "      <td>MainScreenAppear</td>\n",
       "      <td>5682100281902512875</td>\n",
       "      <td>1564085677</td>\n",
       "      <td>246</td>\n",
       "    </tr>\n",
       "    <tr>\n",
       "      <th>8</th>\n",
       "      <td>MainScreenAppear</td>\n",
       "      <td>1850981295691852772</td>\n",
       "      <td>1564086702</td>\n",
       "      <td>247</td>\n",
       "    </tr>\n",
       "    <tr>\n",
       "      <th>9</th>\n",
       "      <td>MainScreenAppear</td>\n",
       "      <td>5407636962369102641</td>\n",
       "      <td>1564112112</td>\n",
       "      <td>246</td>\n",
       "    </tr>\n",
       "  </tbody>\n",
       "</table>\n",
       "</div>"
      ],
      "text/plain": [
       "                 EventName         DeviceIDHash  EventTimestamp  ExpId\n",
       "0         MainScreenAppear  4575588528974610257      1564029816    246\n",
       "1         MainScreenAppear  7416695313311560658      1564053102    246\n",
       "2  PaymentScreenSuccessful  3518123091307005509      1564054127    248\n",
       "3         CartScreenAppear  3518123091307005509      1564054127    248\n",
       "4  PaymentScreenSuccessful  6217807653094995999      1564055322    248\n",
       "5         CartScreenAppear  6217807653094995999      1564055323    248\n",
       "6       OffersScreenAppear  8351860793733343758      1564066242    246\n",
       "7         MainScreenAppear  5682100281902512875      1564085677    246\n",
       "8         MainScreenAppear  1850981295691852772      1564086702    247\n",
       "9         MainScreenAppear  5407636962369102641      1564112112    246"
      ]
     },
     "metadata": {},
     "output_type": "display_data"
    },
    {
     "name": "stdout",
     "output_type": "stream",
     "text": [
      "----------\n",
      "Общая информация о таблице\n",
      "<class 'pandas.core.frame.DataFrame'>\n",
      "RangeIndex: 244126 entries, 0 to 244125\n",
      "Data columns (total 4 columns):\n",
      " #   Column          Non-Null Count   Dtype \n",
      "---  ------          --------------   ----- \n",
      " 0   EventName       244126 non-null  object\n",
      " 1   DeviceIDHash    244126 non-null  int64 \n",
      " 2   EventTimestamp  244126 non-null  int64 \n",
      " 3   ExpId           244126 non-null  int64 \n",
      "dtypes: int64(3), object(1)\n",
      "memory usage: 7.5+ MB\n",
      "----------\n",
      "Выведем наименование колонок\n"
     ]
    },
    {
     "data": {
      "text/plain": [
       "Index(['EventName', 'DeviceIDHash', 'EventTimestamp', 'ExpId'], dtype='object')"
      ]
     },
     "metadata": {},
     "output_type": "display_data"
    },
    {
     "name": "stdout",
     "output_type": "stream",
     "text": [
      "----------\n",
      "Посмотрим на типы данных\n"
     ]
    },
    {
     "data": {
      "text/plain": [
       "EventName         object\n",
       "DeviceIDHash       int64\n",
       "EventTimestamp     int64\n",
       "ExpId              int64\n",
       "dtype: object"
      ]
     },
     "metadata": {},
     "output_type": "display_data"
    },
    {
     "name": "stdout",
     "output_type": "stream",
     "text": [
      "----------\n",
      "Проверим присутствуют ли пропуски в данных\n"
     ]
    },
    {
     "data": {
      "text/plain": [
       "EventName         0\n",
       "DeviceIDHash      0\n",
       "EventTimestamp    0\n",
       "ExpId             0\n",
       "dtype: int64"
      ]
     },
     "metadata": {},
     "output_type": "display_data"
    },
    {
     "name": "stdout",
     "output_type": "stream",
     "text": [
      "----------\n",
      "В наших данных 413 записи являются дубликатами\n"
     ]
    },
    {
     "data": {
      "text/html": [
       "<div>\n",
       "<style scoped>\n",
       "    .dataframe tbody tr th:only-of-type {\n",
       "        vertical-align: middle;\n",
       "    }\n",
       "\n",
       "    .dataframe tbody tr th {\n",
       "        vertical-align: top;\n",
       "    }\n",
       "\n",
       "    .dataframe thead th {\n",
       "        text-align: right;\n",
       "    }\n",
       "</style>\n",
       "<table border=\"1\" class=\"dataframe\">\n",
       "  <thead>\n",
       "    <tr style=\"text-align: right;\">\n",
       "      <th></th>\n",
       "      <th>EventName</th>\n",
       "      <th>DeviceIDHash</th>\n",
       "      <th>EventTimestamp</th>\n",
       "      <th>ExpId</th>\n",
       "    </tr>\n",
       "  </thead>\n",
       "  <tbody>\n",
       "    <tr>\n",
       "      <th>453</th>\n",
       "      <td>MainScreenAppear</td>\n",
       "      <td>5613408041324010552</td>\n",
       "      <td>1564474784</td>\n",
       "      <td>248</td>\n",
       "    </tr>\n",
       "    <tr>\n",
       "      <th>2350</th>\n",
       "      <td>CartScreenAppear</td>\n",
       "      <td>1694940645335807244</td>\n",
       "      <td>1564609899</td>\n",
       "      <td>248</td>\n",
       "    </tr>\n",
       "    <tr>\n",
       "      <th>3573</th>\n",
       "      <td>MainScreenAppear</td>\n",
       "      <td>434103746454591587</td>\n",
       "      <td>1564628377</td>\n",
       "      <td>248</td>\n",
       "    </tr>\n",
       "    <tr>\n",
       "      <th>4076</th>\n",
       "      <td>MainScreenAppear</td>\n",
       "      <td>3761373764179762633</td>\n",
       "      <td>1564631266</td>\n",
       "      <td>247</td>\n",
       "    </tr>\n",
       "    <tr>\n",
       "      <th>4803</th>\n",
       "      <td>MainScreenAppear</td>\n",
       "      <td>2835328739789306622</td>\n",
       "      <td>1564634641</td>\n",
       "      <td>248</td>\n",
       "    </tr>\n",
       "  </tbody>\n",
       "</table>\n",
       "</div>"
      ],
      "text/plain": [
       "             EventName         DeviceIDHash  EventTimestamp  ExpId\n",
       "453   MainScreenAppear  5613408041324010552      1564474784    248\n",
       "2350  CartScreenAppear  1694940645335807244      1564609899    248\n",
       "3573  MainScreenAppear   434103746454591587      1564628377    248\n",
       "4076  MainScreenAppear  3761373764179762633      1564631266    247\n",
       "4803  MainScreenAppear  2835328739789306622      1564634641    248"
      ]
     },
     "metadata": {},
     "output_type": "display_data"
    }
   ],
   "source": [
    "inf_data(data)"
   ]
  },
  {
   "cell_type": "markdown",
   "id": "dd0ed301",
   "metadata": {},
   "source": [
    "В таблице собраны данные о событиях совершенных пользователями мобильного приложения о продаже продуктов питания:\n",
    "- название события\n",
    "- идентификатор пользователя\n",
    "- время совершения события\n",
    "- информация к какой группе относится пользователь - 246 и 247 - контрольная группа, а 248 - экспериментальная, которой показывалось приложение с полностью измененными шрифтами."
   ]
  },
  {
   "cell_type": "markdown",
   "id": "e4d40458",
   "metadata": {},
   "source": [
    "Что необходимо исправить в данных:\n",
    "- Сразу бросается в глаза неудачное наименование колонок.\n",
    "- В колонке со временем совершения события не верный тип данных и поэтому не верный вывод значений.\n",
    "\n",
    "В данных нет пропусков, однако присутствуют явные дубликаты. Так как не может быть такого, чтобы один и тот же человек в одно и то же время совершил одно и то же событие - от дублирующих строк нужно избавится, чтобы они не искажали наши результаты. Сначала удалим дубликаты, а после будем исправлять данные"
   ]
  },
  {
   "cell_type": "code",
   "execution_count": 6,
   "id": "1976b19d",
   "metadata": {
    "scrolled": true
   },
   "outputs": [
    {
     "name": "stdout",
     "output_type": "stream",
     "text": [
      "Процент потери данных при удалении дубликатов 0.17%\n"
     ]
    }
   ],
   "source": [
    "#Перед удалением посмотрим процент потери в данных\n",
    "print('Процент потери данных при удалении дубликатов {0:.2%}'.format(len(data[data.duplicated()])/len(data)))"
   ]
  },
  {
   "cell_type": "code",
   "execution_count": 7,
   "id": "0e85ed38",
   "metadata": {},
   "outputs": [],
   "source": [
    "#Сохраним изначальный размер нашей таблицы\n",
    "#для дальнейшего понимания общих потерь данных\n",
    "data_orig_size = len(data)"
   ]
  },
  {
   "cell_type": "markdown",
   "id": "f0d7442f",
   "metadata": {},
   "source": [
    "Так как процент потери максимально низкий спокойно удаляем дублирующие строки"
   ]
  },
  {
   "cell_type": "code",
   "execution_count": 8,
   "id": "23c84605",
   "metadata": {},
   "outputs": [
    {
     "data": {
      "text/plain": [
       "0"
      ]
     },
     "execution_count": 8,
     "metadata": {},
     "output_type": "execute_result"
    }
   ],
   "source": [
    "data = data.drop_duplicates().reset_index(drop=True)\n",
    "data.duplicated().sum()"
   ]
  },
  {
   "cell_type": "markdown",
   "id": "639e659c",
   "metadata": {},
   "source": [
    "Наши данные готовы для дальнейших изменений"
   ]
  },
  {
   "cell_type": "code",
   "execution_count": 9,
   "id": "f4556152",
   "metadata": {},
   "outputs": [
    {
     "data": {
      "text/plain": [
       "Index(['event_name', 'user_id', 'event_timestamp', 'exp_id'], dtype='object')"
      ]
     },
     "execution_count": 9,
     "metadata": {},
     "output_type": "execute_result"
    }
   ],
   "source": [
    "#Корректируем наименование столбцов\n",
    "data.columns = ['event_name', 'user_id', 'event_timestamp', 'exp_id']\n",
    "data.columns"
   ]
  },
  {
   "cell_type": "code",
   "execution_count": 10,
   "id": "26638ee3",
   "metadata": {},
   "outputs": [
    {
     "data": {
      "text/plain": [
       "event_name                 object\n",
       "user_id                     int64\n",
       "event_timestamp    datetime64[ns]\n",
       "exp_id                      int64\n",
       "dtype: object"
      ]
     },
     "execution_count": 10,
     "metadata": {},
     "output_type": "execute_result"
    }
   ],
   "source": [
    "#Корректируем тип данных даты совершения события\n",
    "data['event_timestamp'] = pd.to_datetime(data['event_timestamp'], unit='s')\n",
    "data.dtypes"
   ]
  },
  {
   "cell_type": "code",
   "execution_count": 11,
   "id": "419ce497",
   "metadata": {
    "scrolled": true
   },
   "outputs": [
    {
     "data": {
      "text/html": [
       "<div>\n",
       "<style scoped>\n",
       "    .dataframe tbody tr th:only-of-type {\n",
       "        vertical-align: middle;\n",
       "    }\n",
       "\n",
       "    .dataframe tbody tr th {\n",
       "        vertical-align: top;\n",
       "    }\n",
       "\n",
       "    .dataframe thead th {\n",
       "        text-align: right;\n",
       "    }\n",
       "</style>\n",
       "<table border=\"1\" class=\"dataframe\">\n",
       "  <thead>\n",
       "    <tr style=\"text-align: right;\">\n",
       "      <th></th>\n",
       "      <th>event_name</th>\n",
       "      <th>user_id</th>\n",
       "      <th>event_timestamp</th>\n",
       "      <th>exp_id</th>\n",
       "    </tr>\n",
       "  </thead>\n",
       "  <tbody>\n",
       "    <tr>\n",
       "      <th>0</th>\n",
       "      <td>MainScreenAppear</td>\n",
       "      <td>4575588528974610257</td>\n",
       "      <td>2019-07-25 04:43:36</td>\n",
       "      <td>246</td>\n",
       "    </tr>\n",
       "    <tr>\n",
       "      <th>1</th>\n",
       "      <td>MainScreenAppear</td>\n",
       "      <td>7416695313311560658</td>\n",
       "      <td>2019-07-25 11:11:42</td>\n",
       "      <td>246</td>\n",
       "    </tr>\n",
       "    <tr>\n",
       "      <th>2</th>\n",
       "      <td>PaymentScreenSuccessful</td>\n",
       "      <td>3518123091307005509</td>\n",
       "      <td>2019-07-25 11:28:47</td>\n",
       "      <td>248</td>\n",
       "    </tr>\n",
       "    <tr>\n",
       "      <th>3</th>\n",
       "      <td>CartScreenAppear</td>\n",
       "      <td>3518123091307005509</td>\n",
       "      <td>2019-07-25 11:28:47</td>\n",
       "      <td>248</td>\n",
       "    </tr>\n",
       "    <tr>\n",
       "      <th>4</th>\n",
       "      <td>PaymentScreenSuccessful</td>\n",
       "      <td>6217807653094995999</td>\n",
       "      <td>2019-07-25 11:48:42</td>\n",
       "      <td>248</td>\n",
       "    </tr>\n",
       "  </tbody>\n",
       "</table>\n",
       "</div>"
      ],
      "text/plain": [
       "                event_name              user_id     event_timestamp  exp_id\n",
       "0         MainScreenAppear  4575588528974610257 2019-07-25 04:43:36     246\n",
       "1         MainScreenAppear  7416695313311560658 2019-07-25 11:11:42     246\n",
       "2  PaymentScreenSuccessful  3518123091307005509 2019-07-25 11:28:47     248\n",
       "3         CartScreenAppear  3518123091307005509 2019-07-25 11:28:47     248\n",
       "4  PaymentScreenSuccessful  6217807653094995999 2019-07-25 11:48:42     248"
      ]
     },
     "execution_count": 11,
     "metadata": {},
     "output_type": "execute_result"
    }
   ],
   "source": [
    "#Тип поменялся, теперь посмотрим как выводится значение времени\n",
    "data.head()"
   ]
  },
  {
   "cell_type": "markdown",
   "id": "585217a6",
   "metadata": {},
   "source": [
    "Так как нам даны полные значения времени совершения события - и дата и время - то дополнительно выделим значения только дня совершения события"
   ]
  },
  {
   "cell_type": "code",
   "execution_count": 12,
   "id": "72a59cb3",
   "metadata": {},
   "outputs": [
    {
     "data": {
      "text/html": [
       "<div>\n",
       "<style scoped>\n",
       "    .dataframe tbody tr th:only-of-type {\n",
       "        vertical-align: middle;\n",
       "    }\n",
       "\n",
       "    .dataframe tbody tr th {\n",
       "        vertical-align: top;\n",
       "    }\n",
       "\n",
       "    .dataframe thead th {\n",
       "        text-align: right;\n",
       "    }\n",
       "</style>\n",
       "<table border=\"1\" class=\"dataframe\">\n",
       "  <thead>\n",
       "    <tr style=\"text-align: right;\">\n",
       "      <th></th>\n",
       "      <th>event_name</th>\n",
       "      <th>user_id</th>\n",
       "      <th>event_timestamp</th>\n",
       "      <th>exp_id</th>\n",
       "      <th>event_date</th>\n",
       "    </tr>\n",
       "  </thead>\n",
       "  <tbody>\n",
       "    <tr>\n",
       "      <th>0</th>\n",
       "      <td>MainScreenAppear</td>\n",
       "      <td>4575588528974610257</td>\n",
       "      <td>2019-07-25 04:43:36</td>\n",
       "      <td>246</td>\n",
       "      <td>2019-07-25</td>\n",
       "    </tr>\n",
       "    <tr>\n",
       "      <th>1</th>\n",
       "      <td>MainScreenAppear</td>\n",
       "      <td>7416695313311560658</td>\n",
       "      <td>2019-07-25 11:11:42</td>\n",
       "      <td>246</td>\n",
       "      <td>2019-07-25</td>\n",
       "    </tr>\n",
       "    <tr>\n",
       "      <th>2</th>\n",
       "      <td>PaymentScreenSuccessful</td>\n",
       "      <td>3518123091307005509</td>\n",
       "      <td>2019-07-25 11:28:47</td>\n",
       "      <td>248</td>\n",
       "      <td>2019-07-25</td>\n",
       "    </tr>\n",
       "    <tr>\n",
       "      <th>3</th>\n",
       "      <td>CartScreenAppear</td>\n",
       "      <td>3518123091307005509</td>\n",
       "      <td>2019-07-25 11:28:47</td>\n",
       "      <td>248</td>\n",
       "      <td>2019-07-25</td>\n",
       "    </tr>\n",
       "    <tr>\n",
       "      <th>4</th>\n",
       "      <td>PaymentScreenSuccessful</td>\n",
       "      <td>6217807653094995999</td>\n",
       "      <td>2019-07-25 11:48:42</td>\n",
       "      <td>248</td>\n",
       "      <td>2019-07-25</td>\n",
       "    </tr>\n",
       "  </tbody>\n",
       "</table>\n",
       "</div>"
      ],
      "text/plain": [
       "                event_name              user_id     event_timestamp  exp_id  \\\n",
       "0         MainScreenAppear  4575588528974610257 2019-07-25 04:43:36     246   \n",
       "1         MainScreenAppear  7416695313311560658 2019-07-25 11:11:42     246   \n",
       "2  PaymentScreenSuccessful  3518123091307005509 2019-07-25 11:28:47     248   \n",
       "3         CartScreenAppear  3518123091307005509 2019-07-25 11:28:47     248   \n",
       "4  PaymentScreenSuccessful  6217807653094995999 2019-07-25 11:48:42     248   \n",
       "\n",
       "   event_date  \n",
       "0  2019-07-25  \n",
       "1  2019-07-25  \n",
       "2  2019-07-25  \n",
       "3  2019-07-25  \n",
       "4  2019-07-25  "
      ]
     },
     "execution_count": 12,
     "metadata": {},
     "output_type": "execute_result"
    }
   ],
   "source": [
    "data['event_date'] = data['event_timestamp'].dt.strftime('%Y-%m-%d')\n",
    "data.head()"
   ]
  },
  {
   "cell_type": "markdown",
   "id": "1d40bb41",
   "metadata": {},
   "source": [
    "### Вывод по качеству данных\n",
    "<a id='3'></a>"
   ]
  },
  {
   "cell_type": "markdown",
   "id": "e43af680",
   "metadata": {},
   "source": [
    "При общем изучении данных нашли 413 дублирующих строк, которые были удалены. Также нами были переименованы столбцы и значения даты совершения события были приведены к верному типу и виду. И выделили в отдельный столбец непосредственно день совершения события.\n",
    "\n",
    "Наши данные подготовлены к дальнейшему изучению"
   ]
  },
  {
   "cell_type": "markdown",
   "id": "8899b601",
   "metadata": {},
   "source": [
    "## Изучим и проверим данные\n",
    "<a id='4'></a>"
   ]
  },
  {
   "cell_type": "markdown",
   "id": "d2f68936",
   "metadata": {},
   "source": [
    "### Изучим события\n",
    "<a id='5'></a>"
   ]
  },
  {
   "cell_type": "markdown",
   "id": "b8c11f8f",
   "metadata": {},
   "source": [
    "Посмотрим общие данные о событиях:\n",
    "- общее количество событий,\n",
    "- общее количество пользователей,\n",
    "- а также сколько в среднем событий приходится на пользователя"
   ]
  },
  {
   "cell_type": "code",
   "execution_count": 13,
   "id": "693585f0",
   "metadata": {
    "scrolled": false
   },
   "outputs": [
    {
     "name": "stdout",
     "output_type": "stream",
     "text": [
      "Общее количество событий в логе - 243713\n",
      "\n",
      "Общее количество пользователей в логе - 7551\n",
      "\n",
      "На одного пользователя в среднем приходится 32 события\n"
     ]
    }
   ],
   "source": [
    "print(\n",
    "    'Общее количество событий в логе - {}'\n",
    "      .format(data['event_name'].count())\n",
    ")\n",
    "print()\n",
    "print(\n",
    "    'Общее количество пользователей в логе - {}'\n",
    "      .format(data['user_id'].nunique())\n",
    ")\n",
    "print()\n",
    "print(\n",
    "    'На одного пользователя в среднем приходится {0:.0f} события'\n",
    "    .format(data['event_name'].count()/data['user_id'].nunique())\n",
    ")"
   ]
  },
  {
   "cell_type": "markdown",
   "id": "e905d676",
   "metadata": {},
   "source": [
    "### Определим временные границы\n",
    "<a id='6'></a>"
   ]
  },
  {
   "cell_type": "code",
   "execution_count": 14,
   "id": "e1f696ae",
   "metadata": {},
   "outputs": [
    {
     "name": "stdout",
     "output_type": "stream",
     "text": [
      "Начало сбора данных - 2019-07-25 04:43:36, окончание - 2019-08-07 21:15:17\n"
     ]
    }
   ],
   "source": [
    "#Найдем временные рамки сбора данных\n",
    "print('Начало сбора данных - {}, окончание - {}'\n",
    "      .format(data['event_timestamp'].min(), data['event_timestamp'].max()))"
   ]
  },
  {
   "cell_type": "markdown",
   "id": "106227de",
   "metadata": {},
   "source": [
    "Теперь мы знаем, что самое первое событие зафиксировалось 25 июля 2019 года в 4:43 утра, а самое последнее - 7 августа 2019 года в 21:15 вечера.\n",
    "Посмотрим на распределение фиксирования событий во всем диапазоне времени"
   ]
  },
  {
   "cell_type": "code",
   "execution_count": 15,
   "id": "0987296e",
   "metadata": {
    "scrolled": false
   },
   "outputs": [
    {
     "data": {
      "image/png": "[encoded data removed]",
      "text/plain": [
       "<Figure size 1500x400 with 1 Axes>"
      ]
     },
     "metadata": {},
     "output_type": "display_data"
    }
   ],
   "source": [
    "plt.figure(figsize=(15, 4))\n",
    "sns.countplot(x=data['event_date'], hue='event_name', data=data)\n",
    "plt.xticks(rotation=90)\n",
    "plt_view('Время совершения события',\n",
    "         'Количество событий', \n",
    "         'Количество событий по всему диапазону времени')"
   ]
  },
  {
   "cell_type": "markdown",
   "id": "c213da23",
   "metadata": {},
   "source": [
    "Видим большую разницу в значениях после 1 августа 2019 года. Посмотрим на распределение значений до этой даты"
   ]
  },
  {
   "cell_type": "code",
   "execution_count": 16,
   "id": "35523ca3",
   "metadata": {},
   "outputs": [
    {
     "data": {
      "image/png": "[encoded data removed]",
      "text/plain": [
       "<Figure size 1500x400 with 1 Axes>"
      ]
     },
     "metadata": {},
     "output_type": "display_data"
    }
   ],
   "source": [
    "plt.figure(figsize=(15, 4))\n",
    "sns.countplot(x=data.query('event_timestamp < \"2019-08-01\"')['event_date'], hue='event_name', data=data)\n",
    "plt.xticks(rotation=90)\n",
    "plt_view('Время совершения события',\n",
    "         'Количество событий', \n",
    "         'Количество событий до 01-08-2019')"
   ]
  },
  {
   "cell_type": "markdown",
   "id": "247caf68",
   "metadata": {},
   "source": [
    "Хоть и данные начали собирать с 25 июля 2019 года, данные по всем событиям полностью начали поступать примерно с 31 июля 2019 года. Скорее всего первые 6 дней происходил \"закуп\" пользователей, либо тестирование сбора данных. Найдем примерное время начала полного сбора данных 31 июля."
   ]
  },
  {
   "cell_type": "code",
   "execution_count": 17,
   "id": "98b3c3d1",
   "metadata": {
    "scrolled": false
   },
   "outputs": [
    {
     "data": {
      "text/plain": [
       "<AxesSubplot:>"
      ]
     },
     "execution_count": 17,
     "metadata": {},
     "output_type": "execute_result"
    },
    {
     "data": {
      "image/png": "[encoded data removed]",
      "text/plain": [
       "<Figure size 2000x500 with 1 Axes>"
      ]
     },
     "metadata": {},
     "output_type": "display_data"
    }
   ],
   "source": [
    "data.query('\"2019-07-31\" < event_timestamp < \"2019-08-01\"')['event_timestamp'].hist(bins=14*24, figsize=(20,5))"
   ]
  },
  {
   "cell_type": "markdown",
   "id": "8effb6be",
   "metadata": {},
   "source": [
    "И тут мы видим резкий скачек в поступлении данных примерно с 21:00 31 июля 2019 года. Посмотрим на долю событий совершенных до этого времени"
   ]
  },
  {
   "cell_type": "code",
   "execution_count": 18,
   "id": "6f3fe647",
   "metadata": {
    "scrolled": true
   },
   "outputs": [
    {
     "name": "stdout",
     "output_type": "stream",
     "text": [
      "Доля событий до 21:00 31 июля 2019 года - 0.82%\n"
     ]
    }
   ],
   "source": [
    "print('Доля событий до 21:00 31 июля 2019 года - {0:.2%}'\n",
    "      .format(len(data.query('event_timestamp < \"2019-07-31 21:00:00\"')) / len(data)))"
   ]
  },
  {
   "cell_type": "markdown",
   "id": "5d721273",
   "metadata": {},
   "source": [
    "До 31.07.2019 происходил сбор не полных данных и доля этих данных ничтожно мала (всего 0,82%). Однако необходимо еще оценить долю потерь отдельно по каждому событию и по уникальным пользователям"
   ]
  },
  {
   "cell_type": "code",
   "execution_count": 19,
   "id": "218d2b00",
   "metadata": {
    "scrolled": true
   },
   "outputs": [
    {
     "data": {
      "text/html": [
       "<div>\n",
       "<style scoped>\n",
       "    .dataframe tbody tr th:only-of-type {\n",
       "        vertical-align: middle;\n",
       "    }\n",
       "\n",
       "    .dataframe tbody tr th {\n",
       "        vertical-align: top;\n",
       "    }\n",
       "\n",
       "    .dataframe thead th {\n",
       "        text-align: right;\n",
       "    }\n",
       "</style>\n",
       "<table border=\"1\" class=\"dataframe\">\n",
       "  <thead>\n",
       "    <tr style=\"text-align: right;\">\n",
       "      <th></th>\n",
       "      <th>user_id</th>\n",
       "      <th>perc</th>\n",
       "    </tr>\n",
       "    <tr>\n",
       "      <th>event_name</th>\n",
       "      <th></th>\n",
       "      <th></th>\n",
       "    </tr>\n",
       "  </thead>\n",
       "  <tbody>\n",
       "    <tr>\n",
       "      <th>CartScreenAppear</th>\n",
       "      <td>325</td>\n",
       "      <td>0.761695</td>\n",
       "    </tr>\n",
       "    <tr>\n",
       "      <th>MainScreenAppear</th>\n",
       "      <td>1212</td>\n",
       "      <td>1.017624</td>\n",
       "    </tr>\n",
       "    <tr>\n",
       "      <th>OffersScreenAppear</th>\n",
       "      <td>277</td>\n",
       "      <td>0.591779</td>\n",
       "    </tr>\n",
       "    <tr>\n",
       "      <th>PaymentScreenSuccessful</th>\n",
       "      <td>167</td>\n",
       "      <td>0.489478</td>\n",
       "    </tr>\n",
       "    <tr>\n",
       "      <th>Tutorial</th>\n",
       "      <td>8</td>\n",
       "      <td>0.785855</td>\n",
       "    </tr>\n",
       "  </tbody>\n",
       "</table>\n",
       "</div>"
      ],
      "text/plain": [
       "                         user_id      perc\n",
       "event_name                                \n",
       "CartScreenAppear             325  0.761695\n",
       "MainScreenAppear            1212  1.017624\n",
       "OffersScreenAppear           277  0.591779\n",
       "PaymentScreenSuccessful      167  0.489478\n",
       "Tutorial                       8  0.785855"
      ]
     },
     "execution_count": 19,
     "metadata": {},
     "output_type": "execute_result"
    }
   ],
   "source": [
    "#Посмотрим на долю потерь данных относительно каждого события\n",
    "df = data.query('event_timestamp < \"2019-07-31 21:00:00\"').groupby('event_name').agg({'user_id':'count'})\n",
    "df['perc'] = df['user_id']/data.groupby('event_name').agg({'user_id':'count'})['user_id']*100\n",
    "df"
   ]
  },
  {
   "cell_type": "code",
   "execution_count": 20,
   "id": "5c263d80",
   "metadata": {},
   "outputs": [
    {
     "name": "stdout",
     "output_type": "stream",
     "text": [
      "Доля уникальных пользователей до 31 июля 2019 года - 0.54%\n"
     ]
    }
   ],
   "source": [
    "#Доля потерь уникальных пользователей\n",
    "print('Доля уникальных пользователей до 31 июля 2019 года - {0:.2%}'\n",
    "      .format(data.query('event_timestamp < \"2019-07-31 21:00:00\"')['user_id'].nunique()/len(data)))"
   ]
  },
  {
   "cell_type": "markdown",
   "id": "ca443aac",
   "metadata": {},
   "source": [
    "При удалении данных собранных до 31.07.2019 в каждом событии мы теряем от 0,49 до 1.02 % данных, а также всего 0,54% уникальных пользователей. Все эти потери не более 1%, соотвественно мы можем не использовать данные за этот период, а полагаться лишь на полные данные."
   ]
  },
  {
   "cell_type": "code",
   "execution_count": 21,
   "id": "40ba06cc",
   "metadata": {},
   "outputs": [],
   "source": [
    "data_good = data.query('event_timestamp >= \"2019-07-31 21:00:00\"').reset_index(drop=True)"
   ]
  },
  {
   "cell_type": "code",
   "execution_count": 22,
   "id": "aeee0f40",
   "metadata": {},
   "outputs": [
    {
     "name": "stdout",
     "output_type": "stream",
     "text": [
      "Начало сбора данных - 2019-07-31 21:00:57, окончание - 2019-08-07 21:15:17\n"
     ]
    }
   ],
   "source": [
    "#Найдем актуальные временные рамки анализируемых данных\n",
    "print('Начало сбора данных - {}, окончание - {}'\n",
    "      .format(data_good['event_timestamp'].min(), data_good['event_timestamp'].max()))"
   ]
  },
  {
   "cell_type": "markdown",
   "id": "759c45b9",
   "metadata": {},
   "source": [
    "Теперь границы нашего временного диапазона с 21:00 31 июля 2019 по 7 августа 2019 гг."
   ]
  },
  {
   "cell_type": "markdown",
   "id": "fecba9ce",
   "metadata": {},
   "source": [
    "### Проверим качество распределения пользователей и событий по группам\n",
    "<a id='7'></a>"
   ]
  },
  {
   "cell_type": "code",
   "execution_count": 23,
   "id": "2d59d255",
   "metadata": {
    "scrolled": true
   },
   "outputs": [
    {
     "data": {
      "text/html": [
       "<div>\n",
       "<style scoped>\n",
       "    .dataframe tbody tr th:only-of-type {\n",
       "        vertical-align: middle;\n",
       "    }\n",
       "\n",
       "    .dataframe tbody tr th {\n",
       "        vertical-align: top;\n",
       "    }\n",
       "\n",
       "    .dataframe thead th {\n",
       "        text-align: right;\n",
       "    }\n",
       "</style>\n",
       "<table border=\"1\" class=\"dataframe\">\n",
       "  <thead>\n",
       "    <tr style=\"text-align: right;\">\n",
       "      <th></th>\n",
       "      <th>count_event</th>\n",
       "      <th>count_user</th>\n",
       "      <th>perc_event</th>\n",
       "      <th>perc_user</th>\n",
       "    </tr>\n",
       "    <tr>\n",
       "      <th>exp_id</th>\n",
       "      <th></th>\n",
       "      <th></th>\n",
       "      <th></th>\n",
       "      <th></th>\n",
       "    </tr>\n",
       "  </thead>\n",
       "  <tbody>\n",
       "    <tr>\n",
       "      <th>246</th>\n",
       "      <td>79556</td>\n",
       "      <td>2484</td>\n",
       "      <td>32.91</td>\n",
       "      <td>32.95</td>\n",
       "    </tr>\n",
       "    <tr>\n",
       "      <th>247</th>\n",
       "      <td>77293</td>\n",
       "      <td>2517</td>\n",
       "      <td>31.98</td>\n",
       "      <td>33.39</td>\n",
       "    </tr>\n",
       "    <tr>\n",
       "      <th>248</th>\n",
       "      <td>84875</td>\n",
       "      <td>2537</td>\n",
       "      <td>35.11</td>\n",
       "      <td>33.66</td>\n",
       "    </tr>\n",
       "  </tbody>\n",
       "</table>\n",
       "</div>"
      ],
      "text/plain": [
       "        count_event  count_user  perc_event  perc_user\n",
       "exp_id                                                \n",
       "246           79556        2484       32.91      32.95\n",
       "247           77293        2517       31.98      33.39\n",
       "248           84875        2537       35.11      33.66"
      ]
     },
     "execution_count": 23,
     "metadata": {},
     "output_type": "execute_result"
    }
   ],
   "source": [
    "exp_user = data_good.groupby('exp_id').agg({'user_id':['count', 'nunique']})\n",
    "exp_user.columns = ['count_event', 'count_user']\n",
    "exp_user['perc_event'] = round(exp_user['count_event'] / exp_user['count_event'].sum()*100, 2)\n",
    "exp_user['perc_user'] = round(exp_user['count_user'] / exp_user['count_user'].sum()*100, 2)\n",
    "exp_user"
   ]
  },
  {
   "cell_type": "markdown",
   "id": "c4dc795e",
   "metadata": {},
   "source": [
    "Мы видим, что в каждой группе (и контрольных и эксприментальной) присутствуют примерно равное количество пользователей (в контрольных около 33%, в экспериментальной - около 34%) и даже событий (в контрольных группах 32-33% событий, в экспериментальтной - около 35%)."
   ]
  },
  {
   "cell_type": "markdown",
   "id": "28c49cc6",
   "metadata": {},
   "source": [
    "### Вывод по проверке данных\n",
    "<a id='8'></a>"
   ]
  },
  {
   "cell_type": "markdown",
   "id": "ac03ae41",
   "metadata": {},
   "source": [
    "В процессе проверки данных мы выяснили, что нам подходит для анализа не весь представленный изначально диапазон времени (итоговый диапазон времени - с 31 июля 2019 по 07 августа 2019). Поэтому итоговая таблица немного сократилась. Оценим полные потери в данных"
   ]
  },
  {
   "cell_type": "code",
   "execution_count": 24,
   "id": "b7e08760",
   "metadata": {
    "scrolled": true
   },
   "outputs": [
    {
     "name": "stdout",
     "output_type": "stream",
     "text": [
      "Процент потери данных после всех изменений - 0.98%\n"
     ]
    }
   ],
   "source": [
    "print('Процент потери данных после всех изменений - {0:.2%}'\n",
    "     .format(1 - len(data_good) / data_orig_size))"
   ]
  },
  {
   "cell_type": "markdown",
   "id": "f2198891",
   "metadata": {},
   "source": [
    "По итогу мы потеряли около 1% данных - это ничтожно мало и соотвественно качество наших данных не пострадало и их вполне достаточно для дальнейшего изучения и анализа."
   ]
  },
  {
   "cell_type": "markdown",
   "id": "40ea04a8",
   "metadata": {},
   "source": [
    "Выведем итоговые общие количества событий и пользователей в логе"
   ]
  },
  {
   "cell_type": "code",
   "execution_count": 25,
   "id": "0c111876",
   "metadata": {},
   "outputs": [
    {
     "name": "stdout",
     "output_type": "stream",
     "text": [
      "Общее количество событий в логе - 241724\n",
      "\n",
      "Общее количество пользователей в логе - 7538\n"
     ]
    }
   ],
   "source": [
    "print(\n",
    "    'Общее количество событий в логе - {}'\n",
    "      .format(data_good['event_name'].count())\n",
    ")\n",
    "print()\n",
    "print(\n",
    "    'Общее количество пользователей в логе - {}'\n",
    "      .format(data_good['user_id'].nunique())\n",
    ")"
   ]
  },
  {
   "cell_type": "markdown",
   "id": "ec844cd1",
   "metadata": {},
   "source": [
    "## Изучим воронку событий\n",
    "<a id='9'></a>"
   ]
  },
  {
   "cell_type": "markdown",
   "id": "52abaec3",
   "metadata": {},
   "source": [
    "Изучим события более детально:\n",
    "- как часто встречается каждое событие\n",
    "- сколько пользователей совершило каждое событие\n",
    "- какой порядок перехода по событиям\n",
    "- какая доля пользователей переходит с этапа на этап и где больше всего теряем\n",
    "- какая доля изначальных пользователей доходит до оплаты."
   ]
  },
  {
   "cell_type": "markdown",
   "id": "d14824a5",
   "metadata": {},
   "source": [
    "### Анализ данных в разрезе отдельных событий\n",
    "<a id='10'></a>"
   ]
  },
  {
   "cell_type": "markdown",
   "id": "79165313",
   "metadata": {},
   "source": [
    "Посмотрим из каких событий состоят действия пользователей в наше мобильном приложении"
   ]
  },
  {
   "cell_type": "code",
   "execution_count": 26,
   "id": "9be9c321",
   "metadata": {},
   "outputs": [
    {
     "data": {
      "text/plain": [
       "array(['MainScreenAppear', 'OffersScreenAppear',\n",
       "       'PaymentScreenSuccessful', 'CartScreenAppear', 'Tutorial'],\n",
       "      dtype=object)"
      ]
     },
     "execution_count": 26,
     "metadata": {},
     "output_type": "execute_result"
    }
   ],
   "source": [
    "data_good['event_name'].unique()"
   ]
  },
  {
   "cell_type": "markdown",
   "id": "7746f345",
   "metadata": {},
   "source": [
    "Действия пользователей разделены на 5 событий:\n",
    "- MainScreenAppear - пользователь на главной странице (главный экран)\n",
    "- PaymentScreenSuccessful - экран с успешной оплатой (экран совершения оплаты)\n",
    "- CartScreenAppear - пользователь на экране с корзиной продуктов (экран корзины)\n",
    "- OffersScreenAppear - пользователь на странице оффера (экран предложений)\n",
    "- Tutorial - пользователь просматривает руководство пользователя (руководство)"
   ]
  },
  {
   "cell_type": "code",
   "execution_count": 27,
   "id": "bbc3e0dd",
   "metadata": {
    "scrolled": false
   },
   "outputs": [
    {
     "data": {
      "text/html": [
       "<div>\n",
       "<style scoped>\n",
       "    .dataframe tbody tr th:only-of-type {\n",
       "        vertical-align: middle;\n",
       "    }\n",
       "\n",
       "    .dataframe tbody tr th {\n",
       "        vertical-align: top;\n",
       "    }\n",
       "\n",
       "    .dataframe thead th {\n",
       "        text-align: right;\n",
       "    }\n",
       "</style>\n",
       "<table border=\"1\" class=\"dataframe\">\n",
       "  <thead>\n",
       "    <tr style=\"text-align: right;\">\n",
       "      <th></th>\n",
       "      <th>index</th>\n",
       "      <th>event_name</th>\n",
       "    </tr>\n",
       "  </thead>\n",
       "  <tbody>\n",
       "    <tr>\n",
       "      <th>0</th>\n",
       "      <td>MainScreenAppear</td>\n",
       "      <td>117889</td>\n",
       "    </tr>\n",
       "    <tr>\n",
       "      <th>1</th>\n",
       "      <td>OffersScreenAppear</td>\n",
       "      <td>46531</td>\n",
       "    </tr>\n",
       "    <tr>\n",
       "      <th>2</th>\n",
       "      <td>CartScreenAppear</td>\n",
       "      <td>42343</td>\n",
       "    </tr>\n",
       "    <tr>\n",
       "      <th>3</th>\n",
       "      <td>PaymentScreenSuccessful</td>\n",
       "      <td>33951</td>\n",
       "    </tr>\n",
       "    <tr>\n",
       "      <th>4</th>\n",
       "      <td>Tutorial</td>\n",
       "      <td>1010</td>\n",
       "    </tr>\n",
       "  </tbody>\n",
       "</table>\n",
       "</div>"
      ],
      "text/plain": [
       "                     index  event_name\n",
       "0         MainScreenAppear      117889\n",
       "1       OffersScreenAppear       46531\n",
       "2         CartScreenAppear       42343\n",
       "3  PaymentScreenSuccessful       33951\n",
       "4                 Tutorial        1010"
      ]
     },
     "execution_count": 27,
     "metadata": {},
     "output_type": "execute_result"
    }
   ],
   "source": [
    "#Найдем, как часто встречается каждое из этих событий\n",
    "data_good['event_name'].value_counts().reset_index()"
   ]
  },
  {
   "cell_type": "code",
   "execution_count": 28,
   "id": "66359235",
   "metadata": {},
   "outputs": [
    {
     "data": {
      "image/png": "[encoded data removed]",
      "text/plain": [
       "<Figure size 1500x400 with 1 Axes>"
      ]
     },
     "metadata": {},
     "output_type": "display_data"
    }
   ],
   "source": [
    "plt.figure(figsize=(15, 4))\n",
    "ax = data_good['event_name'].value_counts().plot.bar()\n",
    "for p in ax.patches:\n",
    "    ax.annotate(\n",
    "        \"%.0f\" % p.get_height(), (p.get_x() + p.get_width() / 2., p.get_height()),\n",
    "        ha='center', va='center', xytext=(0, 5), textcoords='offset points'\n",
    "    )\n",
    "plt_view('События',\n",
    "         'Частота событий', \n",
    "         'Частота совершения каждого события')"
   ]
  },
  {
   "cell_type": "markdown",
   "id": "1022c526",
   "metadata": {},
   "source": [
    "*Самое частое событие* - когда пользователь смотрит на *главную страницу*, что логично при посещении любого мобильного приложения. *Самое редкое событие* - экран с *руководством пользователя* - действительно на данную страницу переходят редко - только при наличии вопросов. Данный экран не является важным для прибыльности, ведь переход на него лишь косвенно влияет на совершении оплаты заказа - при условии, что пользователю не понятен алгоритм работы в приложении из-за чего у него возникли сложности с оформлением заказа."
   ]
  },
  {
   "cell_type": "code",
   "execution_count": 29,
   "id": "c8841e68",
   "metadata": {
    "scrolled": false
   },
   "outputs": [
    {
     "name": "stdout",
     "output_type": "stream",
     "text": [
      "Общее количество пользователей - 7538\n",
      "\n",
      "Распределение пользователей по событиям:\n"
     ]
    },
    {
     "data": {
      "text/html": [
       "<div>\n",
       "<style scoped>\n",
       "    .dataframe tbody tr th:only-of-type {\n",
       "        vertical-align: middle;\n",
       "    }\n",
       "\n",
       "    .dataframe tbody tr th {\n",
       "        vertical-align: top;\n",
       "    }\n",
       "\n",
       "    .dataframe thead th {\n",
       "        text-align: right;\n",
       "    }\n",
       "</style>\n",
       "<table border=\"1\" class=\"dataframe\">\n",
       "  <thead>\n",
       "    <tr style=\"text-align: right;\">\n",
       "      <th></th>\n",
       "      <th>user_id</th>\n",
       "      <th>perc_user_event</th>\n",
       "    </tr>\n",
       "    <tr>\n",
       "      <th>event_name</th>\n",
       "      <th></th>\n",
       "      <th></th>\n",
       "    </tr>\n",
       "  </thead>\n",
       "  <tbody>\n",
       "    <tr>\n",
       "      <th>MainScreenAppear</th>\n",
       "      <td>7423</td>\n",
       "      <td>98.47</td>\n",
       "    </tr>\n",
       "    <tr>\n",
       "      <th>OffersScreenAppear</th>\n",
       "      <td>4597</td>\n",
       "      <td>60.98</td>\n",
       "    </tr>\n",
       "    <tr>\n",
       "      <th>CartScreenAppear</th>\n",
       "      <td>3736</td>\n",
       "      <td>49.56</td>\n",
       "    </tr>\n",
       "    <tr>\n",
       "      <th>PaymentScreenSuccessful</th>\n",
       "      <td>3540</td>\n",
       "      <td>46.96</td>\n",
       "    </tr>\n",
       "    <tr>\n",
       "      <th>Tutorial</th>\n",
       "      <td>843</td>\n",
       "      <td>11.18</td>\n",
       "    </tr>\n",
       "  </tbody>\n",
       "</table>\n",
       "</div>"
      ],
      "text/plain": [
       "                         user_id  perc_user_event\n",
       "event_name                                       \n",
       "MainScreenAppear            7423            98.47\n",
       "OffersScreenAppear          4597            60.98\n",
       "CartScreenAppear            3736            49.56\n",
       "PaymentScreenSuccessful     3540            46.96\n",
       "Tutorial                     843            11.18"
      ]
     },
     "execution_count": 29,
     "metadata": {},
     "output_type": "execute_result"
    }
   ],
   "source": [
    "#Оценим сколько пользователей совершило каждое событие\n",
    "print('Общее количество пользователей - {}'\n",
    "      .format(data_good['user_id'].nunique()))\n",
    "print()\n",
    "print('Распределение пользователей по событиям:')\n",
    "data_good_user_event = (\n",
    "    data_good.groupby('event_name')\n",
    "    .agg({'user_id':'nunique'})\n",
    "    .sort_values(by='user_id', ascending=False)\n",
    ")\n",
    "\n",
    "#Доля пользователей, которые хоть раз совершали событие\n",
    "data_good_user_event['perc_user_event'] = round(\n",
    "    data_good_user_event['user_id'] / data_good['user_id'].nunique()*100, 2\n",
    ")\n",
    "data_good_user_event"
   ]
  },
  {
   "cell_type": "code",
   "execution_count": 30,
   "id": "7b9572e7",
   "metadata": {
    "scrolled": false
   },
   "outputs": [
    {
     "data": {
      "image/png": "[encoded data removed]",
      "text/plain": [
       "<Figure size 1500x400 with 1 Axes>"
      ]
     },
     "metadata": {},
     "output_type": "display_data"
    }
   ],
   "source": [
    "plt.figure(figsize=(15, 4))\n",
    "ax = data_good_user_event['user_id'].plot.bar()\n",
    "for p in ax.patches:\n",
    "    ax.annotate(\n",
    "        \"%.0f\" % p.get_height(), (p.get_x() + p.get_width() / 2., p.get_height()),\n",
    "        ha='center', va='center', xytext=(0, -10), textcoords='offset points'\n",
    "    )\n",
    "plt_view('События',\n",
    "         'Количество уникальных пользователей', \n",
    "         'Распределение пользователей по событиям')"
   ]
  },
  {
   "cell_type": "markdown",
   "id": "6ce7f9c9",
   "metadata": {},
   "source": [
    "Больше всего пользователей (7423) видело главный экран, но так как их число не равно числу общего количества пользователей, можем предоложить, что не все пользователи изначально переходят на главный экран приложения.\n",
    "\n",
    "На втором месте по посещениеям (4597 пользователей) - экран с предложениями.\n",
    "\n",
    "Далее по посещениям идут экраны корзины (3736 пользователей) и успешной оплаты(3540 пользователей).\n",
    "\n",
    "Меньше всего пользователей (843) просматривает руководство пользователя.\n",
    "\n",
    "\n",
    "Как мы видим, распределение пользователей по событиям происходит в той же последовательности, что и распределение частоты совершения событий. Из этого мы можем предположить порядок совершения событий:\n",
    "1. MainScreenAppear - пользователь открывает главный экран приложения, затем\n",
    "2. OffersScreenAppear - в каталогах выбирает продукты, потом\n",
    "3. CartScreenAppear - складывает товары в корзину и просматривает их непосредственно в ней и в итоге\n",
    "4. PaymentScreenSuccessful - оплачивает товары.\n",
    "\n",
    "Так как экран с руководством пользователя просматривают меньше всего пользователей и его посещение непосредственно не влияет на факт успешной оплаты - исключим его именно из воронки продажи."
   ]
  },
  {
   "cell_type": "markdown",
   "id": "c8bd4e97",
   "metadata": {},
   "source": [
    "### Воронка продажи\n",
    "<a id='11'></a>"
   ]
  },
  {
   "cell_type": "code",
   "execution_count": 31,
   "id": "49fd7870",
   "metadata": {},
   "outputs": [],
   "source": [
    "#Сохраним нашу таблицу без данных о событии \"Tutorial\"\n",
    "data_good_user_event_prod = data_good_user_event[data_good_user_event.index != 'Tutorial']"
   ]
  },
  {
   "cell_type": "code",
   "execution_count": 32,
   "id": "d8633e44",
   "metadata": {},
   "outputs": [
    {
     "name": "stderr",
     "output_type": "stream",
     "text": [
      "C:\\Users\\Home\\AppData\\Local\\Temp\\ipykernel_6532\\66399462.py:2: SettingWithCopyWarning: \n",
      "A value is trying to be set on a copy of a slice from a DataFrame.\n",
      "Try using .loc[row_indexer,col_indexer] = value instead\n",
      "\n",
      "See the caveats in the documentation: https://pandas.pydata.org/pandas-docs/stable/user_guide/indexing.html#returning-a-view-versus-a-copy\n",
      "  data_good_user_event_prod['perc_previous'] = round(\n"
     ]
    },
    {
     "data": {
      "text/html": [
       "<div>\n",
       "<style scoped>\n",
       "    .dataframe tbody tr th:only-of-type {\n",
       "        vertical-align: middle;\n",
       "    }\n",
       "\n",
       "    .dataframe tbody tr th {\n",
       "        vertical-align: top;\n",
       "    }\n",
       "\n",
       "    .dataframe thead th {\n",
       "        text-align: right;\n",
       "    }\n",
       "</style>\n",
       "<table border=\"1\" class=\"dataframe\">\n",
       "  <thead>\n",
       "    <tr style=\"text-align: right;\">\n",
       "      <th></th>\n",
       "      <th>user_id</th>\n",
       "      <th>perc_user_event</th>\n",
       "      <th>perc_previous</th>\n",
       "    </tr>\n",
       "    <tr>\n",
       "      <th>event_name</th>\n",
       "      <th></th>\n",
       "      <th></th>\n",
       "      <th></th>\n",
       "    </tr>\n",
       "  </thead>\n",
       "  <tbody>\n",
       "    <tr>\n",
       "      <th>MainScreenAppear</th>\n",
       "      <td>7423</td>\n",
       "      <td>98.47</td>\n",
       "      <td>NaN</td>\n",
       "    </tr>\n",
       "    <tr>\n",
       "      <th>OffersScreenAppear</th>\n",
       "      <td>4597</td>\n",
       "      <td>60.98</td>\n",
       "      <td>61.93</td>\n",
       "    </tr>\n",
       "    <tr>\n",
       "      <th>CartScreenAppear</th>\n",
       "      <td>3736</td>\n",
       "      <td>49.56</td>\n",
       "      <td>81.27</td>\n",
       "    </tr>\n",
       "    <tr>\n",
       "      <th>PaymentScreenSuccessful</th>\n",
       "      <td>3540</td>\n",
       "      <td>46.96</td>\n",
       "      <td>94.75</td>\n",
       "    </tr>\n",
       "  </tbody>\n",
       "</table>\n",
       "</div>"
      ],
      "text/plain": [
       "                         user_id  perc_user_event  perc_previous\n",
       "event_name                                                      \n",
       "MainScreenAppear            7423            98.47            NaN\n",
       "OffersScreenAppear          4597            60.98          61.93\n",
       "CartScreenAppear            3736            49.56          81.27\n",
       "PaymentScreenSuccessful     3540            46.96          94.75"
      ]
     },
     "execution_count": 32,
     "metadata": {},
     "output_type": "execute_result"
    }
   ],
   "source": [
    "#Расчитаем процент пользователей относительно прошлого этапа\n",
    "data_good_user_event_prod['perc_previous'] = round(\n",
    "    data_good_user_event_prod['user_id']/data_good_user_event_prod['user_id'].shift(1)*100, 2\n",
    ")\n",
    "data_good_user_event_prod"
   ]
  },
  {
   "cell_type": "code",
   "execution_count": 33,
   "id": "6d836bcf",
   "metadata": {},
   "outputs": [
    {
     "data": {
      "image/png": "[encoded data removed]"
     },
     "metadata": {},
     "output_type": "display_data"
    }
   ],
   "source": [
    "#Построим воронку по переходам пользователей от шага к шагу\n",
    "#с процентным оотношением от шага к шагу, чтобы понять\n",
    "#какой процент пользователей проходит на след этап\n",
    "#относительно предыдущего\n",
    "fig = go.Figure(\n",
    "    go.Funnel(y = data_good_user_event_prod.index,\n",
    "              x = data_good_user_event_prod['user_id'],\n",
    "              marker = {\"color\": ['deepskyblue', 'lightsalmon', 'tan', 'teal']},\n",
    "              textposition = \"inside\",\n",
    "              textinfo = \"value+percent previous+percent initial\")\n",
    ")\n",
    "fig.update_layout(\n",
    "    title='Воронка продажи - процент пользователей относительного предыдущего этапа')\n",
    "fig.show(renderer='png', width=1000, height=600, scale=None)"
   ]
  },
  {
   "cell_type": "markdown",
   "id": "c0e18632",
   "metadata": {},
   "source": [
    "Мы видим, что больший процент потери пользователей (38%) происходит при переходе с главного экрана приложения на экран предложения офферов. Это достаточно большой процент потери заинтересованности - возможно:\n",
    "- присутствует какая то техническая проблема связанная с переходом с главного экрана на экран выбора товаров связанных с определенными мобильными устройствами либо не связанными с ними,\n",
    "- либо не интуитивно понятный интерфейс главного экрана, что осложняет переход с него на экран выбора товаров - в связи с этим и потребность пользователей заходить на экран руководства пользователя.\n",
    "\n",
    "В дальнейшем большая часть пользователей \"остается с нами\":\n",
    "- 81% от пользователей выбирающих продукты в каталогах - складывают товары в корзину\n",
    "- 95% пользователей, сформировавших корзину - совершают успешную покупку"
   ]
  },
  {
   "cell_type": "code",
   "execution_count": 34,
   "id": "7e71fcb4",
   "metadata": {
    "scrolled": false
   },
   "outputs": [
    {
     "data": {
      "image/png": "[encoded data removed]"
     },
     "metadata": {},
     "output_type": "display_data"
    },
    {
     "name": "stdout",
     "output_type": "stream",
     "text": [
      "Процент пользователей, дошедших от первого события до оплаты - 47.69%\n"
     ]
    }
   ],
   "source": [
    "#Построим воронку по переходам пользователей от шага к шагу\n",
    "#с процентным оотношением к первому шагу,\n",
    "#чтобы понять сколько пользователей от изначального количества\n",
    "#поэтапно доходит до успешной оплаты\n",
    "fig = go.Figure(\n",
    "    go.Funnel(y = data_good_user_event_prod.index,\n",
    "              x = data_good_user_event_prod['user_id'],\n",
    "              marker = {\"color\": ['deepskyblue', 'lightsalmon', 'tan', 'teal']},\n",
    "              textposition = \"inside\",\n",
    "              textinfo = \"value+percent initial\")\n",
    ")\n",
    "fig.update_layout(\n",
    "    title='Воронка продажи - процент пользователей относительного первого этапа')\n",
    "fig.show(renderer='png', width=1000, height=600, scale=None)\n",
    "print('Процент пользователей, дошедших от первого события до оплаты - {0:.2%}'\n",
    "      .format(\n",
    "          data_good_user_event_prod['user_id'].min()/data_good_user_event_prod['user_id'].max()\n",
    "      )\n",
    "     )"
   ]
  },
  {
   "cell_type": "markdown",
   "id": "107978f8",
   "metadata": {},
   "source": [
    "50% посетителей главного экрана приложения доходят до просмотра сформированной корзины и практически все из них (48%) доходят до успешной оплаты."
   ]
  },
  {
   "cell_type": "markdown",
   "id": "394b2dd7",
   "metadata": {},
   "source": [
    "## Изучим результаты эксперимента\n",
    "<a id='12'></a>"
   ]
  },
  {
   "cell_type": "markdown",
   "id": "935f1d2b",
   "metadata": {},
   "source": [
    "Так как мы определили, что событие просмотра руководства пользователя нам не особо важно, то для изучения результатов эксперимента будем анализировать данные без него. Определим количество пользователей в каждой группе для каждого события. Но перед этим заменим цифровые наименования групп эксперимента на буквенные - вместо 246, 247 и 248 зададим А1, А2 и В соответственно"
   ]
  },
  {
   "cell_type": "code",
   "execution_count": 35,
   "id": "e4793f9d",
   "metadata": {},
   "outputs": [],
   "source": [
    "#Создадим функцию, которая будет возвращать буквенное обозначение эксперимента\n",
    "def exp_cat(exp):\n",
    "    if exp == 246:\n",
    "        return \"A1\"\n",
    "    if exp == 247:\n",
    "        return \"A2\"\n",
    "    return \"B\"\n",
    "\n",
    "#Добавим новый столбец в наши данные с буквенным обозначением эксперимента\n",
    "data_good['group'] = data_good['exp_id'].apply(exp_cat)"
   ]
  },
  {
   "cell_type": "code",
   "execution_count": 36,
   "id": "07cb223e",
   "metadata": {
    "scrolled": true
   },
   "outputs": [
    {
     "data": {
      "text/html": [
       "<div>\n",
       "<style scoped>\n",
       "    .dataframe tbody tr th:only-of-type {\n",
       "        vertical-align: middle;\n",
       "    }\n",
       "\n",
       "    .dataframe tbody tr th {\n",
       "        vertical-align: top;\n",
       "    }\n",
       "\n",
       "    .dataframe thead th {\n",
       "        text-align: right;\n",
       "    }\n",
       "</style>\n",
       "<table border=\"1\" class=\"dataframe\">\n",
       "  <thead>\n",
       "    <tr style=\"text-align: right;\">\n",
       "      <th></th>\n",
       "      <th>event_name</th>\n",
       "      <th>user_id</th>\n",
       "      <th>event_timestamp</th>\n",
       "      <th>exp_id</th>\n",
       "      <th>event_date</th>\n",
       "      <th>group</th>\n",
       "    </tr>\n",
       "  </thead>\n",
       "  <tbody>\n",
       "    <tr>\n",
       "      <th>0</th>\n",
       "      <td>MainScreenAppear</td>\n",
       "      <td>7701922487875823903</td>\n",
       "      <td>2019-07-31 21:00:57</td>\n",
       "      <td>247</td>\n",
       "      <td>2019-07-31</td>\n",
       "      <td>A2</td>\n",
       "    </tr>\n",
       "    <tr>\n",
       "      <th>1</th>\n",
       "      <td>MainScreenAppear</td>\n",
       "      <td>2539077412200498909</td>\n",
       "      <td>2019-07-31 21:01:45</td>\n",
       "      <td>247</td>\n",
       "      <td>2019-07-31</td>\n",
       "      <td>A2</td>\n",
       "    </tr>\n",
       "    <tr>\n",
       "      <th>2</th>\n",
       "      <td>OffersScreenAppear</td>\n",
       "      <td>3286987355161301427</td>\n",
       "      <td>2019-07-31 21:02:21</td>\n",
       "      <td>248</td>\n",
       "      <td>2019-07-31</td>\n",
       "      <td>B</td>\n",
       "    </tr>\n",
       "    <tr>\n",
       "      <th>3</th>\n",
       "      <td>OffersScreenAppear</td>\n",
       "      <td>3187166762535343300</td>\n",
       "      <td>2019-07-31 21:02:23</td>\n",
       "      <td>247</td>\n",
       "      <td>2019-07-31</td>\n",
       "      <td>A2</td>\n",
       "    </tr>\n",
       "    <tr>\n",
       "      <th>4</th>\n",
       "      <td>MainScreenAppear</td>\n",
       "      <td>1118952406011435924</td>\n",
       "      <td>2019-07-31 21:03:25</td>\n",
       "      <td>248</td>\n",
       "      <td>2019-07-31</td>\n",
       "      <td>B</td>\n",
       "    </tr>\n",
       "    <tr>\n",
       "      <th>5</th>\n",
       "      <td>MainScreenAppear</td>\n",
       "      <td>929387516286850088</td>\n",
       "      <td>2019-07-31 21:05:35</td>\n",
       "      <td>248</td>\n",
       "      <td>2019-07-31</td>\n",
       "      <td>B</td>\n",
       "    </tr>\n",
       "    <tr>\n",
       "      <th>6</th>\n",
       "      <td>OffersScreenAppear</td>\n",
       "      <td>3511569580412335882</td>\n",
       "      <td>2019-07-31 21:06:12</td>\n",
       "      <td>246</td>\n",
       "      <td>2019-07-31</td>\n",
       "      <td>A1</td>\n",
       "    </tr>\n",
       "    <tr>\n",
       "      <th>7</th>\n",
       "      <td>OffersScreenAppear</td>\n",
       "      <td>3511569580412335882</td>\n",
       "      <td>2019-07-31 21:07:16</td>\n",
       "      <td>246</td>\n",
       "      <td>2019-07-31</td>\n",
       "      <td>A1</td>\n",
       "    </tr>\n",
       "    <tr>\n",
       "      <th>8</th>\n",
       "      <td>MainScreenAppear</td>\n",
       "      <td>7701922487875823903</td>\n",
       "      <td>2019-07-31 21:07:27</td>\n",
       "      <td>247</td>\n",
       "      <td>2019-07-31</td>\n",
       "      <td>A2</td>\n",
       "    </tr>\n",
       "    <tr>\n",
       "      <th>9</th>\n",
       "      <td>OffersScreenAppear</td>\n",
       "      <td>5039418296347449582</td>\n",
       "      <td>2019-07-31 21:07:34</td>\n",
       "      <td>246</td>\n",
       "      <td>2019-07-31</td>\n",
       "      <td>A1</td>\n",
       "    </tr>\n",
       "  </tbody>\n",
       "</table>\n",
       "</div>"
      ],
      "text/plain": [
       "           event_name              user_id     event_timestamp  exp_id  \\\n",
       "0    MainScreenAppear  7701922487875823903 2019-07-31 21:00:57     247   \n",
       "1    MainScreenAppear  2539077412200498909 2019-07-31 21:01:45     247   \n",
       "2  OffersScreenAppear  3286987355161301427 2019-07-31 21:02:21     248   \n",
       "3  OffersScreenAppear  3187166762535343300 2019-07-31 21:02:23     247   \n",
       "4    MainScreenAppear  1118952406011435924 2019-07-31 21:03:25     248   \n",
       "5    MainScreenAppear   929387516286850088 2019-07-31 21:05:35     248   \n",
       "6  OffersScreenAppear  3511569580412335882 2019-07-31 21:06:12     246   \n",
       "7  OffersScreenAppear  3511569580412335882 2019-07-31 21:07:16     246   \n",
       "8    MainScreenAppear  7701922487875823903 2019-07-31 21:07:27     247   \n",
       "9  OffersScreenAppear  5039418296347449582 2019-07-31 21:07:34     246   \n",
       "\n",
       "   event_date group  \n",
       "0  2019-07-31    A2  \n",
       "1  2019-07-31    A2  \n",
       "2  2019-07-31     B  \n",
       "3  2019-07-31    A2  \n",
       "4  2019-07-31     B  \n",
       "5  2019-07-31     B  \n",
       "6  2019-07-31    A1  \n",
       "7  2019-07-31    A1  \n",
       "8  2019-07-31    A2  \n",
       "9  2019-07-31    A1  "
      ]
     },
     "execution_count": 36,
     "metadata": {},
     "output_type": "execute_result"
    }
   ],
   "source": [
    "#Проверим правильность замены\n",
    "data_good.head(10)"
   ]
  },
  {
   "cell_type": "code",
   "execution_count": 37,
   "id": "716a93b6",
   "metadata": {},
   "outputs": [
    {
     "data": {
      "text/html": [
       "<div>\n",
       "<style scoped>\n",
       "    .dataframe tbody tr th:only-of-type {\n",
       "        vertical-align: middle;\n",
       "    }\n",
       "\n",
       "    .dataframe tbody tr th {\n",
       "        vertical-align: top;\n",
       "    }\n",
       "\n",
       "    .dataframe thead th {\n",
       "        text-align: right;\n",
       "    }\n",
       "</style>\n",
       "<table border=\"1\" class=\"dataframe\">\n",
       "  <thead>\n",
       "    <tr style=\"text-align: right;\">\n",
       "      <th>group</th>\n",
       "      <th>event_name</th>\n",
       "      <th>A1</th>\n",
       "      <th>A2</th>\n",
       "      <th>B</th>\n",
       "      <th>A1+A2</th>\n",
       "    </tr>\n",
       "  </thead>\n",
       "  <tbody>\n",
       "    <tr>\n",
       "      <th>0</th>\n",
       "      <td>MainScreenAppear</td>\n",
       "      <td>2450</td>\n",
       "      <td>2479</td>\n",
       "      <td>2494</td>\n",
       "      <td>4929</td>\n",
       "    </tr>\n",
       "    <tr>\n",
       "      <th>1</th>\n",
       "      <td>OffersScreenAppear</td>\n",
       "      <td>1542</td>\n",
       "      <td>1524</td>\n",
       "      <td>1531</td>\n",
       "      <td>3066</td>\n",
       "    </tr>\n",
       "    <tr>\n",
       "      <th>2</th>\n",
       "      <td>CartScreenAppear</td>\n",
       "      <td>1266</td>\n",
       "      <td>1239</td>\n",
       "      <td>1231</td>\n",
       "      <td>2505</td>\n",
       "    </tr>\n",
       "    <tr>\n",
       "      <th>3</th>\n",
       "      <td>PaymentScreenSuccessful</td>\n",
       "      <td>1200</td>\n",
       "      <td>1158</td>\n",
       "      <td>1182</td>\n",
       "      <td>2358</td>\n",
       "    </tr>\n",
       "  </tbody>\n",
       "</table>\n",
       "</div>"
      ],
      "text/plain": [
       "group               event_name    A1    A2     B  A1+A2\n",
       "0             MainScreenAppear  2450  2479  2494   4929\n",
       "1           OffersScreenAppear  1542  1524  1531   3066\n",
       "2             CartScreenAppear  1266  1239  1231   2505\n",
       "3      PaymentScreenSuccessful  1200  1158  1182   2358"
      ]
     },
     "execution_count": 37,
     "metadata": {},
     "output_type": "execute_result"
    }
   ],
   "source": [
    "#Теперь оставим лишь данные по 4 событиям (из 5) и\n",
    "#определим количество пользователей в каждой группе для каждого события\n",
    "data_succes = (\n",
    "    data_good.query('event_name != \"Tutorial\"').reset_index(drop=True)\n",
    "    .pivot_table(index='event_name', columns='group', values='user_id', aggfunc='nunique')\n",
    "    .reset_index()\n",
    ")\n",
    "data_succes = data_succes.sort_values(by='A1', ascending=False).reset_index(drop=True)\n",
    "data_succes['A1+A2'] = data_succes[['A1', 'A2']].sum(axis=1)\n",
    "data_succes"
   ]
  },
  {
   "cell_type": "code",
   "execution_count": 38,
   "id": "3e33433d",
   "metadata": {
    "scrolled": true
   },
   "outputs": [
    {
     "data": {
      "text/html": [
       "<div>\n",
       "<style scoped>\n",
       "    .dataframe tbody tr th:only-of-type {\n",
       "        vertical-align: middle;\n",
       "    }\n",
       "\n",
       "    .dataframe tbody tr th {\n",
       "        vertical-align: top;\n",
       "    }\n",
       "\n",
       "    .dataframe thead th {\n",
       "        text-align: right;\n",
       "    }\n",
       "</style>\n",
       "<table border=\"1\" class=\"dataframe\">\n",
       "  <thead>\n",
       "    <tr style=\"text-align: right;\">\n",
       "      <th>group</th>\n",
       "      <th>A1</th>\n",
       "      <th>A2</th>\n",
       "      <th>B</th>\n",
       "      <th>A1+A2</th>\n",
       "    </tr>\n",
       "  </thead>\n",
       "  <tbody>\n",
       "    <tr>\n",
       "      <th>user_id</th>\n",
       "      <td>2483</td>\n",
       "      <td>2516</td>\n",
       "      <td>2535</td>\n",
       "      <td>4999</td>\n",
       "    </tr>\n",
       "  </tbody>\n",
       "</table>\n",
       "</div>"
      ],
      "text/plain": [
       "group      A1    A2     B  A1+A2\n",
       "user_id  2483  2516  2535   4999"
      ]
     },
     "execution_count": 38,
     "metadata": {},
     "output_type": "execute_result"
    }
   ],
   "source": [
    "#И определим общее количество пользователей в каждой группе\n",
    "data_good_prod = (\n",
    "    data_good.query('event_name != \"Tutorial\"').reset_index(drop=True)\n",
    "    .pivot_table(index='group', values='user_id', aggfunc='nunique').T\n",
    ")\n",
    "data_good_prod['A1+A2'] = data_good_prod['A1'] + data_good_prod['A2']\n",
    "data_good_prod"
   ]
  },
  {
   "cell_type": "markdown",
   "id": "9b4a4561",
   "metadata": {},
   "source": [
    "Так же необходимо проверить, что каждый пользователь попал лишь в одну исследуемую группу"
   ]
  },
  {
   "cell_type": "code",
   "execution_count": 39,
   "id": "b325eb16",
   "metadata": {
    "scrolled": true
   },
   "outputs": [
    {
     "data": {
      "text/html": [
       "<div>\n",
       "<style scoped>\n",
       "    .dataframe tbody tr th:only-of-type {\n",
       "        vertical-align: middle;\n",
       "    }\n",
       "\n",
       "    .dataframe tbody tr th {\n",
       "        vertical-align: top;\n",
       "    }\n",
       "\n",
       "    .dataframe thead th {\n",
       "        text-align: right;\n",
       "    }\n",
       "</style>\n",
       "<table border=\"1\" class=\"dataframe\">\n",
       "  <thead>\n",
       "    <tr style=\"text-align: right;\">\n",
       "      <th></th>\n",
       "      <th>group</th>\n",
       "    </tr>\n",
       "    <tr>\n",
       "      <th>user_id</th>\n",
       "      <th></th>\n",
       "    </tr>\n",
       "  </thead>\n",
       "  <tbody>\n",
       "  </tbody>\n",
       "</table>\n",
       "</div>"
      ],
      "text/plain": [
       "Empty DataFrame\n",
       "Columns: [group]\n",
       "Index: []"
      ]
     },
     "execution_count": 39,
     "metadata": {},
     "output_type": "execute_result"
    }
   ],
   "source": [
    "data_good.query('event_name != \"Tutorial\"').groupby('user_id').agg({'group':'nunique'}).query('group > 1')"
   ]
  },
  {
   "cell_type": "markdown",
   "id": "ea70c466",
   "metadata": {},
   "source": [
    "Действительно во всех группах нет повторяющихся пользователей."
   ]
  },
  {
   "cell_type": "markdown",
   "id": "41147eaa",
   "metadata": {},
   "source": [
    "Необходимо проверить результаты А/А/В эксперимента - исследование влияния замены шрифтов во всем приложении. Пользователи были разделены на 3 группы:\n",
    "- 246 и 247 - контрольные - с изначальными шрифтами (А1 и А2)\n",
    "- 248 - экспериментальная - с измененными шрифтами (В)"
   ]
  },
  {
   "cell_type": "markdown",
   "id": "9837cae2",
   "metadata": {},
   "source": [
    "Проверять будем с помощью z-теста (проверка гипотезы о равенстве долей - сравнение пропорций двух генеральных совокупностей по выборкам из них)\n",
    "\n",
    "Сравниваем выборки для каждого события - количество пользователей в группе и количество пользоватейлей события в группе\n",
    "\n",
    "**Сформулируем гипотезы**:\n",
    "\n",
    "*Нулевая гипотеза* - Нет статистически значимой разницы между группами\n",
    "\n",
    "*Альтернативная гипотеза* - Существует существенная разница между пропорциями в группах"
   ]
  },
  {
   "cell_type": "code",
   "execution_count": 40,
   "id": "2462ed07",
   "metadata": {},
   "outputs": [],
   "source": [
    "#Создадим функцию для работы z-теста\n",
    "#для проверки равенства пропорций групп\n",
    "\n",
    "def z_test(group1, group2, event, alpha):\n",
    "\n",
    "    #успешное\n",
    "    successes = np.array(\n",
    "        [data_succes[data_succes['event_name']==event][group1],\n",
    "         data_succes[data_succes['event_name']==event][group2]]\n",
    "    )\n",
    "    #общее\n",
    "    trials = np.array(\n",
    "        [data_good_prod[group1],\n",
    "         data_good_prod[group2]]\n",
    "    )\n",
    "\n",
    "    #пропорция успехов в первой группе\n",
    "    p1 = successes[0] / trials[0]\n",
    "\n",
    "    #пропорция успехов во второй группе\n",
    "    p2 = successes[1] / trials[1]\n",
    "\n",
    "    #пропорция успехов в комбинированной группе\n",
    "    p_combined = (successes[0] + successes[1]) / (trials[0] + trials[1])\n",
    "\n",
    "    #Разница пропорций\n",
    "    difference = p1 - p2\n",
    "\n",
    "    #Считаем статистику\n",
    "    z_value = difference / mth.sqrt(p_combined * (1 - p_combined) * (1/trials[0] + 1/trials[1])) # ваш код\n",
    "\n",
    "    #Задаем нормальное распределение\n",
    "    distr = st.norm(0,1)\n",
    "\n",
    "    p_value = (1 - distr.cdf(abs(z_value))) * 2 # ваш код  \n",
    "    \n",
    "    if event == 'MainScreenAppear' :\n",
    "        print('Сравнение группы {} и {} события - {} (посещение главного экрана), с критическим уровнем стат значимости {}'\n",
    "          .format(group1, group2, event, alpha))\n",
    "        print()\n",
    "\n",
    "    if event == 'OffersScreenAppear' :\n",
    "        print('Сравнение группы {} и {} события - {} (выбор товаров у офферов), с критическим уровнем стат значимости {}'\n",
    "          .format(group1, group2, event, alpha))\n",
    "        print()\n",
    "\n",
    "    if event == 'CartScreenAppear' :\n",
    "        print('Сравнение группы {} и {} события - {} (просмотр корзины), с критическим уровнем стат значимости {}'\n",
    "          .format(group1, group2, event, alpha))\n",
    "        print()\n",
    "        \n",
    "    if event == 'PaymentScreenSuccessful' :\n",
    "        print('Сравнение группы {} и {} события - {} (успешная оплата), с критическим уровнем стат значимости {}'\n",
    "          .format(group1, group2, event, alpha))\n",
    "        print()\n",
    "\n",
    "    print('p-значение: ', p_value)\n",
    "\n",
    "\n",
    "    if p_value < alpha: # ваш код\n",
    "        print('Отвергаем нулевую гипотезу: между долями есть значимая разница')\n",
    "    else:\n",
    "        print(\n",
    "            'Не получилось отвергнуть нулевую гипотезу, нет оснований считать доли разными'\n",
    "        )\n",
    "    p_value_list.append(p_value)\n",
    "    return p_value"
   ]
  },
  {
   "cell_type": "code",
   "execution_count": 41,
   "id": "f9817ae6",
   "metadata": {},
   "outputs": [],
   "source": [
    "#Создадим функцию для оценки распределения пользователей\n",
    "#внутри групп по событиям с помощью воронки продаж\n",
    "def distrib_funnel(group1, group2):\n",
    "\n",
    "    fig = go.Figure()\n",
    "\n",
    "    fig.add_trace(go.Funnel(\n",
    "        name = str(group1),\n",
    "        y = data_succes['event_name'],\n",
    "        x = data_succes[group1],\n",
    "        textinfo = \"value+percent initial+percent previous\"))\n",
    "\n",
    "    fig.add_trace(go.Funnel(\n",
    "        name = str(group2),\n",
    "        orientation = \"h\",\n",
    "        y = data_succes['event_name'],\n",
    "        x = data_succes[group2],\n",
    "        textposition = \"inside\",\n",
    "        textinfo = \"value+percent initial+percent previous\"))\n",
    "    \n",
    "    fig.update_layout(\n",
    "    title='Воронка продажи - распределение пользователей в группах по событиям')\n",
    "    \n",
    "    fig.show(renderer='png', width=1000, height=600, scale=None)"
   ]
  },
  {
   "cell_type": "markdown",
   "id": "f24243c3",
   "metadata": {},
   "source": [
    "Изначально проверим 2 контрольные группы (А/А эксперимент) на корректность всех механизмов и расчетов. Для этого проверим находятся ли статистически значимая разница между выборками А1 и А2 для каждого события"
   ]
  },
  {
   "cell_type": "markdown",
   "id": "ee76fe41",
   "metadata": {},
   "source": [
    "### А/А эксперимент\n",
    "<a id='13'></a>"
   ]
  },
  {
   "cell_type": "code",
   "execution_count": 42,
   "id": "ec6a4ed1",
   "metadata": {
    "scrolled": true
   },
   "outputs": [
    {
     "name": "stdout",
     "output_type": "stream",
     "text": [
      "Сравнение группы A1 и A2 события - MainScreenAppear (посещение главного экрана), с критическим уровнем стат значимости 0.05\n",
      "\n",
      "p-значение:  [0.67020827]\n",
      "Не получилось отвергнуть нулевую гипотезу, нет оснований считать доли разными\n",
      "--------------------------------------------\n",
      "Сравнение группы A1 и A2 события - OffersScreenAppear (выбор товаров у офферов), с критическим уровнем стат значимости 0.05\n",
      "\n",
      "p-значение:  [0.26673479]\n",
      "Не получилось отвергнуть нулевую гипотезу, нет оснований считать доли разными\n",
      "--------------------------------------------\n",
      "Сравнение группы A1 и A2 события - CartScreenAppear (просмотр корзины), с критическим уровнем стат значимости 0.05\n",
      "\n",
      "p-значение:  [0.21811884]\n",
      "Не получилось отвергнуть нулевую гипотезу, нет оснований считать доли разными\n",
      "--------------------------------------------\n",
      "Сравнение группы A1 и A2 события - PaymentScreenSuccessful (успешная оплата), с критическим уровнем стат значимости 0.05\n",
      "\n",
      "p-значение:  [0.10288527]\n",
      "Не получилось отвергнуть нулевую гипотезу, нет оснований считать доли разными\n",
      "--------------------------------------------\n"
     ]
    }
   ],
   "source": [
    "#Создадим список для сохранения всех значений p_value\n",
    "#и затем проведем сравнение\n",
    "p_value_list = []\n",
    "for event in data_succes['event_name'].unique():\n",
    "    z_test('A1', 'A2', event, 0.05)\n",
    "    print('--------------------------------------------')"
   ]
  },
  {
   "cell_type": "markdown",
   "id": "50cb1339",
   "metadata": {},
   "source": [
    "Как мы видим, ни для одного события разница не оказалась значимой. Что и должно было получится ведь интерфейс у обеих групп не отличался. Значит действительно можем с уверенностью утверждать что группы А и А2 - контрольные.\n",
    "\n",
    "Посмотрим на распределение пользователей в обеих группах по событиям, чтобы оценить разбиение на группы. Для этого построим сравнительную воронку продаж по обеим группам"
   ]
  },
  {
   "cell_type": "code",
   "execution_count": 43,
   "id": "19a9219b",
   "metadata": {},
   "outputs": [
    {
     "data": {
      "image/png": "[encoded data removed]"
     },
     "metadata": {},
     "output_type": "display_data"
    }
   ],
   "source": [
    "distrib_funnel('A1', 'A2')"
   ]
  },
  {
   "cell_type": "markdown",
   "id": "00daffba",
   "metadata": {},
   "source": [
    "Как мы видим, распределение пользователей по группам и доля пользователей переходящих из одного события в другое в обеих группах схоже"
   ]
  },
  {
   "cell_type": "markdown",
   "id": "ddc2dd9d",
   "metadata": {},
   "source": [
    "### Самое популярное событие во всех группах\n",
    "<a id='14'></a>"
   ]
  },
  {
   "cell_type": "code",
   "execution_count": 44,
   "id": "9d7bcad7",
   "metadata": {},
   "outputs": [
    {
     "name": "stdout",
     "output_type": "stream",
     "text": [
      "Самое популярное событие ['MainScreenAppear']\n",
      "\n",
      "Количество пользователей в каждой группе, совершивших самое популярное событие\n"
     ]
    },
    {
     "data": {
      "text/html": [
       "<div>\n",
       "<style scoped>\n",
       "    .dataframe tbody tr th:only-of-type {\n",
       "        vertical-align: middle;\n",
       "    }\n",
       "\n",
       "    .dataframe tbody tr th {\n",
       "        vertical-align: top;\n",
       "    }\n",
       "\n",
       "    .dataframe thead th {\n",
       "        text-align: right;\n",
       "    }\n",
       "</style>\n",
       "<table border=\"1\" class=\"dataframe\">\n",
       "  <thead>\n",
       "    <tr style=\"text-align: right;\">\n",
       "      <th>event_name</th>\n",
       "      <th>MainScreenAppear</th>\n",
       "      <th>perc</th>\n",
       "    </tr>\n",
       "    <tr>\n",
       "      <th>group</th>\n",
       "      <th></th>\n",
       "      <th></th>\n",
       "    </tr>\n",
       "  </thead>\n",
       "  <tbody>\n",
       "    <tr>\n",
       "      <th>A1</th>\n",
       "      <td>2450</td>\n",
       "      <td>33.01</td>\n",
       "    </tr>\n",
       "    <tr>\n",
       "      <th>A2</th>\n",
       "      <td>2479</td>\n",
       "      <td>33.40</td>\n",
       "    </tr>\n",
       "    <tr>\n",
       "      <th>B</th>\n",
       "      <td>2494</td>\n",
       "      <td>33.60</td>\n",
       "    </tr>\n",
       "  </tbody>\n",
       "</table>\n",
       "</div>"
      ],
      "text/plain": [
       "event_name  MainScreenAppear   perc\n",
       "group                              \n",
       "A1                      2450  33.01\n",
       "A2                      2479  33.40\n",
       "B                       2494  33.60"
      ]
     },
     "execution_count": 44,
     "metadata": {},
     "output_type": "execute_result"
    }
   ],
   "source": [
    "#Выведем самое популярное событие\n",
    "pop_event = list(data_succes.query('A1 == A1.max() and A2 == A2.max() and B == B.max()')['event_name'])\n",
    "print('Самое популярное событие {}'.format(pop_event))\n",
    "print()\n",
    "data_good_event_pop = (\n",
    "    data_succes.query('event_name == @pop_event')\n",
    "    [['event_name', 'A1', 'A2', 'B']].set_index('event_name').T\n",
    ")\n",
    "\n",
    "data_good_event_pop['perc'] = round(data_good_event_pop['MainScreenAppear'] \n",
    "                               / data_good_event_pop['MainScreenAppear'].sum()*100, 2)\n",
    "print('Количество пользователей в каждой группе, совершивших самое популярное событие')\n",
    "data_good_event_pop"
   ]
  },
  {
   "cell_type": "markdown",
   "id": "bfd2c70c",
   "metadata": {},
   "source": [
    "Самое популярное событие во всех группах — посещение главной страницы. Прошлые вычесления показывают, что группы были правильно разделены для групп А1 и А2. Давайте теперь проверим наши гипотезы (нулевую и альтернативную) для пар контрольных и экспериментальной групп"
   ]
  },
  {
   "cell_type": "markdown",
   "id": "f9ab1a5d",
   "metadata": {},
   "source": [
    "### А1/В эксперимент\n",
    "<a id='15'></a>"
   ]
  },
  {
   "cell_type": "markdown",
   "id": "d77723eb",
   "metadata": {},
   "source": [
    "Посмотрим на результаты для первой контрольной группы (А1) и экспериментальной группы (В)"
   ]
  },
  {
   "cell_type": "code",
   "execution_count": 45,
   "id": "0d2f4c2d",
   "metadata": {
    "scrolled": false
   },
   "outputs": [
    {
     "name": "stdout",
     "output_type": "stream",
     "text": [
      "Сравнение группы A1 и B события - MainScreenAppear (посещение главного экрана), с критическим уровнем стат значимости 0.05\n",
      "\n",
      "p-значение:  [0.39691005]\n",
      "Не получилось отвергнуть нулевую гипотезу, нет оснований считать доли разными\n",
      "--------------------------------------------\n",
      "Сравнение группы A1 и B события - OffersScreenAppear (выбор товаров у офферов), с критическим уровнем стат значимости 0.05\n",
      "\n",
      "p-значение:  [0.21442477]\n",
      "Не получилось отвергнуть нулевую гипотезу, нет оснований считать доли разными\n",
      "--------------------------------------------\n",
      "Сравнение группы A1 и B события - CartScreenAppear (просмотр корзины), с критическим уровнем стат значимости 0.05\n",
      "\n",
      "p-значение:  [0.08564272]\n",
      "Не получилось отвергнуть нулевую гипотезу, нет оснований считать доли разными\n",
      "--------------------------------------------\n",
      "Сравнение группы A1 и B события - PaymentScreenSuccessful (успешная оплата), с критическим уровнем стат значимости 0.05\n",
      "\n",
      "p-значение:  [0.22753675]\n",
      "Не получилось отвергнуть нулевую гипотезу, нет оснований считать доли разными\n",
      "--------------------------------------------\n"
     ]
    }
   ],
   "source": [
    "for event in data_succes['event_name'].unique():\n",
    "    z_test('A1', 'B', event, 0.05)\n",
    "    print('--------------------------------------------')"
   ]
  },
  {
   "cell_type": "markdown",
   "id": "03ed0fef",
   "metadata": {},
   "source": [
    "Как мы видим, ни для одного события разница не оказалась значимой. Следовательно можно предположить, что для пользователей экспериментальной группы В по отношению к контрольной группе А1 нет достаточной разницы в использовании приложения относительно шрифтов.\n",
    "\n",
    "Посмотрим на распределение пользователей в обеих группах по событиям, чтобы оценить разбиение на группы. Для этого построим сравнительную воронку продаж по обеим группам"
   ]
  },
  {
   "cell_type": "code",
   "execution_count": 46,
   "id": "a674d43b",
   "metadata": {},
   "outputs": [
    {
     "data": {
      "image/png": "[encoded data removed]"
     },
     "metadata": {},
     "output_type": "display_data"
    }
   ],
   "source": [
    "distrib_funnel('A1', \"B\")"
   ]
  },
  {
   "cell_type": "markdown",
   "id": "effa7d6d",
   "metadata": {},
   "source": [
    "Как мы видим, распределение пользователей по группам и доля пользователей переходящих из одного события в другое в обеих группах схоже"
   ]
  },
  {
   "cell_type": "markdown",
   "id": "0d902ee8",
   "metadata": {},
   "source": [
    "### А2/В эксперимент\n",
    "<a id='16'></a>"
   ]
  },
  {
   "cell_type": "markdown",
   "id": "352e7726",
   "metadata": {},
   "source": [
    "Посмотрим на результаты для второй контрольной группы (А2) и экспериментальной группы (В)"
   ]
  },
  {
   "cell_type": "code",
   "execution_count": 47,
   "id": "89e90f1f",
   "metadata": {
    "scrolled": true
   },
   "outputs": [
    {
     "name": "stdout",
     "output_type": "stream",
     "text": [
      "Сравнение группы A2 и B события - MainScreenAppear (посещение главного экрана), с критическим уровнем стат значимости 0.05\n",
      "\n",
      "p-значение:  [0.67231677]\n",
      "Не получилось отвергнуть нулевую гипотезу, нет оснований считать доли разными\n",
      "--------------------------------------------\n",
      "Сравнение группы A2 и B события - OffersScreenAppear (выбор товаров у офферов), с критическим уровнем стат значимости 0.05\n",
      "\n",
      "p-значение:  [0.89713765]\n",
      "Не получилось отвергнуть нулевую гипотезу, нет оснований считать доли разными\n",
      "--------------------------------------------\n",
      "Сравнение группы A2 и B события - CartScreenAppear (просмотр корзины), с критическим уровнем стат значимости 0.05\n",
      "\n",
      "p-значение:  [0.62645998]\n",
      "Не получилось отвергнуть нулевую гипотезу, нет оснований считать доли разными\n",
      "--------------------------------------------\n",
      "Сравнение группы A2 и B события - PaymentScreenSuccessful (успешная оплата), с критическим уровнем стат значимости 0.05\n",
      "\n",
      "p-значение:  [0.66803679]\n",
      "Не получилось отвергнуть нулевую гипотезу, нет оснований считать доли разными\n",
      "--------------------------------------------\n"
     ]
    }
   ],
   "source": [
    "for event in data_succes['event_name'].unique():\n",
    "    z_test('A2', 'B', event, 0.05)\n",
    "    print('--------------------------------------------')"
   ]
  },
  {
   "cell_type": "markdown",
   "id": "1b551824",
   "metadata": {},
   "source": [
    "Как мы видим, что ни для одного события разница не оказалась значимой, причем значение p_value еще более высокое чем при сравнении прошлых групп. Следовательно можно предположить, что для пользователей экспериментальной группы В по отношению к контрольной группе А2 нет достаточной разницы в использовании приложения относительно шрифтов.\n",
    "\n",
    "Посмотрим на распределение пользователей в обеих группах по событиям, чтобы оценить разбиение на группы. Для этого построим сравнительную воронку продаж по обеим группам"
   ]
  },
  {
   "cell_type": "code",
   "execution_count": 48,
   "id": "36bd0ef6",
   "metadata": {},
   "outputs": [
    {
     "data": {
      "image/png": "[encoded data removed]"
     },
     "metadata": {},
     "output_type": "display_data"
    }
   ],
   "source": [
    "distrib_funnel('A2', 'B')"
   ]
  },
  {
   "cell_type": "markdown",
   "id": "d615ecae",
   "metadata": {},
   "source": [
    "Как мы видим, распределение пользователей по группам и доля пользователей переходящих из одного события в другое в обеих группах схоже"
   ]
  },
  {
   "cell_type": "markdown",
   "id": "b7a7fae6",
   "metadata": {},
   "source": [
    "### А1+А2/В эксперимент\n",
    "<a id='17'></a>"
   ]
  },
  {
   "cell_type": "markdown",
   "id": "65f808a7",
   "metadata": {},
   "source": [
    "Посмотрим на результаты для объединенной контрольной группы (А1+А2) и экспериментальной группы (В)"
   ]
  },
  {
   "cell_type": "code",
   "execution_count": 49,
   "id": "676851cc",
   "metadata": {
    "scrolled": false
   },
   "outputs": [
    {
     "name": "stdout",
     "output_type": "stream",
     "text": [
      "Сравнение группы A1+A2 и B события - MainScreenAppear (посещение главного экрана), с критическим уровнем стат значимости 0.05\n",
      "\n",
      "p-значение:  [0.45994688]\n",
      "Не получилось отвергнуть нулевую гипотезу, нет оснований считать доли разными\n",
      "--------------------------------------------\n",
      "Сравнение группы A1+A2 и B события - OffersScreenAppear (выбор товаров у офферов), с критическим уровнем стат значимости 0.05\n",
      "\n",
      "p-значение:  [0.43034312]\n",
      "Не получилось отвергнуть нулевую гипотезу, нет оснований считать доли разными\n",
      "--------------------------------------------\n",
      "Сравнение группы A1+A2 и B события - CartScreenAppear (просмотр корзины), с критическим уровнем стат значимости 0.05\n",
      "\n",
      "p-значение:  [0.20361356]\n",
      "Не получилось отвергнуть нулевую гипотезу, нет оснований считать доли разными\n",
      "--------------------------------------------\n",
      "Сравнение группы A1+A2 и B события - PaymentScreenSuccessful (успешная оплата), с критическим уровнем стат значимости 0.05\n",
      "\n",
      "p-значение:  [0.65591289]\n",
      "Не получилось отвергнуть нулевую гипотезу, нет оснований считать доли разными\n",
      "--------------------------------------------\n"
     ]
    }
   ],
   "source": [
    "for event in data_succes['event_name'].unique():\n",
    "    z_test('A1+A2', 'B', event, 0.05)\n",
    "    print('--------------------------------------------')"
   ]
  },
  {
   "cell_type": "code",
   "execution_count": 50,
   "id": "dc2a8e61",
   "metadata": {},
   "outputs": [
    {
     "data": {
      "text/plain": [
       "[array([0.67020827]),\n",
       " array([0.26673479]),\n",
       " array([0.21811884]),\n",
       " array([0.10288527]),\n",
       " array([0.39691005]),\n",
       " array([0.21442477]),\n",
       " array([0.08564272]),\n",
       " array([0.22753675]),\n",
       " array([0.67231677]),\n",
       " array([0.89713765]),\n",
       " array([0.62645998]),\n",
       " array([0.66803679]),\n",
       " array([0.45994688]),\n",
       " array([0.43034312]),\n",
       " array([0.20361356]),\n",
       " array([0.65591289])]"
      ]
     },
     "execution_count": 50,
     "metadata": {},
     "output_type": "execute_result"
    }
   ],
   "source": [
    "#Сравнения закончены, посмотрим на наш список значений p_value\n",
    "p_value_list"
   ]
  },
  {
   "cell_type": "markdown",
   "id": "8adb4960",
   "metadata": {},
   "source": [
    "Как мы видим, ни для одного события даже объединенной контрольной группы и экспериментальной разница не оказалась значимой. Следовательно можно предположить, что для пользователей нет достаточной разницы в использовании приложений относительно шрифтов.\n",
    "\n",
    "Посмотрим на распределение пользователей в обеих группах по событиям, чтобы оценить разбиение на группы. Для этого построим сравнительную воронку продаж по обеим группам"
   ]
  },
  {
   "cell_type": "code",
   "execution_count": 51,
   "id": "1a47b7e8",
   "metadata": {},
   "outputs": [
    {
     "data": {
      "image/png": "[encoded data removed]"
     },
     "metadata": {},
     "output_type": "display_data"
    }
   ],
   "source": [
    "distrib_funnel('A1+A2', 'B')"
   ]
  },
  {
   "cell_type": "markdown",
   "id": "1a89b95b",
   "metadata": {},
   "source": [
    "Как мы видим, распределение пользователей по группам и доля пользователей переходящих из одного события в другое в обеих группах схоже"
   ]
  },
  {
   "cell_type": "markdown",
   "id": "163c330e",
   "metadata": {},
   "source": [
    "### Вывод после попарных сравнений\n",
    "<a id='18'></a>"
   ]
  },
  {
   "cell_type": "markdown",
   "id": "0a6fe472",
   "metadata": {},
   "source": [
    "Изначально проверив 2 контрольные группы (А/А эксперимент) выяснили, что ни для одного события разница пропорций не оказалась значимой. Что и должно было получится ведь интерфейс у обеих групп не отличался. Значит действительно можем с уверенностью утверждать что группы А и А2 - контрольные. Также распределение пользователей по группам и доля пользователей переходящих из одного события в другое в обеих группах схоже.\n",
    "\n",
    "Попарно сравнив контрольные и экспериментальную группы на разницу долей, также выяснили, что ни для одного события ни в одной проверке не была найдена существенная статистическая разница между пропорциями. Из этого можно сделалть вывод, что полная смена шрифтов во всем приложении никак не влияет на \"поведение\" пользователей внутри приложения. Распределение пользователей по группам и доля пользователей переходящих из одного события в другое при всех сравнениях также существенно не отличались."
   ]
  },
  {
   "cell_type": "markdown",
   "id": "02c9617d",
   "metadata": {},
   "source": [
    "### Множественные сравнения\n",
    "<a id='19'></a>"
   ]
  },
  {
   "cell_type": "markdown",
   "id": "06896802",
   "metadata": {},
   "source": [
    "В ходе проверки провели 4 попарных сравнения между группами (по каждому событию):\n",
    "- между двумя контрольными группами (А/А эксперимент) - А1 и А2\n",
    "- между первой контрольной группой и экспериментальной - А1 и В\n",
    "- между второй контрольной группой и экспериментальной - А2 и В\n",
    "- между скомбинированными контрольными группами и экспериментальной - А1+А2 и В\n",
    "\n",
    "По итогу было проведено 16 проверок (4 сравнения * 4 события). Из-за большого количество сравнений одних и тех же данных есть вероятность получения ложнопозитивного результата статистического теста. Оценим все полученые нами значения p_value"
   ]
  },
  {
   "cell_type": "code",
   "execution_count": 52,
   "id": "e485430f",
   "metadata": {
    "scrolled": true
   },
   "outputs": [
    {
     "name": "stdout",
     "output_type": "stream",
     "text": [
      "Минимальное значение p_value - [0.08564272]\n",
      "Среднее значение p_value - [0.42476432]\n",
      "Максимальное значение p_value - [0.89713765]\n"
     ]
    }
   ],
   "source": [
    "print('Минимальное значение p_value - {}'.format(pd.Series(p_value_list).min()))\n",
    "print('Среднее значение p_value - {}'.format(pd.Series(p_value_list).mean()))\n",
    "print('Максимальное значение p_value - {}'.format(pd.Series(p_value_list).max()))"
   ]
  },
  {
   "cell_type": "code",
   "execution_count": 53,
   "id": "c524f521",
   "metadata": {},
   "outputs": [
    {
     "data": {
      "text/plain": [
       "6    [0.08564271892834707]\n",
       "dtype: object"
      ]
     },
     "execution_count": 53,
     "metadata": {},
     "output_type": "execute_result"
    }
   ],
   "source": [
    "pd.Series(p_value_list)[pd.Series(p_value_list) < 0.1]"
   ]
  },
  {
   "cell_type": "markdown",
   "id": "2f1f62f2",
   "metadata": {},
   "source": [
    "Значение критерия статистической значимости (alpha) - 0,05. Самое минимальное значение p_value в наших сравнениях - около 0,09, что выше выбранного нами критерия alpha. Соответственно при уменьшении alpha наши результаты никак не изменятся и ложнопозитивного результата в нашем случае быть не может. И даже если ставить уровне значимости равным 0,1 - чтобы оценить возможность ложнонегативного результата - наши результаты изменятся только для одной из проверок, так как лишь одно значение немного но меньше 0,1. Соотвественно применять методы корректировки alpha нет смысла."
   ]
  },
  {
   "cell_type": "markdown",
   "id": "c922ad5e",
   "metadata": {},
   "source": [
    "## Общий вывод\n",
    "<a id='20'></a>"
   ]
  },
  {
   "cell_type": "markdown",
   "id": "6cbe4ff7",
   "metadata": {},
   "source": [
    "Нам необходимо было разобраться в поведении пользователей нашего мобильного приложения по продажам продуктов питания, а также исследовать результаты А/А/В эксперимента по изменению шрифтов во всем приложении.\n",
    "\n",
    "Нами были изучены набор логов пользователей - событий, совершенных пользователями в определенное время в определенной исследовательской группе.\n",
    "\n",
    "Изучив все данные, были приняты решения:\n",
    " - изменить наименование колонок,\n",
    " - скорректировать тип данных времени совершения события,\n",
    " - удалить 413 дубликатов\n",
    "\n",
    "В процессе проверки данных мы также выяснили, что нам подходит для анализа не весь представленный изначально диапазон времени с (25 июля 2019 года по 7 августа 2019 года), а лишь данные с 21:00 31 июля 2019 года, так как до этого времени происходил не полный сбор данных. \n",
    "\n",
    "По итогу мы потеряли около 1% данных - что ничтожно мало и соотвественно качество наших данных не пострадало и их вполне достаточно для изучения и анализа.\n",
    "\n",
    "Основные параметры после всех изменений в данных:\n",
    " \n",
    "- Итоговый диапазон времени - с 21:00 31 июля 2019 по 07 августа 2019\n",
    "- Общее количество событий в логе - 241724\n",
    "- Общее количество пользователей в логе - 7538\n",
    "\n",
    "Мы смогли предположить порядок совершения событий пользователями:\n",
    "1. Пользователь открывает главный экран приложения (большего всего пользователей - 98%), затем\n",
    "2. Просматривает продукты в каталогах офферов и складывает их в корзину (61% от всех пользователей)\n",
    "3. Просматривает заполненную корзину и при необходимости корректирует ее (50% от всех пользователей)\n",
    "4. Успешно оплачивает выбранные товары (47% от всех пользователей)\n",
    "\n",
    "Почти половина первоначальных пользователей проходят весь путь и доходят до страницы успешной оплаты - 47% всех пользователей, просматривающих главную страницу. Это довольно успешный результат.\n",
    "\n",
    "Также присутствует событие - просмотр руководства пользователя (пользуется около 11% из всех посетителей). Возможно есть трудности с интерфейсом приложения. Однако это событие непосредственно не влияет на факт успешной оплаты, и поэтому мы исключили его именно из воронки продажи.\n",
    "\n",
    "Построив воронку продаж мы увидели, что больший процент потери пользователей (38%) происходит при переходе с главного экрана приложения на экран предложения офферов. Это достаточно большой процент потери заинтересованности - возможно:\n",
    "- присутствует какая то техническая проблема связанная с переходом с главного экрана на экран выбора товаров связанных с определенными мобильными устройствами либо не связанными с ними,\n",
    "- либо не интуитивно понятный интерфейс главного экрана, что осложняет переход с него на экран выбора товаров - в связи с этим и потребность пользователей заходить на экран руководства пользователя.\n",
    "\n",
    "В дальнейшем большая часть пользователей \"остается с нами\":\n",
    "- 81% от пользователей выбирающих продукты в каталогах - складывают товары в корзину\n",
    "- 95% пользователей, сформировавших корзину - совершают успешную покупку\n",
    "\n",
    "Чтобы ответить на вопрос, о необходимости смены шрифтов во всем приложении было проведено А/А/В тестирование. Пользователи были разделены на 3 группы:\n",
    "\n",
    "- 246 и 247 - контрольные - с изначальными шрифтами (А1 и А2)\n",
    "- 248 - экспериментальная - с измененными шрифтами (В)\n",
    "\n",
    "В ходе проверки провели 4 попарных сравнения между группами (по каждому событию):\n",
    "\n",
    "- между двумя контрольными группами (А/А эксперимент) - А1 и А2\n",
    "- между первой контрольной группой и экспериментальной - А1 и В\n",
    "- между второй контрольной группой и экспериментальной - А2 и В\n",
    "- между скомбинированными контрольными группами и экспериментальной - А1+А2 и В\n",
    "\n",
    "По итогу было проведено 16 проверок (4 сравнения * 4 события)\n",
    "\n",
    "Проверку проводили с помощью z-теста (проверка гипотезы о равенстве долей - сравнение пропорций двух генеральных совокупностей по выборкам из них), сравнивая выборки для каждого события - количество пользователей в группе и количество пользователей события в группе\n",
    "\n",
    "Сформулировали гипотезы:\n",
    "- Нулевая гипотеза - Нет статистически значимой разницы между группами\n",
    "- Альтернативная гипотеза - Существует существенная разница между пропорциями в группах\n",
    "\n",
    "Изначально проверили 2 контрольные группы (А/А эксперимент) (для этого узнали находятся ли статистически значимая разница между выборками А1 и А2 для каждого события) и выяснили, что ни для одного события разница не оказалась значимой. Что и должно было получится ведь интерфейс у обеих групп не отличался. Значит действительно можем с уверенностью утверждать что группы А и А2 - контрольные. Также распределение пользователей по группам и доля пользователей переходящих из одного события в другое в обеих группах схоже.\n",
    "\n",
    "Далее попарно сравнивали контрольные и экспериментальную группы на разницу долей. И ни для одного события ни в одной проверке не была найдена существенная статистическая разница между пропорциями. Из этого можно сделалть вывод, что полная смена шрифтов во всем приложении никак не влияет на \"поведение\" пользователей внутри приложения.\n",
    "\n",
    "Также высянили, что самое популярное событие во всех группах — посещение главной страницы, что естественно для любого мобильного приложения. Пользователи по всем группам и событиям были правильно разделены.\n"
   ]
  }
 ],
 "metadata": {
  "ExecuteTimeLog": [
   {
    "duration": 17,
    "start_time": "2023-04-17T07:00:29.506Z"
   },
   {
    "duration": 12,
    "start_time": "2023-04-17T07:00:29.528Z"
   },
   {
    "duration": 12,
    "start_time": "2023-04-17T07:00:29.543Z"
   },
   {
    "duration": 253,
    "start_time": "2023-04-17T07:00:29.558Z"
   },
   {
    "duration": 377,
    "start_time": "2023-04-17T07:00:29.814Z"
   },
   {
    "duration": 73,
    "start_time": "2023-04-17T07:00:30.201Z"
   },
   {
    "duration": 3,
    "start_time": "2023-04-17T07:00:30.276Z"
   },
   {
    "duration": 215,
    "start_time": "2023-04-17T07:00:30.282Z"
   },
   {
    "duration": 5,
    "start_time": "2023-04-17T07:00:30.501Z"
   },
   {
    "duration": 46,
    "start_time": "2023-04-17T07:00:30.508Z"
   },
   {
    "duration": 35,
    "start_time": "2023-04-17T07:00:30.556Z"
   },
   {
    "duration": 1527,
    "start_time": "2023-04-17T07:00:30.593Z"
   },
   {
    "duration": 45,
    "start_time": "2023-04-17T07:00:32.123Z"
   },
   {
    "duration": 29,
    "start_time": "2023-04-17T07:00:32.170Z"
   },
   {
    "duration": 1213,
    "start_time": "2023-04-17T07:00:32.204Z"
   },
   {
    "duration": 461,
    "start_time": "2023-04-17T07:00:33.419Z"
   },
   {
    "duration": 27,
    "start_time": "2023-04-17T07:00:33.882Z"
   },
   {
    "duration": 45,
    "start_time": "2023-04-17T07:00:33.917Z"
   },
   {
    "duration": 6,
    "start_time": "2023-04-17T07:00:33.964Z"
   },
   {
    "duration": 63,
    "start_time": "2023-04-17T07:00:33.973Z"
   },
   {
    "duration": 3,
    "start_time": "2023-04-17T07:00:34.040Z"
   },
   {
    "duration": 30,
    "start_time": "2023-04-17T07:00:34.045Z"
   },
   {
    "duration": 66,
    "start_time": "2023-04-17T07:00:34.077Z"
   },
   {
    "duration": 28,
    "start_time": "2023-04-17T07:00:34.145Z"
   },
   {
    "duration": 274,
    "start_time": "2023-04-17T07:00:34.175Z"
   },
   {
    "duration": 85,
    "start_time": "2023-04-17T07:00:34.451Z"
   },
   {
    "duration": 261,
    "start_time": "2023-04-17T07:00:34.538Z"
   },
   {
    "duration": 4,
    "start_time": "2023-04-17T07:00:34.801Z"
   },
   {
    "duration": 82,
    "start_time": "2023-04-17T07:00:34.807Z"
   },
   {
    "duration": 32,
    "start_time": "2023-04-17T07:00:34.892Z"
   },
   {
    "duration": 19,
    "start_time": "2023-04-17T07:00:34.926Z"
   },
   {
    "duration": 84,
    "start_time": "2023-04-17T07:00:34.947Z"
   },
   {
    "duration": 18,
    "start_time": "2023-04-17T07:00:35.042Z"
   },
   {
    "duration": 17,
    "start_time": "2023-04-17T07:00:35.062Z"
   },
   {
    "duration": 205,
    "start_time": "2023-04-17T07:00:35.084Z"
   },
   {
    "duration": 157,
    "start_time": "2023-04-17T07:00:35.292Z"
   },
   {
    "duration": 120,
    "start_time": "2023-04-17T07:00:35.451Z"
   },
   {
    "duration": 14,
    "start_time": "2023-04-17T07:00:35.573Z"
   },
   {
    "duration": 51,
    "start_time": "2023-04-17T07:00:35.594Z"
   },
   {
    "duration": 50,
    "start_time": "2023-04-17T07:00:35.648Z"
   },
   {
    "duration": 6,
    "start_time": "2023-04-17T07:00:35.699Z"
   },
   {
    "duration": 51,
    "start_time": "2023-04-17T07:00:35.707Z"
   },
   {
    "duration": 41,
    "start_time": "2023-04-17T07:00:35.761Z"
   },
   {
    "duration": 28,
    "start_time": "2023-04-17T07:00:35.806Z"
   },
   {
    "duration": 20,
    "start_time": "2023-04-17T07:00:35.836Z"
   },
   {
    "duration": 33,
    "start_time": "2023-04-17T07:00:35.858Z"
   },
   {
    "duration": 39,
    "start_time": "2023-04-17T07:00:35.894Z"
   },
   {
    "duration": 7,
    "start_time": "2023-04-17T07:00:35.935Z"
   },
   {
    "duration": 28,
    "start_time": "2023-04-17T07:00:35.944Z"
   },
   {
    "duration": 41,
    "start_time": "2023-04-17T07:00:35.975Z"
   },
   {
    "duration": 11,
    "start_time": "2023-04-17T07:00:36.019Z"
   },
   {
    "duration": 15,
    "start_time": "2023-04-17T07:00:36.033Z"
   },
   {
    "duration": 17,
    "start_time": "2023-04-17T07:00:36.050Z"
   },
   {
    "duration": 34,
    "start_time": "2023-04-17T07:04:48.337Z"
   },
   {
    "duration": 1408,
    "start_time": "2023-04-17T07:04:48.373Z"
   },
   {
    "duration": 4,
    "start_time": "2023-04-17T07:04:49.783Z"
   },
   {
    "duration": 335,
    "start_time": "2023-04-17T07:04:49.789Z"
   },
   {
    "duration": 328,
    "start_time": "2023-04-17T07:04:50.127Z"
   },
   {
    "duration": 116,
    "start_time": "2023-04-17T07:04:50.458Z"
   },
   {
    "duration": 4,
    "start_time": "2023-04-17T07:04:50.576Z"
   },
   {
    "duration": 250,
    "start_time": "2023-04-17T07:04:50.583Z"
   },
   {
    "duration": 10,
    "start_time": "2023-04-17T07:04:50.838Z"
   },
   {
    "duration": 15,
    "start_time": "2023-04-17T07:04:50.851Z"
   },
   {
    "duration": 11,
    "start_time": "2023-04-17T07:04:50.868Z"
   },
   {
    "duration": 1402,
    "start_time": "2023-04-17T07:04:50.900Z"
   },
   {
    "duration": 54,
    "start_time": "2023-04-17T07:04:52.303Z"
   },
   {
    "duration": 15,
    "start_time": "2023-04-17T07:04:52.361Z"
   },
   {
    "duration": 1244,
    "start_time": "2023-04-17T07:04:52.379Z"
   },
   {
    "duration": 520,
    "start_time": "2023-04-17T07:04:53.625Z"
   },
   {
    "duration": 28,
    "start_time": "2023-04-17T07:04:54.147Z"
   },
   {
    "duration": 72,
    "start_time": "2023-04-17T07:04:54.177Z"
   },
   {
    "duration": 7,
    "start_time": "2023-04-17T07:04:54.251Z"
   },
   {
    "duration": 71,
    "start_time": "2023-04-17T07:04:54.260Z"
   },
   {
    "duration": 5,
    "start_time": "2023-04-17T07:04:54.336Z"
   },
   {
    "duration": 25,
    "start_time": "2023-04-17T07:04:54.343Z"
   },
   {
    "duration": 35,
    "start_time": "2023-04-17T07:04:54.370Z"
   },
   {
    "duration": 41,
    "start_time": "2023-04-17T07:04:54.406Z"
   },
   {
    "duration": 288,
    "start_time": "2023-04-17T07:04:54.449Z"
   },
   {
    "duration": 111,
    "start_time": "2023-04-17T07:04:54.739Z"
   },
   {
    "duration": 259,
    "start_time": "2023-04-17T07:04:54.852Z"
   },
   {
    "duration": 4,
    "start_time": "2023-04-17T07:04:55.113Z"
   },
   {
    "duration": 19,
    "start_time": "2023-04-17T07:04:55.119Z"
   },
   {
    "duration": 476,
    "start_time": "2023-04-17T07:04:55.144Z"
   },
   {
    "duration": 36,
    "start_time": "2023-04-17T07:04:55.622Z"
   },
   {
    "duration": 139,
    "start_time": "2023-04-17T07:04:55.661Z"
   },
   {
    "duration": 29,
    "start_time": "2023-04-17T07:04:55.803Z"
   },
   {
    "duration": 4,
    "start_time": "2023-04-17T07:04:55.834Z"
   },
   {
    "duration": 207,
    "start_time": "2023-04-17T07:04:55.841Z"
   },
   {
    "duration": 137,
    "start_time": "2023-04-17T07:04:56.051Z"
   },
   {
    "duration": 96,
    "start_time": "2023-04-17T07:04:56.190Z"
   },
   {
    "duration": 15,
    "start_time": "2023-04-17T07:04:56.296Z"
   },
   {
    "duration": 22,
    "start_time": "2023-04-17T07:04:56.314Z"
   },
   {
    "duration": 33,
    "start_time": "2023-04-17T07:04:56.338Z"
   },
   {
    "duration": 3,
    "start_time": "2023-04-17T07:04:56.377Z"
   },
   {
    "duration": 27,
    "start_time": "2023-04-17T07:04:56.383Z"
   },
   {
    "duration": 38,
    "start_time": "2023-04-17T07:04:56.412Z"
   },
   {
    "duration": 22,
    "start_time": "2023-04-17T07:04:56.453Z"
   },
   {
    "duration": 9,
    "start_time": "2023-04-17T07:04:56.495Z"
   },
   {
    "duration": 16,
    "start_time": "2023-04-17T07:04:56.506Z"
   },
   {
    "duration": 33,
    "start_time": "2023-04-17T07:04:56.524Z"
   },
   {
    "duration": 3,
    "start_time": "2023-04-17T07:04:56.560Z"
   },
   {
    "duration": 35,
    "start_time": "2023-04-17T07:04:56.564Z"
   },
   {
    "duration": 29,
    "start_time": "2023-04-17T07:04:56.604Z"
   },
   {
    "duration": 14,
    "start_time": "2023-04-17T07:04:56.640Z"
   },
   {
    "duration": 18,
    "start_time": "2023-04-17T07:04:56.659Z"
   },
   {
    "duration": 8,
    "start_time": "2023-04-17T07:04:56.680Z"
   },
   {
    "duration": 52,
    "start_time": "2023-04-17T07:39:58.525Z"
   },
   {
    "duration": 1532,
    "start_time": "2023-04-17T07:40:11.284Z"
   },
   {
    "duration": 75,
    "start_time": "2023-04-17T07:40:20.216Z"
   },
   {
    "duration": 7,
    "start_time": "2023-04-17T07:40:28.240Z"
   },
   {
    "duration": 3,
    "start_time": "2023-04-17T07:40:28.384Z"
   },
   {
    "duration": 4,
    "start_time": "2023-04-17T07:40:28.534Z"
   },
   {
    "duration": 813,
    "start_time": "2023-04-17T07:40:29.113Z"
   },
   {
    "duration": 245,
    "start_time": "2023-04-17T07:40:29.928Z"
   },
   {
    "duration": 69,
    "start_time": "2023-04-17T07:40:30.174Z"
   },
   {
    "duration": 3,
    "start_time": "2023-04-17T07:40:30.245Z"
   },
   {
    "duration": 184,
    "start_time": "2023-04-17T07:40:30.250Z"
   },
   {
    "duration": 6,
    "start_time": "2023-04-17T07:40:30.558Z"
   },
   {
    "duration": 11,
    "start_time": "2023-04-17T07:40:30.734Z"
   },
   {
    "duration": 9,
    "start_time": "2023-04-17T07:40:31.069Z"
   },
   {
    "duration": 939,
    "start_time": "2023-04-17T07:40:31.382Z"
   },
   {
    "duration": 38,
    "start_time": "2023-04-17T07:40:32.679Z"
   },
   {
    "duration": 5,
    "start_time": "2023-04-17T07:40:33.051Z"
   },
   {
    "duration": 889,
    "start_time": "2023-04-17T07:40:33.415Z"
   },
   {
    "duration": 405,
    "start_time": "2023-04-17T07:40:34.306Z"
   },
   {
    "duration": 17,
    "start_time": "2023-04-17T07:40:34.712Z"
   },
   {
    "duration": 35,
    "start_time": "2023-04-17T07:40:34.756Z"
   },
   {
    "duration": 5,
    "start_time": "2023-04-17T07:40:35.007Z"
   },
   {
    "duration": 47,
    "start_time": "2023-04-17T07:40:35.815Z"
   },
   {
    "duration": 4,
    "start_time": "2023-04-17T07:40:36.610Z"
   },
   {
    "duration": 18,
    "start_time": "2023-04-17T07:40:37.184Z"
   },
   {
    "duration": 23,
    "start_time": "2023-04-17T07:40:38.680Z"
   },
   {
    "duration": 27,
    "start_time": "2023-04-17T07:40:39.302Z"
   },
   {
    "duration": 199,
    "start_time": "2023-04-17T07:40:39.615Z"
   },
   {
    "duration": 68,
    "start_time": "2023-04-17T07:40:40.483Z"
   },
   {
    "duration": 190,
    "start_time": "2023-04-17T07:40:40.913Z"
   },
   {
    "duration": 4,
    "start_time": "2023-04-17T07:40:42.878Z"
   },
   {
    "duration": 11,
    "start_time": "2023-04-17T07:40:43.415Z"
   },
   {
    "duration": 149,
    "start_time": "2023-04-17T07:40:44.514Z"
   },
   {
    "duration": 12,
    "start_time": "2023-04-17T07:40:51.017Z"
   },
   {
    "duration": 53,
    "start_time": "2023-04-17T07:40:55.514Z"
   },
   {
    "duration": 12,
    "start_time": "2023-04-17T07:40:55.719Z"
   },
   {
    "duration": 2,
    "start_time": "2023-04-17T07:40:55.920Z"
   },
   {
    "duration": 136,
    "start_time": "2023-04-17T07:40:56.113Z"
   },
   {
    "duration": 95,
    "start_time": "2023-04-17T07:40:56.647Z"
   },
   {
    "duration": 85,
    "start_time": "2023-04-17T07:40:57.059Z"
   },
   {
    "duration": 8,
    "start_time": "2023-04-17T07:41:03.625Z"
   },
   {
    "duration": 5,
    "start_time": "2023-04-17T07:41:04.047Z"
   },
   {
    "duration": 16,
    "start_time": "2023-04-17T07:41:47.686Z"
   },
   {
    "duration": 4,
    "start_time": "2023-04-17T07:41:48.212Z"
   },
   {
    "duration": 11,
    "start_time": "2023-04-17T07:41:53.371Z"
   },
   {
    "duration": 20,
    "start_time": "2023-04-17T07:41:58.201Z"
   },
   {
    "duration": 19,
    "start_time": "2023-04-17T07:42:02.526Z"
   },
   {
    "duration": 2,
    "start_time": "2023-04-17T07:42:03.095Z"
   },
   {
    "duration": 9,
    "start_time": "2023-04-17T07:42:04.383Z"
   },
   {
    "duration": 18,
    "start_time": "2023-04-17T07:42:11.344Z"
   },
   {
    "duration": 3,
    "start_time": "2023-04-17T07:42:11.779Z"
   },
   {
    "duration": 11,
    "start_time": "2023-04-17T07:42:13.679Z"
   },
   {
    "duration": 17,
    "start_time": "2023-04-17T07:42:21.610Z"
   },
   {
    "duration": 4,
    "start_time": "2023-04-17T07:42:22.228Z"
   },
   {
    "duration": 10,
    "start_time": "2023-04-17T07:42:23.776Z"
   },
   {
    "duration": 6,
    "start_time": "2023-04-17T07:42:46.484Z"
   },
   {
    "duration": 7,
    "start_time": "2023-04-17T07:48:19.850Z"
   },
   {
    "duration": 15,
    "start_time": "2023-04-17T07:48:28.346Z"
   },
   {
    "duration": 23,
    "start_time": "2023-04-17T07:49:05.537Z"
   },
   {
    "duration": 12,
    "start_time": "2023-04-17T07:49:23.850Z"
   },
   {
    "duration": 13,
    "start_time": "2023-04-17T07:49:36.962Z"
   },
   {
    "duration": 92,
    "start_time": "2023-04-17T07:50:01.183Z"
   },
   {
    "duration": 18,
    "start_time": "2023-04-17T07:50:07.514Z"
   },
   {
    "duration": 19,
    "start_time": "2023-04-17T07:50:16.538Z"
   },
   {
    "duration": 17,
    "start_time": "2023-04-17T07:50:55.330Z"
   },
   {
    "duration": 26,
    "start_time": "2023-04-17T07:51:04.126Z"
   },
   {
    "duration": 21,
    "start_time": "2023-04-17T07:51:16.629Z"
   },
   {
    "duration": 6,
    "start_time": "2023-04-17T07:51:33.855Z"
   },
   {
    "duration": 7,
    "start_time": "2023-04-17T07:53:44.222Z"
   },
   {
    "duration": 57,
    "start_time": "2023-04-18T05:15:17.562Z"
   },
   {
    "duration": 10,
    "start_time": "2023-04-18T05:15:31.648Z"
   },
   {
    "duration": 1506,
    "start_time": "2023-04-18T05:15:31.804Z"
   },
   {
    "duration": 4,
    "start_time": "2023-04-18T05:15:33.312Z"
   },
   {
    "duration": 560,
    "start_time": "2023-04-18T05:15:33.317Z"
   },
   {
    "duration": 300,
    "start_time": "2023-04-18T05:15:33.879Z"
   },
   {
    "duration": 80,
    "start_time": "2023-04-18T05:15:34.181Z"
   },
   {
    "duration": 2,
    "start_time": "2023-04-18T05:15:34.263Z"
   },
   {
    "duration": 163,
    "start_time": "2023-04-18T05:15:34.267Z"
   },
   {
    "duration": 5,
    "start_time": "2023-04-18T05:15:34.434Z"
   },
   {
    "duration": 11,
    "start_time": "2023-04-18T05:15:34.566Z"
   },
   {
    "duration": 9,
    "start_time": "2023-04-18T05:15:34.765Z"
   },
   {
    "duration": 1041,
    "start_time": "2023-04-18T05:15:35.172Z"
   },
   {
    "duration": 47,
    "start_time": "2023-04-18T05:15:36.545Z"
   },
   {
    "duration": 5,
    "start_time": "2023-04-18T05:15:36.966Z"
   },
   {
    "duration": 878,
    "start_time": "2023-04-18T05:15:37.434Z"
   },
   {
    "duration": 405,
    "start_time": "2023-04-18T05:15:38.314Z"
   },
   {
    "duration": 23,
    "start_time": "2023-04-18T05:15:38.721Z"
   },
   {
    "duration": 9,
    "start_time": "2023-04-18T05:16:13.677Z"
   },
   {
    "duration": 37,
    "start_time": "2023-04-18T05:17:49.849Z"
   },
   {
    "duration": 31,
    "start_time": "2023-04-18T05:18:13.531Z"
   },
   {
    "duration": 124,
    "start_time": "2023-04-18T05:18:44.701Z"
   },
   {
    "duration": 24,
    "start_time": "2023-04-18T05:18:53.485Z"
   },
   {
    "duration": 23,
    "start_time": "2023-04-18T05:19:18.461Z"
   },
   {
    "duration": 25,
    "start_time": "2023-04-18T05:19:49.234Z"
   },
   {
    "duration": 25,
    "start_time": "2023-04-18T05:19:55.474Z"
   },
   {
    "duration": 20,
    "start_time": "2023-04-18T05:20:25.637Z"
   },
   {
    "duration": 22,
    "start_time": "2023-04-18T05:20:31.682Z"
   },
   {
    "duration": 21,
    "start_time": "2023-04-18T05:21:07.593Z"
   },
   {
    "duration": 21,
    "start_time": "2023-04-18T05:22:21.417Z"
   },
   {
    "duration": 47,
    "start_time": "2023-04-18T05:23:44.425Z"
   },
   {
    "duration": 46,
    "start_time": "2023-04-18T05:23:48.637Z"
   },
   {
    "duration": 48,
    "start_time": "2023-04-18T05:23:52.644Z"
   },
   {
    "duration": 268,
    "start_time": "2023-04-18T05:33:11.125Z"
   },
   {
    "duration": 678,
    "start_time": "2023-04-18T05:33:42.174Z"
   },
   {
    "duration": 576,
    "start_time": "2023-04-18T05:34:07.894Z"
   },
   {
    "duration": 342,
    "start_time": "2023-04-18T05:35:45.005Z"
   },
   {
    "duration": 336,
    "start_time": "2023-04-18T05:35:56.835Z"
   },
   {
    "duration": 764,
    "start_time": "2023-04-18T05:36:50.545Z"
   },
   {
    "duration": 606,
    "start_time": "2023-04-18T05:37:21.959Z"
   },
   {
    "duration": 217,
    "start_time": "2023-04-18T05:37:54.843Z"
   },
   {
    "duration": 234,
    "start_time": "2023-04-18T05:38:04.339Z"
   },
   {
    "duration": 230,
    "start_time": "2023-04-18T05:38:16.932Z"
   },
   {
    "duration": 207,
    "start_time": "2023-04-18T05:38:21.871Z"
   },
   {
    "duration": 324,
    "start_time": "2023-04-18T05:38:30.054Z"
   },
   {
    "duration": 219,
    "start_time": "2023-04-18T05:38:40.548Z"
   },
   {
    "duration": 622,
    "start_time": "2023-04-18T05:40:25.527Z"
   },
   {
    "duration": 7,
    "start_time": "2023-04-18T05:41:55.717Z"
   },
   {
    "duration": 16,
    "start_time": "2023-04-18T05:42:13.409Z"
   },
   {
    "duration": 16,
    "start_time": "2023-04-18T05:42:24.508Z"
   },
   {
    "duration": 12,
    "start_time": "2023-04-18T05:43:17.638Z"
   },
   {
    "duration": 8,
    "start_time": "2023-04-18T05:43:51.050Z"
   },
   {
    "duration": 9,
    "start_time": "2023-04-18T05:43:55.795Z"
   },
   {
    "duration": 8,
    "start_time": "2023-04-18T05:43:59.114Z"
   },
   {
    "duration": 7,
    "start_time": "2023-04-18T05:44:32.569Z"
   },
   {
    "duration": 34,
    "start_time": "2023-04-18T05:45:15.903Z"
   },
   {
    "duration": 7,
    "start_time": "2023-04-18T05:45:23.263Z"
   },
   {
    "duration": 7,
    "start_time": "2023-04-18T05:46:29.647Z"
   },
   {
    "duration": 4,
    "start_time": "2023-04-18T05:46:30.929Z"
   },
   {
    "duration": 28,
    "start_time": "2023-04-18T05:46:52.829Z"
   },
   {
    "duration": 5,
    "start_time": "2023-04-18T05:46:54.497Z"
   },
   {
    "duration": 51,
    "start_time": "2023-04-18T05:49:16.070Z"
   },
   {
    "duration": 4,
    "start_time": "2023-04-18T05:49:44.189Z"
   },
   {
    "duration": 18,
    "start_time": "2023-04-18T05:50:26.171Z"
   },
   {
    "duration": 19,
    "start_time": "2023-04-18T05:51:05.831Z"
   },
   {
    "duration": 26,
    "start_time": "2023-04-18T05:51:08.135Z"
   },
   {
    "duration": 213,
    "start_time": "2023-04-18T05:51:10.323Z"
   },
   {
    "duration": 74,
    "start_time": "2023-04-18T05:51:34.907Z"
   },
   {
    "duration": 221,
    "start_time": "2023-04-18T05:51:39.776Z"
   },
   {
    "duration": 4,
    "start_time": "2023-04-18T05:52:22.425Z"
   },
   {
    "duration": 12,
    "start_time": "2023-04-18T05:52:24.204Z"
   },
   {
    "duration": 201,
    "start_time": "2023-04-18T05:52:28.537Z"
   },
   {
    "duration": 12,
    "start_time": "2023-04-18T05:52:40.507Z"
   },
   {
    "duration": 48,
    "start_time": "2023-04-18T05:53:03.173Z"
   },
   {
    "duration": 16,
    "start_time": "2023-04-18T05:53:04.743Z"
   },
   {
    "duration": 153,
    "start_time": "2023-04-18T05:53:20.413Z"
   },
   {
    "duration": 86,
    "start_time": "2023-04-18T05:53:28.014Z"
   },
   {
    "duration": 70,
    "start_time": "2023-04-18T05:53:39.176Z"
   },
   {
    "duration": 12,
    "start_time": "2023-04-18T05:53:46.575Z"
   },
   {
    "duration": 4,
    "start_time": "2023-04-18T05:53:50.328Z"
   },
   {
    "duration": 20,
    "start_time": "2023-04-18T05:54:52.595Z"
   },
   {
    "duration": 14,
    "start_time": "2023-04-18T05:55:01.722Z"
   },
   {
    "duration": 19,
    "start_time": "2023-04-18T05:55:13.391Z"
   },
   {
    "duration": 19,
    "start_time": "2023-04-18T05:55:25.952Z"
   },
   {
    "duration": 148,
    "start_time": "2023-04-18T05:55:38.505Z"
   },
   {
    "duration": 17,
    "start_time": "2023-04-18T05:55:43.672Z"
   },
   {
    "duration": 10,
    "start_time": "2023-04-18T05:56:11.748Z"
   },
   {
    "duration": 17,
    "start_time": "2023-04-18T05:56:18.746Z"
   },
   {
    "duration": 7,
    "start_time": "2023-04-18T05:56:22.873Z"
   },
   {
    "duration": 11,
    "start_time": "2023-04-18T05:56:30.467Z"
   },
   {
    "duration": 8,
    "start_time": "2023-04-18T05:56:38.874Z"
   },
   {
    "duration": 6,
    "start_time": "2023-04-18T05:57:51.142Z"
   },
   {
    "duration": 8,
    "start_time": "2023-04-18T05:58:10.044Z"
   },
   {
    "duration": 6,
    "start_time": "2023-04-18T05:58:16.650Z"
   },
   {
    "duration": 7,
    "start_time": "2023-04-18T05:58:33.648Z"
   },
   {
    "duration": 9,
    "start_time": "2023-04-18T07:47:25.806Z"
   },
   {
    "duration": 1054,
    "start_time": "2023-04-18T07:47:25.817Z"
   },
   {
    "duration": 2,
    "start_time": "2023-04-18T07:47:26.873Z"
   },
   {
    "duration": 754,
    "start_time": "2023-04-18T07:47:26.877Z"
   },
   {
    "duration": 198,
    "start_time": "2023-04-18T07:47:27.633Z"
   },
   {
    "duration": 64,
    "start_time": "2023-04-18T07:47:27.832Z"
   },
   {
    "duration": 2,
    "start_time": "2023-04-18T07:47:27.898Z"
   },
   {
    "duration": 122,
    "start_time": "2023-04-18T07:47:27.902Z"
   },
   {
    "duration": 4,
    "start_time": "2023-04-18T07:47:28.025Z"
   },
   {
    "duration": 11,
    "start_time": "2023-04-18T07:47:28.030Z"
   },
   {
    "duration": 7,
    "start_time": "2023-04-18T07:47:28.043Z"
   },
   {
    "duration": 808,
    "start_time": "2023-04-18T07:47:28.051Z"
   },
   {
    "duration": 32,
    "start_time": "2023-04-18T07:47:28.862Z"
   },
   {
    "duration": 4,
    "start_time": "2023-04-18T07:47:28.896Z"
   },
   {
    "duration": 638,
    "start_time": "2023-04-18T07:47:28.902Z"
   },
   {
    "duration": 309,
    "start_time": "2023-04-18T07:47:29.542Z"
   },
   {
    "duration": 563,
    "start_time": "2023-04-18T07:47:29.852Z"
   },
   {
    "duration": 6,
    "start_time": "2023-04-18T07:47:30.417Z"
   },
   {
    "duration": 72,
    "start_time": "2023-04-18T07:47:30.424Z"
   },
   {
    "duration": 6,
    "start_time": "2023-04-18T07:47:30.498Z"
   },
   {
    "duration": 50,
    "start_time": "2023-04-18T07:47:30.505Z"
   },
   {
    "duration": 6,
    "start_time": "2023-04-18T07:47:30.557Z"
   },
   {
    "duration": 141,
    "start_time": "2023-04-18T07:47:30.564Z"
   },
   {
    "duration": 13,
    "start_time": "2023-04-18T07:47:30.707Z"
   },
   {
    "duration": 86,
    "start_time": "2023-04-18T07:47:30.721Z"
   },
   {
    "duration": 36,
    "start_time": "2023-04-18T07:47:30.809Z"
   },
   {
    "duration": 74,
    "start_time": "2023-04-18T07:47:30.847Z"
   },
   {
    "duration": 214,
    "start_time": "2023-04-18T07:47:30.923Z"
   },
   {
    "duration": 68,
    "start_time": "2023-04-18T07:47:31.139Z"
   },
   {
    "duration": 319,
    "start_time": "2023-04-18T07:47:31.209Z"
   },
   {
    "duration": 2,
    "start_time": "2023-04-18T07:47:31.530Z"
   },
   {
    "duration": 44,
    "start_time": "2023-04-18T07:47:31.534Z"
   },
   {
    "duration": 358,
    "start_time": "2023-04-18T07:47:31.579Z"
   },
   {
    "duration": 11,
    "start_time": "2023-04-18T07:47:31.938Z"
   },
   {
    "duration": 52,
    "start_time": "2023-04-18T07:47:31.950Z"
   },
   {
    "duration": 10,
    "start_time": "2023-04-18T07:47:32.003Z"
   },
   {
    "duration": 154,
    "start_time": "2023-04-18T07:47:32.017Z"
   },
   {
    "duration": 83,
    "start_time": "2023-04-18T07:47:32.172Z"
   },
   {
    "duration": 71,
    "start_time": "2023-04-18T07:47:32.256Z"
   },
   {
    "duration": 7,
    "start_time": "2023-04-18T07:47:32.328Z"
   },
   {
    "duration": 35,
    "start_time": "2023-04-18T07:47:32.337Z"
   },
   {
    "duration": 23,
    "start_time": "2023-04-18T07:47:32.373Z"
   },
   {
    "duration": 9,
    "start_time": "2023-04-18T07:47:32.398Z"
   },
   {
    "duration": 14,
    "start_time": "2023-04-18T07:47:32.408Z"
   },
   {
    "duration": 15,
    "start_time": "2023-04-18T07:47:32.423Z"
   },
   {
    "duration": 19,
    "start_time": "2023-04-18T07:47:32.440Z"
   },
   {
    "duration": 14,
    "start_time": "2023-04-18T07:47:32.460Z"
   },
   {
    "duration": 26,
    "start_time": "2023-04-18T07:47:32.475Z"
   },
   {
    "duration": 14,
    "start_time": "2023-04-18T07:47:32.502Z"
   },
   {
    "duration": 9,
    "start_time": "2023-04-18T07:47:32.517Z"
   },
   {
    "duration": 12,
    "start_time": "2023-04-18T07:47:32.528Z"
   },
   {
    "duration": 7,
    "start_time": "2023-04-18T07:47:32.541Z"
   },
   {
    "duration": 6,
    "start_time": "2023-04-18T07:47:32.550Z"
   }
  ],
  "kernelspec": {
   "display_name": "Python 3 (ipykernel)",
   "language": "python",
   "name": "python3"
  },
  "language_info": {
   "codemirror_mode": {
    "name": "ipython",
    "version": 3
   },
   "file_extension": ".py",
   "mimetype": "text/x-python",
   "name": "python",
   "nbconvert_exporter": "python",
   "pygments_lexer": "ipython3",
   "version": "3.9.13"
  },
  "toc": {
   "base_numbering": 1,
   "nav_menu": {
    "height": "76px",
    "width": "160px"
   },
   "number_sections": true,
   "sideBar": true,
   "skip_h1_title": true,
   "title_cell": "Table of Contents",
   "title_sidebar": "Contents",
   "toc_cell": true,
   "toc_position": {
    "height": "calc(100% - 180px)",
    "left": "10px",
    "top": "150px",
    "width": "352.656px"
   },
   "toc_section_display": true,
   "toc_window_display": true
  }
 },
 "nbformat": 4,
 "nbformat_minor": 5
}
