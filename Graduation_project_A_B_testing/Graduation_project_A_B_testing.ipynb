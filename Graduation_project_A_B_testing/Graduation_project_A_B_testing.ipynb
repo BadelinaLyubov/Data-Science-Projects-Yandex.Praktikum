{
 "cells": [
  {
   "cell_type": "markdown",
   "id": "88440faa",
   "metadata": {},
   "source": [
    "# Содержание\n",
    "- [1. Загрузка данных и их первоначальный анализ](#1)\n",
    "    - [1.1 Подготовка к работе](#2)\n",
    "    - [1.2 Загрузим и изучим данные](#3)\n",
    "        - [1.2.1 Датасет - календарь маркетинговых событий](#4)\n",
    "        - [1.2.2 Датасет - новые пользователи](#5)\n",
    "        - [1.2.3 Датасет - участники тестов](#6)\n",
    "        - [1.2.4 Датасет - действие новых пользователей](#7)\n",
    "        - [1.2.5 Промежуточный вывод после изучения данных](#8)\n",
    "    - [1.3 Предобработка данных](#9)\n",
    "        - [1.3.1 Корректировка типов данных](#10)\n",
    "        - [1.3.2 Исключение пользователей зарегистрировавшихся после 21.12.2020](#11)\n",
    "        - [1.3.3 Исключение пользователей другого тестирования и сверка итогового количества участников с ожидаемым](#12)\n",
    "        - [1.3.4 Анализ пропусков в данных о деталях событий](#13)\n",
    "        - [1.3.5 Сбор данных и проверка на неучтенных пользователей](#14)\n",
    "        - [1.3.6 Добавление столбца только с датой события](#15)\n",
    "        - [1.3.7 Оценка лайфтаймов пользователей](#16)\n",
    "        - [1.3.8 Промежуточный вывод после предобработки данных](#17)\n",
    "- [2. Оценка корректости проведения теста](#18)\n",
    "    - [2.1 Проверка на соотвествие ТЗ (пользователи из EU)](#19)\n",
    "    - [2.2 Проверка времени проведения теста на пересение с другими событиями](#20)\n",
    "    - [2.3 Проверка аудитории тестирования](#21)\n",
    "        - [2.3.1 Пересечение пользователей между группами исследуемого А/В теста](#22)\n",
    "        - [2.3.2 Пересечение пользователей между исследуемым и конкурирующим тестом](#23)\n",
    "        - [2.3.3 Распределение пользователей в каждой исследуемой группе](#24)\n",
    "    - [2.4 Промежуточный вывод после оценки корректности проведения теста](#25)\n",
    "- [3. Исследовательский анализ данных](#26)\n",
    "    - [3.1 Количество событий на пользователя](#27)\n",
    "    - [3.2 Количество событий по дням](#28)\n",
    "    - [3.3 Изучим воронку событий](#29)\n",
    "    - [3.4 Промежуточный вывод после анализа](#30)\n",
    "- [4. Оценка результатов А/В тестирования](#31)\n",
    "    - [4.1 Распределение пользователей по событиям внутри групп](#32)\n",
    "    - [4.2 Проверка результатов с помощью z-теста](#33)\n",
    "- [5. Общий вывод](#34)"
   ]
  },
  {
   "cell_type": "markdown",
   "id": "ca06ecbf",
   "metadata": {},
   "source": [
    "# Исследование и анализ результатов А/В тестирования\n",
    "\n",
    "Цель - провести оценку результатов А/В тестирования по изменениям, связанным с внедрением улучшенной рекомендательной системы.\n",
    "\n",
    "Входные данные - техническое задание, датасет с действиями пользователей, календарь маркетинговых событий на 2020 год, данные пользователей зарегистрированных с 7 по 12 декабря 2020 года, а также таблица итоговых участников тестов.\n",
    "\n",
    "Задачи:\n",
    "- Загрузим все датасеты, изучим данные в них и проведем их обработку\n",
    "- Проверим корректность проведения теста\n",
    "- Проведем исследовательский анализ данных\n",
    "- Проанализируем статистические значимости различий в метриках и вынесем решение по результатам теста"
   ]
  },
  {
   "cell_type": "markdown",
   "id": "568999d6",
   "metadata": {},
   "source": [
    "## Загрузка данных и их первоначальный анализ\n",
    "<a id='1'></a>"
   ]
  },
  {
   "cell_type": "markdown",
   "id": "03c58e3c",
   "metadata": {},
   "source": [
    "### Подготовка к работе\n",
    "<a id='2'></a>"
   ]
  },
  {
   "cell_type": "markdown",
   "id": "6ad3063b",
   "metadata": {},
   "source": [
    "Перед началом работы, выведем все функции, которые понадобятся нам для работы, а также импортируем все необходимые библиотеки"
   ]
  },
  {
   "cell_type": "code",
   "execution_count": 1,
   "id": "80eb20af",
   "metadata": {},
   "outputs": [],
   "source": [
    "#Определим функцию для вывода всей информации о данных в таблице\n",
    "def inf_data(df):\n",
    "    print('Первые 10 строк таблицы')\n",
    "    display(df.head(10))\n",
    "    pd.set_option('display.max_columns', None)\n",
    "    print('----------')\n",
    "    \n",
    "    print('Общая информация о таблице')\n",
    "    df.info()\n",
    "    print('----------')\n",
    "    \n",
    "    print('Выведем наименование колонок')\n",
    "    display(df.columns)\n",
    "    print('----------')\n",
    "    \n",
    "    print('Посмотрим на типы данных')\n",
    "    display(df.dtypes)\n",
    "    print('----------')\n",
    "    \n",
    "    print('Проверим присутствуют ли пропуски в данных')\n",
    "    display(df.isna().sum()[df.isna().sum()>0].sort_values(ascending=False))\n",
    "    print('----------')\n",
    "    \n",
    "    print('Проверим присутствуют ли явные дубликаты в данных')\n",
    "    if df.duplicated().sum() == 0:\n",
    "        print('Явных дубликатов нет')\n",
    "    else:\n",
    "        print('В наших данных {} записи являются дубликатами'.format(len(data[data.duplicated()])))\n",
    "        display(df[df.duplicated()].head())"
   ]
  },
  {
   "cell_type": "code",
   "execution_count": 2,
   "id": "8e0d82ec",
   "metadata": {},
   "outputs": [],
   "source": [
    "#Импортируем все необходимые библиотеки\n",
    "import pandas as pd\n",
    "import datetime as dt\n",
    "from datetime import datetime, timedelta\n",
    "import numpy as np\n",
    "import matplotlib.pyplot as plt\n",
    "from scipy import stats as st\n",
    "import seaborn as sns\n",
    "import plotly.express as px\n",
    "from plotly.subplots import make_subplots\n",
    "from plotly import graph_objects as go\n",
    "import math as mth"
   ]
  },
  {
   "cell_type": "markdown",
   "id": "a9694cd2",
   "metadata": {},
   "source": [
    "### Загрузим и изучим данные\n",
    "<a id='3'></a>"
   ]
  },
  {
   "cell_type": "markdown",
   "id": "155e1fb7",
   "metadata": {},
   "source": [
    "В качестве входных данных у нас 4 разных датасета, содержащих всю необходимую информацию о пользователях. Сначала необходимо загрузить все данные и изучить их на наличие стандартных возможных ошибок, а также на соответствие всем пунктам технического задания"
   ]
  },
  {
   "cell_type": "markdown",
   "id": "d4904f96",
   "metadata": {},
   "source": [
    "Техническое задание:\n",
    "- Название теста: `recommender_system_test`;\n",
    "- группы: А — контрольная, B — новая платёжная воронка;\n",
    "- дата запуска: 2020-12-07;\n",
    "- дата остановки набора новых пользователей: 2020-12-21;\n",
    "- дата остановки: 2021-01-04;\n",
    "- аудитория: в тест должно быть отобрано 15% новых пользователей из региона EU;\n",
    "- назначение теста: тестирование изменений, связанных с внедрением улучшенной рекомендательной системы;\n",
    "- ожидаемое количество участников теста: 6000.\n",
    "- ожидаемый эффект: за 14 дней с момента регистрации пользователи покажут улучшение каждой метрики не менее, чем на 10%:\n",
    "    - конверсии в просмотр карточек товаров — событие `product_page`,\n",
    "    - просмотры корзины — `product_cart`,\n",
    "    - покупки — `purchase`."
   ]
  },
  {
   "cell_type": "markdown",
   "id": "386f8bc8",
   "metadata": {},
   "source": [
    "#### Датасет - календарь маркетинговых событий\n",
    "<a id='4'></a>"
   ]
  },
  {
   "cell_type": "markdown",
   "id": "1ae09e93",
   "metadata": {},
   "source": [
    "Загрузим и изучим датасет о маркетинговых событиях"
   ]
  },
  {
   "cell_type": "code",
   "execution_count": 3,
   "id": "4e77ec81",
   "metadata": {},
   "outputs": [],
   "source": [
    "#Загрузим наши данные\n",
    "try:\n",
    "    marketing_events = pd.read_csv('ab_project_marketing_events.csv')\n",
    "except:\n",
    "    marketing_events = pd.read_csv('https://code.s3.yandex.net/datasets/ab_project_marketing_events.csv')"
   ]
  },
  {
   "cell_type": "code",
   "execution_count": 4,
   "id": "c36e65ae",
   "metadata": {
    "scrolled": false
   },
   "outputs": [
    {
     "name": "stdout",
     "output_type": "stream",
     "text": [
      "Первые 10 строк таблицы\n"
     ]
    },
    {
     "data": {
      "text/html": [
       "<div>\n",
       "<style scoped>\n",
       "    .dataframe tbody tr th:only-of-type {\n",
       "        vertical-align: middle;\n",
       "    }\n",
       "\n",
       "    .dataframe tbody tr th {\n",
       "        vertical-align: top;\n",
       "    }\n",
       "\n",
       "    .dataframe thead th {\n",
       "        text-align: right;\n",
       "    }\n",
       "</style>\n",
       "<table border=\"1\" class=\"dataframe\">\n",
       "  <thead>\n",
       "    <tr style=\"text-align: right;\">\n",
       "      <th></th>\n",
       "      <th>name</th>\n",
       "      <th>regions</th>\n",
       "      <th>start_dt</th>\n",
       "      <th>finish_dt</th>\n",
       "    </tr>\n",
       "  </thead>\n",
       "  <tbody>\n",
       "    <tr>\n",
       "      <th>0</th>\n",
       "      <td>Christmas&amp;New Year Promo</td>\n",
       "      <td>EU, N.America</td>\n",
       "      <td>2020-12-25</td>\n",
       "      <td>2021-01-03</td>\n",
       "    </tr>\n",
       "    <tr>\n",
       "      <th>1</th>\n",
       "      <td>St. Valentine's Day Giveaway</td>\n",
       "      <td>EU, CIS, APAC, N.America</td>\n",
       "      <td>2020-02-14</td>\n",
       "      <td>2020-02-16</td>\n",
       "    </tr>\n",
       "    <tr>\n",
       "      <th>2</th>\n",
       "      <td>St. Patric's Day Promo</td>\n",
       "      <td>EU, N.America</td>\n",
       "      <td>2020-03-17</td>\n",
       "      <td>2020-03-19</td>\n",
       "    </tr>\n",
       "    <tr>\n",
       "      <th>3</th>\n",
       "      <td>Easter Promo</td>\n",
       "      <td>EU, CIS, APAC, N.America</td>\n",
       "      <td>2020-04-12</td>\n",
       "      <td>2020-04-19</td>\n",
       "    </tr>\n",
       "    <tr>\n",
       "      <th>4</th>\n",
       "      <td>4th of July Promo</td>\n",
       "      <td>N.America</td>\n",
       "      <td>2020-07-04</td>\n",
       "      <td>2020-07-11</td>\n",
       "    </tr>\n",
       "    <tr>\n",
       "      <th>5</th>\n",
       "      <td>Black Friday Ads Campaign</td>\n",
       "      <td>EU, CIS, APAC, N.America</td>\n",
       "      <td>2020-11-26</td>\n",
       "      <td>2020-12-01</td>\n",
       "    </tr>\n",
       "    <tr>\n",
       "      <th>6</th>\n",
       "      <td>Chinese New Year Promo</td>\n",
       "      <td>APAC</td>\n",
       "      <td>2020-01-25</td>\n",
       "      <td>2020-02-07</td>\n",
       "    </tr>\n",
       "    <tr>\n",
       "      <th>7</th>\n",
       "      <td>Labor day (May 1st) Ads Campaign</td>\n",
       "      <td>EU, CIS, APAC</td>\n",
       "      <td>2020-05-01</td>\n",
       "      <td>2020-05-03</td>\n",
       "    </tr>\n",
       "    <tr>\n",
       "      <th>8</th>\n",
       "      <td>International Women's Day Promo</td>\n",
       "      <td>EU, CIS, APAC</td>\n",
       "      <td>2020-03-08</td>\n",
       "      <td>2020-03-10</td>\n",
       "    </tr>\n",
       "    <tr>\n",
       "      <th>9</th>\n",
       "      <td>Victory Day CIS (May 9th) Event</td>\n",
       "      <td>CIS</td>\n",
       "      <td>2020-05-09</td>\n",
       "      <td>2020-05-11</td>\n",
       "    </tr>\n",
       "  </tbody>\n",
       "</table>\n",
       "</div>"
      ],
      "text/plain": [
       "                               name                   regions    start_dt  \\\n",
       "0          Christmas&New Year Promo             EU, N.America  2020-12-25   \n",
       "1      St. Valentine's Day Giveaway  EU, CIS, APAC, N.America  2020-02-14   \n",
       "2            St. Patric's Day Promo             EU, N.America  2020-03-17   \n",
       "3                      Easter Promo  EU, CIS, APAC, N.America  2020-04-12   \n",
       "4                 4th of July Promo                 N.America  2020-07-04   \n",
       "5         Black Friday Ads Campaign  EU, CIS, APAC, N.America  2020-11-26   \n",
       "6            Chinese New Year Promo                      APAC  2020-01-25   \n",
       "7  Labor day (May 1st) Ads Campaign             EU, CIS, APAC  2020-05-01   \n",
       "8   International Women's Day Promo             EU, CIS, APAC  2020-03-08   \n",
       "9   Victory Day CIS (May 9th) Event                       CIS  2020-05-09   \n",
       "\n",
       "    finish_dt  \n",
       "0  2021-01-03  \n",
       "1  2020-02-16  \n",
       "2  2020-03-19  \n",
       "3  2020-04-19  \n",
       "4  2020-07-11  \n",
       "5  2020-12-01  \n",
       "6  2020-02-07  \n",
       "7  2020-05-03  \n",
       "8  2020-03-10  \n",
       "9  2020-05-11  "
      ]
     },
     "metadata": {},
     "output_type": "display_data"
    },
    {
     "name": "stdout",
     "output_type": "stream",
     "text": [
      "----------\n",
      "Общая информация о таблице\n",
      "<class 'pandas.core.frame.DataFrame'>\n",
      "RangeIndex: 14 entries, 0 to 13\n",
      "Data columns (total 4 columns):\n",
      " #   Column     Non-Null Count  Dtype \n",
      "---  ------     --------------  ----- \n",
      " 0   name       14 non-null     object\n",
      " 1   regions    14 non-null     object\n",
      " 2   start_dt   14 non-null     object\n",
      " 3   finish_dt  14 non-null     object\n",
      "dtypes: object(4)\n",
      "memory usage: 576.0+ bytes\n",
      "----------\n",
      "Выведем наименование колонок\n"
     ]
    },
    {
     "data": {
      "text/plain": [
       "Index(['name', 'regions', 'start_dt', 'finish_dt'], dtype='object')"
      ]
     },
     "metadata": {},
     "output_type": "display_data"
    },
    {
     "name": "stdout",
     "output_type": "stream",
     "text": [
      "----------\n",
      "Посмотрим на типы данных\n"
     ]
    },
    {
     "data": {
      "text/plain": [
       "name         object\n",
       "regions      object\n",
       "start_dt     object\n",
       "finish_dt    object\n",
       "dtype: object"
      ]
     },
     "metadata": {},
     "output_type": "display_data"
    },
    {
     "name": "stdout",
     "output_type": "stream",
     "text": [
      "----------\n",
      "Проверим присутствуют ли пропуски в данных\n"
     ]
    },
    {
     "data": {
      "text/plain": [
       "Series([], dtype: int64)"
      ]
     },
     "metadata": {},
     "output_type": "display_data"
    },
    {
     "name": "stdout",
     "output_type": "stream",
     "text": [
      "----------\n",
      "Проверим присутствуют ли явные дубликаты в данных\n",
      "Явных дубликатов нет\n"
     ]
    }
   ],
   "source": [
    "#Посмотрим основную информацию об имеющихся данных\n",
    "inf_data(marketing_events)"
   ]
  },
  {
   "cell_type": "code",
   "execution_count": 5,
   "id": "be45f56c",
   "metadata": {
    "scrolled": true
   },
   "outputs": [
    {
     "name": "stdout",
     "output_type": "stream",
     "text": [
      "Начало всех маркетинговых событий - 2020-01-25, завершение всех маркетинговых событий - 2021-01-07\n"
     ]
    }
   ],
   "source": [
    "print('Начало всех маркетинговых событий - {}, завершение всех маркетинговых событий - {}'\n",
    "      .format(marketing_events['start_dt'].min(), marketing_events['finish_dt'].max()))"
   ]
  },
  {
   "cell_type": "markdown",
   "id": "ef192d1c",
   "metadata": {},
   "source": [
    "У нас дана информация о 14 маркетинговых событиях, состоявшихся с 25 января 2020 года по 7 января 2021 года, с наименованием события и регионом проведения.\n",
    "\n",
    "Пропусков и дубликатов в данных мы не имеем. Однако мы видим, что информация о датах представлена не в верном типе данных. Это необходимо будет скорректировать"
   ]
  },
  {
   "cell_type": "code",
   "execution_count": 6,
   "id": "36d33daa",
   "metadata": {
    "scrolled": true
   },
   "outputs": [
    {
     "data": {
      "text/plain": [
       "array(['EU, N.America', 'EU, CIS, APAC, N.America', 'N.America', 'APAC',\n",
       "       'EU, CIS, APAC', 'CIS'], dtype=object)"
      ]
     },
     "execution_count": 6,
     "metadata": {},
     "output_type": "execute_result"
    }
   ],
   "source": [
    "marketing_events['regions'].unique()"
   ]
  },
  {
   "cell_type": "markdown",
   "id": "533618d9",
   "metadata": {},
   "source": [
    "События проводились в 6 регионах."
   ]
  },
  {
   "cell_type": "markdown",
   "id": "ae66c9f8",
   "metadata": {},
   "source": [
    "#### Датасет - новые пользователи\n",
    "<a id='5'></a>"
   ]
  },
  {
   "cell_type": "markdown",
   "id": "f5690c4d",
   "metadata": {},
   "source": [
    "Загрузим и изучим данные о пользователях, зарегистрировавшихся с 7 по 21 декабря 2020 года"
   ]
  },
  {
   "cell_type": "code",
   "execution_count": 7,
   "id": "234e298c",
   "metadata": {},
   "outputs": [],
   "source": [
    "#Загрузим наши данные\n",
    "try:\n",
    "    users_new = pd.read_csv('final_ab_new_users.csv')\n",
    "except:\n",
    "    users_new = pd.read_csv('https://code.s3.yandex.net/datasets/final_ab_new_users.csv')"
   ]
  },
  {
   "cell_type": "code",
   "execution_count": 8,
   "id": "256680ac",
   "metadata": {
    "scrolled": false
   },
   "outputs": [
    {
     "name": "stdout",
     "output_type": "stream",
     "text": [
      "Первые 10 строк таблицы\n"
     ]
    },
    {
     "data": {
      "text/html": [
       "<div>\n",
       "<style scoped>\n",
       "    .dataframe tbody tr th:only-of-type {\n",
       "        vertical-align: middle;\n",
       "    }\n",
       "\n",
       "    .dataframe tbody tr th {\n",
       "        vertical-align: top;\n",
       "    }\n",
       "\n",
       "    .dataframe thead th {\n",
       "        text-align: right;\n",
       "    }\n",
       "</style>\n",
       "<table border=\"1\" class=\"dataframe\">\n",
       "  <thead>\n",
       "    <tr style=\"text-align: right;\">\n",
       "      <th></th>\n",
       "      <th>user_id</th>\n",
       "      <th>first_date</th>\n",
       "      <th>region</th>\n",
       "      <th>device</th>\n",
       "    </tr>\n",
       "  </thead>\n",
       "  <tbody>\n",
       "    <tr>\n",
       "      <th>0</th>\n",
       "      <td>D72A72121175D8BE</td>\n",
       "      <td>2020-12-07</td>\n",
       "      <td>EU</td>\n",
       "      <td>PC</td>\n",
       "    </tr>\n",
       "    <tr>\n",
       "      <th>1</th>\n",
       "      <td>F1C668619DFE6E65</td>\n",
       "      <td>2020-12-07</td>\n",
       "      <td>N.America</td>\n",
       "      <td>Android</td>\n",
       "    </tr>\n",
       "    <tr>\n",
       "      <th>2</th>\n",
       "      <td>2E1BF1D4C37EA01F</td>\n",
       "      <td>2020-12-07</td>\n",
       "      <td>EU</td>\n",
       "      <td>PC</td>\n",
       "    </tr>\n",
       "    <tr>\n",
       "      <th>3</th>\n",
       "      <td>50734A22C0C63768</td>\n",
       "      <td>2020-12-07</td>\n",
       "      <td>EU</td>\n",
       "      <td>iPhone</td>\n",
       "    </tr>\n",
       "    <tr>\n",
       "      <th>4</th>\n",
       "      <td>E1BDDCE0DAFA2679</td>\n",
       "      <td>2020-12-07</td>\n",
       "      <td>N.America</td>\n",
       "      <td>iPhone</td>\n",
       "    </tr>\n",
       "    <tr>\n",
       "      <th>5</th>\n",
       "      <td>137119F5A9E69421</td>\n",
       "      <td>2020-12-07</td>\n",
       "      <td>N.America</td>\n",
       "      <td>iPhone</td>\n",
       "    </tr>\n",
       "    <tr>\n",
       "      <th>6</th>\n",
       "      <td>62F0C741CC42D0CC</td>\n",
       "      <td>2020-12-07</td>\n",
       "      <td>APAC</td>\n",
       "      <td>iPhone</td>\n",
       "    </tr>\n",
       "    <tr>\n",
       "      <th>7</th>\n",
       "      <td>8942E64218C9A1ED</td>\n",
       "      <td>2020-12-07</td>\n",
       "      <td>EU</td>\n",
       "      <td>PC</td>\n",
       "    </tr>\n",
       "    <tr>\n",
       "      <th>8</th>\n",
       "      <td>499AFACF904BBAE3</td>\n",
       "      <td>2020-12-07</td>\n",
       "      <td>N.America</td>\n",
       "      <td>iPhone</td>\n",
       "    </tr>\n",
       "    <tr>\n",
       "      <th>9</th>\n",
       "      <td>FFCEA1179C253104</td>\n",
       "      <td>2020-12-07</td>\n",
       "      <td>EU</td>\n",
       "      <td>Android</td>\n",
       "    </tr>\n",
       "  </tbody>\n",
       "</table>\n",
       "</div>"
      ],
      "text/plain": [
       "            user_id  first_date     region   device\n",
       "0  D72A72121175D8BE  2020-12-07         EU       PC\n",
       "1  F1C668619DFE6E65  2020-12-07  N.America  Android\n",
       "2  2E1BF1D4C37EA01F  2020-12-07         EU       PC\n",
       "3  50734A22C0C63768  2020-12-07         EU   iPhone\n",
       "4  E1BDDCE0DAFA2679  2020-12-07  N.America   iPhone\n",
       "5  137119F5A9E69421  2020-12-07  N.America   iPhone\n",
       "6  62F0C741CC42D0CC  2020-12-07       APAC   iPhone\n",
       "7  8942E64218C9A1ED  2020-12-07         EU       PC\n",
       "8  499AFACF904BBAE3  2020-12-07  N.America   iPhone\n",
       "9  FFCEA1179C253104  2020-12-07         EU  Android"
      ]
     },
     "metadata": {},
     "output_type": "display_data"
    },
    {
     "name": "stdout",
     "output_type": "stream",
     "text": [
      "----------\n",
      "Общая информация о таблице\n",
      "<class 'pandas.core.frame.DataFrame'>\n",
      "RangeIndex: 61733 entries, 0 to 61732\n",
      "Data columns (total 4 columns):\n",
      " #   Column      Non-Null Count  Dtype \n",
      "---  ------      --------------  ----- \n",
      " 0   user_id     61733 non-null  object\n",
      " 1   first_date  61733 non-null  object\n",
      " 2   region      61733 non-null  object\n",
      " 3   device      61733 non-null  object\n",
      "dtypes: object(4)\n",
      "memory usage: 1.9+ MB\n",
      "----------\n",
      "Выведем наименование колонок\n"
     ]
    },
    {
     "data": {
      "text/plain": [
       "Index(['user_id', 'first_date', 'region', 'device'], dtype='object')"
      ]
     },
     "metadata": {},
     "output_type": "display_data"
    },
    {
     "name": "stdout",
     "output_type": "stream",
     "text": [
      "----------\n",
      "Посмотрим на типы данных\n"
     ]
    },
    {
     "data": {
      "text/plain": [
       "user_id       object\n",
       "first_date    object\n",
       "region        object\n",
       "device        object\n",
       "dtype: object"
      ]
     },
     "metadata": {},
     "output_type": "display_data"
    },
    {
     "name": "stdout",
     "output_type": "stream",
     "text": [
      "----------\n",
      "Проверим присутствуют ли пропуски в данных\n"
     ]
    },
    {
     "data": {
      "text/plain": [
       "Series([], dtype: int64)"
      ]
     },
     "metadata": {},
     "output_type": "display_data"
    },
    {
     "name": "stdout",
     "output_type": "stream",
     "text": [
      "----------\n",
      "Проверим присутствуют ли явные дубликаты в данных\n",
      "Явных дубликатов нет\n"
     ]
    }
   ],
   "source": [
    "#Посмотрим основную информацию об имеющихся данных\n",
    "inf_data(users_new)"
   ]
  },
  {
   "cell_type": "code",
   "execution_count": 9,
   "id": "c1328310",
   "metadata": {},
   "outputs": [
    {
     "name": "stdout",
     "output_type": "stream",
     "text": [
      "Дата самой первой регистрации - 2020-12-07, дата самой последней регистрации - 2020-12-23\n"
     ]
    }
   ],
   "source": [
    "print('Дата самой первой регистрации - {}, дата самой последней регистрации - {}'\n",
    "      .format(users_new['first_date'].min(), users_new['first_date'].max()))"
   ]
  },
  {
   "cell_type": "markdown",
   "id": "d5e00fdd",
   "metadata": {},
   "source": [
    "У нас дана информация о 61733 пользователей, впервые зарегистрировавшихся с 7 по 23 декабря 2020 года, с информацией о регионе и устройстве регистрации.\n",
    "\n",
    "Мы видим, что представлена информация в более больших временных рамках, что нам необходимо, то есть часть пользователей необходимо будет исключить.\n",
    "\n",
    "Пропусков и дубликатов в данных мы не имеем. Однако мы видим, что информация о дате регистрации представлена не в верном типе данных. Это необходимо будет скорректировать.\n",
    "\n",
    "Посмотрим, присутствуют ли пользователи зарегистрировавшиеся не один раз"
   ]
  },
  {
   "cell_type": "code",
   "execution_count": 10,
   "id": "b6b194ca",
   "metadata": {},
   "outputs": [
    {
     "data": {
      "text/plain": [
       "61733"
      ]
     },
     "execution_count": 10,
     "metadata": {},
     "output_type": "execute_result"
    }
   ],
   "source": [
    "users_new['user_id'].nunique()"
   ]
  },
  {
   "cell_type": "markdown",
   "id": "34c89e1b",
   "metadata": {},
   "source": [
    "Так как количество уникальных идентификаторов пользователей соответсвует количеству зарегистрировавшихся пользователей, делаем вывод, что все пользователи зарегистрировались в представленны интервал времени единожды.\n",
    "\n",
    "Посмотрим в каких регионах и через какие устройства регистрировались пользователи"
   ]
  },
  {
   "cell_type": "code",
   "execution_count": 11,
   "id": "e804dca2",
   "metadata": {
    "scrolled": true
   },
   "outputs": [
    {
     "data": {
      "text/plain": [
       "array(['EU', 'N.America', 'APAC', 'CIS'], dtype=object)"
      ]
     },
     "execution_count": 11,
     "metadata": {},
     "output_type": "execute_result"
    }
   ],
   "source": [
    "users_new['region'].unique()"
   ]
  },
  {
   "cell_type": "code",
   "execution_count": 12,
   "id": "705264e0",
   "metadata": {},
   "outputs": [
    {
     "data": {
      "text/plain": [
       "array(['PC', 'Android', 'iPhone', 'Mac'], dtype=object)"
      ]
     },
     "execution_count": 12,
     "metadata": {},
     "output_type": "execute_result"
    }
   ],
   "source": [
    "users_new['device'].unique()"
   ]
  },
  {
   "cell_type": "markdown",
   "id": "b687f498",
   "metadata": {},
   "source": [
    "Представлено всего 4 региона регистрации и 4 устройства."
   ]
  },
  {
   "cell_type": "markdown",
   "id": "d6311c3d",
   "metadata": {},
   "source": [
    "#### Датасет - участники тестов\n",
    "<a id='6'></a>"
   ]
  },
  {
   "cell_type": "markdown",
   "id": "cc3001a6",
   "metadata": {},
   "source": [
    "Загрузим и изучим данные об итоговых участниках тестирования"
   ]
  },
  {
   "cell_type": "code",
   "execution_count": 13,
   "id": "0c22c6c6",
   "metadata": {},
   "outputs": [],
   "source": [
    "#Загрузим наши данные\n",
    "try:\n",
    "    test_users = pd.read_csv('final_ab_participants.csv')\n",
    "except:\n",
    "    test_users = pd.read_csv('https://code.s3.yandex.net/datasets/final_ab_participants.csv')"
   ]
  },
  {
   "cell_type": "code",
   "execution_count": 14,
   "id": "5f3c0603",
   "metadata": {},
   "outputs": [
    {
     "name": "stdout",
     "output_type": "stream",
     "text": [
      "Первые 10 строк таблицы\n"
     ]
    },
    {
     "data": {
      "text/html": [
       "<div>\n",
       "<style scoped>\n",
       "    .dataframe tbody tr th:only-of-type {\n",
       "        vertical-align: middle;\n",
       "    }\n",
       "\n",
       "    .dataframe tbody tr th {\n",
       "        vertical-align: top;\n",
       "    }\n",
       "\n",
       "    .dataframe thead th {\n",
       "        text-align: right;\n",
       "    }\n",
       "</style>\n",
       "<table border=\"1\" class=\"dataframe\">\n",
       "  <thead>\n",
       "    <tr style=\"text-align: right;\">\n",
       "      <th></th>\n",
       "      <th>user_id</th>\n",
       "      <th>group</th>\n",
       "      <th>ab_test</th>\n",
       "    </tr>\n",
       "  </thead>\n",
       "  <tbody>\n",
       "    <tr>\n",
       "      <th>0</th>\n",
       "      <td>D1ABA3E2887B6A73</td>\n",
       "      <td>A</td>\n",
       "      <td>recommender_system_test</td>\n",
       "    </tr>\n",
       "    <tr>\n",
       "      <th>1</th>\n",
       "      <td>A7A3664BD6242119</td>\n",
       "      <td>A</td>\n",
       "      <td>recommender_system_test</td>\n",
       "    </tr>\n",
       "    <tr>\n",
       "      <th>2</th>\n",
       "      <td>DABC14FDDFADD29E</td>\n",
       "      <td>A</td>\n",
       "      <td>recommender_system_test</td>\n",
       "    </tr>\n",
       "    <tr>\n",
       "      <th>3</th>\n",
       "      <td>04988C5DF189632E</td>\n",
       "      <td>A</td>\n",
       "      <td>recommender_system_test</td>\n",
       "    </tr>\n",
       "    <tr>\n",
       "      <th>4</th>\n",
       "      <td>482F14783456D21B</td>\n",
       "      <td>B</td>\n",
       "      <td>recommender_system_test</td>\n",
       "    </tr>\n",
       "    <tr>\n",
       "      <th>5</th>\n",
       "      <td>4FF2998A348C484F</td>\n",
       "      <td>A</td>\n",
       "      <td>recommender_system_test</td>\n",
       "    </tr>\n",
       "    <tr>\n",
       "      <th>6</th>\n",
       "      <td>7473E0943673C09E</td>\n",
       "      <td>A</td>\n",
       "      <td>recommender_system_test</td>\n",
       "    </tr>\n",
       "    <tr>\n",
       "      <th>7</th>\n",
       "      <td>C46FE336D240A054</td>\n",
       "      <td>A</td>\n",
       "      <td>recommender_system_test</td>\n",
       "    </tr>\n",
       "    <tr>\n",
       "      <th>8</th>\n",
       "      <td>92CB588012C10D3D</td>\n",
       "      <td>A</td>\n",
       "      <td>recommender_system_test</td>\n",
       "    </tr>\n",
       "    <tr>\n",
       "      <th>9</th>\n",
       "      <td>057AB296296C7FC0</td>\n",
       "      <td>B</td>\n",
       "      <td>recommender_system_test</td>\n",
       "    </tr>\n",
       "  </tbody>\n",
       "</table>\n",
       "</div>"
      ],
      "text/plain": [
       "            user_id group                  ab_test\n",
       "0  D1ABA3E2887B6A73     A  recommender_system_test\n",
       "1  A7A3664BD6242119     A  recommender_system_test\n",
       "2  DABC14FDDFADD29E     A  recommender_system_test\n",
       "3  04988C5DF189632E     A  recommender_system_test\n",
       "4  482F14783456D21B     B  recommender_system_test\n",
       "5  4FF2998A348C484F     A  recommender_system_test\n",
       "6  7473E0943673C09E     A  recommender_system_test\n",
       "7  C46FE336D240A054     A  recommender_system_test\n",
       "8  92CB588012C10D3D     A  recommender_system_test\n",
       "9  057AB296296C7FC0     B  recommender_system_test"
      ]
     },
     "metadata": {},
     "output_type": "display_data"
    },
    {
     "name": "stdout",
     "output_type": "stream",
     "text": [
      "----------\n",
      "Общая информация о таблице\n",
      "<class 'pandas.core.frame.DataFrame'>\n",
      "RangeIndex: 18268 entries, 0 to 18267\n",
      "Data columns (total 3 columns):\n",
      " #   Column   Non-Null Count  Dtype \n",
      "---  ------   --------------  ----- \n",
      " 0   user_id  18268 non-null  object\n",
      " 1   group    18268 non-null  object\n",
      " 2   ab_test  18268 non-null  object\n",
      "dtypes: object(3)\n",
      "memory usage: 428.3+ KB\n",
      "----------\n",
      "Выведем наименование колонок\n"
     ]
    },
    {
     "data": {
      "text/plain": [
       "Index(['user_id', 'group', 'ab_test'], dtype='object')"
      ]
     },
     "metadata": {},
     "output_type": "display_data"
    },
    {
     "name": "stdout",
     "output_type": "stream",
     "text": [
      "----------\n",
      "Посмотрим на типы данных\n"
     ]
    },
    {
     "data": {
      "text/plain": [
       "user_id    object\n",
       "group      object\n",
       "ab_test    object\n",
       "dtype: object"
      ]
     },
     "metadata": {},
     "output_type": "display_data"
    },
    {
     "name": "stdout",
     "output_type": "stream",
     "text": [
      "----------\n",
      "Проверим присутствуют ли пропуски в данных\n"
     ]
    },
    {
     "data": {
      "text/plain": [
       "Series([], dtype: int64)"
      ]
     },
     "metadata": {},
     "output_type": "display_data"
    },
    {
     "name": "stdout",
     "output_type": "stream",
     "text": [
      "----------\n",
      "Проверим присутствуют ли явные дубликаты в данных\n",
      "Явных дубликатов нет\n"
     ]
    }
   ],
   "source": [
    "#Посмотрим основную информацию об имеющихся данных\n",
    "inf_data(test_users)"
   ]
  },
  {
   "cell_type": "markdown",
   "id": "52f176ee",
   "metadata": {},
   "source": [
    "У нас представлена информация о 18268 участниках тестирования с определением группы теста и с его наименованием.\n",
    "\n",
    "Типы данных верны, пропусков и явных дубликатов не обнаружено.\n",
    "\n",
    "Групп проведения теста должно быть вего две:\n",
    "- А - контрольная,\n",
    "- В - новая платежная воронка\n",
    "\n",
    "Наименование у теста должно быть одно \"recommender_system_test\".\n",
    "\n",
    "Посмотрим не появилось ли случайно других групп тестирования, а также другого наименования теста"
   ]
  },
  {
   "cell_type": "code",
   "execution_count": 15,
   "id": "3e8efbb2",
   "metadata": {},
   "outputs": [
    {
     "data": {
      "text/plain": [
       "array(['A', 'B'], dtype=object)"
      ]
     },
     "execution_count": 15,
     "metadata": {},
     "output_type": "execute_result"
    }
   ],
   "source": [
    "test_users['group'].unique()"
   ]
  },
  {
   "cell_type": "code",
   "execution_count": 16,
   "id": "f7ad87b5",
   "metadata": {},
   "outputs": [
    {
     "data": {
      "text/plain": [
       "array(['recommender_system_test', 'interface_eu_test'], dtype=object)"
      ]
     },
     "execution_count": 16,
     "metadata": {},
     "output_type": "execute_result"
    }
   ],
   "source": [
    "test_users['ab_test'].unique()"
   ]
  },
  {
   "cell_type": "markdown",
   "id": "75f8a19f",
   "metadata": {},
   "source": [
    "Группы теста всего две, как и необходимо, а вот среди нужного нам теста появился и другой тест под названием \"interface_eu_test\". Его участников нужно будет исключить. И после проверить количество участников нужного нам теста и сверить это количество с ожидаемым"
   ]
  },
  {
   "cell_type": "markdown",
   "id": "814506f9",
   "metadata": {},
   "source": [
    "#### Датасет - действие новых пользователей\n",
    "<a id='7'></a>"
   ]
  },
  {
   "cell_type": "markdown",
   "id": "5b07b7b0",
   "metadata": {},
   "source": [
    "Загрузим и изучим данные о действиях пользователей в период с 7 декабря 2020 года по 4 января 2021 года"
   ]
  },
  {
   "cell_type": "code",
   "execution_count": 17,
   "id": "3ae72656",
   "metadata": {},
   "outputs": [],
   "source": [
    "#Загрузим наши данные\n",
    "try:\n",
    "    test_users_events = pd.read_csv('final_ab_events.csv')\n",
    "except:\n",
    "    test_users_events = pd.read_csv('https://code.s3.yandex.net/datasets/final_ab_events.csv')"
   ]
  },
  {
   "cell_type": "code",
   "execution_count": 18,
   "id": "9fcd277e",
   "metadata": {
    "scrolled": false
   },
   "outputs": [
    {
     "name": "stdout",
     "output_type": "stream",
     "text": [
      "Первые 10 строк таблицы\n"
     ]
    },
    {
     "data": {
      "text/html": [
       "<div>\n",
       "<style scoped>\n",
       "    .dataframe tbody tr th:only-of-type {\n",
       "        vertical-align: middle;\n",
       "    }\n",
       "\n",
       "    .dataframe tbody tr th {\n",
       "        vertical-align: top;\n",
       "    }\n",
       "\n",
       "    .dataframe thead th {\n",
       "        text-align: right;\n",
       "    }\n",
       "</style>\n",
       "<table border=\"1\" class=\"dataframe\">\n",
       "  <thead>\n",
       "    <tr style=\"text-align: right;\">\n",
       "      <th></th>\n",
       "      <th>user_id</th>\n",
       "      <th>event_dt</th>\n",
       "      <th>event_name</th>\n",
       "      <th>details</th>\n",
       "    </tr>\n",
       "  </thead>\n",
       "  <tbody>\n",
       "    <tr>\n",
       "      <th>0</th>\n",
       "      <td>E1BDDCE0DAFA2679</td>\n",
       "      <td>2020-12-07 20:22:03</td>\n",
       "      <td>purchase</td>\n",
       "      <td>99.99</td>\n",
       "    </tr>\n",
       "    <tr>\n",
       "      <th>1</th>\n",
       "      <td>7B6452F081F49504</td>\n",
       "      <td>2020-12-07 09:22:53</td>\n",
       "      <td>purchase</td>\n",
       "      <td>9.99</td>\n",
       "    </tr>\n",
       "    <tr>\n",
       "      <th>2</th>\n",
       "      <td>9CD9F34546DF254C</td>\n",
       "      <td>2020-12-07 12:59:29</td>\n",
       "      <td>purchase</td>\n",
       "      <td>4.99</td>\n",
       "    </tr>\n",
       "    <tr>\n",
       "      <th>3</th>\n",
       "      <td>96F27A054B191457</td>\n",
       "      <td>2020-12-07 04:02:40</td>\n",
       "      <td>purchase</td>\n",
       "      <td>4.99</td>\n",
       "    </tr>\n",
       "    <tr>\n",
       "      <th>4</th>\n",
       "      <td>1FD7660FDF94CA1F</td>\n",
       "      <td>2020-12-07 10:15:09</td>\n",
       "      <td>purchase</td>\n",
       "      <td>4.99</td>\n",
       "    </tr>\n",
       "    <tr>\n",
       "      <th>5</th>\n",
       "      <td>831887FE7F2D6CBA</td>\n",
       "      <td>2020-12-07 06:50:29</td>\n",
       "      <td>purchase</td>\n",
       "      <td>4.99</td>\n",
       "    </tr>\n",
       "    <tr>\n",
       "      <th>6</th>\n",
       "      <td>6B2F726BFD5F8220</td>\n",
       "      <td>2020-12-07 11:27:42</td>\n",
       "      <td>purchase</td>\n",
       "      <td>4.99</td>\n",
       "    </tr>\n",
       "    <tr>\n",
       "      <th>7</th>\n",
       "      <td>BEB37715AACF53B0</td>\n",
       "      <td>2020-12-07 04:26:15</td>\n",
       "      <td>purchase</td>\n",
       "      <td>4.99</td>\n",
       "    </tr>\n",
       "    <tr>\n",
       "      <th>8</th>\n",
       "      <td>B5FA27F582227197</td>\n",
       "      <td>2020-12-07 01:46:37</td>\n",
       "      <td>purchase</td>\n",
       "      <td>4.99</td>\n",
       "    </tr>\n",
       "    <tr>\n",
       "      <th>9</th>\n",
       "      <td>A92195E3CFB83DBD</td>\n",
       "      <td>2020-12-07 00:32:07</td>\n",
       "      <td>purchase</td>\n",
       "      <td>4.99</td>\n",
       "    </tr>\n",
       "  </tbody>\n",
       "</table>\n",
       "</div>"
      ],
      "text/plain": [
       "            user_id             event_dt event_name  details\n",
       "0  E1BDDCE0DAFA2679  2020-12-07 20:22:03   purchase    99.99\n",
       "1  7B6452F081F49504  2020-12-07 09:22:53   purchase     9.99\n",
       "2  9CD9F34546DF254C  2020-12-07 12:59:29   purchase     4.99\n",
       "3  96F27A054B191457  2020-12-07 04:02:40   purchase     4.99\n",
       "4  1FD7660FDF94CA1F  2020-12-07 10:15:09   purchase     4.99\n",
       "5  831887FE7F2D6CBA  2020-12-07 06:50:29   purchase     4.99\n",
       "6  6B2F726BFD5F8220  2020-12-07 11:27:42   purchase     4.99\n",
       "7  BEB37715AACF53B0  2020-12-07 04:26:15   purchase     4.99\n",
       "8  B5FA27F582227197  2020-12-07 01:46:37   purchase     4.99\n",
       "9  A92195E3CFB83DBD  2020-12-07 00:32:07   purchase     4.99"
      ]
     },
     "metadata": {},
     "output_type": "display_data"
    },
    {
     "name": "stdout",
     "output_type": "stream",
     "text": [
      "----------\n",
      "Общая информация о таблице\n",
      "<class 'pandas.core.frame.DataFrame'>\n",
      "RangeIndex: 440317 entries, 0 to 440316\n",
      "Data columns (total 4 columns):\n",
      " #   Column      Non-Null Count   Dtype  \n",
      "---  ------      --------------   -----  \n",
      " 0   user_id     440317 non-null  object \n",
      " 1   event_dt    440317 non-null  object \n",
      " 2   event_name  440317 non-null  object \n",
      " 3   details     62740 non-null   float64\n",
      "dtypes: float64(1), object(3)\n",
      "memory usage: 13.4+ MB\n",
      "----------\n",
      "Выведем наименование колонок\n"
     ]
    },
    {
     "data": {
      "text/plain": [
       "Index(['user_id', 'event_dt', 'event_name', 'details'], dtype='object')"
      ]
     },
     "metadata": {},
     "output_type": "display_data"
    },
    {
     "name": "stdout",
     "output_type": "stream",
     "text": [
      "----------\n",
      "Посмотрим на типы данных\n"
     ]
    },
    {
     "data": {
      "text/plain": [
       "user_id        object\n",
       "event_dt       object\n",
       "event_name     object\n",
       "details       float64\n",
       "dtype: object"
      ]
     },
     "metadata": {},
     "output_type": "display_data"
    },
    {
     "name": "stdout",
     "output_type": "stream",
     "text": [
      "----------\n",
      "Проверим присутствуют ли пропуски в данных\n"
     ]
    },
    {
     "data": {
      "text/plain": [
       "details    377577\n",
       "dtype: int64"
      ]
     },
     "metadata": {},
     "output_type": "display_data"
    },
    {
     "name": "stdout",
     "output_type": "stream",
     "text": [
      "----------\n",
      "Проверим присутствуют ли явные дубликаты в данных\n",
      "Явных дубликатов нет\n"
     ]
    }
   ],
   "source": [
    "#Посмотрим основную информацию об имеющихся данных\n",
    "inf_data(test_users_events)"
   ]
  },
  {
   "cell_type": "code",
   "execution_count": 19,
   "id": "091b3eb2",
   "metadata": {},
   "outputs": [
    {
     "name": "stdout",
     "output_type": "stream",
     "text": [
      "Дата самого первого действия пользователей - 2020-12-07 00:00:33, дата самого последнего действия пользователей - 2020-12-30 23:36:33\n"
     ]
    }
   ],
   "source": [
    "print('Дата самого первого действия пользователей - {}, дата самого последнего действия пользователей - {}'\n",
    "      .format(test_users_events['event_dt'].min(), test_users_events['event_dt'].max()))"
   ]
  },
  {
   "cell_type": "markdown",
   "id": "626815f3",
   "metadata": {},
   "source": [
    "У нас данные о 440317 действиях совершенных пользователями во время проведения тестирования, с информацией о дате и время реализации действия, типа события и его деталях.\n",
    "\n",
    "Дубликатов не найдено. Однако присутствует большое количество пропусков в данных о деталях событий - их необходимо будет изучить.\n",
    "\n",
    "Также неверен тип данных в столбце с датой и временем совершения события - нужно будет скорректировать тип. По ТЗ тест должен был проводится до 4 января 2021 года, однако дата самого последнего действия - 30 декабря 2020 года.\n",
    "\n",
    "Посмотрим из каких событий состоят данные"
   ]
  },
  {
   "cell_type": "code",
   "execution_count": 20,
   "id": "a8a32a76",
   "metadata": {
    "scrolled": true
   },
   "outputs": [
    {
     "data": {
      "text/plain": [
       "array(['purchase', 'product_cart', 'product_page', 'login'], dtype=object)"
      ]
     },
     "execution_count": 20,
     "metadata": {},
     "output_type": "execute_result"
    }
   ],
   "source": [
    "test_users_events['event_name'].unique()"
   ]
  },
  {
   "cell_type": "markdown",
   "id": "ad69d257",
   "metadata": {},
   "source": [
    "Пользователи совершали всего 4 действия:\n",
    "- purchase - покупка,\n",
    "- product_cart - просмотр корзины,\n",
    "- product_page - просмотр карточек товаров,\n",
    "- login - вход в личный кабинет."
   ]
  },
  {
   "cell_type": "markdown",
   "id": "be60f6c0",
   "metadata": {},
   "source": [
    "#### Промежуточный вывод после изучения данных\n",
    "<a id='8'></a>"
   ]
  },
  {
   "cell_type": "markdown",
   "id": "dcbee161",
   "metadata": {},
   "source": [
    "Необходимо будет:\n",
    "- скорректировать тип данных столбцов с датами в:\n",
    "    - календаре маркетинговых событий,\n",
    "    - данных о регистрации новых пользователей,\n",
    "    - событиях пользователей;\n",
    "- исключить пользователей, зарегистрировавшихся после 21 декабря 2020 года,\n",
    "- исключить пользователей из другого тестирования (\"interface_eu_test\"),\n",
    "- сверить итоговое количество участников теста с ожидаемым\n",
    "- изучить пропуски в данных о деталях событий\n",
    "\n",
    "После необходимо будет объединить все необходимые данные и:\n",
    "- проверить нет ли в тесте неучтенных пользователей,\n",
    "- добавить столбец с датой события (без времени),\n",
    "- посмотреть на лайфтаймы пользователей (дата события - дата регистрации) и исключить события, которым более 14 дней с даты регистрации - потому что это уже будут события не относящеся к воздействию на пользователя улучшенной рекомендательной системы.\n",
    "\n",
    "После всех корректировок необходимо будет оценить корректность проведения теста, а именно:\n",
    "- проверить данные на следующее соответствие ТЗ - в тесте должно быть отобрано 15% новых пользователей из региона EU,\n",
    "- проверить, что время проведения теста не совпадает с маркетинговыми событиями,\n",
    "- проверить, что каждый пользователь попал только в одну группу (А или В) и количество визитов в каждой исследуемой группе должно быть примерно одинаковым, а также попал ли хоть один пользователей нашего теста во второй проверочный тест\n",
    "\n",
    "Приступим к обработки данных"
   ]
  },
  {
   "cell_type": "markdown",
   "id": "903940dd",
   "metadata": {},
   "source": [
    "### Предобработка данных\n",
    "<a id='9'></a>"
   ]
  },
  {
   "cell_type": "markdown",
   "id": "44884966",
   "metadata": {},
   "source": [
    "#### Корректировка типов данных\n",
    "<a id='10'></a>"
   ]
  },
  {
   "cell_type": "markdown",
   "id": "abd9660a",
   "metadata": {},
   "source": [
    "Столбцы с информацией о датах имеют не верный тип данных в датасетах о:\n",
    "- календаре маркетинговых событий,\n",
    "- данных о регистрации новых пользователей,\n",
    "- событиях пользователей.\n",
    "\n",
    "Изменим тип данных на верный"
   ]
  },
  {
   "cell_type": "code",
   "execution_count": 21,
   "id": "e3b8c36e",
   "metadata": {
    "scrolled": true
   },
   "outputs": [],
   "source": [
    "marketing_events['start_dt'] = marketing_events['start_dt'].map(lambda x: dt.datetime.strptime(x, '%Y-%m-%d'))\n",
    "marketing_events['finish_dt'] = marketing_events['finish_dt'].map(lambda x: dt.datetime.strptime(x, '%Y-%m-%d'))\n",
    "users_new['first_date'] = users_new['first_date'].map(lambda x: dt.datetime.strptime(x, '%Y-%m-%d'))\n",
    "test_users_events['event_dt'] = test_users_events['event_dt'].map(lambda x: dt.datetime.strptime(x, '%Y-%m-%d %H:%M:%S'))"
   ]
  },
  {
   "cell_type": "markdown",
   "id": "96234e3a",
   "metadata": {},
   "source": [
    "Проверим все ли типы данных верно скорректировались"
   ]
  },
  {
   "cell_type": "code",
   "execution_count": 22,
   "id": "c556191d",
   "metadata": {
    "scrolled": true
   },
   "outputs": [
    {
     "name": "stdout",
     "output_type": "stream",
     "text": [
      "datetime64[ns]\n",
      "datetime64[ns]\n",
      "datetime64[ns]\n",
      "datetime64[ns]\n"
     ]
    }
   ],
   "source": [
    "print(marketing_events['start_dt'].dtypes)\n",
    "print(marketing_events['finish_dt'].dtypes)\n",
    "print(users_new['first_date'].dtypes)\n",
    "print(test_users_events['event_dt'].dtypes)"
   ]
  },
  {
   "cell_type": "markdown",
   "id": "8fd152c1",
   "metadata": {},
   "source": [
    "Теперь все типы временных данных верны. Все временные рамки нужно будет еще раз проверить после завершения всей предобработки."
   ]
  },
  {
   "cell_type": "markdown",
   "id": "a0e5e934",
   "metadata": {},
   "source": [
    "#### Исключение пользователей зарегистрировавшихся после 21.12.2020\n",
    "<a id='11'></a>"
   ]
  },
  {
   "cell_type": "markdown",
   "id": "8b76c6f1",
   "metadata": {},
   "source": [
    "Согласно ТЗ дата остановки набора новых пользователей - 21 декабря 2020 года. Однако в наших данных присутствует информация о пользователях зарегистрированных позже этой даты. Необходимо исключить их из анализа"
   ]
  },
  {
   "cell_type": "code",
   "execution_count": 23,
   "id": "a2a05d5b",
   "metadata": {},
   "outputs": [
    {
     "name": "stdout",
     "output_type": "stream",
     "text": [
      "Количество пользователей, зарегистрированных после 21.12.2020 года - 5263\n",
      "Доля пользователей, зарегистрированных после 21.12.2020 года - 8.53%\n"
     ]
    }
   ],
   "source": [
    "users_after = users_new.query('first_date > \"2020-12-21\"')\n",
    "print('Количество пользователей, зарегистрированных после 21.12.2020 года - {}'\n",
    "      .format(len(users_after)))\n",
    "print('Доля пользователей, зарегистрированных после 21.12.2020 года - {0:.2%}'\n",
    "      .format(len(users_after)/len(users_new)))"
   ]
  },
  {
   "cell_type": "markdown",
   "id": "1b5f4701",
   "metadata": {},
   "source": [
    "Около 8,5% пользователей не соответствуют ТЗ. Исключаем их из анализа"
   ]
  },
  {
   "cell_type": "code",
   "execution_count": 24,
   "id": "c88edc30",
   "metadata": {},
   "outputs": [
    {
     "name": "stdout",
     "output_type": "stream",
     "text": [
      "Количество пользователей, зарегистрированных в необходимый интервал времени - 56470\n"
     ]
    }
   ],
   "source": [
    "users_new_filt = users_new.query('first_date <= \"2020-12-21\"')\n",
    "print('Количество пользователей, зарегистрированных в необходимый интервал времени - {}'\n",
    "      .format(len(users_new_filt)))"
   ]
  },
  {
   "cell_type": "markdown",
   "id": "c7804a2f",
   "metadata": {},
   "source": [
    "В итоге в нашем распоряжении информация о 56470 новых пользователях"
   ]
  },
  {
   "cell_type": "markdown",
   "id": "88e83d92",
   "metadata": {},
   "source": [
    "#### Исключение пользователей другого тестирования и сверка итогового количества участников с ожидаемым\n",
    "<a id='12'></a>"
   ]
  },
  {
   "cell_type": "markdown",
   "id": "b4b80420",
   "metadata": {},
   "source": [
    "Согласно ТЗ наше тестирование должно наименоваться \"recommender_system_test\", однако мы выяснили, что в данных присутствуют пользователи из другого тестирования. Необходимо их исключить"
   ]
  },
  {
   "cell_type": "code",
   "execution_count": 25,
   "id": "6735db18",
   "metadata": {},
   "outputs": [
    {
     "name": "stdout",
     "output_type": "stream",
     "text": [
      "Количество пользователей из другого тестирования - 11567\n",
      "Доля пользователей из другого тестирования - 63.32%\n"
     ]
    }
   ],
   "source": [
    "test_users_other = test_users.query('ab_test != \"recommender_system_test\"')\n",
    "print('Количество пользователей из другого тестирования - {}'\n",
    "      .format(len(test_users_other)))\n",
    "print('Доля пользователей из другого тестирования - {0:.2%}'\n",
    "      .format(len(test_users_other)/len(test_users)))"
   ]
  },
  {
   "cell_type": "markdown",
   "id": "568006ff",
   "metadata": {},
   "source": [
    "Информация о более 63% пользователей относится к другому тестированию. Исключаем их из анализа"
   ]
  },
  {
   "cell_type": "code",
   "execution_count": 26,
   "id": "f003a69b",
   "metadata": {},
   "outputs": [
    {
     "name": "stdout",
     "output_type": "stream",
     "text": [
      "Количество пользователей из нашего тестирования - 6701\n"
     ]
    }
   ],
   "source": [
    "test_users_filt = test_users.query('ab_test == \"recommender_system_test\"')\n",
    "print('Количество пользователей из нашего тестирования - {}'\n",
    "      .format(len(test_users_filt)))"
   ]
  },
  {
   "cell_type": "markdown",
   "id": "00369e7d",
   "metadata": {},
   "source": [
    "В итоге в нашем распоряжении информация о 6701 пользователе нашего тестирования, что даже немног более ожидаемого количества участников согласно ТЗ (6000)."
   ]
  },
  {
   "cell_type": "markdown",
   "id": "557f89c4",
   "metadata": {},
   "source": [
    "#### Анализ пропусков в данных о деталях событий\n",
    "<a id='13'></a>"
   ]
  },
  {
   "cell_type": "markdown",
   "id": "5361980c",
   "metadata": {},
   "source": [
    "Напомним какие пропуски были найдены"
   ]
  },
  {
   "cell_type": "code",
   "execution_count": 27,
   "id": "b0d7e5ea",
   "metadata": {},
   "outputs": [
    {
     "name": "stdout",
     "output_type": "stream",
     "text": [
      "Количество пропущенных значений\n"
     ]
    },
    {
     "data": {
      "text/plain": [
       "details    377577\n",
       "dtype: int64"
      ]
     },
     "execution_count": 27,
     "metadata": {},
     "output_type": "execute_result"
    },
    {
     "data": {
      "image/png": "[encoded data removed]",
      "text/plain": [
       "<Figure size 640x480 with 2 Axes>"
      ]
     },
     "metadata": {},
     "output_type": "display_data"
    }
   ],
   "source": [
    "sns.heatmap(test_users_events.isna(), cmap='crest');\n",
    "print('Количество пропущенных значений')\n",
    "test_users_events.isna().sum()[test_users_events.isna().sum()>0]"
   ]
  },
  {
   "cell_type": "markdown",
   "id": "9814a314",
   "metadata": {},
   "source": [
    "Присутствует 377577 пропущенных значений в информации о деталях событий. Посмотрим для каких событий отсутствует информация о деталях"
   ]
  },
  {
   "cell_type": "code",
   "execution_count": 28,
   "id": "aa059731",
   "metadata": {},
   "outputs": [
    {
     "data": {
      "text/plain": [
       "array(['product_cart', 'product_page', 'login'], dtype=object)"
      ]
     },
     "execution_count": 28,
     "metadata": {},
     "output_type": "execute_result"
    }
   ],
   "source": [
    "test_users_events.query('details.isna()')['event_name'].unique()"
   ]
  },
  {
   "cell_type": "markdown",
   "id": "aec28f8c",
   "metadata": {},
   "source": [
    "В 3 из 4 событий нет информации о деталях. Посмотрим действительно ли информация о деталях события есть только в типе \"покупка\", а в остальных отсутствует"
   ]
  },
  {
   "cell_type": "code",
   "execution_count": 29,
   "id": "e1daa49d",
   "metadata": {},
   "outputs": [
    {
     "name": "stdout",
     "output_type": "stream",
     "text": [
      "Детали события \"покупка\" - [ 99.99   9.99   4.99 499.99]\n",
      "Детали события \"просмотр корзины\" - [nan]\n",
      "Детали события \"просмотр карточек товаров\" - [nan]\n",
      "Детали события \"вход в личный кабинет\" - [nan]\n"
     ]
    }
   ],
   "source": [
    "print('Детали события \"покупка\" - {}'\n",
    "      .format(test_users_events.query('event_name == \"purchase\"')['details'].unique()))\n",
    "print('Детали события \"просмотр корзины\" - {}'\n",
    "      .format(test_users_events.query('event_name == \"product_cart\"')['details'].unique()))\n",
    "print('Детали события \"просмотр карточек товаров\" - {}'\n",
    "      .format(test_users_events.query('event_name == \"product_page\"')['details'].unique()))\n",
    "print('Детали события \"вход в личный кабинет\" - {}'\n",
    "      .format(test_users_events.query('event_name == \"login\"')['details'].unique()))"
   ]
  },
  {
   "cell_type": "markdown",
   "id": "7980ef25",
   "metadata": {},
   "source": [
    "Мы видим, что детали есть только у события \"покупка\" - и это информация о стоимости покупки в долларах. Для всех остальных событий дополнительной информации нет.\n",
    "\n",
    "Теперь объединим все необходимые данные и проверим нет ли в тесте неучтенных пользователей"
   ]
  },
  {
   "cell_type": "markdown",
   "id": "aaf88978",
   "metadata": {},
   "source": [
    "#### Сбор данных и проверка на неучтенных пользователей\n",
    "<a id='14'></a>"
   ]
  },
  {
   "cell_type": "markdown",
   "id": "424428b8",
   "metadata": {},
   "source": [
    "Сначала объединим информацию о зарегистрированных пользователях и пользователях вошедших в тестирование"
   ]
  },
  {
   "cell_type": "code",
   "execution_count": 30,
   "id": "c112c8e5",
   "metadata": {},
   "outputs": [],
   "source": [
    "all_users = (\n",
    "    test_users_filt\n",
    "    .merge(users_new_filt, on='user_id', how='outer')\n",
    ")"
   ]
  },
  {
   "cell_type": "code",
   "execution_count": 31,
   "id": "8f8211f1",
   "metadata": {},
   "outputs": [
    {
     "name": "stdout",
     "output_type": "stream",
     "text": [
      "Количество пропущенных значений\n"
     ]
    },
    {
     "data": {
      "text/plain": [
       "group      49769\n",
       "ab_test    49769\n",
       "dtype: int64"
      ]
     },
     "execution_count": 31,
     "metadata": {},
     "output_type": "execute_result"
    },
    {
     "data": {
      "image/png": "[encoded data removed]",
      "text/plain": [
       "<Figure size 640x480 with 2 Axes>"
      ]
     },
     "metadata": {},
     "output_type": "display_data"
    }
   ],
   "source": [
    "#Проверим пропуски после объединения\n",
    "sns.heatmap(all_users.isna(), cmap='crest');\n",
    "print('Количество пропущенных значений')\n",
    "all_users.isna().sum()[all_users.isna().sum()>0]"
   ]
  },
  {
   "cell_type": "markdown",
   "id": "42ea1426",
   "metadata": {},
   "source": [
    "49769 пользователей зарегистрированных с 7 по 21 декабря 2020 года не приняло участие в нашем А/В тестировании. Для дальнейшего анализа результатов А/В тестирования нам не нужна информация о пользователях не участвующих в тестировании, поэтому оставим только нужных пользователей. Произведем объединение таблиц по принципу - объединять по тем пользователям, что есть в тестировании"
   ]
  },
  {
   "cell_type": "code",
   "execution_count": 32,
   "id": "e1400ef8",
   "metadata": {},
   "outputs": [],
   "source": [
    "all_users = (\n",
    "    test_users_filt\n",
    "    .merge(users_new_filt, on='user_id', how='left')\n",
    ")"
   ]
  },
  {
   "cell_type": "code",
   "execution_count": 33,
   "id": "1d9a786b",
   "metadata": {},
   "outputs": [
    {
     "name": "stdout",
     "output_type": "stream",
     "text": [
      "Количество пропущенных значений\n"
     ]
    },
    {
     "data": {
      "text/plain": [
       "Series([], dtype: int64)"
      ]
     },
     "execution_count": 33,
     "metadata": {},
     "output_type": "execute_result"
    },
    {
     "data": {
      "image/png": "[encoded data removed]",
      "text/plain": [
       "<Figure size 640x480 with 2 Axes>"
      ]
     },
     "metadata": {},
     "output_type": "display_data"
    }
   ],
   "source": [
    "#Проверим пропуски после объединения\n",
    "sns.heatmap(all_users.isna(), cmap='crest');\n",
    "print('Количество пропущенных значений')\n",
    "all_users.isna().sum()[all_users.isna().sum()>0]"
   ]
  },
  {
   "cell_type": "markdown",
   "id": "fbd0867e",
   "metadata": {},
   "source": [
    "Мы видим, что пропусков нет, это означает, что все пользователи участвующие в нужном тестировании действительно были зарегистирированы в необходимом нам интервале.\n",
    "\n",
    "Теперь объединим полученную таблицу с данными о событиях совершенных пользователями. И так как нужна информация, только о действиях пользователей попавших в тестирование, объединим таблицу соответствующим образом"
   ]
  },
  {
   "cell_type": "code",
   "execution_count": 34,
   "id": "4e4c27c5",
   "metadata": {},
   "outputs": [],
   "source": [
    "all_users_test = (\n",
    "    all_users\n",
    "    .merge(test_users_events, on='user_id', how='left')\n",
    ")"
   ]
  },
  {
   "cell_type": "code",
   "execution_count": 35,
   "id": "b3859eae",
   "metadata": {},
   "outputs": [
    {
     "name": "stdout",
     "output_type": "stream",
     "text": [
      "Количество пропущенных значений\n"
     ]
    },
    {
     "data": {
      "text/plain": [
       "event_dt       3026\n",
       "event_name     3026\n",
       "details       24393\n",
       "dtype: int64"
      ]
     },
     "execution_count": 35,
     "metadata": {},
     "output_type": "execute_result"
    },
    {
     "data": {
      "image/png": "[encoded data removed]",
      "text/plain": [
       "<Figure size 640x480 with 2 Axes>"
      ]
     },
     "metadata": {},
     "output_type": "display_data"
    }
   ],
   "source": [
    "#Проверим пропуски после объединения\n",
    "sns.heatmap(all_users_test.isna(), cmap='crest');\n",
    "print('Количество пропущенных значений')\n",
    "all_users_test.isna().sum()[all_users_test.isna().sum()>0]"
   ]
  },
  {
   "cell_type": "markdown",
   "id": "015e138d",
   "metadata": {},
   "source": [
    "После итогового объединения - пропуски в деталях для нас ожидаемые (о них мы знали заранее), а вот 3026 пропущенных значений в типе и дате события говорит о том, что не все пользователи вошедшие в тестирование совершали хоть действия. Посмотрим на это несоответствие во время исследовательского анализа"
   ]
  },
  {
   "cell_type": "code",
   "execution_count": 36,
   "id": "be976cc1",
   "metadata": {},
   "outputs": [
    {
     "name": "stdout",
     "output_type": "stream",
     "text": [
      "Размер итоговой таблицы - 27724\n"
     ]
    }
   ],
   "source": [
    "#Сохраним размер нашей сборной таблицы\n",
    "original_size_all = len(all_users_test)\n",
    "print('Размер итоговой таблицы - {}'.format(original_size_all))"
   ]
  },
  {
   "cell_type": "markdown",
   "id": "ed6c63a6",
   "metadata": {},
   "source": [
    "Для дальнейшего анализа нам понадобятся данные лишь о дате события, так что создадим отдельный столбец"
   ]
  },
  {
   "cell_type": "markdown",
   "id": "96e3a0b1",
   "metadata": {},
   "source": [
    "#### Добавление столбца только с датой события\n",
    "<a id='15'></a>"
   ]
  },
  {
   "cell_type": "code",
   "execution_count": 37,
   "id": "70b842df",
   "metadata": {},
   "outputs": [],
   "source": [
    "all_users_test['event_date'] = all_users_test['event_dt'].dt.date\n",
    "all_users_test['event_date'] = pd.to_datetime(all_users_test['event_date'])"
   ]
  },
  {
   "cell_type": "markdown",
   "id": "baac3f3f",
   "metadata": {},
   "source": [
    "#### Оценка лайфтаймов пользователей\n",
    "<a id='16'></a>"
   ]
  },
  {
   "cell_type": "markdown",
   "id": "a4123f71",
   "metadata": {},
   "source": [
    "Посчитаем в отдельном столбце лайфтайл каждого события пользователя и исключим события старше 14 дней"
   ]
  },
  {
   "cell_type": "code",
   "execution_count": 38,
   "id": "142a903a",
   "metadata": {},
   "outputs": [
    {
     "name": "stdout",
     "output_type": "stream",
     "text": [
      "Количество событий старше 14 дней - 628\n",
      "Количество исключенных событий - 628\n",
      "Количество пользователей, участвующих в тестировании - 6701\n"
     ]
    }
   ],
   "source": [
    "all_users_test['lt'] = all_users_test['event_date'] - all_users_test['first_date']\n",
    "\n",
    "all_users_test['lt'] = all_users_test['lt'].astype('timedelta64[D]')\n",
    "\n",
    "print('Количество событий старше 14 дней - {}'\n",
    "      .format(len(all_users_test.query('lt > 14'))))\n",
    "\n",
    "#Исключаем события старше 14 дней\n",
    "all_users_test = all_users_test.query('lt <= 14 or lt.isna()')\n",
    "print('Количество исключенных событий - {}'\n",
    "      .format(original_size_all - len(all_users_test)))\n",
    "\n",
    "print('Количество пользователей, участвующих в тестировании - {}'\n",
    "      .format(all_users_test['user_id'].nunique()))"
   ]
  },
  {
   "cell_type": "markdown",
   "id": "8cbf8866",
   "metadata": {},
   "source": [
    "Исключили 628 событий превышающих 14 дневный лайфтайм, при этом количество пользователей не изменилось - 6701."
   ]
  },
  {
   "cell_type": "code",
   "execution_count": 39,
   "id": "da2bf0bc",
   "metadata": {},
   "outputs": [
    {
     "name": "stdout",
     "output_type": "stream",
     "text": [
      "Размер итоговой таблицы - 27096\n"
     ]
    }
   ],
   "source": [
    "#Пересчитаем размер нашей сборной итоговой таблицы\n",
    "original_size_all = len(all_users_test)\n",
    "print('Размер итоговой таблицы - {}'.format(original_size_all))"
   ]
  },
  {
   "cell_type": "markdown",
   "id": "e1afa0b8",
   "metadata": {},
   "source": [
    "#### Промежуточный вывод после предобработки данных\n",
    "<a id='17'></a>"
   ]
  },
  {
   "cell_type": "markdown",
   "id": "05c6b47d",
   "metadata": {},
   "source": [
    "В процессе обработки данных мы:\n",
    "- скорректировали типы временных данных,\n",
    "- исключили 5263 пользователя, зарегистрированных после 21 декабря 2020 года,\n",
    "- оставили 56470 пользователей, зарегистрированных в нужном интервале (с 7 по 21 декабря 2020 года),\n",
    "- исключили 11567 пользователей, относящихся к другому тестированию,\n",
    "- оставили 6701 пользователей, относящихся к нашему тестированию (что чуть больше ожидаемого количества согласно ТЗ),\n",
    "- выяснили, что дополнительная информация есть только для события \"покупка\" и это стоимость этой покупки в долларах, для остальных событий доп информации нет\n",
    "- объединили все данные о пользователях, попавших в наше А/В тестирование, выяснили что есть пользователи не совершавших действия - посмотрим на них на этапе анализа,\n",
    "- исключили 628 событий превышающих 14 дневный лайфтайм,\n",
    "- а также добавили новый столбец с датой события (без времени).\n",
    "\n",
    "Итоговая таблица для дальнейшего анализа со всей информациией о пользователях (вошедших в А/В тестирование) состоит из 27096 строк.\n",
    "\n",
    "Далее проверим корректность проведения тестирования"
   ]
  },
  {
   "cell_type": "markdown",
   "id": "5844424f",
   "metadata": {},
   "source": [
    "## Оценка корректости проведения теста\n",
    "<a id='18'></a>"
   ]
  },
  {
   "cell_type": "markdown",
   "id": "327e269d",
   "metadata": {},
   "source": [
    "Для проверки корректности проведения тестирования нам необходимо:\n",
    "- проверить данные на оставшееся соответствие ТЗ - в тесте должно быть отобрано 15% новых пользователей из региона EU,\n",
    "- проверить, что время проведения теста не совпадает с маркетинговыми событиями,\n",
    "- проверить, что каждый пользователь попал только в одну группу (А или В) и количество визитов в каждой исследуемой группе должно быть примерно одинаковым"
   ]
  },
  {
   "cell_type": "markdown",
   "id": "f601676c",
   "metadata": {},
   "source": [
    "### Проверка на соотвествие ТЗ (пользователи из EU)\n",
    "<a id='19'></a>"
   ]
  },
  {
   "cell_type": "markdown",
   "id": "306a42ed",
   "metadata": {},
   "source": [
    "Посмотрим сколько пользователей всего было зарегистрировано в период с 7 по 21 декабря из региона EU, а также солколько пользователей из данного региона попали в тестирование"
   ]
  },
  {
   "cell_type": "code",
   "execution_count": 40,
   "id": "fc000da3",
   "metadata": {},
   "outputs": [
    {
     "name": "stdout",
     "output_type": "stream",
     "text": [
      "Количество пользователей из EU, зарегистрированых с 7 по 21 декабря - 42340\n",
      "-----------------\n",
      "Количество пользователей из EU, участвующих в тестировании - 6351\n",
      "-----------------\n",
      "Доля пользователей из EU в тестировании из общей массы этого региона - 15.00%\n"
     ]
    }
   ],
   "source": [
    "print('Количество пользователей из EU, зарегистрированых с 7 по 21 декабря - {}'\n",
    "      .format(len(users_new_filt.query('region == \"EU\"'))))\n",
    "print('-----------------')\n",
    "\n",
    "print('Количество пользователей из EU, участвующих в тестировании - {}'\n",
    "      .format(all_users_test.query('region == \"EU\"')['user_id'].nunique()))\n",
    "print('-----------------')\n",
    "\n",
    "print('Доля пользователей из EU в тестировании из общей массы этого региона - {0:.2%}'\n",
    "      .format(all_users_test.query('region == \"EU\"')['user_id'].nunique() /\n",
    "              len(users_new_filt.query('region == \"EU\"'))))"
   ]
  },
  {
   "cell_type": "markdown",
   "id": "aae1b578",
   "metadata": {},
   "source": [
    "Таким образом видим, что действительно 15% новых пользователей из EU отобралось для тестирования. Нам необходимо чтобы итоговое количество пользователей в тесте было 6000, и так как 6351 пользователь из EU, а из других регионов гораздо меньше, то оставляем лишь пользователей из EU"
   ]
  },
  {
   "cell_type": "code",
   "execution_count": 41,
   "id": "6af16712",
   "metadata": {},
   "outputs": [],
   "source": [
    "all_users_test = all_users_test.query('region == \"EU\"')"
   ]
  },
  {
   "cell_type": "markdown",
   "id": "e6947b46",
   "metadata": {},
   "source": [
    "### Проверка времени проведения теста на пересение с другими событиями\n",
    "<a id='20'></a>"
   ]
  },
  {
   "cell_type": "markdown",
   "id": "10bfa1d1",
   "metadata": {},
   "source": [
    "Нам необходимо выяснить есть ли маркетинговые события которые могу пересекаться с датами проведения нашего тестирования. Для этого исключим события закончившиеся до 7 декабря 2020 года (до даты начала нашего тестирования) и события не проходящие в EU (так как пользователи для нашего анализа именно из этого региона)"
   ]
  },
  {
   "cell_type": "code",
   "execution_count": 42,
   "id": "367a3abb",
   "metadata": {},
   "outputs": [
    {
     "data": {
      "text/html": [
       "<div>\n",
       "<style scoped>\n",
       "    .dataframe tbody tr th:only-of-type {\n",
       "        vertical-align: middle;\n",
       "    }\n",
       "\n",
       "    .dataframe tbody tr th {\n",
       "        vertical-align: top;\n",
       "    }\n",
       "\n",
       "    .dataframe thead th {\n",
       "        text-align: right;\n",
       "    }\n",
       "</style>\n",
       "<table border=\"1\" class=\"dataframe\">\n",
       "  <thead>\n",
       "    <tr style=\"text-align: right;\">\n",
       "      <th></th>\n",
       "      <th>name</th>\n",
       "      <th>regions</th>\n",
       "      <th>start_dt</th>\n",
       "      <th>finish_dt</th>\n",
       "    </tr>\n",
       "  </thead>\n",
       "  <tbody>\n",
       "    <tr>\n",
       "      <th>0</th>\n",
       "      <td>Christmas&amp;New Year Promo</td>\n",
       "      <td>EU, N.America</td>\n",
       "      <td>2020-12-25</td>\n",
       "      <td>2021-01-03</td>\n",
       "    </tr>\n",
       "  </tbody>\n",
       "</table>\n",
       "</div>"
      ],
      "text/plain": [
       "                       name        regions   start_dt  finish_dt\n",
       "0  Christmas&New Year Promo  EU, N.America 2020-12-25 2021-01-03"
      ]
     },
     "execution_count": 42,
     "metadata": {},
     "output_type": "execute_result"
    }
   ],
   "source": [
    "marketing_events.query('finish_dt >= \"2020-12-07\" and regions.str.contains(\"EU\")')"
   ]
  },
  {
   "cell_type": "markdown",
   "id": "c6f276dc",
   "metadata": {},
   "source": [
    "В итоге нашлось всего 1 маркетинговое событие, даты проведения которого пересекаются с проведением нашего А/В тестирования. При анализе распределения аудитории нужно будет внимательнее посмотреть на распределение участников в интервале с 25 декабря 2020 года (время прохождения маркетингового события)"
   ]
  },
  {
   "cell_type": "markdown",
   "id": "1472ce64",
   "metadata": {},
   "source": [
    "### Проверка аудитории тестирования\n",
    "<a id='21'></a>"
   ]
  },
  {
   "cell_type": "markdown",
   "id": "45b8c734",
   "metadata": {},
   "source": [
    "Для проверки аудитории тестирования нам необходимо оценить:\n",
    "- есть ли пересечение пользователей между группами нашего А/В теста,\n",
    "- есть ли пересечение пользователей нашего теста с конкурирующим тестом (\"interface_eu_test\"),\n",
    "- распределение количество пользователей в каждой исследуемой группе - оно должно быть примерно одинаковым"
   ]
  },
  {
   "cell_type": "markdown",
   "id": "c763920a",
   "metadata": {},
   "source": [
    "#### Пересечение пользователей между группами исследуемого А/В теста\n",
    "<a id='22'></a>"
   ]
  },
  {
   "cell_type": "markdown",
   "id": "8d4e6e9c",
   "metadata": {},
   "source": [
    "Чтобы найти пользователей попавших сразу в обе группы, необходимо сгруппировать наши данные по пользователям и посмотреть сколько уникальных групп у каждого из них. И если хоть у одного из них будет 2 группы - значит этот пользователь попал в обе группы и в А и в В."
   ]
  },
  {
   "cell_type": "code",
   "execution_count": 43,
   "id": "3a66be98",
   "metadata": {},
   "outputs": [
    {
     "name": "stdout",
     "output_type": "stream",
     "text": [
      "Количество пользователей, попавших сразу в обе исследуемые группы - 0\n"
     ]
    }
   ],
   "source": [
    "print('Количество пользователей, попавших сразу в обе исследуемые группы - {}'\n",
    "      .format(len(all_users_test\n",
    "                  .groupby('user_id', as_index=False)\n",
    "                  .agg({'group':'nunique'})\n",
    "                  .query('group > 1'))\n",
    "             )\n",
    "     )"
   ]
  },
  {
   "cell_type": "markdown",
   "id": "ed186633",
   "metadata": {},
   "source": [
    "Таким образом видим, что каждый пользователь попал лишь в одну из групп"
   ]
  },
  {
   "cell_type": "markdown",
   "id": "875ef798",
   "metadata": {},
   "source": [
    "#### Пересечение пользователей между исследуемым и конкурирующим тестом\n",
    "<a id='23'></a>"
   ]
  },
  {
   "cell_type": "markdown",
   "id": "911d77e8",
   "metadata": {},
   "source": [
    "Создадим список уникальных идентификаторов пользователей попавших в наш исследуемый тест и посмотрим, присутствуют ли пользователи с этими идентификаторами в данных о проведении конкурирующего теста \"interface_eu_test\""
   ]
  },
  {
   "cell_type": "code",
   "execution_count": 44,
   "id": "83a7d72b",
   "metadata": {},
   "outputs": [
    {
     "name": "stdout",
     "output_type": "stream",
     "text": [
      "Количество пользователей исследуемого теста, попавших в конкурирующий тест - 1602\n"
     ]
    }
   ],
   "source": [
    "id_udser_ab = list(all_users_test['user_id'].unique())\n",
    "\n",
    "print('Количество пользователей исследуемого теста, попавших в конкурирующий тест - {}'\n",
    "      .format(test_users_other\n",
    "              .query('user_id in @id_udser_ab')['user_id']\n",
    "              .nunique())\n",
    "     )"
   ]
  },
  {
   "cell_type": "markdown",
   "id": "bb5283d3",
   "metadata": {},
   "source": [
    "1602 пользователя (из 6351 участника нашего тестирования) исследуемого теста оказались участниками и конкурирующего теста. \n",
    "Посмотрим на распределение этих участников в нашей группе."
   ]
  },
  {
   "cell_type": "code",
   "execution_count": 45,
   "id": "0c010df8",
   "metadata": {
    "scrolled": false
   },
   "outputs": [
    {
     "name": "stdout",
     "output_type": "stream",
     "text": [
      "Распределение участников, попавших в оба теста по группам\n"
     ]
    },
    {
     "data": {
      "text/html": [
       "<div>\n",
       "<style scoped>\n",
       "    .dataframe tbody tr th:only-of-type {\n",
       "        vertical-align: middle;\n",
       "    }\n",
       "\n",
       "    .dataframe tbody tr th {\n",
       "        vertical-align: top;\n",
       "    }\n",
       "\n",
       "    .dataframe thead th {\n",
       "        text-align: right;\n",
       "    }\n",
       "</style>\n",
       "<table border=\"1\" class=\"dataframe\">\n",
       "  <thead>\n",
       "    <tr style=\"text-align: right;\">\n",
       "      <th></th>\n",
       "      <th>group</th>\n",
       "      <th>user_id</th>\n",
       "      <th>perc</th>\n",
       "    </tr>\n",
       "  </thead>\n",
       "  <tbody>\n",
       "    <tr>\n",
       "      <th>0</th>\n",
       "      <td>A</td>\n",
       "      <td>921</td>\n",
       "      <td>57.490637</td>\n",
       "    </tr>\n",
       "    <tr>\n",
       "      <th>1</th>\n",
       "      <td>B</td>\n",
       "      <td>681</td>\n",
       "      <td>42.509363</td>\n",
       "    </tr>\n",
       "  </tbody>\n",
       "</table>\n",
       "</div>"
      ],
      "text/plain": [
       "  group  user_id       perc\n",
       "0     A      921  57.490637\n",
       "1     B      681  42.509363"
      ]
     },
     "metadata": {},
     "output_type": "display_data"
    },
    {
     "name": "stdout",
     "output_type": "stream",
     "text": [
      "Распределение участников, попавших только в наш тест по группам\n"
     ]
    },
    {
     "data": {
      "text/html": [
       "<div>\n",
       "<style scoped>\n",
       "    .dataframe tbody tr th:only-of-type {\n",
       "        vertical-align: middle;\n",
       "    }\n",
       "\n",
       "    .dataframe tbody tr th {\n",
       "        vertical-align: top;\n",
       "    }\n",
       "\n",
       "    .dataframe thead th {\n",
       "        text-align: right;\n",
       "    }\n",
       "</style>\n",
       "<table border=\"1\" class=\"dataframe\">\n",
       "  <thead>\n",
       "    <tr style=\"text-align: right;\">\n",
       "      <th></th>\n",
       "      <th>group</th>\n",
       "      <th>user_id</th>\n",
       "      <th>perc</th>\n",
       "    </tr>\n",
       "  </thead>\n",
       "  <tbody>\n",
       "    <tr>\n",
       "      <th>0</th>\n",
       "      <td>A</td>\n",
       "      <td>2713</td>\n",
       "      <td>57.127816</td>\n",
       "    </tr>\n",
       "    <tr>\n",
       "      <th>1</th>\n",
       "      <td>B</td>\n",
       "      <td>2036</td>\n",
       "      <td>42.872184</td>\n",
       "    </tr>\n",
       "  </tbody>\n",
       "</table>\n",
       "</div>"
      ],
      "text/plain": [
       "  group  user_id       perc\n",
       "0     A     2713  57.127816\n",
       "1     B     2036  42.872184"
      ]
     },
     "metadata": {},
     "output_type": "display_data"
    },
    {
     "name": "stdout",
     "output_type": "stream",
     "text": [
      "Распределение всех участников теста в каждой группе\n"
     ]
    },
    {
     "data": {
      "text/html": [
       "<div>\n",
       "<style scoped>\n",
       "    .dataframe tbody tr th:only-of-type {\n",
       "        vertical-align: middle;\n",
       "    }\n",
       "\n",
       "    .dataframe tbody tr th {\n",
       "        vertical-align: top;\n",
       "    }\n",
       "\n",
       "    .dataframe thead th {\n",
       "        text-align: right;\n",
       "    }\n",
       "</style>\n",
       "<table border=\"1\" class=\"dataframe\">\n",
       "  <thead>\n",
       "    <tr style=\"text-align: right;\">\n",
       "      <th></th>\n",
       "      <th>group</th>\n",
       "      <th>user_id</th>\n",
       "      <th>perc</th>\n",
       "    </tr>\n",
       "  </thead>\n",
       "  <tbody>\n",
       "    <tr>\n",
       "      <th>0</th>\n",
       "      <td>A</td>\n",
       "      <td>3634</td>\n",
       "      <td>57.219336</td>\n",
       "    </tr>\n",
       "    <tr>\n",
       "      <th>1</th>\n",
       "      <td>B</td>\n",
       "      <td>2717</td>\n",
       "      <td>42.780664</td>\n",
       "    </tr>\n",
       "  </tbody>\n",
       "</table>\n",
       "</div>"
      ],
      "text/plain": [
       "  group  user_id       perc\n",
       "0     A     3634  57.219336\n",
       "1     B     2717  42.780664"
      ]
     },
     "execution_count": 45,
     "metadata": {},
     "output_type": "execute_result"
    }
   ],
   "source": [
    "#Создадимм список уникальных идентификаторов пользователей попавших в оба теста\n",
    "id_user_other = list(test_users_other.query('user_id in @id_udser_ab')['user_id'].unique())\n",
    "\n",
    "#Создадим таблицу с данными о пользователях, попавших в оба теста\n",
    "common_users = all_users_test.query('user_id in @id_user_other')\n",
    "\n",
    "#Создадим таблицу с данными о пользователях, попавших только в наше тестирование\n",
    "dif_users = all_users_test.query('user_id not in @id_user_other')\n",
    "\n",
    "#Посмотрим на распределение этих участников в каждой группе теста\n",
    "common_users_group = common_users.groupby('group', as_index=False).agg({'user_id':'nunique'})\n",
    "common_users_group['perc'] = common_users_group['user_id'] / common_users_group['user_id'].sum() * 100\n",
    "\n",
    "#Посмотрим на распределение участников, попавших только в наш тест, в каждой группе теста\n",
    "dif_users_group = dif_users.groupby('group', as_index=False).agg({'user_id':'nunique'})\n",
    "dif_users_group['perc'] = dif_users_group['user_id'] / dif_users_group['user_id'].sum() * 100\n",
    "\n",
    "#Посмотрим на распределение всех участников в каждой группе теста\n",
    "all_users_test_group = all_users_test.groupby('group', as_index=False).agg({'user_id':'nunique'})\n",
    "all_users_test_group['perc'] = all_users_test_group['user_id'] / all_users_test_group['user_id'].sum() * 100\n",
    "\n",
    "print('Распределение участников, попавших в оба теста по группам')\n",
    "display(common_users_group)\n",
    "print('Распределение участников, попавших только в наш тест по группам')\n",
    "display(dif_users_group)\n",
    "print('Распределение всех участников теста в каждой группе')\n",
    "all_users_test_group"
   ]
  },
  {
   "cell_type": "markdown",
   "id": "7b13adbd",
   "metadata": {},
   "source": [
    "Мы видим, что доли распределения и всех участников, и тех которые попали в оба теста одинаковые, и тех что оказались только в нашем тестировании - большая часть (около 57%) попала в группу А, меньшая (около 42%) в группу В, причем даже процентное соотношение одинаковое. Посмотрим, как распределились участники по датам совершения событий"
   ]
  },
  {
   "cell_type": "code",
   "execution_count": 46,
   "id": "f52d0ea7",
   "metadata": {},
   "outputs": [],
   "source": [
    "#Посмотрим на распределение всех участников по датам событий\n",
    "all_users_test_date = all_users_test.groupby('event_date', as_index=False).agg({'user_id':'nunique'})\n",
    "all_users_test_date['perc'] = round(all_users_test_date['user_id'] / all_users_test_date['user_id'].sum() * 100, 2)\n",
    "\n",
    "#Посмотрим на распределение участников, попавших в оба теста по датам событий\n",
    "common_users_date = common_users.groupby('event_date', as_index=False).agg({'user_id':'nunique'})\n",
    "common_users_date['perc'] = round(common_users_date['user_id'] / common_users_date['user_id'].sum() * 100, 2)\n",
    "\n",
    "#Посмотрим на распределение участников, попавших только в наше тестирование\n",
    "dif_users_date = dif_users.groupby('event_date', as_index=False).agg({'user_id':'nunique'})\n",
    "dif_users_date['perc'] = round(dif_users_date['user_id'] / dif_users_date['user_id'].sum() * 100, 2)"
   ]
  },
  {
   "cell_type": "code",
   "execution_count": 47,
   "id": "a186d523",
   "metadata": {
    "scrolled": false
   },
   "outputs": [
    {
     "data": {
      "image/png": "[encoded data removed]"
     },
     "metadata": {},
     "output_type": "display_data"
    }
   ],
   "source": [
    "#Выведем график распределения участников на экран\n",
    "fig = go.Figure()\n",
    "\n",
    "fig.add_trace(\n",
    "    go.Bar(x=all_users_test_date['event_date'],\n",
    "           y=all_users_test_date['perc'],\n",
    "           text=all_users_test_date['perc'],\n",
    "           cliponaxis=False,\n",
    "           marker_color='palegreen',\n",
    "           hovertemplate=\"%{x} значение %{y}%\",\n",
    "           name='Все участники'\n",
    "          )\n",
    ")\n",
    "\n",
    "fig.add_trace(\n",
    "    go.Bar(x=common_users_date['event_date'],\n",
    "           y=common_users_date['perc'],\n",
    "           text=common_users_date['perc'],\n",
    "           cliponaxis=False,\n",
    "           marker_color='mediumslateblue',\n",
    "           hovertemplate=\"%{x} значение %{y}%\",\n",
    "           name='Участники, попавшие в оба тестирования'\n",
    "          )\n",
    ")\n",
    "\n",
    "fig.add_trace(\n",
    "    go.Bar(x=dif_users_date['event_date'],\n",
    "           y=dif_users_date['perc'],\n",
    "           text=dif_users_date['perc'],\n",
    "           cliponaxis=False,\n",
    "           marker_color='blue',\n",
    "           hovertemplate=\"%{x} значение %{y}%\",\n",
    "           name='Участники, попавшие только в наш тест'\n",
    "          )\n",
    ")\n",
    "\n",
    "fig.update_xaxes(showline=True, linewidth=1, linecolor='grey', title='Даты совершения событий')\n",
    "fig.update_yaxes(showline=True, linewidth=1, linecolor='grey', gridcolor='lightgrey', title='Проценты')\n",
    "\n",
    "fig.update_layout(legend_orientation='h',\n",
    "                  legend=dict(yanchor='bottom', xanchor='left', y=0.99, x=0.01),\n",
    "                  plot_bgcolor='white',\n",
    "                  title_text='Распределение всех участников, участников, попавших в оба и только в наше тестирования')\n",
    "\n",
    "fig.update_traces(textposition='none')\n",
    "\n",
    "fig.show(renderer='png', width=1000, height=600, scale=None)"
   ]
  },
  {
   "cell_type": "markdown",
   "id": "2636016c",
   "metadata": {},
   "source": [
    "Как мы видим, распределение участников по датам также распределено практически одинаково и для участников попавших в оба тестирования и только в наше. Общие скачки в совершении событий 14 и 21 декабря и общее падение 22 декабря. \n",
    "\n",
    "Также мы сразу видим, что начало маркетингового события 25 декабря никак не оказывает влияние (например, отсутствует увеличение количества событий с этой даты) на пользователей. \n",
    "\n",
    "Из этого можно сделать вывод, что нет необходимости исключать пользователей попавших в оба тестирования, а также действия пользователей во время маркетингового события."
   ]
  },
  {
   "cell_type": "markdown",
   "id": "399ec7d7",
   "metadata": {},
   "source": [
    "#### Распределение пользователей в каждой исследуемой группе\n",
    "<a id='24'></a>"
   ]
  },
  {
   "cell_type": "markdown",
   "id": "f6c83ce8",
   "metadata": {},
   "source": [
    "Необходимо сгруппировать пользователей по группам и оценить их распределение внутри групп"
   ]
  },
  {
   "cell_type": "code",
   "execution_count": 48,
   "id": "d5fdca3c",
   "metadata": {},
   "outputs": [
    {
     "name": "stdout",
     "output_type": "stream",
     "text": [
      "Количество уникальных посетителей во всем исследовании - 6351\n",
      "\n",
      "Количество уникальных посетителей в каждой группе\n"
     ]
    },
    {
     "data": {
      "text/html": [
       "<div>\n",
       "<style scoped>\n",
       "    .dataframe tbody tr th:only-of-type {\n",
       "        vertical-align: middle;\n",
       "    }\n",
       "\n",
       "    .dataframe tbody tr th {\n",
       "        vertical-align: top;\n",
       "    }\n",
       "\n",
       "    .dataframe thead th {\n",
       "        text-align: right;\n",
       "    }\n",
       "</style>\n",
       "<table border=\"1\" class=\"dataframe\">\n",
       "  <thead>\n",
       "    <tr style=\"text-align: right;\">\n",
       "      <th></th>\n",
       "      <th>group</th>\n",
       "      <th>user_id</th>\n",
       "      <th>perc</th>\n",
       "    </tr>\n",
       "  </thead>\n",
       "  <tbody>\n",
       "    <tr>\n",
       "      <th>0</th>\n",
       "      <td>A</td>\n",
       "      <td>3634</td>\n",
       "      <td>57.219336</td>\n",
       "    </tr>\n",
       "    <tr>\n",
       "      <th>1</th>\n",
       "      <td>B</td>\n",
       "      <td>2717</td>\n",
       "      <td>42.780664</td>\n",
       "    </tr>\n",
       "  </tbody>\n",
       "</table>\n",
       "</div>"
      ],
      "text/plain": [
       "  group  user_id       perc\n",
       "0     A     3634  57.219336\n",
       "1     B     2717  42.780664"
      ]
     },
     "execution_count": 48,
     "metadata": {},
     "output_type": "execute_result"
    }
   ],
   "source": [
    "#Проверим количество уникальных пользователей попавших в кажду группу\n",
    "print('Количество уникальных посетителей во всем исследовании - {}'\n",
    "      .format(all_users_test['user_id'].nunique()))\n",
    "print()\n",
    "print('Количество уникальных посетителей в каждой группе')\n",
    "all_users_test_group"
   ]
  },
  {
   "cell_type": "markdown",
   "id": "c8d6a9d5",
   "metadata": {},
   "source": [
    "Количество уникальных пользователей в группах достаточно сильно отличаются - в группе А на 917 участников больше (это почти 14% от всех участников). Посмотрим на распределение посетителей в группах на каждую дату регистрации и на каждую дату совершения событий"
   ]
  },
  {
   "cell_type": "code",
   "execution_count": 49,
   "id": "ce4269f2",
   "metadata": {
    "scrolled": false
   },
   "outputs": [],
   "source": [
    "#Распределение на каждую дату регистрации\n",
    "all_users_test_fdate = (\n",
    "    all_users_test\n",
    "    .pivot_table(index='first_date', columns='group', values='user_id', aggfunc='nunique')\n",
    "    .reset_index()\n",
    ")\n",
    "\n",
    "all_users_test_fdate['% A'] = (\n",
    "    (round(all_users_test_fdate['A']/all_users_test_fdate[['A', 'B']].sum(axis=1)*100, 2))\n",
    ")\n",
    "\n",
    "all_users_test_fdate['% B'] = (\n",
    "    (round(all_users_test_fdate['B']/all_users_test_fdate[['A', 'B']].sum(axis=1)*100, 2))\n",
    ")\n",
    "\n",
    "#Распределение на каждую дату совершения события\n",
    "all_users_test_edate = (\n",
    "    all_users_test\n",
    "    .pivot_table(index='event_date', columns='group', values='user_id', aggfunc='nunique')\n",
    "    .reset_index()\n",
    ")\n",
    "\n",
    "all_users_test_edate['% A'] = (\n",
    "    (round(all_users_test_edate['A']/all_users_test_edate[['A', 'B']].sum(axis=1)*100, 2))\n",
    ")\n",
    "\n",
    "all_users_test_edate['% B'] = (\n",
    "    (round(all_users_test_edate['B']/all_users_test_edate[['A', 'B']].sum(axis=1)*100, 2))\n",
    ")"
   ]
  },
  {
   "cell_type": "code",
   "execution_count": 50,
   "id": "5dccbd17",
   "metadata": {
    "scrolled": false
   },
   "outputs": [
    {
     "data": {
      "image/png": "[encoded data removed]"
     },
     "metadata": {},
     "output_type": "display_data"
    }
   ],
   "source": [
    "#Выведем график распределения участников по регистрации на экран\n",
    "fig = go.Figure()\n",
    "\n",
    "fig.add_trace(\n",
    "    go.Bar(x=all_users_test_fdate['first_date'],\n",
    "           y=all_users_test_fdate['% A'],\n",
    "           text=all_users_test_fdate['% A'],\n",
    "           cliponaxis=False,\n",
    "           marker_color='palegreen',\n",
    "           name='Группа А',\n",
    "           hovertemplate=\"%{x} значение %{y}%\"\n",
    "          )\n",
    ")\n",
    "\n",
    "fig.add_trace(\n",
    "    go.Bar(x=all_users_test_fdate['first_date'],\n",
    "           y=all_users_test_fdate['% B'],\n",
    "           text=all_users_test_fdate['% B'],\n",
    "           cliponaxis=False,\n",
    "           marker_color='mediumslateblue',\n",
    "           name='Группа В',\n",
    "           hovertemplate=\"%{x} значение %{y}%\"\n",
    "          )\n",
    ")\n",
    "\n",
    "fig.update_xaxes(showline=True, linewidth=1, linecolor='grey', title='Даты регистрации пользователей')\n",
    "fig.update_yaxes(showline=True, linewidth=1, linecolor='grey', gridcolor='lightgrey', title='Проценты')\n",
    "\n",
    "fig.update_layout(legend_orientation='h',\n",
    "                  legend=dict(yanchor='bottom', xanchor='left', y=0.99, x=0.01),\n",
    "                  plot_bgcolor='white',\n",
    "                  title_text='Процентное соотношение участников тестирования на каждую дату регистрации по группам')\n",
    "\n",
    "fig.update_traces(textposition='inside')\n",
    "\n",
    "fig.show(renderer='png', width=1000, height=600, scale=None)"
   ]
  },
  {
   "cell_type": "markdown",
   "id": "d932eada",
   "metadata": {},
   "source": [
    "Как мы видим, на каждую дату регистрации (с 7 по 21 декабря 2020) количество участников теста в группе А всегда больше, чем в группе В (примерно на 14-16%), только в один день 10 декабря разница между участниками групп минимальна - в этот день зарегистрирующиеся пользователи попали в обе группы примерно в одинаковом соотношении.\n",
    "\n",
    "Из этого можно сделать вывод, что присутствует проблема распределения участников по группам - большая часть пользователей попали в группу А (контрольную). \n",
    "\n",
    "Посмотрим, сколько уникальных пользователей каждый день тестирования совершали события"
   ]
  },
  {
   "cell_type": "code",
   "execution_count": 51,
   "id": "9acdfcab",
   "metadata": {},
   "outputs": [
    {
     "data": {
      "image/png": "[encoded data removed]"
     },
     "metadata": {},
     "output_type": "display_data"
    }
   ],
   "source": [
    "#Выведем график распределения участников на дату совершения событий на экран\n",
    "fig = go.Figure()\n",
    "\n",
    "fig.add_trace(\n",
    "    go.Bar(x=all_users_test_edate['event_date'],\n",
    "           y=all_users_test_edate['% A'],\n",
    "           text=all_users_test_edate['% A'],\n",
    "           cliponaxis=False,\n",
    "           marker_color='palegreen',\n",
    "           name='Группа А',\n",
    "           hovertemplate=\"%{x} значение %{y}%\"\n",
    "          )\n",
    ")\n",
    "\n",
    "fig.add_trace(\n",
    "    go.Bar(x=all_users_test_edate['event_date'],\n",
    "           y=all_users_test_edate['% B'],\n",
    "           text=all_users_test_edate['% B'],\n",
    "           cliponaxis=False,\n",
    "           marker_color='mediumslateblue',\n",
    "           name='Группа В',\n",
    "           hovertemplate=\"%{x} значение %{y}%\"\n",
    "          )\n",
    ")\n",
    "\n",
    "fig.update_xaxes(showline=True, linewidth=1, linecolor='grey', title='Даты регистрации пользователей')\n",
    "fig.update_yaxes(showline=True, linewidth=1, linecolor='grey', gridcolor='lightgrey', title='Проценты')\n",
    "\n",
    "fig.update_layout(legend_orientation='h',\n",
    "                  legend=dict(yanchor='bottom', xanchor='left', y=0.99, x=0.01),\n",
    "                  plot_bgcolor='white',\n",
    "                  title_text='Процентное соотношение участников тестирования на каждую дату совершения событий по группам')\n",
    "\n",
    "fig.show(renderer='png', width=1000, height=800, scale=None)"
   ]
  },
  {
   "cell_type": "markdown",
   "id": "6e2bb8d0",
   "metadata": {},
   "source": [
    "Видим, что только в самый первый день больше пользователи группы В совершали действия, но начиная со следующего дня именно больше пользователей группы А совершали действия, а 5 дня тестирования (с 11 декабря 2020 года) все меньшее количество пользователей группы В были активны. И к окончанию тестирования разница между количеством активных пользователей групп составила около 72% (в группе А больше активых)\n",
    "\n",
    "Посмотрим на итоговое количество участников и событий в тестировании"
   ]
  },
  {
   "cell_type": "code",
   "execution_count": 52,
   "id": "36ba1d77",
   "metadata": {},
   "outputs": [
    {
     "name": "stdout",
     "output_type": "stream",
     "text": [
      "Общее количество событий - 22828\n",
      "\n",
      "Общее количество пользователей - 6351\n"
     ]
    }
   ],
   "source": [
    "print(\n",
    "    'Общее количество событий - {}'\n",
    "      .format(all_users_test['event_name'].count())\n",
    ")\n",
    "print()\n",
    "print(\n",
    "    'Общее количество пользователей - {}'\n",
    "      .format(all_users_test['user_id'].nunique())\n",
    ")"
   ]
  },
  {
   "cell_type": "markdown",
   "id": "3c642060",
   "metadata": {},
   "source": [
    "### Промежуточный вывод после оценки корректности проведения теста\n",
    "<a id='25'></a>"
   ]
  },
  {
   "cell_type": "markdown",
   "id": "98726ccb",
   "metadata": {},
   "source": [
    "В итоговых данных для оценки результатов тестирования:\n",
    "- все данные соответствовали ТЗ и было 6351 участников из EU,\n",
    "- с 25 декабря 2020 года (во время проведения нашего А/В тестирования) проходило маркетинговое событие - однако оно не оказало влияния на действия пользователей,\n",
    "- каждый пользователь попал лишь в одну из групп,\n",
    "- обнаружились пользователи участвующие и в нашем и в конкурирующем тесте, однако после их анализа выяснили, что эти пользователи распределены равномерно и не оказывают влияния на результаты тестирования,\n",
    "- обнаружилось, что пользователи между группами распределены не равномерно - примерно на 14% в группу А попало больше пользователей чем в группу В, а также количество акивных пользователей в группе А в разы превышает количество активных группы В\n",
    "\n",
    "Таким образом можно сделать вывод, что данные тестирования соответсвуют ТЗ, однако подготовка тестирования возможно была выполнена не корректно из-за не верного распределения пользователей по группам, совмещения тестирования, маркетингового события, а также пересечения пользователей с конкурирующим тестом.\n",
    "\n",
    "**Итоговая таблица для дальнейшего анализа** со всей информациией о пользователях (вошедших в А/В тестирование) состоит из 22828 событий - в ней 6351 участник тестирования зарегистрированный с 07 по 21 декабря 2020 года, совершающие действия с 7 по 29 декабря 2020 года.\n",
    "\n",
    "Данные проверены и готовы к анализу"
   ]
  },
  {
   "cell_type": "markdown",
   "id": "7e8c4445",
   "metadata": {},
   "source": [
    "## Исследовательский анализ данных\n",
    "<a id='26'></a>"
   ]
  },
  {
   "cell_type": "markdown",
   "id": "62886b3f",
   "metadata": {},
   "source": [
    "В процессе анализа нам необходимо определить:\n",
    "- одинаково ли распределены в выборках количество событий на пользователя,\n",
    "- как число событий в выборках распределено по дням,\n",
    "- как меняется конверсия в воронке в выборках на разных этапах"
   ]
  },
  {
   "cell_type": "markdown",
   "id": "1897c805",
   "metadata": {},
   "source": [
    "### Количество событий на пользователя\n",
    "<a id='27'></a>"
   ]
  },
  {
   "cell_type": "markdown",
   "id": "d30048c4",
   "metadata": {},
   "source": [
    "Понимаем, что каждый пользователь мог совершить 1, 2 ... действий (в каждой группе), а кто то мог просто зарегистрировать без совершения дальнейших событий. Необходимо получить эти данные"
   ]
  },
  {
   "cell_type": "code",
   "execution_count": 53,
   "id": "02ad0bac",
   "metadata": {
    "scrolled": false
   },
   "outputs": [
    {
     "name": "stdout",
     "output_type": "stream",
     "text": [
      "Пользователи, совершившие события - 3481\n",
      "Доля пользователей, совершивших события, от общего числа участников - 54.81%\n",
      "\n",
      "Пользователи, не совершившие не одного действия - 2870\n",
      "Доля пользователей, не совершивших события, от общего числа участников - 45.19%\n"
     ]
    }
   ],
   "source": [
    "#Сначала получим данные по количеству совершенных действий пользователями\n",
    "event_users = (\n",
    "    all_users_test.groupby('user_id', as_index=False)\n",
    "    .agg({'event_name':'count'})\n",
    "    .merge(test_users_filt[['user_id','group']], on='user_id', how='left')\n",
    "    .sort_values(by='event_name', ascending=False)\n",
    ")\n",
    "\n",
    "print('Пользователи, совершившие события - {}'\n",
    "      .format(len(event_users.query('event_name > 0'))))\n",
    "\n",
    "print('Доля пользователей, совершивших события, от общего числа участников - {0:.2%}'\n",
    "      .format(len(event_users.query('event_name > 0'))\n",
    "              /all_users_test['user_id'].nunique()))\n",
    "print('')\n",
    "print('Пользователи, не совершившие не одного действия - {}'\n",
    "      .format(len(event_users.query('event_name == 0'))))\n",
    "\n",
    "print('Доля пользователей, не совершивших события, от общего числа участников - {0:.2%}'\n",
    "      .format(len(event_users.query('event_name == 0'))\n",
    "              /all_users_test['user_id'].nunique()))"
   ]
  },
  {
   "cell_type": "markdown",
   "id": "38da3a84",
   "metadata": {},
   "source": [
    "Видим, что около 45% участников тестирования прошли только этап регистрации и более ничего не совершали. Посмотрим на этих пользователей внимательнее:\n",
    "- из каких групп тестирования,\n",
    "- с каких устройств проходили регистрацию,\n",
    "- в какие даты проходили регистрацию"
   ]
  },
  {
   "cell_type": "code",
   "execution_count": 54,
   "id": "293785ab",
   "metadata": {
    "scrolled": false
   },
   "outputs": [
    {
     "name": "stdout",
     "output_type": "stream",
     "text": [
      "Группы тестирования пользователей без действий:\n"
     ]
    },
    {
     "data": {
      "text/html": [
       "<div>\n",
       "<style scoped>\n",
       "    .dataframe tbody tr th:only-of-type {\n",
       "        vertical-align: middle;\n",
       "    }\n",
       "\n",
       "    .dataframe tbody tr th {\n",
       "        vertical-align: top;\n",
       "    }\n",
       "\n",
       "    .dataframe thead th {\n",
       "        text-align: right;\n",
       "    }\n",
       "</style>\n",
       "<table border=\"1\" class=\"dataframe\">\n",
       "  <thead>\n",
       "    <tr style=\"text-align: right;\">\n",
       "      <th></th>\n",
       "      <th>user_id</th>\n",
       "    </tr>\n",
       "    <tr>\n",
       "      <th>group</th>\n",
       "      <th></th>\n",
       "    </tr>\n",
       "  </thead>\n",
       "  <tbody>\n",
       "    <tr>\n",
       "      <th>A</th>\n",
       "      <td>1030</td>\n",
       "    </tr>\n",
       "    <tr>\n",
       "      <th>B</th>\n",
       "      <td>1840</td>\n",
       "    </tr>\n",
       "  </tbody>\n",
       "</table>\n",
       "</div>"
      ],
      "text/plain": [
       "       user_id\n",
       "group         \n",
       "A         1030\n",
       "B         1840"
      ]
     },
     "metadata": {},
     "output_type": "display_data"
    },
    {
     "name": "stdout",
     "output_type": "stream",
     "text": [
      "\n",
      "Устройства регистрации пользователей без действий:\n"
     ]
    },
    {
     "data": {
      "text/html": [
       "<div>\n",
       "<style scoped>\n",
       "    .dataframe tbody tr th:only-of-type {\n",
       "        vertical-align: middle;\n",
       "    }\n",
       "\n",
       "    .dataframe tbody tr th {\n",
       "        vertical-align: top;\n",
       "    }\n",
       "\n",
       "    .dataframe thead th {\n",
       "        text-align: right;\n",
       "    }\n",
       "</style>\n",
       "<table border=\"1\" class=\"dataframe\">\n",
       "  <thead>\n",
       "    <tr style=\"text-align: right;\">\n",
       "      <th></th>\n",
       "      <th>user_id</th>\n",
       "    </tr>\n",
       "    <tr>\n",
       "      <th>device</th>\n",
       "      <th></th>\n",
       "    </tr>\n",
       "  </thead>\n",
       "  <tbody>\n",
       "    <tr>\n",
       "      <th>Android</th>\n",
       "      <td>1274</td>\n",
       "    </tr>\n",
       "    <tr>\n",
       "      <th>Mac</th>\n",
       "      <td>275</td>\n",
       "    </tr>\n",
       "    <tr>\n",
       "      <th>PC</th>\n",
       "      <td>720</td>\n",
       "    </tr>\n",
       "    <tr>\n",
       "      <th>iPhone</th>\n",
       "      <td>601</td>\n",
       "    </tr>\n",
       "  </tbody>\n",
       "</table>\n",
       "</div>"
      ],
      "text/plain": [
       "         user_id\n",
       "device          \n",
       "Android     1274\n",
       "Mac          275\n",
       "PC           720\n",
       "iPhone       601"
      ]
     },
     "metadata": {},
     "output_type": "display_data"
    },
    {
     "name": "stdout",
     "output_type": "stream",
     "text": [
      "\n",
      "Даты регистрации пользователей без действий:\n"
     ]
    },
    {
     "data": {
      "text/html": [
       "<div>\n",
       "<style scoped>\n",
       "    .dataframe tbody tr th:only-of-type {\n",
       "        vertical-align: middle;\n",
       "    }\n",
       "\n",
       "    .dataframe tbody tr th {\n",
       "        vertical-align: top;\n",
       "    }\n",
       "\n",
       "    .dataframe thead th {\n",
       "        text-align: right;\n",
       "    }\n",
       "</style>\n",
       "<table border=\"1\" class=\"dataframe\">\n",
       "  <thead>\n",
       "    <tr style=\"text-align: right;\">\n",
       "      <th></th>\n",
       "      <th>user_id</th>\n",
       "    </tr>\n",
       "    <tr>\n",
       "      <th>first_date</th>\n",
       "      <th></th>\n",
       "    </tr>\n",
       "  </thead>\n",
       "  <tbody>\n",
       "    <tr>\n",
       "      <th>2020-12-07</th>\n",
       "      <td>283</td>\n",
       "    </tr>\n",
       "    <tr>\n",
       "      <th>2020-12-08</th>\n",
       "      <td>203</td>\n",
       "    </tr>\n",
       "    <tr>\n",
       "      <th>2020-12-09</th>\n",
       "      <td>87</td>\n",
       "    </tr>\n",
       "    <tr>\n",
       "      <th>2020-12-10</th>\n",
       "      <td>278</td>\n",
       "    </tr>\n",
       "    <tr>\n",
       "      <th>2020-12-11</th>\n",
       "      <td>157</td>\n",
       "    </tr>\n",
       "    <tr>\n",
       "      <th>2020-12-12</th>\n",
       "      <td>355</td>\n",
       "    </tr>\n",
       "    <tr>\n",
       "      <th>2020-12-13</th>\n",
       "      <td>485</td>\n",
       "    </tr>\n",
       "    <tr>\n",
       "      <th>2020-12-14</th>\n",
       "      <td>194</td>\n",
       "    </tr>\n",
       "    <tr>\n",
       "      <th>2020-12-15</th>\n",
       "      <td>110</td>\n",
       "    </tr>\n",
       "    <tr>\n",
       "      <th>2020-12-16</th>\n",
       "      <td>17</td>\n",
       "    </tr>\n",
       "    <tr>\n",
       "      <th>2020-12-17</th>\n",
       "      <td>102</td>\n",
       "    </tr>\n",
       "    <tr>\n",
       "      <th>2020-12-18</th>\n",
       "      <td>124</td>\n",
       "    </tr>\n",
       "    <tr>\n",
       "      <th>2020-12-19</th>\n",
       "      <td>130</td>\n",
       "    </tr>\n",
       "    <tr>\n",
       "      <th>2020-12-20</th>\n",
       "      <td>143</td>\n",
       "    </tr>\n",
       "    <tr>\n",
       "      <th>2020-12-21</th>\n",
       "      <td>202</td>\n",
       "    </tr>\n",
       "  </tbody>\n",
       "</table>\n",
       "</div>"
      ],
      "text/plain": [
       "            user_id\n",
       "first_date         \n",
       "2020-12-07      283\n",
       "2020-12-08      203\n",
       "2020-12-09       87\n",
       "2020-12-10      278\n",
       "2020-12-11      157\n",
       "2020-12-12      355\n",
       "2020-12-13      485\n",
       "2020-12-14      194\n",
       "2020-12-15      110\n",
       "2020-12-16       17\n",
       "2020-12-17      102\n",
       "2020-12-18      124\n",
       "2020-12-19      130\n",
       "2020-12-20      143\n",
       "2020-12-21      202"
      ]
     },
     "metadata": {},
     "output_type": "display_data"
    }
   ],
   "source": [
    "#Создадим список идентификаторов пользователей без действий\n",
    "users_not_events = list(event_users.query('event_name == 0')['user_id'])\n",
    "\n",
    "print('Группы тестирования пользователей без действий:')\n",
    "display(event_users\n",
    "        .query('user_id in @users_not_events')\n",
    "        .groupby('group')\n",
    "        .agg({'user_id':'count'}))\n",
    "print('')\n",
    "print('Устройства регистрации пользователей без действий:')\n",
    "display(all_users_test\n",
    "        .query('user_id in @users_not_events')\n",
    "        .groupby('device')\n",
    "        .agg({'user_id':'count'}))\n",
    "print('')\n",
    "print('Даты регистрации пользователей без действий:')\n",
    "display(all_users_test\n",
    "        .query('user_id in @users_not_events')\n",
    "        .groupby('first_date')\n",
    "        .agg({'user_id':'count'}))"
   ]
  },
  {
   "cell_type": "markdown",
   "id": "743bf0f6",
   "metadata": {},
   "source": [
    "Видим, что большая часть пользователей без действий:\n",
    "- расположились в группе В (с изменениями), но их также много и в группе А,\n",
    "- пользователи регистрировались во все даты со всех устройств. \n",
    "\n",
    "Значит нельзя предположить наличие технической ошибки из-за которой пользователи не могли совершать действия, скорее всего это не качественая и некорректная подготовка к тестированию - не корректное разбиение на группы и привлечение пользователей.\n",
    "\n",
    "Посмотрим как распределены по группам пользователи совершавшие события"
   ]
  },
  {
   "cell_type": "code",
   "execution_count": 55,
   "id": "012435fc",
   "metadata": {
    "scrolled": true
   },
   "outputs": [
    {
     "name": "stdout",
     "output_type": "stream",
     "text": [
      "Группы тестирования пользователей с событиями:\n"
     ]
    },
    {
     "data": {
      "text/html": [
       "<div>\n",
       "<style scoped>\n",
       "    .dataframe tbody tr th:only-of-type {\n",
       "        vertical-align: middle;\n",
       "    }\n",
       "\n",
       "    .dataframe tbody tr th {\n",
       "        vertical-align: top;\n",
       "    }\n",
       "\n",
       "    .dataframe thead th {\n",
       "        text-align: right;\n",
       "    }\n",
       "</style>\n",
       "<table border=\"1\" class=\"dataframe\">\n",
       "  <thead>\n",
       "    <tr style=\"text-align: right;\">\n",
       "      <th></th>\n",
       "      <th>event_name</th>\n",
       "    </tr>\n",
       "    <tr>\n",
       "      <th>group</th>\n",
       "      <th></th>\n",
       "    </tr>\n",
       "  </thead>\n",
       "  <tbody>\n",
       "    <tr>\n",
       "      <th>A</th>\n",
       "      <td>2604</td>\n",
       "    </tr>\n",
       "    <tr>\n",
       "      <th>B</th>\n",
       "      <td>877</td>\n",
       "    </tr>\n",
       "  </tbody>\n",
       "</table>\n",
       "</div>"
      ],
      "text/plain": [
       "       event_name\n",
       "group            \n",
       "A            2604\n",
       "B             877"
      ]
     },
     "metadata": {},
     "output_type": "display_data"
    },
    {
     "name": "stdout",
     "output_type": "stream",
     "text": [
      "Разница между событиями в группах - 1727 пользователей\n"
     ]
    }
   ],
   "source": [
    "#Создадим список идентификаторов пользователей, совершавших действия\n",
    "users_events = list(event_users.query('event_name > 0')['user_id'])\n",
    "\n",
    "print('Группы тестирования пользователей с событиями:')\n",
    "display(event_users\n",
    "        .query('user_id in @users_events')\n",
    "        .groupby('group')\n",
    "        .agg({'event_name':'count'}))\n",
    "\n",
    "print('Разница между событиями в группах - {} пользователей'.format(\n",
    "     (event_users\n",
    "        .query('user_id in @users_events')\n",
    "        .groupby('group')\n",
    "        .agg({'event_name':'count'}))['event_name']['A'] - \n",
    "    (event_users\n",
    "        .query('user_id in @users_events')\n",
    "        .groupby('group')\n",
    "        .agg({'event_name':'count'}))['event_name']['B']\n",
    ")\n",
    "     )"
   ]
  },
  {
   "cell_type": "markdown",
   "id": "d49f5177",
   "metadata": {},
   "source": [
    "Мы видим, что в группе А пользователей, совершивших события в разы больше, чем в группе В - на 1727 пользователей больше. Вновь это говорит о некорректном планировании и проведении тестирования"
   ]
  },
  {
   "cell_type": "markdown",
   "id": "8abe0139",
   "metadata": {},
   "source": [
    "Посмотрим, какое количество событий пользователей встречается чаще всего, для этого построим точечную диаграмму событий по пользователям"
   ]
  },
  {
   "cell_type": "code",
   "execution_count": 56,
   "id": "5f243a8b",
   "metadata": {},
   "outputs": [
    {
     "data": {
      "image/png": "[encoded data removed]"
     },
     "metadata": {},
     "output_type": "display_data"
    }
   ],
   "source": [
    "#Выведем график распределения участников на дату совершения событий на экран\n",
    "fig = go.Figure()\n",
    "\n",
    "#серия из чисел от 0 до количества наблюдений в данных по количеству совершенных событий для групп\n",
    "x_values_A = pd.Series(range(0, len(event_users.query('event_name > 0 and group == \"A\"'))))\n",
    "x_values_B = pd.Series(range(0, len(event_users.query('event_name > 0 and group == \"B\"'))))\n",
    "\n",
    "fig.add_trace(\n",
    "    go.Scatter(x=x_values_A,\n",
    "               y=event_users.query('event_name > 0 and group == \"A\"')['event_name'],\n",
    "               marker_color='palegreen',\n",
    "               mode='markers',\n",
    "               name='Группа А'\n",
    "          )\n",
    ")\n",
    "\n",
    "fig.add_trace(\n",
    "    go.Scatter(x=x_values_B,\n",
    "               y=event_users.query('event_name > 0 and group == \"B\"')['event_name'],\n",
    "               opacity=0.5,\n",
    "               marker_color='mediumslateblue',\n",
    "               mode='markers',\n",
    "               name='Группа B'\n",
    "          )\n",
    ")\n",
    "\n",
    "fig.update_xaxes(showline=True, linewidth=1, linecolor='grey', title='Пользователи, совершившие события')\n",
    "fig.update_yaxes(showline=True, linewidth=1, linecolor='grey', gridcolor='lightgrey', title='Кол-во событий')\n",
    "\n",
    "fig.update_layout(legend_orientation='h',\n",
    "                  legend=dict(yanchor='bottom', xanchor='left', y=0.99, x=0.01),\n",
    "                  plot_bgcolor='white',\n",
    "                  title_text='График среднего количества событий по группам')\n",
    "\n",
    "fig.show(renderer='png', width=1000, height=600, scale=None)"
   ]
  },
  {
   "cell_type": "markdown",
   "id": "d3d3334d",
   "metadata": {},
   "source": [
    "Видим подтверждение, что больше пользователей совершают события в группе А.\n",
    "\n",
    "Также видим, что большее количество пользователей (в обеих группах) совершили от 1 до 6 событий."
   ]
  },
  {
   "cell_type": "markdown",
   "id": "70a968ce",
   "metadata": {},
   "source": [
    "### Количество событий по дням\n",
    "<a id='28'></a>"
   ]
  },
  {
   "cell_type": "markdown",
   "id": "5a0fba23",
   "metadata": {},
   "source": [
    "Посмотрим, как распределяется совершение событий пользователями по дням в каждой группе"
   ]
  },
  {
   "cell_type": "code",
   "execution_count": 57,
   "id": "f6b11560",
   "metadata": {
    "scrolled": true
   },
   "outputs": [],
   "source": [
    "event_user_date = (\n",
    "    all_users_test\n",
    "    .query('~event_name.isna()')\n",
    "    .pivot_table(index='event_date', columns='group', values='event_name', aggfunc='count', margins=True)\n",
    "\n",
    ")\n",
    "\n",
    "event_user_date['% A'] = round(\n",
    "    event_user_date['A']/\n",
    "    event_user_date['All']*100,\n",
    "    2)\n",
    "\n",
    "event_user_date['% B'] = round(\n",
    "    event_user_date['B']/\n",
    "    event_user_date['All']*100,\n",
    "    2)"
   ]
  },
  {
   "cell_type": "code",
   "execution_count": 58,
   "id": "9ed20c02",
   "metadata": {},
   "outputs": [
    {
     "data": {
      "image/png": "[encoded data removed]"
     },
     "metadata": {},
     "output_type": "display_data"
    }
   ],
   "source": [
    "fig = make_subplots(\n",
    "    rows=2, cols=1,\n",
    "    horizontal_spacing=0.15,\n",
    "    vertical_spacing=0.15,\n",
    "    specs=[[{}],\n",
    "           [{}]],\n",
    "    subplot_titles=(\"Распределение событий по дням (общее)\", \"Распределение событий по дням в каждой группе\")\n",
    ")\n",
    "\n",
    "fig.add_trace(\n",
    "    go.Bar(x=event_user_date[:-1].index,\n",
    "           y=event_user_date[:-1]['All'],\n",
    "           text=event_user_date[:-1]['All'],\n",
    "           cliponaxis=False,\n",
    "           textposition='outside',\n",
    "           hovertemplate=\"%{x} значение %{y}\",\n",
    "           marker_color='darkcyan',\n",
    "           name='Обе группы'\n",
    "          ),\n",
    "    row=1, col=1\n",
    ")\n",
    "\n",
    "fig.add_trace(\n",
    "    go.Bar(x=event_user_date[:-1].index,\n",
    "           y=event_user_date[:-1]['% A'],\n",
    "           text=event_user_date[:-1]['% A'],\n",
    "           cliponaxis=False,\n",
    "           marker_color='palegreen',\n",
    "           name='Группа А',\n",
    "           hovertemplate=\"%{x} значение %{y}\"\n",
    "          ),\n",
    "    row=2, col=1    \n",
    ")\n",
    "\n",
    "fig.add_trace(\n",
    "    go.Bar(x=event_user_date[:-1].index,\n",
    "           y=event_user_date[:-1]['% B'],\n",
    "           text=event_user_date[:-1]['% B'],\n",
    "           cliponaxis=False,\n",
    "           marker_color='mediumslateblue',\n",
    "           hovertemplate=\"%{x} значение %{y}\",\n",
    "           name='Группа В'\n",
    "          ),\n",
    "    row=2, col=1\n",
    ")\n",
    "\n",
    "fig.update_xaxes(title_text='Даты совершения событий',         \n",
    "                 row=1, col=1)\n",
    "fig.update_xaxes(title_text='Даты совершения событий',\n",
    "                 row=2, col=1)\n",
    "fig.update_xaxes(showline=True, linewidth=1, linecolor='grey')\n",
    "\n",
    "\n",
    "fig.update_yaxes(title_text='Кол-во событий',         \n",
    "                 row=1, col=1)\n",
    "fig.update_yaxes(title_text='Кол-во событий',\n",
    "                 row=2, col=1)\n",
    "fig.update_yaxes(showline=True, linewidth=1, linecolor='grey', gridcolor='lightgrey')\n",
    "\n",
    "\n",
    "fig.update_layout(autosize=False,\n",
    "                  width=980,\n",
    "                  height=950,\n",
    "                  plot_bgcolor='white',\n",
    "                  legend_orientation='h',\n",
    "                  title='Распределение событий по дням'\n",
    "                 )\n",
    "fig.show(renderer='png', width=1000, height=900, scale=None)"
   ]
  },
  {
   "cell_type": "markdown",
   "id": "c19d2270",
   "metadata": {},
   "source": [
    "Видим, что с 14 по 21 декабря идет увеличение количества действий пользователями, причем пользователями группы А. В группе В именно с 14 декабря идет резкое уменьшение активности пользователей. С 22 декабря (после завершения регистрации новых пользователей) происходит резкое падение количества событий, также за счет уменьшения активности пользователей группы В.\n",
    "\n",
    "Можно сделать вывод, что в группе В оказалось не только недостаточное количество пользователей, но и они же оказались мало активными"
   ]
  },
  {
   "cell_type": "markdown",
   "id": "b2bb6e0c",
   "metadata": {},
   "source": [
    "### Изучим воронку событий\n",
    "<a id='29'></a>"
   ]
  },
  {
   "cell_type": "markdown",
   "id": "e70c0fe1",
   "metadata": {},
   "source": [
    "Изучим события более детально:\n",
    "- как часто встречается каждое событие,\n",
    "- сколько пользователей совершило каждое событие,\n",
    "- какой порядок перехода по событиям,\n",
    "- какая доля пользователей переходит с этапа на этап и где больше всего теряем,\n",
    "- какая доля изначальных пользователей доходит до оплаты."
   ]
  },
  {
   "cell_type": "markdown",
   "id": "eb017da2",
   "metadata": {},
   "source": [
    "Напомним, пользователи совершали всего 4 действия после прохождения регистрации:\n",
    "- login - вход в личный кабинет,\n",
    "- product_page - просмотр карточек товаров,\n",
    "- product_cart - просмотр корзины,\n",
    "- purchase - покупка.\n",
    "\n",
    "Посмотрим какое количество каждого события совершали пользователи"
   ]
  },
  {
   "cell_type": "code",
   "execution_count": 59,
   "id": "121ead30",
   "metadata": {},
   "outputs": [
    {
     "data": {
      "text/html": [
       "<div>\n",
       "<style scoped>\n",
       "    .dataframe tbody tr th:only-of-type {\n",
       "        vertical-align: middle;\n",
       "    }\n",
       "\n",
       "    .dataframe tbody tr th {\n",
       "        vertical-align: top;\n",
       "    }\n",
       "\n",
       "    .dataframe thead th {\n",
       "        text-align: right;\n",
       "    }\n",
       "</style>\n",
       "<table border=\"1\" class=\"dataframe\">\n",
       "  <thead>\n",
       "    <tr style=\"text-align: right;\">\n",
       "      <th></th>\n",
       "      <th>index</th>\n",
       "      <th>event_count</th>\n",
       "    </tr>\n",
       "  </thead>\n",
       "  <tbody>\n",
       "    <tr>\n",
       "      <th>0</th>\n",
       "      <td>login</td>\n",
       "      <td>10313</td>\n",
       "    </tr>\n",
       "    <tr>\n",
       "      <th>1</th>\n",
       "      <td>product_page</td>\n",
       "      <td>6382</td>\n",
       "    </tr>\n",
       "    <tr>\n",
       "      <th>2</th>\n",
       "      <td>purchase</td>\n",
       "      <td>3123</td>\n",
       "    </tr>\n",
       "    <tr>\n",
       "      <th>3</th>\n",
       "      <td>product_cart</td>\n",
       "      <td>3010</td>\n",
       "    </tr>\n",
       "  </tbody>\n",
       "</table>\n",
       "</div>"
      ],
      "text/plain": [
       "          index  event_count\n",
       "0         login        10313\n",
       "1  product_page         6382\n",
       "2      purchase         3123\n",
       "3  product_cart         3010"
      ]
     },
     "execution_count": 59,
     "metadata": {},
     "output_type": "execute_result"
    }
   ],
   "source": [
    "event = all_users_test['event_name'].value_counts().reset_index()\n",
    "event = event.rename(columns={'event_name':'event_count'})\n",
    "event"
   ]
  },
  {
   "cell_type": "markdown",
   "id": "64dc0654",
   "metadata": {},
   "source": [
    "Как мы видим количество \"покупок\" больше количества \"просмотров корзины\". Скорее всего, это связано с реализацией возможности \"быстрой оплаты\", когда пользователь может оформить оплату непосредственно с карточки товара, не выходя на окно \"корзины\".\n",
    "\n",
    "Теперь посмотрим, какое количество уникальных пользователей совершали каждое событие"
   ]
  },
  {
   "cell_type": "code",
   "execution_count": 60,
   "id": "0a7f4992",
   "metadata": {},
   "outputs": [
    {
     "name": "stdout",
     "output_type": "stream",
     "text": [
      "Общее количество пользователей - 6351\n",
      "\n",
      "Распределение пользователей по событиям:\n"
     ]
    },
    {
     "data": {
      "text/html": [
       "<div>\n",
       "<style scoped>\n",
       "    .dataframe tbody tr th:only-of-type {\n",
       "        vertical-align: middle;\n",
       "    }\n",
       "\n",
       "    .dataframe tbody tr th {\n",
       "        vertical-align: top;\n",
       "    }\n",
       "\n",
       "    .dataframe thead th {\n",
       "        text-align: right;\n",
       "    }\n",
       "</style>\n",
       "<table border=\"1\" class=\"dataframe\">\n",
       "  <thead>\n",
       "    <tr style=\"text-align: right;\">\n",
       "      <th></th>\n",
       "      <th>event_name</th>\n",
       "      <th>event_count</th>\n",
       "      <th>user_id</th>\n",
       "      <th>perc_user_all</th>\n",
       "      <th>perc_user_event</th>\n",
       "    </tr>\n",
       "  </thead>\n",
       "  <tbody>\n",
       "    <tr>\n",
       "      <th>0</th>\n",
       "      <td>login</td>\n",
       "      <td>10313</td>\n",
       "      <td>3480</td>\n",
       "      <td>54.79</td>\n",
       "      <td>99.97</td>\n",
       "    </tr>\n",
       "    <tr>\n",
       "      <th>1</th>\n",
       "      <td>product_page</td>\n",
       "      <td>6382</td>\n",
       "      <td>2178</td>\n",
       "      <td>34.29</td>\n",
       "      <td>62.57</td>\n",
       "    </tr>\n",
       "    <tr>\n",
       "      <th>2</th>\n",
       "      <td>purchase</td>\n",
       "      <td>3123</td>\n",
       "      <td>1082</td>\n",
       "      <td>17.04</td>\n",
       "      <td>31.08</td>\n",
       "    </tr>\n",
       "    <tr>\n",
       "      <th>3</th>\n",
       "      <td>product_cart</td>\n",
       "      <td>3010</td>\n",
       "      <td>1026</td>\n",
       "      <td>16.15</td>\n",
       "      <td>29.47</td>\n",
       "    </tr>\n",
       "  </tbody>\n",
       "</table>\n",
       "</div>"
      ],
      "text/plain": [
       "     event_name  event_count  user_id  perc_user_all  perc_user_event\n",
       "0         login        10313     3480          54.79            99.97\n",
       "1  product_page         6382     2178          34.29            62.57\n",
       "2      purchase         3123     1082          17.04            31.08\n",
       "3  product_cart         3010     1026          16.15            29.47"
      ]
     },
     "execution_count": 60,
     "metadata": {},
     "output_type": "execute_result"
    }
   ],
   "source": [
    "#Оценим сколько пользователей совершило каждое событие\n",
    "print('Общее количество пользователей - {}'\n",
    "      .format(all_users_test['user_id'].nunique()))\n",
    "print('')\n",
    "print('Распределение пользователей по событиям:')\n",
    "all_users_test_event = (\n",
    "    all_users_test.groupby('event_name')\n",
    "    .agg({'user_id':'nunique'})\n",
    "    .sort_values(by='user_id', ascending=False)\n",
    "    .reset_index()\n",
    ")\n",
    "\n",
    "#Доля пользователей, которые хоть раз совершали событие от общего кол-ва пользователей\n",
    "all_users_test_event['perc_user_all'] = round(\n",
    "    all_users_test_event['user_id'] /\n",
    "    all_users_test['user_id'].nunique()\n",
    "    *100,\n",
    "    2\n",
    ")\n",
    "\n",
    "#Доля пользователей, которые хоть раз совершали событие от кол-ва пользователей с событиями\n",
    "all_users_test_event['perc_user_event'] = round(\n",
    "    all_users_test_event['user_id'] / \n",
    "    all_users_test.query('~event_name.isna()')['user_id'].nunique()\n",
    "    *100,\n",
    "    2\n",
    ")\n",
    "\n",
    "#Объединяем с таблицей о количестве действий каждого события\n",
    "all_users_test_event = (\n",
    "    all_users_test_event\n",
    "    .merge(event, left_on='event_name', right_on='index', how='left')\n",
    ")\n",
    "\n",
    "all_users_test_event = all_users_test_event[['event_name', 'event_count', 'user_id', 'perc_user_all', 'perc_user_event']]\n",
    "all_users_test_event"
   ]
  },
  {
   "cell_type": "markdown",
   "id": "e104fa1e",
   "metadata": {},
   "source": [
    "Мы видим, что из-за того что почти половина участников не выполнила не одного события, до \"покупки\" дошло около 17% от всех участников, но около 31% от пользователей с событиями.\n",
    "\n",
    "Больше всего пользователей (3480) вошли в личный кабинет, но это не все из тех, что совершали события. Скорее всего это из-за того, что например, для просмотра товаров не обязательно заходить в личный кабинет.\n",
    "\n",
    "Также мы видим, большое количество события \"вход в личный кабинет\", которое гораздо больше количества пользователей, совершивших это действие - скорее всего это связано с тем, что пользователи принудительно выходят из кабинета либо учетная запись вылетает.\n",
    "\n",
    "На втором месте по пользователя (2178) - просмотр карточек товаров.\n",
    "\n",
    "Далее идет событие \"покупки\" - 1082 пользователя совершили событие 3123 раза - значит 1 пользователь совершает примерно 3 покупки.\n",
    "\n",
    "И немного меньше пользователей (1026) посещяют корзину. Значит почти все кто смотрит корзину, производит оплату, но некоторые пользователи пользуются \"быстрой оплатой\".\n",
    "\n",
    "Создадим таблицу для визуализации воронки продаж. Но сначала нужно выставить верный порядок прохождения этапов"
   ]
  },
  {
   "cell_type": "code",
   "execution_count": 61,
   "id": "51f0b505",
   "metadata": {},
   "outputs": [],
   "source": [
    "#Сначала сделаем столбец события категориальным и укажем порядок использования\n",
    "all_users_test_event['event_name'] = pd.Categorical(\n",
    "    all_users_test_event['event_name'], [\"login\", \"product_page\", \"product_cart\", \"purchase\"]\n",
    ")\n",
    "\n",
    "#Теперь, при сортировке столбца событий, он будет сортироваться по этому списку:\n",
    "all_users_test_event = all_users_test_event.sort_values(\"event_name\")"
   ]
  },
  {
   "cell_type": "code",
   "execution_count": 62,
   "id": "a2e78adb",
   "metadata": {},
   "outputs": [
    {
     "data": {
      "image/png": "[encoded data removed]"
     },
     "metadata": {},
     "output_type": "display_data"
    }
   ],
   "source": [
    "#Построим воронку по переходам пользователей от шага к шагу\n",
    "#с процентным оотношением от шага к шагу, чтобы понять\n",
    "#какой процент пользователей проходит на след этап\n",
    "#относительно предыдущего\n",
    "fig = go.Figure(\n",
    "    go.Funnel(y = all_users_test_event['event_name'],\n",
    "              x = all_users_test_event['user_id'],\n",
    "              marker = {\"color\": ['deepskyblue', 'lightsalmon', 'tan', 'teal']},\n",
    "              textposition = \"inside\",\n",
    "              textinfo = \"value+percent previous+percent initial\")\n",
    ")\n",
    "fig.update_layout(\n",
    "    title='Воронка продажи - процент пользователей относительного предыдущего этапа')\n",
    "fig.show(renderer='png', width=1000, height=600, scale=None)"
   ]
  },
  {
   "cell_type": "markdown",
   "id": "eb4311a8",
   "metadata": {},
   "source": [
    "Мы видим, что большая часть пользователей (53%) теряется при переходе с просмотра карточек товаров на просмотр корзины. Однако до покупки доходит на 5% больше пользователей (из-за функции \"быстрой оплаты\"), значит в действительности около 50% из тех, что просматривает товары не доходят до покупки.\n",
    "\n",
    "Также мы видим, что большая часть пользователей (37%) теряется при переходе с личного кабинета на просмотр карточек товаров. Это тоже достаточно большой процент потери заинтересованности - возможно:\n",
    "- не интуитивно понятный интерфейс личного кабинета, что осложняет переход с него на экран выбора товаров,\n",
    "- у пользователей нет заинтересованности в товаре"
   ]
  },
  {
   "cell_type": "code",
   "execution_count": 63,
   "id": "83ee8d47",
   "metadata": {
    "scrolled": false
   },
   "outputs": [
    {
     "data": {
      "image/png": "[encoded data removed]"
     },
     "metadata": {},
     "output_type": "display_data"
    }
   ],
   "source": [
    "#Построим воронку по переходам пользователей от шага к шагу\n",
    "#с процентным оотношением к первому шагу,\n",
    "#чтобы понять сколько пользователей от изначального количества\n",
    "#поэтапно доходит до успешной оплаты\n",
    "fig = go.Figure(\n",
    "    go.Funnel(y = all_users_test_event['event_name'],\n",
    "              x = all_users_test_event['user_id'],\n",
    "              marker = {\"color\": ['deepskyblue', 'lightsalmon', 'tan', 'teal']},\n",
    "              textposition = \"inside\",\n",
    "              textinfo = \"value+percent initial\")\n",
    ")\n",
    "fig.update_layout(\n",
    "    title='Воронка продажи - процент пользователей относительного первого этапа')\n",
    "fig.show(renderer='png', width=1000, height=600, scale=None)"
   ]
  },
  {
   "cell_type": "markdown",
   "id": "bfe3d7b3",
   "metadata": {},
   "source": [
    "31% от всех пользователей совершивших действия после регистрации доходят до покупки."
   ]
  },
  {
   "cell_type": "markdown",
   "id": "57bfde57",
   "metadata": {},
   "source": [
    "### Промежуточный вывод после анализа\n",
    "<a id='30'></a>"
   ]
  },
  {
   "cell_type": "markdown",
   "id": "5448934c",
   "metadata": {},
   "source": [
    "Выяснили, что около 45% участников тестирования прошли только этап регистрации и более ничего не совершали. Так как такие пользователи регистрировались во все даты со всех устройств и попали в обе группы, нельзя предположить наличие технической ошибки из-за которой пользователи не могли совершать действия, скорее всего это не корректное разбиение на группы и привлечение пользователей.\n",
    "\n",
    "Среди тех пользователей, что совершили события после регистрации:\n",
    "- в группе А пользователи совершили в разы больше событий, чем в группе В - на 1727 событий больше, вновь это говорит о некорректном планировании и проведении тестирования,\n",
    "- большее количество пользователей (в обеих группах) совершили от 1 до 6 событий.\n",
    "\n",
    "Выяснили, что с 14 по 21 декабря идет увеличение количества действий пользователями, причем пользователями группы А. В группе В именно с 14 декабря идет резкое уменьшение активности пользователей. С 22 декабря (после завершения регистрации новых пользователей) происходит резкое падение количества событий, также за счет уменьшения активности пользователей группы В.\n",
    "\n",
    "Можно сделать вывод, что в группе В оказалось не только недостаточное количество пользователей, но и они же оказались мало активными\n",
    "\n",
    "Изучая совершенные события, отметили, что из-за того что почти половина участников не выполнила не одного события, до \"покупки\" дошло около 17% от всех участников.\n",
    "\n",
    "Распределение по пользователям совершившим события:\n",
    "- больше всего пользователей (3480) вошли в личный кабинет, но это не все из тех, что совершали события. Скорее всего это из-за того, что например, для просмотра товаров не обязательно заходить в личный кабинет,\n",
    "- на втором месте по пользователя (2178) - просмотр карточек товаров,\n",
    "- далее идет событие \"покупки\" - 1082 пользователя совершили событие 3123 раза - значит 1 пользователь совершает примерно 3 покупки,\n",
    "- немного меньше пользователей (1026) посещяют корзину, скорее всего почти все кто смотрит корзину, производит оплату, но некоторые пользователи пользуются \"быстрой оплатой\"\n",
    "\n",
    "Потери пользователей:\n",
    "- большая часть пользователей (53%) теряется при переходе с просмотра карточек товаров на просмотр корзины. Однако до покупки доходит на 5% больше пользователей (из-за функции \"быстрой оплаты\"), значит в действительности около 50% из тех, что просматривает товары не доходят до покупки,\n",
    "- также большая часть пользователей (37%) теряется при переходе с личного кабинета на просмотр карточек товаров. Это тоже достаточно большой процент потери заинтересованности - возможно:\n",
    "  - не интуитивно понятный интерфейс личного кабинета, что осложняет переход с него на экран выбора товаров,\n",
    "  - у пользователей нет заинтересованности в товаре\n",
    "\n",
    "По итогу 31% от всех пользователей, совершивших действия после регистрации, доходят до покупки.\n",
    "\n",
    "Хоть тестирование выполнено не корректно, но мы посмотрим на результаты тестирования. Однако доверять им я бы не советовала"
   ]
  },
  {
   "cell_type": "markdown",
   "id": "eb1329f3",
   "metadata": {},
   "source": [
    "## Оценка результатов А/В тестирования\n",
    "<a id='31'></a>"
   ]
  },
  {
   "cell_type": "markdown",
   "id": "514d149b",
   "metadata": {},
   "source": [
    "Оценивания результаты тестирования, посмотрим на пользователей внутри групп, а также оценим статистическую разницу долей с помощью z-критерия"
   ]
  },
  {
   "cell_type": "markdown",
   "id": "42bfc6df",
   "metadata": {},
   "source": [
    "### Распределение пользователей по событиям внутри групп\n",
    "<a id='32'></a>"
   ]
  },
  {
   "cell_type": "markdown",
   "id": "7307fa27",
   "metadata": {},
   "source": [
    "Посмотрим, как распределились пользователи по событиям в каждой из групп"
   ]
  },
  {
   "cell_type": "code",
   "execution_count": 64,
   "id": "787ffa5e",
   "metadata": {
    "scrolled": true
   },
   "outputs": [
    {
     "data": {
      "text/html": [
       "<div>\n",
       "<style scoped>\n",
       "    .dataframe tbody tr th:only-of-type {\n",
       "        vertical-align: middle;\n",
       "    }\n",
       "\n",
       "    .dataframe tbody tr th {\n",
       "        vertical-align: top;\n",
       "    }\n",
       "\n",
       "    .dataframe thead th {\n",
       "        text-align: right;\n",
       "    }\n",
       "</style>\n",
       "<table border=\"1\" class=\"dataframe\">\n",
       "  <thead>\n",
       "    <tr style=\"text-align: right;\">\n",
       "      <th>group</th>\n",
       "      <th>event_name</th>\n",
       "      <th>A</th>\n",
       "      <th>B</th>\n",
       "    </tr>\n",
       "  </thead>\n",
       "  <tbody>\n",
       "    <tr>\n",
       "      <th>0</th>\n",
       "      <td>login</td>\n",
       "      <td>2604</td>\n",
       "      <td>876</td>\n",
       "    </tr>\n",
       "    <tr>\n",
       "      <th>2</th>\n",
       "      <td>product_page</td>\n",
       "      <td>1685</td>\n",
       "      <td>493</td>\n",
       "    </tr>\n",
       "    <tr>\n",
       "      <th>1</th>\n",
       "      <td>product_cart</td>\n",
       "      <td>782</td>\n",
       "      <td>244</td>\n",
       "    </tr>\n",
       "    <tr>\n",
       "      <th>3</th>\n",
       "      <td>purchase</td>\n",
       "      <td>833</td>\n",
       "      <td>249</td>\n",
       "    </tr>\n",
       "  </tbody>\n",
       "</table>\n",
       "</div>"
      ],
      "text/plain": [
       "group    event_name     A    B\n",
       "0             login  2604  876\n",
       "2      product_page  1685  493\n",
       "1      product_cart   782  244\n",
       "3          purchase   833  249"
      ]
     },
     "execution_count": 64,
     "metadata": {},
     "output_type": "execute_result"
    }
   ],
   "source": [
    "#Определим количество пользователей в каждой группе для каждого события\n",
    "users_event_group = (\n",
    "    all_users_test\n",
    "    .pivot_table(index='event_name', columns='group', values='user_id', aggfunc='nunique')\n",
    "    .reset_index()\n",
    ")\n",
    "\n",
    "#Сделаем столбец события категориальным и укажем порядок использования\n",
    "users_event_group['event_name'] = pd.Categorical(\n",
    "    users_event_group['event_name'], [\"login\", \"product_page\", \"product_cart\", \"purchase\"]\n",
    ")\n",
    "\n",
    "#Теперь, при сортировке столбца событий, он будет сортироваться по этому списку:\n",
    "users_event_group = users_event_group.sort_values(\"event_name\")\n",
    "users_event_group"
   ]
  },
  {
   "cell_type": "code",
   "execution_count": 65,
   "id": "3cc0a05e",
   "metadata": {
    "scrolled": true
   },
   "outputs": [
    {
     "data": {
      "text/html": [
       "<div>\n",
       "<style scoped>\n",
       "    .dataframe tbody tr th:only-of-type {\n",
       "        vertical-align: middle;\n",
       "    }\n",
       "\n",
       "    .dataframe tbody tr th {\n",
       "        vertical-align: top;\n",
       "    }\n",
       "\n",
       "    .dataframe thead th {\n",
       "        text-align: right;\n",
       "    }\n",
       "</style>\n",
       "<table border=\"1\" class=\"dataframe\">\n",
       "  <thead>\n",
       "    <tr style=\"text-align: right;\">\n",
       "      <th>group</th>\n",
       "      <th>A</th>\n",
       "      <th>B</th>\n",
       "    </tr>\n",
       "  </thead>\n",
       "  <tbody>\n",
       "    <tr>\n",
       "      <th>user_id</th>\n",
       "      <td>3634</td>\n",
       "      <td>2717</td>\n",
       "    </tr>\n",
       "  </tbody>\n",
       "</table>\n",
       "</div>"
      ],
      "text/plain": [
       "group       A     B\n",
       "user_id  3634  2717"
      ]
     },
     "execution_count": 65,
     "metadata": {},
     "output_type": "execute_result"
    }
   ],
   "source": [
    "#И определим общее количество пользователей в каждой группе,\n",
    "#интересут пользователи и те что совершали события, и без них\n",
    "all_users_event_group = (\n",
    "    all_users_test\n",
    "    .pivot_table(index='group', values='user_id', aggfunc='nunique')\n",
    "    .T\n",
    ")\n",
    "all_users_event_group"
   ]
  },
  {
   "cell_type": "markdown",
   "id": "0535af9d",
   "metadata": {},
   "source": [
    "Посмотрим на воронку продаж по группам"
   ]
  },
  {
   "cell_type": "code",
   "execution_count": 66,
   "id": "015a4d41",
   "metadata": {
    "scrolled": false
   },
   "outputs": [
    {
     "data": {
      "image/png": "[encoded data removed]"
     },
     "metadata": {},
     "output_type": "display_data"
    }
   ],
   "source": [
    "fig = go.Figure()\n",
    "\n",
    "fig.add_trace(go.Funnel(\n",
    "    name = str('A'),\n",
    "    y = users_event_group['event_name'],\n",
    "    x = users_event_group['A'],\n",
    "    textinfo = \"value+percent initial+percent previous\"))\n",
    "\n",
    "fig.add_trace(go.Funnel(\n",
    "    name = str('B'),\n",
    "    orientation = \"h\",\n",
    "    y = users_event_group['event_name'],\n",
    "    x = users_event_group['B'],\n",
    "    textposition = \"inside\",\n",
    "    textinfo = \"value+percent initial+percent previous\"))\n",
    "\n",
    "fig.update_layout(\n",
    "    title='Воронка продажи - распределение пользователей в группах по событиям')\n",
    "\n",
    "fig.show(renderer='png', width=1000, height=600, scale=None)"
   ]
  },
  {
   "cell_type": "markdown",
   "id": "76946d32",
   "metadata": {},
   "source": [
    "Вновь мы видим, что в контрольной группе А гораздо больше пользователей с событиями.\n",
    "\n",
    "Также видно, что каждая конверсия из этапа в этап в группе В хуже, чем в группе А. Также в группе В хуже и процент дошедших до покупки пользователей (в групее А дошло 32%, в группе В - 28,4%)."
   ]
  },
  {
   "cell_type": "markdown",
   "id": "256e4309",
   "metadata": {},
   "source": [
    "### Проверка результатов с помощью z-теста\n",
    "<a id='33'></a>"
   ]
  },
  {
   "cell_type": "markdown",
   "id": "0f36e0d8",
   "metadata": {},
   "source": [
    "Необходимо проверить результаты А/В тестирования с помощью z-теста (проверка гипотезы о равенстве долей - сравнение пропорций двух генеральных совокупностей по выборкам из них).\n",
    "\n",
    "Сравниваем выборки для каждого события - общее количество пользователей в каждой группе и количество пользователей с событием в группе.\n",
    "\n",
    "**Сформулируем гипотезы**:\n",
    "\n",
    "*Нулевая гипотеза* - Нет статистически значимой разницы между группами\n",
    "\n",
    "*Альтернативная гипотеза* - Существует существенная разница между пропорциями в группах"
   ]
  },
  {
   "cell_type": "code",
   "execution_count": 67,
   "id": "71a6f459",
   "metadata": {
    "scrolled": false
   },
   "outputs": [
    {
     "name": "stdout",
     "output_type": "stream",
     "text": [
      "Сравнение группы A и B события - login (вход в личный кабинет), с критическим уровнем стат значимости 0.05\n",
      "\n",
      "p-значение:  [0.]\n",
      "Отвергаем нулевую гипотезу: между долями есть значимая разница\n",
      "\n",
      "Сравнение группы A и B события - product_page (выбор товаров у офферов), с критическим уровнем стат значимости 0.05\n",
      "\n",
      "p-значение:  [0.]\n",
      "Отвергаем нулевую гипотезу: между долями есть значимая разница\n",
      "\n",
      "Сравнение группы A и B события - product_cart (просмотр корзины), с критическим уровнем стат значимости 0.05\n",
      "\n",
      "p-значение:  [0.]\n",
      "Отвергаем нулевую гипотезу: между долями есть значимая разница\n",
      "\n",
      "Сравнение группы A и B события - purchase (успешная оплата), с критическим уровнем стат значимости 0.05\n",
      "\n",
      "p-значение:  [0.]\n",
      "Отвергаем нулевую гипотезу: между долями есть значимая разница\n",
      "\n"
     ]
    }
   ],
   "source": [
    "alpha = .05\n",
    "for ev in users_event_group['event_name'].unique():\n",
    "    #Успешное - пользователи с событиями в группе\n",
    "    successes = np.array(\n",
    "        [users_event_group[users_event_group['event_name'] == ev]['A'],\n",
    "         users_event_group[users_event_group['event_name'] == ev]['B']]\n",
    "    )\n",
    "    \n",
    "    #Общее - общее число пользователей в группе\n",
    "    trials = np.array(\n",
    "        [all_users_event_group['A'], \n",
    "         all_users_event_group['B']]\n",
    "    )\n",
    "    \n",
    "    #пропорция успехов в первой группе\n",
    "    p1 = successes[0] / trials[0]\n",
    "    \n",
    "    #пропорция успехов во второй группе\n",
    "    p2 = successes[1] / trials[1]\n",
    "    \n",
    "    #пропорция успехов в комбинированной группе\n",
    "    p_combined = (successes[0] + successes[1]) / (trials[0] + trials[1])\n",
    "    \n",
    "    #Разница пропорций\n",
    "    difference = p1 - p2\n",
    "    \n",
    "    #Считаем статистику\n",
    "    z_value = difference / mth.sqrt(p_combined * (1 - p_combined) * (1/trials[0] + 1/trials[1]))\n",
    "    \n",
    "    #Задаем нормальное распределение\n",
    "    distr = st.norm(0,1)\n",
    "    \n",
    "    p_value = (1 - distr.cdf(abs(z_value))) * 2\n",
    "    \n",
    "    if ev == 'login' :\n",
    "        print('Сравнение группы A и B события - {} (вход в личный кабинет), с критическим уровнем стат значимости {}'\n",
    "          .format(ev, alpha))\n",
    "        print()\n",
    "\n",
    "    if ev == 'product_page' :\n",
    "        print('Сравнение группы A и B события - {} (выбор товаров у офферов), с критическим уровнем стат значимости {}'\n",
    "          .format(ev, alpha))\n",
    "        print()\n",
    "\n",
    "    if ev == 'product_cart' :\n",
    "        print('Сравнение группы A и B события - {} (просмотр корзины), с критическим уровнем стат значимости {}'\n",
    "          .format(ev, alpha))\n",
    "        print()\n",
    "        \n",
    "    if ev == 'purchase' :\n",
    "        print('Сравнение группы A и B события - {} (успешная оплата), с критическим уровнем стат значимости {}'\n",
    "          .format(ev, alpha))\n",
    "        print()\n",
    "\n",
    "    print('p-значение: ', p_value)\n",
    "    \n",
    "    if p_value < alpha:\n",
    "        print('Отвергаем нулевую гипотезу: между долями есть значимая разница')\n",
    "        print('')\n",
    "    else:\n",
    "        print(\n",
    "            'Не получилось отвергнуть нулевую гипотезу, нет оснований считать доли разными'\n",
    "        )\n",
    "        print('')"
   ]
  },
  {
   "cell_type": "markdown",
   "id": "2d8138f2",
   "metadata": {},
   "source": [
    "Мы видим, что для всех событий разница между долями оказалась очень значительной. И так как в группе В недостаток активных пользователей, можно предположить, что пользователей экспериментальной группы В по отношению к контрольной группе А проявили себя хуже и изменения, связанные с внедрением улучшенной рекомендательной системы не оправдали себя."
   ]
  },
  {
   "cell_type": "markdown",
   "id": "a6a1a8c8",
   "metadata": {},
   "source": [
    "Посмотрим как изменятся показатели нашей z-проверки, если за общее количество пользователей брать пользователей с событиями, а не всех"
   ]
  },
  {
   "cell_type": "markdown",
   "id": "0b150b68",
   "metadata": {},
   "source": [
    "Сравниваем выборки для каждого события - количество пользователей со всеми событиями в каждой группе и количество пользователей с событием в группе.\n",
    "\n",
    "**Сформулируем гипотезы**:\n",
    "\n",
    "*Нулевая гипотеза* - Нет статистически значимой разницы между группами\n",
    "\n",
    "*Альтернативная гипотеза* - Существует существенная разница между пропорциями в группах"
   ]
  },
  {
   "cell_type": "code",
   "execution_count": 68,
   "id": "58e58c7f",
   "metadata": {},
   "outputs": [
    {
     "data": {
      "text/html": [
       "<div>\n",
       "<style scoped>\n",
       "    .dataframe tbody tr th:only-of-type {\n",
       "        vertical-align: middle;\n",
       "    }\n",
       "\n",
       "    .dataframe tbody tr th {\n",
       "        vertical-align: top;\n",
       "    }\n",
       "\n",
       "    .dataframe thead th {\n",
       "        text-align: right;\n",
       "    }\n",
       "</style>\n",
       "<table border=\"1\" class=\"dataframe\">\n",
       "  <thead>\n",
       "    <tr style=\"text-align: right;\">\n",
       "      <th>group</th>\n",
       "      <th>A</th>\n",
       "      <th>B</th>\n",
       "    </tr>\n",
       "  </thead>\n",
       "  <tbody>\n",
       "    <tr>\n",
       "      <th>user_id</th>\n",
       "      <td>2604</td>\n",
       "      <td>877</td>\n",
       "    </tr>\n",
       "  </tbody>\n",
       "</table>\n",
       "</div>"
      ],
      "text/plain": [
       "group       A    B\n",
       "user_id  2604  877"
      ]
     },
     "execution_count": 68,
     "metadata": {},
     "output_type": "execute_result"
    }
   ],
   "source": [
    "all_users_event_group_2 = (\n",
    "    all_users_test\n",
    "    .query('~event_name.isna()')\n",
    "    .pivot_table(index='group', values='user_id', aggfunc='nunique')\n",
    "    .T\n",
    ")\n",
    "all_users_event_group_2"
   ]
  },
  {
   "cell_type": "code",
   "execution_count": 69,
   "id": "b71becd2",
   "metadata": {},
   "outputs": [
    {
     "name": "stdout",
     "output_type": "stream",
     "text": [
      "Сравнение группы A и B события - login (вход в личный кабинет), с критическим уровнем стат значимости 0.05\n",
      "\n",
      "p-значение:  [0.08481837]\n",
      "Не получилось отвергнуть нулевую гипотезу, нет оснований считать доли разными\n",
      "\n",
      "Сравнение группы A и B события - product_page (выбор товаров у офферов), с критическим уровнем стат значимости 0.05\n",
      "\n",
      "p-значение:  [6.94273936e-06]\n",
      "Отвергаем нулевую гипотезу: между долями есть значимая разница\n",
      "\n",
      "Сравнение группы A и B события - product_cart (просмотр корзины), с критическим уровнем стат значимости 0.05\n",
      "\n",
      "p-значение:  [0.21469192]\n",
      "Не получилось отвергнуть нулевую гипотезу, нет оснований считать доли разными\n",
      "\n",
      "Сравнение группы A и B события - purchase (успешная оплата), с критическим уровнем стат значимости 0.05\n",
      "\n",
      "p-значение:  [0.04652483]\n",
      "Отвергаем нулевую гипотезу: между долями есть значимая разница\n",
      "\n"
     ]
    }
   ],
   "source": [
    "alpha = .05\n",
    "for ev in users_event_group['event_name'].unique():\n",
    "    #Успешное - пользователи с событиями в группе\n",
    "    successes = np.array(\n",
    "        [users_event_group[users_event_group['event_name'] == ev]['A'],\n",
    "         users_event_group[users_event_group['event_name'] == ev]['B']]\n",
    "    )\n",
    "    \n",
    "    #Общее - общее число пользователей в группе\n",
    "    trials = np.array(\n",
    "        [all_users_event_group_2['A'], \n",
    "         all_users_event_group_2['B']]\n",
    "    )\n",
    "    \n",
    "    #пропорция успехов в первой группе\n",
    "    p1 = successes[0] / trials[0]\n",
    "    \n",
    "    #пропорция успехов во второй группе\n",
    "    p2 = successes[1] / trials[1]\n",
    "    \n",
    "    #пропорция успехов в комбинированной группе\n",
    "    p_combined = (successes[0] + successes[1]) / (trials[0] + trials[1])\n",
    "    \n",
    "    #Разница пропорций\n",
    "    difference = p1 - p2\n",
    "    \n",
    "    #Считаем статистику\n",
    "    z_value = difference / mth.sqrt(p_combined * (1 - p_combined) * (1/trials[0] + 1/trials[1]))\n",
    "    \n",
    "    #Задаем нормальное распределение\n",
    "    distr = st.norm(0,1)\n",
    "    \n",
    "    p_value = (1 - distr.cdf(abs(z_value))) * 2\n",
    "    \n",
    "    if ev == 'login' :\n",
    "        print('Сравнение группы A и B события - {} (вход в личный кабинет), с критическим уровнем стат значимости {}'\n",
    "          .format(ev, alpha))\n",
    "        print()\n",
    "\n",
    "    if ev == 'product_page' :\n",
    "        print('Сравнение группы A и B события - {} (выбор товаров у офферов), с критическим уровнем стат значимости {}'\n",
    "          .format(ev, alpha))\n",
    "        print()\n",
    "\n",
    "    if ev == 'product_cart' :\n",
    "        print('Сравнение группы A и B события - {} (просмотр корзины), с критическим уровнем стат значимости {}'\n",
    "          .format(ev, alpha))\n",
    "        print()\n",
    "        \n",
    "    if ev == 'purchase' :\n",
    "        print('Сравнение группы A и B события - {} (успешная оплата), с критическим уровнем стат значимости {}'\n",
    "          .format(ev, alpha))\n",
    "        print()\n",
    "\n",
    "    print('p-значение: ', p_value)\n",
    "    \n",
    "    if p_value < alpha:\n",
    "        print('Отвергаем нулевую гипотезу: между долями есть значимая разница')\n",
    "        print('')\n",
    "    else:\n",
    "        print(\n",
    "            'Не получилось отвергнуть нулевую гипотезу, нет оснований считать доли разными'\n",
    "        )\n",
    "        print('')"
   ]
  },
  {
   "cell_type": "markdown",
   "id": "9a56bab9",
   "metadata": {},
   "source": [
    "При сравнении пропорций с количеством только пользователей с событиями:\n",
    "- для событий `login` (вход в ЛК) и `product_cart` (просмотр корзины) - нет стат значимости между долями\n",
    "- однако для событий `product_page` (просмотр карточек пользователей) и `purchase` (успешная оплата) - также разница очень значима.\n",
    "\n",
    "А именно эти два события считаются самыми важными для бизнес целей."
   ]
  },
  {
   "cell_type": "markdown",
   "id": "0d50d9ac",
   "metadata": {},
   "source": [
    "## Общий вывод\n",
    "<a id='34'></a>"
   ]
  },
  {
   "cell_type": "markdown",
   "id": "835119fe",
   "metadata": {},
   "source": [
    "Цель - провести оценку результатов А/В тестирования по изменениям, связанным с внедрением улучшенной рекомендательной системы.\n",
    "\n",
    "В нашем распоряжении было техническое задание, датасет с действиями пользователей, календарь маркетинговых событий на 2020 год, данные новых пользователей, а также таблица итоговых участников тестов.\n",
    "\n",
    "Иначально была предоставлена информация о:\n",
    "- 14 маркетинговых событиях, состоявшихся с 25 января 2020 года по 7 января 2021 года, с наименованием события и регионом проведения,\n",
    "- 61733 пользователей, впервые зарегистрировавшихся с 7 по 23 декабря 2020 года, с информацией о регионе и устройстве регистрации,\n",
    "- 18268 участниках тестирования с определением группы теста и с его наименованием,\n",
    "- 440317 действиях совершенных пользователями во время проведения тестирования, с информацией о дате и время реализации действия (с 7 декабря до 30 декабря 2020 года), типа события и его деталях.\n",
    "\n",
    "Видим, что тестирование закончили раньше положенного - планировалось провеодить тест до 4 января 2021 года, однако информация о событиях пользователей до 30 декабря 2020 года.\n",
    "\n",
    "После изучения информации выявили, что необходимо было:\n",
    "- скорректировать тип данных столбцов с датами в:\n",
    "    - календаре маркетинговых событий,\n",
    "    - данных о регистрации новых пользователей,\n",
    "    - событиях пользователей;\n",
    "- исключить пользователей, зарегистрировавшихся после 21 декабря 2020 года,\n",
    "- исключить пользователей из другого тестирования (\"interface_eu_test\"),\n",
    "- сверить итоговое количество участников теста с ожидаемым\n",
    "- изучить пропуски в данных о деталях событий,\n",
    "- объединить все необходимые данные и:\n",
    "    - проверить нет ли в тесте неучтенных пользователей,\n",
    "    - добавить столбец с датой события (без времени),\n",
    "    - посмотреть на лайфтаймы пользователей (дата события - дата регистрации) и исключить события, которым более 14 дней с даты регистрации - потому что это уже будут события не относящеся к воздействию на пользователя улучшенной рекомендательной системы.\n",
    "\n",
    "Было сделано:\n",
    "- скорректировали типы всех временных данных,\n",
    "- исключено 5263 пользователя, зарегистрированных после 21 декабря 2020 года,\n",
    "- исключено 11567 пользователей, относящихся к другому тестированию,\n",
    "- оставили 6701 пользователей, относящихся к нашему тестированию,\n",
    "- выяснили, что дополнительная информация есть только для события \"покупка\" и это стоимость этой покупки в долларах, для остальных событий доп информации нет,\n",
    "- объединили все данные о пользователях, попавших в наше А/В тестирование, выяснили что есть пользователи не совершавших действия - посмотрим на них на этапе анализа,\n",
    "- добавили новый столбец с датой события (без времени),\n",
    "- оценили лайфтаймы пользователей и исключили 628 событий превышающих 14 дневный лайфтайм.\n",
    "\n",
    "После всей обработки в нашем распоряжении осталась информация о:\n",
    "- 14 маркетинговых событиях, состоявшихся с 25 января 2020 года по 7 января 2021 года, с наименованием события и регионом проведения,\n",
    "- 56470 новых пользователях, зарегистрированных с 07 декабря по 21 декабря 2020 года, с информацией о регионе и устройстве регистрации,\n",
    "- 6701 участников нашего тестирования с определением группы теста и с его наименованием (что чуть больше ожидаемого количества участников согласна ТЗ - 6000)\n",
    "\n",
    "Далее оценили корректность проведения теста и выявили:\n",
    "- все данные соответствовали ТЗ и оставили 6351 участников из EU,\n",
    "- с 25 декабря 2020 года (во время проведения нашего А/В тестирования) проходило маркетинговое событие - однако оно не оказало влияния на действия пользователей,\n",
    "- каждый пользователь попал лишь в одну из групп,\n",
    "- обнаружились пользователи участвующие и в нашем и в конкурирующем тесте, однако после их анализа выяснили, что эти пользователи распределены равномерно и не оказывают влияния на результаты тестирования,\n",
    "- обнаружилось, что пользователи между группами распределены не равномерно - примерно на 14% в группу А попало больше пользователей чем в группу В, а также количество акивных пользователей в группе А в разы превышает количество активных группы В\n",
    "\n",
    "Таким образом можно сделать вывод, что данные тестирования соответсвуют ТЗ, однако подготовка тестирования возможно была выполнена не корректно из-за не верного распределения пользователей по группам, совмещения тестирования, маркетингового события, а также пересечения пользователей с конкурирующим тестом.\n",
    "\n",
    "**Итоговая таблица для дальнейшего анализа** со всей информациией о пользователях (вошедших в А/В тестирование) состоит из 22828 событий - в ней 6351 участник тестирования зарегистрированный с 07 по 21 декабря 2020 года, совершающие действия с 7 по 29 декабря 2020 года."
   ]
  },
  {
   "cell_type": "markdown",
   "id": "2e786451",
   "metadata": {},
   "source": [
    "**Оценивая корректность проведения тестирования, выяснили,** что около 45% участников тестирования прошли только этап регистрации и более ничего не совершали.\n",
    "\n",
    "Среди тех пользователей, что совершили события после регистрации:\n",
    "- в группе А пользователей, совершивших события в разы больше, чем в группе В - на 1727 пользователей больше,\n",
    "- большее количество пользователей (в обеих группах) совершили от 1 до 6 событий.\n",
    "\n",
    "Выяснили, что с 14 по 21 декабря идет увеличение количества действий пользователями, причем пользователями группы А. В группе В именно с 14 декабря идет резкое уменьшение активности пользователей. С 22 декабря (после завершения регистрации новых пользователей) происходит резкое падение количества событий, также за счет уменьшения активности пользователей группы В.\n",
    "\n",
    "Изучая совершенные события, отметили, что из-за того что почти половина участников не выполнила не одного события, до \"покупки\" дошло около 17% от всех участников.\n",
    "\n",
    "Распределение по пользователям совершившим события:\n",
    "- больше всего пользователей (3480) вошли в личный кабинет, но это не все из тех, что совершали события. Скорее всего это из-за того, что например, для просмотра товаров не обязательно заходить в личный кабинет,\n",
    "- на втором месте по пользователя (2178) - просмотр карточек товаров,\n",
    "- далее идет событие \"покупки\" - 1082 пользователя совершили событие 3123 раза - значит 1 пользователь совершает примерно 3 покупки,\n",
    "- немного меньше пользователей (1026) посещяют корзину, скорее всего почти все кто смотрит корзину, производит оплату, но некоторые пользователи пользуются \"быстрой оплатой\"\n",
    "\n",
    "Потери пользователей:\n",
    "- большая часть пользователей (53%) теряется при переходе с просмотра карточек товаров на просмотр корзины. Однако до покупки доходит на 5% больше пользователей (из-за функции \"быстрой оплаты\"), значит в действительности около 50% из тех, что просматривает товары не доходят до покупки,\n",
    "- также большая часть пользователей (37%) теряется при переходе с личного кабинета на просмотр карточек товаров. Это тоже достаточно большой процент потери заинтересованности - возможно:\n",
    "  - не интуитивно понятный интерфейс личного кабинета, что осложняет переход с него на экран выбора товаров,\n",
    "  - у пользователей нет заинтересованности в товаре\n",
    "\n",
    "По итогу 31% от всех пользователей, совершивших действия после регистрации, доходят до покупки.\n",
    "\n",
    "По итогу анализа, можно утверждать, что тестирование организовано и проведено не корректно:\n",
    "- в главную анализируемую группу (В) попало меньше пользователей, чем в контрольную,\n",
    "- эти пользователи в основном не активные (без событий).\n",
    "\n",
    "Скорее всего это не корректное разбиение на группы и привлечение пользователей.\n",
    "\n",
    "Соответственно и результаты тестирования могут быть не корректными\n",
    "\n",
    "**Оценка результатов тестирования**\n",
    "По воронке событий по группам видно, что каждая конверсия из этапа в этап в группе В хуже, чем в группе А. Также в группе В хуже и процент дошедших до покупки пользователей (в групее А дошло 32%, в группе В - 28,4%).\n",
    "\n",
    "Проверили результаты А/В тестирования с помощью z-теста (проверка гипотезы о равенстве долей - сравнение пропорций двух генеральных совокупностей по выборкам из них).\n",
    "\n",
    "Сравнивали выборки для каждого события - общее количество пользователей в каждой группе и количество пользователей с событием в группе.\n",
    "\n",
    "Сформулировали гипотезы:\n",
    "\n",
    "*Нулевая гипотеза* - Нет статистически значимой разницы между группами\n",
    "\n",
    "*Альтернативная гипотеза* - Существует существенная разница между пропорциями в группах\n",
    "\n",
    "Для всех событий разница между долями оказалась очень значительной. И так как в группе В недостаток активных пользователей, можно предположить, что пользователей экспериментальной группы В по отношению к контрольной группе А проявили себя хуже и изменения, связанные с внедрением улучшенной рекомендательной системы **не оправдали себя**.\n",
    "\n",
    "Так как данное тестирование прошло не корректно, могу предложить следующие рекомендации для будущих проведений тестирований:\n",
    "- для оценки правильного распределения пользователей по группам следует изначально проводить А/А тестирование,\n",
    "- не заканчивать тест раньше запланированного времени - в данном случае тестирование прервали за 5 дней до предполагаемого окончания"
   ]
  }
 ],
 "metadata": {
  "ExecuteTimeLog": [
   {
    "duration": 10,
    "start_time": "2023-06-10T09:36:18.045Z"
   },
   {
    "duration": 1299,
    "start_time": "2023-06-10T09:36:18.057Z"
   },
   {
    "duration": 88,
    "start_time": "2023-06-10T09:36:19.358Z"
   },
   {
    "duration": 34,
    "start_time": "2023-06-10T09:36:19.448Z"
   },
   {
    "duration": 3,
    "start_time": "2023-06-10T09:36:19.485Z"
   },
   {
    "duration": 9,
    "start_time": "2023-06-10T09:36:19.489Z"
   },
   {
    "duration": 207,
    "start_time": "2023-06-10T09:36:19.500Z"
   },
   {
    "duration": 81,
    "start_time": "2023-06-10T09:36:19.708Z"
   },
   {
    "duration": 10,
    "start_time": "2023-06-10T09:36:19.790Z"
   },
   {
    "duration": 41,
    "start_time": "2023-06-10T09:36:19.801Z"
   },
   {
    "duration": 6,
    "start_time": "2023-06-10T09:36:19.844Z"
   },
   {
    "duration": 16,
    "start_time": "2023-06-10T09:36:19.852Z"
   },
   {
    "duration": 92,
    "start_time": "2023-06-10T09:36:19.870Z"
   },
   {
    "duration": 35,
    "start_time": "2023-06-10T09:36:19.964Z"
   },
   {
    "duration": 5,
    "start_time": "2023-06-10T09:36:20.000Z"
   },
   {
    "duration": 9,
    "start_time": "2023-06-10T09:36:20.007Z"
   },
   {
    "duration": 970,
    "start_time": "2023-06-10T09:36:20.017Z"
   },
   {
    "duration": 457,
    "start_time": "2023-06-10T09:36:20.989Z"
   },
   {
    "duration": 52,
    "start_time": "2023-06-10T09:36:21.448Z"
   },
   {
    "duration": 40,
    "start_time": "2023-06-10T09:36:21.502Z"
   },
   {
    "duration": 3558,
    "start_time": "2023-06-10T09:36:21.544Z"
   },
   {
    "duration": 4,
    "start_time": "2023-06-10T09:36:25.103Z"
   },
   {
    "duration": 14,
    "start_time": "2023-06-10T09:36:25.109Z"
   },
   {
    "duration": 17,
    "start_time": "2023-06-10T09:36:25.124Z"
   },
   {
    "duration": 7,
    "start_time": "2023-06-10T09:36:25.143Z"
   },
   {
    "duration": 9,
    "start_time": "2023-06-10T09:36:25.151Z"
   },
   {
    "duration": 1821,
    "start_time": "2023-06-10T09:36:25.161Z"
   },
   {
    "duration": 42,
    "start_time": "2023-06-10T09:36:26.984Z"
   },
   {
    "duration": 76,
    "start_time": "2023-06-10T09:36:27.028Z"
   },
   {
    "duration": 47,
    "start_time": "2023-06-10T09:36:27.106Z"
   },
   {
    "duration": 690,
    "start_time": "2023-06-10T09:36:27.154Z"
   },
   {
    "duration": 30,
    "start_time": "2023-06-10T09:36:27.845Z"
   },
   {
    "duration": 468,
    "start_time": "2023-06-10T09:36:27.877Z"
   },
   {
    "duration": 161,
    "start_time": "2023-06-10T09:36:28.346Z"
   },
   {
    "duration": 624,
    "start_time": "2023-06-10T09:36:28.509Z"
   },
   {
    "duration": 7,
    "start_time": "2023-06-10T09:36:29.135Z"
   },
   {
    "duration": 30,
    "start_time": "2023-06-10T09:36:29.144Z"
   },
   {
    "duration": 30,
    "start_time": "2023-06-10T09:36:29.175Z"
   },
   {
    "duration": 15,
    "start_time": "2023-06-10T09:36:29.206Z"
   },
   {
    "duration": 38,
    "start_time": "2023-06-10T09:36:29.222Z"
   },
   {
    "duration": 8,
    "start_time": "2023-06-10T09:36:29.266Z"
   },
   {
    "duration": 16,
    "start_time": "2023-06-10T09:36:29.275Z"
   },
   {
    "duration": 19,
    "start_time": "2023-06-10T09:36:29.293Z"
   },
   {
    "duration": 11,
    "start_time": "2023-06-10T09:36:29.313Z"
   },
   {
    "duration": 62,
    "start_time": "2023-06-10T09:36:29.326Z"
   },
   {
    "duration": 22,
    "start_time": "2023-06-10T09:36:29.390Z"
   },
   {
    "duration": 315,
    "start_time": "2023-06-10T09:36:29.414Z"
   },
   {
    "duration": 15,
    "start_time": "2023-06-10T09:36:29.731Z"
   },
   {
    "duration": 40,
    "start_time": "2023-06-10T09:36:29.749Z"
   },
   {
    "duration": 70,
    "start_time": "2023-06-10T09:36:29.791Z"
   },
   {
    "duration": 22,
    "start_time": "2023-06-10T09:36:29.863Z"
   },
   {
    "duration": 10,
    "start_time": "2023-06-10T09:36:29.886Z"
   },
   {
    "duration": 69,
    "start_time": "2023-06-10T09:36:29.897Z"
   },
   {
    "duration": 36,
    "start_time": "2023-06-10T09:36:29.968Z"
   },
   {
    "duration": 47,
    "start_time": "2023-06-10T09:36:30.006Z"
   },
   {
    "duration": 43,
    "start_time": "2023-06-10T09:36:30.055Z"
   },
   {
    "duration": 74,
    "start_time": "2023-06-10T09:36:30.100Z"
   },
   {
    "duration": 174,
    "start_time": "2023-06-10T09:36:30.176Z"
   },
   {
    "duration": 12,
    "start_time": "2023-06-10T09:36:30.351Z"
   },
   {
    "duration": 59,
    "start_time": "2023-06-10T09:36:30.364Z"
   },
   {
    "duration": 4,
    "start_time": "2023-06-10T09:36:30.425Z"
   },
   {
    "duration": 47,
    "start_time": "2023-06-10T09:36:30.431Z"
   },
   {
    "duration": 30,
    "start_time": "2023-06-10T09:36:30.480Z"
   },
   {
    "duration": 67,
    "start_time": "2023-06-10T09:36:30.511Z"
   },
   {
    "duration": 20,
    "start_time": "2023-06-10T09:36:30.579Z"
   },
   {
    "duration": 37,
    "start_time": "2023-06-10T09:36:30.601Z"
   },
   {
    "duration": 77,
    "start_time": "2023-06-10T09:36:30.640Z"
   },
   {
    "duration": 50,
    "start_time": "2023-06-10T10:05:39.775Z"
   },
   {
    "duration": 9,
    "start_time": "2023-06-10T10:05:40.319Z"
   },
   {
    "duration": 18,
    "start_time": "2023-06-10T10:05:53.353Z"
   },
   {
    "duration": 1557,
    "start_time": "2023-06-10T10:05:53.373Z"
   },
   {
    "duration": 96,
    "start_time": "2023-06-10T10:05:54.932Z"
   },
   {
    "duration": 42,
    "start_time": "2023-06-10T10:05:55.030Z"
   },
   {
    "duration": 5,
    "start_time": "2023-06-10T10:05:55.074Z"
   },
   {
    "duration": 8,
    "start_time": "2023-06-10T10:05:55.080Z"
   },
   {
    "duration": 195,
    "start_time": "2023-06-10T10:05:55.090Z"
   },
   {
    "duration": 106,
    "start_time": "2023-06-10T10:05:55.287Z"
   },
   {
    "duration": 10,
    "start_time": "2023-06-10T10:05:55.395Z"
   },
   {
    "duration": 30,
    "start_time": "2023-06-10T10:05:55.407Z"
   },
   {
    "duration": 18,
    "start_time": "2023-06-10T10:05:55.459Z"
   },
   {
    "duration": 8,
    "start_time": "2023-06-10T10:05:55.479Z"
   },
   {
    "duration": 196,
    "start_time": "2023-06-10T10:05:55.489Z"
   },
   {
    "duration": 41,
    "start_time": "2023-06-10T10:05:55.687Z"
   },
   {
    "duration": 40,
    "start_time": "2023-06-10T10:05:55.730Z"
   },
   {
    "duration": 19,
    "start_time": "2023-06-10T10:05:55.774Z"
   },
   {
    "duration": 1286,
    "start_time": "2023-06-10T10:05:55.795Z"
   },
   {
    "duration": 652,
    "start_time": "2023-06-10T10:05:57.084Z"
   },
   {
    "duration": 68,
    "start_time": "2023-06-10T10:05:57.739Z"
   },
   {
    "duration": 27,
    "start_time": "2023-06-10T10:05:57.809Z"
   },
   {
    "duration": 4381,
    "start_time": "2023-06-10T10:05:57.837Z"
   },
   {
    "duration": 6,
    "start_time": "2023-06-10T10:06:02.221Z"
   },
   {
    "duration": 89,
    "start_time": "2023-06-10T10:06:02.229Z"
   },
   {
    "duration": 43,
    "start_time": "2023-06-10T10:06:02.320Z"
   },
   {
    "duration": 54,
    "start_time": "2023-06-10T10:06:02.367Z"
   },
   {
    "duration": 27,
    "start_time": "2023-06-10T10:06:02.424Z"
   },
   {
    "duration": 2258,
    "start_time": "2023-06-10T10:06:02.454Z"
   },
   {
    "duration": 64,
    "start_time": "2023-06-10T10:06:04.714Z"
   },
   {
    "duration": 80,
    "start_time": "2023-06-10T10:06:04.782Z"
   },
   {
    "duration": 45,
    "start_time": "2023-06-10T10:06:04.864Z"
   },
   {
    "duration": 802,
    "start_time": "2023-06-10T10:06:04.911Z"
   },
   {
    "duration": 53,
    "start_time": "2023-06-10T10:06:05.715Z"
   },
   {
    "duration": 507,
    "start_time": "2023-06-10T10:06:05.770Z"
   },
   {
    "duration": 158,
    "start_time": "2023-06-10T10:06:06.279Z"
   },
   {
    "duration": 703,
    "start_time": "2023-06-10T10:06:06.439Z"
   },
   {
    "duration": 19,
    "start_time": "2023-06-10T10:06:07.144Z"
   },
   {
    "duration": 23,
    "start_time": "2023-06-10T10:06:07.165Z"
   },
   {
    "duration": 25,
    "start_time": "2023-06-10T10:06:07.190Z"
   },
   {
    "duration": 3,
    "start_time": "2023-06-10T10:06:07.217Z"
   },
   {
    "duration": 66,
    "start_time": "2023-06-10T10:06:07.222Z"
   },
   {
    "duration": 8,
    "start_time": "2023-06-10T10:06:07.290Z"
   },
   {
    "duration": 17,
    "start_time": "2023-06-10T10:06:07.300Z"
   },
   {
    "duration": 43,
    "start_time": "2023-06-10T10:06:07.319Z"
   },
   {
    "duration": 19,
    "start_time": "2023-06-10T10:06:07.368Z"
   },
   {
    "duration": 85,
    "start_time": "2023-06-10T10:06:07.392Z"
   },
   {
    "duration": 31,
    "start_time": "2023-06-10T10:06:07.480Z"
   },
   {
    "duration": 373,
    "start_time": "2023-06-10T10:06:07.513Z"
   },
   {
    "duration": 14,
    "start_time": "2023-06-10T10:06:07.888Z"
   },
   {
    "duration": 90,
    "start_time": "2023-06-10T10:06:07.904Z"
   },
   {
    "duration": 86,
    "start_time": "2023-06-10T10:06:07.997Z"
   },
   {
    "duration": 26,
    "start_time": "2023-06-10T10:06:08.086Z"
   },
   {
    "duration": 25,
    "start_time": "2023-06-10T10:06:08.114Z"
   },
   {
    "duration": 49,
    "start_time": "2023-06-10T10:06:08.157Z"
   },
   {
    "duration": 75,
    "start_time": "2023-06-10T10:06:08.208Z"
   },
   {
    "duration": 28,
    "start_time": "2023-06-10T10:06:08.285Z"
   },
   {
    "duration": 98,
    "start_time": "2023-06-10T10:06:08.315Z"
   },
   {
    "duration": 77,
    "start_time": "2023-06-10T10:06:08.416Z"
   },
   {
    "duration": 434,
    "start_time": "2023-06-10T10:06:08.495Z"
   },
   {
    "duration": 17,
    "start_time": "2023-06-10T10:06:08.932Z"
   },
   {
    "duration": 70,
    "start_time": "2023-06-10T10:06:08.950Z"
   },
   {
    "duration": 7,
    "start_time": "2023-06-10T10:06:09.022Z"
   },
   {
    "duration": 78,
    "start_time": "2023-06-10T10:06:09.031Z"
   },
   {
    "duration": 14,
    "start_time": "2023-06-10T10:06:09.112Z"
   },
   {
    "duration": 76,
    "start_time": "2023-06-10T10:06:09.128Z"
   },
   {
    "duration": 25,
    "start_time": "2023-06-10T10:06:09.207Z"
   },
   {
    "duration": 23,
    "start_time": "2023-06-10T10:06:09.234Z"
   },
   {
    "duration": 152,
    "start_time": "2023-06-10T10:06:09.264Z"
   },
   {
    "duration": 0,
    "start_time": "2023-06-10T10:06:09.418Z"
   },
   {
    "duration": 0,
    "start_time": "2023-06-10T10:06:09.419Z"
   },
   {
    "duration": 34,
    "start_time": "2023-06-10T10:06:25.243Z"
   },
   {
    "duration": 7,
    "start_time": "2023-06-10T10:06:30.071Z"
   },
   {
    "duration": 6,
    "start_time": "2023-06-10T10:06:30.407Z"
   },
   {
    "duration": 7,
    "start_time": "2023-06-10T10:09:27.634Z"
   },
   {
    "duration": 13,
    "start_time": "2023-06-10T10:09:47.241Z"
   },
   {
    "duration": 7,
    "start_time": "2023-06-10T10:09:57.591Z"
   },
   {
    "duration": 16,
    "start_time": "2023-06-10T10:10:08.879Z"
   },
   {
    "duration": 11,
    "start_time": "2023-06-10T10:10:29.396Z"
   },
   {
    "duration": 16,
    "start_time": "2023-06-10T10:10:42.297Z"
   },
   {
    "duration": 5,
    "start_time": "2023-06-10T10:10:52.421Z"
   },
   {
    "duration": 26,
    "start_time": "2023-06-10T10:10:58.949Z"
   },
   {
    "duration": 29,
    "start_time": "2023-06-10T10:11:03.547Z"
   },
   {
    "duration": 21,
    "start_time": "2023-06-10T10:11:06.773Z"
   },
   {
    "duration": 19,
    "start_time": "2023-06-10T10:11:18.342Z"
   },
   {
    "duration": 12,
    "start_time": "2023-06-10T10:11:23.190Z"
   },
   {
    "duration": 44,
    "start_time": "2023-06-10T10:14:57.137Z"
   },
   {
    "duration": 39,
    "start_time": "2023-06-10T10:15:14.353Z"
   },
   {
    "duration": 22,
    "start_time": "2023-06-10T10:15:51.514Z"
   },
   {
    "duration": 106,
    "start_time": "2023-06-10T10:18:32.005Z"
   },
   {
    "duration": 101,
    "start_time": "2023-06-10T10:19:00.082Z"
   },
   {
    "duration": 16,
    "start_time": "2023-06-10T10:19:08.587Z"
   },
   {
    "duration": 19,
    "start_time": "2023-06-10T10:19:31.905Z"
   },
   {
    "duration": 14,
    "start_time": "2023-06-10T10:20:51.466Z"
   },
   {
    "duration": 5,
    "start_time": "2023-06-10T10:21:27.918Z"
   },
   {
    "duration": 6,
    "start_time": "2023-06-10T10:21:53.593Z"
   },
   {
    "duration": 6,
    "start_time": "2023-06-10T10:22:05.274Z"
   },
   {
    "duration": 6,
    "start_time": "2023-06-10T10:23:31.637Z"
   },
   {
    "duration": 5,
    "start_time": "2023-06-10T10:23:42.069Z"
   },
   {
    "duration": 5,
    "start_time": "2023-06-10T10:23:54.833Z"
   },
   {
    "duration": 74,
    "start_time": "2023-06-10T10:24:07.696Z"
   },
   {
    "duration": 6,
    "start_time": "2023-06-10T10:24:11.919Z"
   },
   {
    "duration": 12,
    "start_time": "2023-06-10T10:25:22.783Z"
   },
   {
    "duration": 6,
    "start_time": "2023-06-10T10:25:29.444Z"
   },
   {
    "duration": 5,
    "start_time": "2023-06-10T10:26:18.017Z"
   },
   {
    "duration": 29,
    "start_time": "2023-06-10T10:31:38.850Z"
   },
   {
    "duration": 31,
    "start_time": "2023-06-10T10:32:18.202Z"
   },
   {
    "duration": 32,
    "start_time": "2023-06-10T10:32:25.044Z"
   },
   {
    "duration": 32,
    "start_time": "2023-06-10T10:32:29.980Z"
   },
   {
    "duration": 29,
    "start_time": "2023-06-10T10:32:50.941Z"
   },
   {
    "duration": 34,
    "start_time": "2023-06-10T10:32:54.971Z"
   },
   {
    "duration": 34,
    "start_time": "2023-06-10T10:33:56.909Z"
   },
   {
    "duration": 26,
    "start_time": "2023-06-10T10:34:56.889Z"
   },
   {
    "duration": 31,
    "start_time": "2023-06-10T10:35:00.376Z"
   },
   {
    "duration": 24,
    "start_time": "2023-06-10T10:38:46.881Z"
   },
   {
    "duration": 33,
    "start_time": "2023-06-10T10:39:05.151Z"
   },
   {
    "duration": 23,
    "start_time": "2023-06-10T10:39:17.639Z"
   },
   {
    "duration": 23,
    "start_time": "2023-06-10T10:45:59.880Z"
   },
   {
    "duration": 23,
    "start_time": "2023-06-10T10:46:18.615Z"
   },
   {
    "duration": 31,
    "start_time": "2023-06-10T10:46:27.036Z"
   },
   {
    "duration": 12,
    "start_time": "2023-06-11T09:23:35.340Z"
   },
   {
    "duration": 1338,
    "start_time": "2023-06-11T09:23:35.355Z"
   },
   {
    "duration": 122,
    "start_time": "2023-06-11T09:23:36.695Z"
   },
   {
    "duration": 29,
    "start_time": "2023-06-11T09:23:36.819Z"
   },
   {
    "duration": 4,
    "start_time": "2023-06-11T09:23:36.849Z"
   },
   {
    "duration": 8,
    "start_time": "2023-06-11T09:23:36.855Z"
   },
   {
    "duration": 202,
    "start_time": "2023-06-11T09:23:36.865Z"
   },
   {
    "duration": 94,
    "start_time": "2023-06-11T09:23:37.070Z"
   },
   {
    "duration": 18,
    "start_time": "2023-06-11T09:23:37.167Z"
   },
   {
    "duration": 35,
    "start_time": "2023-06-11T09:23:37.188Z"
   },
   {
    "duration": 7,
    "start_time": "2023-06-11T09:23:37.224Z"
   },
   {
    "duration": 21,
    "start_time": "2023-06-11T09:23:37.233Z"
   },
   {
    "duration": 261,
    "start_time": "2023-06-11T09:23:37.256Z"
   },
   {
    "duration": 34,
    "start_time": "2023-06-11T09:23:37.519Z"
   },
   {
    "duration": 6,
    "start_time": "2023-06-11T09:23:37.555Z"
   },
   {
    "duration": 8,
    "start_time": "2023-06-11T09:23:37.564Z"
   },
   {
    "duration": 1210,
    "start_time": "2023-06-11T09:23:37.574Z"
   },
   {
    "duration": 460,
    "start_time": "2023-06-11T09:23:38.785Z"
   },
   {
    "duration": 51,
    "start_time": "2023-06-11T09:23:39.247Z"
   },
   {
    "duration": 26,
    "start_time": "2023-06-11T09:23:39.300Z"
   },
   {
    "duration": 3752,
    "start_time": "2023-06-11T09:23:39.327Z"
   },
   {
    "duration": 5,
    "start_time": "2023-06-11T09:23:43.080Z"
   },
   {
    "duration": 18,
    "start_time": "2023-06-11T09:23:43.087Z"
   },
   {
    "duration": 24,
    "start_time": "2023-06-11T09:23:43.107Z"
   },
   {
    "duration": 26,
    "start_time": "2023-06-11T09:23:43.132Z"
   },
   {
    "duration": 10,
    "start_time": "2023-06-11T09:23:43.160Z"
   },
   {
    "duration": 1978,
    "start_time": "2023-06-11T09:23:43.172Z"
   },
   {
    "duration": 40,
    "start_time": "2023-06-11T09:23:45.155Z"
   },
   {
    "duration": 80,
    "start_time": "2023-06-11T09:23:45.197Z"
   },
   {
    "duration": 31,
    "start_time": "2023-06-11T09:23:45.279Z"
   },
   {
    "duration": 704,
    "start_time": "2023-06-11T09:23:45.312Z"
   },
   {
    "duration": 24,
    "start_time": "2023-06-11T09:23:46.018Z"
   },
   {
    "duration": 465,
    "start_time": "2023-06-11T09:23:46.051Z"
   },
   {
    "duration": 121,
    "start_time": "2023-06-11T09:23:46.517Z"
   },
   {
    "duration": 645,
    "start_time": "2023-06-11T09:23:46.640Z"
   },
   {
    "duration": 3,
    "start_time": "2023-06-11T09:23:47.287Z"
   },
   {
    "duration": 19,
    "start_time": "2023-06-11T09:23:47.292Z"
   },
   {
    "duration": 42,
    "start_time": "2023-06-11T09:23:47.313Z"
   },
   {
    "duration": 4,
    "start_time": "2023-06-11T09:23:47.357Z"
   },
   {
    "duration": 33,
    "start_time": "2023-06-11T09:23:47.363Z"
   },
   {
    "duration": 8,
    "start_time": "2023-06-11T09:23:47.398Z"
   },
   {
    "duration": 15,
    "start_time": "2023-06-11T09:23:47.408Z"
   },
   {
    "duration": 19,
    "start_time": "2023-06-11T09:23:47.449Z"
   },
   {
    "duration": 11,
    "start_time": "2023-06-11T09:23:47.470Z"
   },
   {
    "duration": 76,
    "start_time": "2023-06-11T09:23:47.482Z"
   },
   {
    "duration": 24,
    "start_time": "2023-06-11T09:23:47.560Z"
   },
   {
    "duration": 295,
    "start_time": "2023-06-11T09:23:47.586Z"
   },
   {
    "duration": 12,
    "start_time": "2023-06-11T09:23:47.882Z"
   },
   {
    "duration": 188,
    "start_time": "2023-06-11T09:23:47.896Z"
   },
   {
    "duration": 21,
    "start_time": "2023-06-11T09:23:48.086Z"
   },
   {
    "duration": 46,
    "start_time": "2023-06-11T09:23:48.109Z"
   },
   {
    "duration": 9,
    "start_time": "2023-06-11T09:23:48.158Z"
   },
   {
    "duration": 35,
    "start_time": "2023-06-11T09:23:48.168Z"
   },
   {
    "duration": 83,
    "start_time": "2023-06-11T09:23:48.205Z"
   },
   {
    "duration": 26,
    "start_time": "2023-06-11T09:23:48.290Z"
   },
   {
    "duration": 72,
    "start_time": "2023-06-11T09:23:48.318Z"
   },
   {
    "duration": 60,
    "start_time": "2023-06-11T09:23:48.392Z"
   },
   {
    "duration": 106,
    "start_time": "2023-06-11T09:23:48.456Z"
   },
   {
    "duration": 13,
    "start_time": "2023-06-11T09:23:48.564Z"
   },
   {
    "duration": 44,
    "start_time": "2023-06-11T09:23:48.579Z"
   },
   {
    "duration": 4,
    "start_time": "2023-06-11T09:23:48.625Z"
   },
   {
    "duration": 37,
    "start_time": "2023-06-11T09:23:48.631Z"
   },
   {
    "duration": 11,
    "start_time": "2023-06-11T09:23:48.671Z"
   },
   {
    "duration": 28,
    "start_time": "2023-06-11T09:23:48.683Z"
   },
   {
    "duration": 46,
    "start_time": "2023-06-11T09:23:48.712Z"
   },
   {
    "duration": 17,
    "start_time": "2023-06-11T09:23:48.760Z"
   },
   {
    "duration": 21,
    "start_time": "2023-06-11T09:23:48.779Z"
   },
   {
    "duration": 20,
    "start_time": "2023-06-11T09:23:48.802Z"
   },
   {
    "duration": 55,
    "start_time": "2023-06-11T09:23:48.825Z"
   }
  ],
  "kernelspec": {
   "display_name": "Python 3 (ipykernel)",
   "language": "python",
   "name": "python3"
  },
  "language_info": {
   "codemirror_mode": {
    "name": "ipython",
    "version": 3
   },
   "file_extension": ".py",
   "mimetype": "text/x-python",
   "name": "python",
   "nbconvert_exporter": "python",
   "pygments_lexer": "ipython3",
   "version": "3.9.13"
  },
  "toc": {
   "base_numbering": 1,
   "nav_menu": {},
   "number_sections": true,
   "sideBar": false,
   "skip_h1_title": true,
   "title_cell": "Table of Contents",
   "title_sidebar": "Contents",
   "toc_cell": false,
   "toc_position": {
    "height": "675.556px",
    "left": "10px",
    "top": "150px",
    "width": "351.997px"
   },
   "toc_section_display": true,
   "toc_window_display": true
  }
 },
 "nbformat": 4,
 "nbformat_minor": 5
}
